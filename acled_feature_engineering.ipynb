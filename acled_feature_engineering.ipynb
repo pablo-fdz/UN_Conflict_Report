{
 "cells": [
  {
   "cell_type": "markdown",
   "id": "4f85a9ea",
   "metadata": {},
   "source": [
    "# Data preparation"
   ]
  },
  {
   "cell_type": "markdown",
   "id": "69577794",
   "metadata": {},
   "source": [
    "## Making a panel df of ACLED events"
   ]
  },
  {
   "cell_type": "code",
   "execution_count": 1,
   "id": "90421dd3",
   "metadata": {},
   "outputs": [
    {
     "data": {
      "application/vnd.microsoft.datawrangler.viewer.v0+json": {
       "columns": [
        {
         "name": "index",
         "rawType": "int64",
         "type": "integer"
        },
        {
         "name": "Country",
         "rawType": "object",
         "type": "string"
        },
        {
         "name": "Admin1",
         "rawType": "object",
         "type": "string"
        },
        {
         "name": "Event month",
         "rawType": "object",
         "type": "string"
        },
        {
         "name": "Event Type",
         "rawType": "object",
         "type": "string"
        },
        {
         "name": "Events",
         "rawType": "int64",
         "type": "integer"
        }
       ],
       "conversionMethod": "pd.DataFrame",
       "ref": "5d04ad0f-74c6-4b59-b0ea-e628ffa70810",
       "rows": [
        [
         "0",
         "United States",
         "Alabama",
         "2020-01-01",
         "Protests",
         "5"
        ],
        [
         "1",
         "United States",
         "Alabama",
         "2020-01-01",
         "Riots",
         "0"
        ],
        [
         "2",
         "United States",
         "Alabama",
         "2020-01-01",
         "Strategic developments",
         "0"
        ],
        [
         "3",
         "United States",
         "Alabama",
         "2020-01-01",
         "Violence against civilians",
         "0"
        ],
        [
         "4",
         "United States",
         "Alabama",
         "2020-01-01",
         "Battles",
         "0"
        ],
        [
         "5",
         "United States",
         "Alabama",
         "2020-01-01",
         "Explosions/Remote violence",
         "0"
        ],
        [
         "6",
         "United States",
         "Alaska",
         "2020-01-01",
         "Protests",
         "4"
        ],
        [
         "7",
         "United States",
         "Alaska",
         "2020-01-01",
         "Riots",
         "0"
        ],
        [
         "8",
         "United States",
         "Alaska",
         "2020-01-01",
         "Strategic developments",
         "0"
        ],
        [
         "9",
         "United States",
         "Alaska",
         "2020-01-01",
         "Violence against civilians",
         "0"
        ],
        [
         "10",
         "United States",
         "Alaska",
         "2020-01-01",
         "Battles",
         "0"
        ],
        [
         "11",
         "United States",
         "Alaska",
         "2020-01-01",
         "Explosions/Remote violence",
         "0"
        ],
        [
         "12",
         "United States",
         "Arizona",
         "2020-01-01",
         "Protests",
         "25"
        ],
        [
         "13",
         "United States",
         "Arizona",
         "2020-01-01",
         "Riots",
         "0"
        ],
        [
         "14",
         "United States",
         "Arizona",
         "2020-01-01",
         "Strategic developments",
         "1"
        ],
        [
         "15",
         "United States",
         "Arizona",
         "2020-01-01",
         "Violence against civilians",
         "0"
        ],
        [
         "16",
         "United States",
         "Arizona",
         "2020-01-01",
         "Battles",
         "0"
        ],
        [
         "17",
         "United States",
         "Arizona",
         "2020-01-01",
         "Explosions/Remote violence",
         "0"
        ],
        [
         "18",
         "United States",
         "Arkansas",
         "2020-01-01",
         "Protests",
         "11"
        ],
        [
         "19",
         "United States",
         "Arkansas",
         "2020-01-01",
         "Riots",
         "0"
        ],
        [
         "20",
         "United States",
         "Arkansas",
         "2020-01-01",
         "Strategic developments",
         "0"
        ],
        [
         "21",
         "United States",
         "Arkansas",
         "2020-01-01",
         "Violence against civilians",
         "0"
        ],
        [
         "22",
         "United States",
         "Arkansas",
         "2020-01-01",
         "Battles",
         "0"
        ],
        [
         "23",
         "United States",
         "Arkansas",
         "2020-01-01",
         "Explosions/Remote violence",
         "0"
        ],
        [
         "24",
         "United States",
         "California",
         "2020-01-01",
         "Protests",
         "168"
        ],
        [
         "25",
         "United States",
         "California",
         "2020-01-01",
         "Riots",
         "0"
        ],
        [
         "26",
         "United States",
         "California",
         "2020-01-01",
         "Strategic developments",
         "1"
        ],
        [
         "27",
         "United States",
         "California",
         "2020-01-01",
         "Violence against civilians",
         "0"
        ],
        [
         "28",
         "United States",
         "California",
         "2020-01-01",
         "Battles",
         "0"
        ],
        [
         "29",
         "United States",
         "California",
         "2020-01-01",
         "Explosions/Remote violence",
         "0"
        ],
        [
         "30",
         "United States",
         "Colorado",
         "2020-01-01",
         "Protests",
         "36"
        ],
        [
         "31",
         "United States",
         "Colorado",
         "2020-01-01",
         "Riots",
         "0"
        ],
        [
         "32",
         "United States",
         "Colorado",
         "2020-01-01",
         "Strategic developments",
         "0"
        ],
        [
         "33",
         "United States",
         "Colorado",
         "2020-01-01",
         "Violence against civilians",
         "0"
        ],
        [
         "34",
         "United States",
         "Colorado",
         "2020-01-01",
         "Battles",
         "0"
        ],
        [
         "35",
         "United States",
         "Colorado",
         "2020-01-01",
         "Explosions/Remote violence",
         "0"
        ],
        [
         "36",
         "United States",
         "Connecticut",
         "2020-01-01",
         "Protests",
         "14"
        ],
        [
         "37",
         "United States",
         "Connecticut",
         "2020-01-01",
         "Riots",
         "0"
        ],
        [
         "38",
         "United States",
         "Connecticut",
         "2020-01-01",
         "Strategic developments",
         "0"
        ],
        [
         "39",
         "United States",
         "Connecticut",
         "2020-01-01",
         "Violence against civilians",
         "0"
        ],
        [
         "40",
         "United States",
         "Connecticut",
         "2020-01-01",
         "Battles",
         "0"
        ],
        [
         "41",
         "United States",
         "Connecticut",
         "2020-01-01",
         "Explosions/Remote violence",
         "0"
        ],
        [
         "42",
         "United States",
         "Delaware",
         "2020-01-01",
         "Protests",
         "2"
        ],
        [
         "43",
         "United States",
         "Delaware",
         "2020-01-01",
         "Riots",
         "0"
        ],
        [
         "44",
         "United States",
         "Delaware",
         "2020-01-01",
         "Strategic developments",
         "3"
        ],
        [
         "45",
         "United States",
         "Delaware",
         "2020-01-01",
         "Violence against civilians",
         "0"
        ],
        [
         "46",
         "United States",
         "Delaware",
         "2020-01-01",
         "Battles",
         "0"
        ],
        [
         "47",
         "United States",
         "Delaware",
         "2020-01-01",
         "Explosions/Remote violence",
         "0"
        ],
        [
         "48",
         "United States",
         "District of Columbia",
         "2020-01-01",
         "Protests",
         "15"
        ],
        [
         "49",
         "United States",
         "District of Columbia",
         "2020-01-01",
         "Riots",
         "0"
        ]
       ],
       "shape": {
        "columns": 5,
        "rows": 5508
       }
      },
      "text/html": [
       "<div>\n",
       "<style scoped>\n",
       "    .dataframe tbody tr th:only-of-type {\n",
       "        vertical-align: middle;\n",
       "    }\n",
       "\n",
       "    .dataframe tbody tr th {\n",
       "        vertical-align: top;\n",
       "    }\n",
       "\n",
       "    .dataframe thead th {\n",
       "        text-align: right;\n",
       "    }\n",
       "</style>\n",
       "<table border=\"1\" class=\"dataframe\">\n",
       "  <thead>\n",
       "    <tr style=\"text-align: right;\">\n",
       "      <th></th>\n",
       "      <th>Country</th>\n",
       "      <th>Admin1</th>\n",
       "      <th>Event month</th>\n",
       "      <th>Event Type</th>\n",
       "      <th>Events</th>\n",
       "    </tr>\n",
       "  </thead>\n",
       "  <tbody>\n",
       "    <tr>\n",
       "      <th>0</th>\n",
       "      <td>United States</td>\n",
       "      <td>Alabama</td>\n",
       "      <td>2020-01-01</td>\n",
       "      <td>Protests</td>\n",
       "      <td>5</td>\n",
       "    </tr>\n",
       "    <tr>\n",
       "      <th>1</th>\n",
       "      <td>United States</td>\n",
       "      <td>Alabama</td>\n",
       "      <td>2020-01-01</td>\n",
       "      <td>Riots</td>\n",
       "      <td>0</td>\n",
       "    </tr>\n",
       "    <tr>\n",
       "      <th>2</th>\n",
       "      <td>United States</td>\n",
       "      <td>Alabama</td>\n",
       "      <td>2020-01-01</td>\n",
       "      <td>Strategic developments</td>\n",
       "      <td>0</td>\n",
       "    </tr>\n",
       "    <tr>\n",
       "      <th>3</th>\n",
       "      <td>United States</td>\n",
       "      <td>Alabama</td>\n",
       "      <td>2020-01-01</td>\n",
       "      <td>Violence against civilians</td>\n",
       "      <td>0</td>\n",
       "    </tr>\n",
       "    <tr>\n",
       "      <th>4</th>\n",
       "      <td>United States</td>\n",
       "      <td>Alabama</td>\n",
       "      <td>2020-01-01</td>\n",
       "      <td>Battles</td>\n",
       "      <td>0</td>\n",
       "    </tr>\n",
       "    <tr>\n",
       "      <th>...</th>\n",
       "      <td>...</td>\n",
       "      <td>...</td>\n",
       "      <td>...</td>\n",
       "      <td>...</td>\n",
       "      <td>...</td>\n",
       "    </tr>\n",
       "    <tr>\n",
       "      <th>5503</th>\n",
       "      <td>United States</td>\n",
       "      <td>North Dakota</td>\n",
       "      <td>2021-06-01</td>\n",
       "      <td>Riots</td>\n",
       "      <td>0</td>\n",
       "    </tr>\n",
       "    <tr>\n",
       "      <th>5504</th>\n",
       "      <td>United States</td>\n",
       "      <td>North Dakota</td>\n",
       "      <td>2021-06-01</td>\n",
       "      <td>Strategic developments</td>\n",
       "      <td>0</td>\n",
       "    </tr>\n",
       "    <tr>\n",
       "      <th>5505</th>\n",
       "      <td>United States</td>\n",
       "      <td>North Dakota</td>\n",
       "      <td>2021-06-01</td>\n",
       "      <td>Violence against civilians</td>\n",
       "      <td>0</td>\n",
       "    </tr>\n",
       "    <tr>\n",
       "      <th>5506</th>\n",
       "      <td>United States</td>\n",
       "      <td>North Dakota</td>\n",
       "      <td>2021-06-01</td>\n",
       "      <td>Battles</td>\n",
       "      <td>0</td>\n",
       "    </tr>\n",
       "    <tr>\n",
       "      <th>5507</th>\n",
       "      <td>United States</td>\n",
       "      <td>North Dakota</td>\n",
       "      <td>2021-06-01</td>\n",
       "      <td>Explosions/Remote violence</td>\n",
       "      <td>0</td>\n",
       "    </tr>\n",
       "  </tbody>\n",
       "</table>\n",
       "<p>5508 rows × 5 columns</p>\n",
       "</div>"
      ],
      "text/plain": [
       "            Country        Admin1 Event month                  Event Type  \\\n",
       "0     United States       Alabama  2020-01-01                    Protests   \n",
       "1     United States       Alabama  2020-01-01                       Riots   \n",
       "2     United States       Alabama  2020-01-01      Strategic developments   \n",
       "3     United States       Alabama  2020-01-01  Violence against civilians   \n",
       "4     United States       Alabama  2020-01-01                     Battles   \n",
       "...             ...           ...         ...                         ...   \n",
       "5503  United States  North Dakota  2021-06-01                       Riots   \n",
       "5504  United States  North Dakota  2021-06-01      Strategic developments   \n",
       "5505  United States  North Dakota  2021-06-01  Violence against civilians   \n",
       "5506  United States  North Dakota  2021-06-01                     Battles   \n",
       "5507  United States  North Dakota  2021-06-01  Explosions/Remote violence   \n",
       "\n",
       "      Events  \n",
       "0          5  \n",
       "1          0  \n",
       "2          0  \n",
       "3          0  \n",
       "4          0  \n",
       "...      ...  \n",
       "5503       0  \n",
       "5504       0  \n",
       "5505       0  \n",
       "5506       0  \n",
       "5507       0  \n",
       "\n",
       "[5508 rows x 5 columns]"
      ]
     },
     "execution_count": 1,
     "metadata": {},
     "output_type": "execute_result"
    }
   ],
   "source": [
    "import pandas as pd\n",
    "\n",
    "events = pd.read_csv('data/acled_events.csv')\n",
    "events"
   ]
  },
  {
   "cell_type": "markdown",
   "id": "440712e1",
   "metadata": {},
   "source": [
    "### Preprocessing\n",
    "\n",
    "1) Drop the Country column\n",
    "\n",
    "2) Convert \"Event month\" to \"period\" in YYYYMM format and set it as the index\n",
    "\n",
    "3) Replace full state names with 2-letter codes using a mapping dictionary\n",
    "\n",
    "4) Melt the table with a primary key of (state, period)"
   ]
  },
  {
   "cell_type": "code",
   "execution_count": 2,
   "id": "6527d6af",
   "metadata": {},
   "outputs": [
    {
     "data": {
      "application/vnd.microsoft.datawrangler.viewer.v0+json": {
       "columns": [
        {
         "name": "('state', 'period')",
         "rawType": "object",
         "type": "unknown"
        },
        {
         "name": "event_type",
         "rawType": "object",
         "type": "string"
        },
        {
         "name": "Events",
         "rawType": "int64",
         "type": "integer"
        }
       ],
       "conversionMethod": "pd.DataFrame",
       "ref": "fb949ff4-8bd0-45e0-b509-119c736e395c",
       "rows": [
        [
         "('AL', '202001')",
         "Protests",
         "5"
        ],
        [
         "('AL', '202001')",
         "Riots",
         "0"
        ],
        [
         "('AL', '202001')",
         "Strategic developments",
         "0"
        ],
        [
         "('AL', '202001')",
         "Violence against civilians",
         "0"
        ],
        [
         "('AL', '202001')",
         "Battles",
         "0"
        ],
        [
         "('AL', '202001')",
         "Explosions/Remote violence",
         "0"
        ],
        [
         "('AK', '202001')",
         "Protests",
         "4"
        ],
        [
         "('AK', '202001')",
         "Riots",
         "0"
        ],
        [
         "('AK', '202001')",
         "Strategic developments",
         "0"
        ],
        [
         "('AK', '202001')",
         "Violence against civilians",
         "0"
        ],
        [
         "('AK', '202001')",
         "Battles",
         "0"
        ],
        [
         "('AK', '202001')",
         "Explosions/Remote violence",
         "0"
        ],
        [
         "('AZ', '202001')",
         "Protests",
         "25"
        ],
        [
         "('AZ', '202001')",
         "Riots",
         "0"
        ],
        [
         "('AZ', '202001')",
         "Strategic developments",
         "1"
        ],
        [
         "('AZ', '202001')",
         "Violence against civilians",
         "0"
        ],
        [
         "('AZ', '202001')",
         "Battles",
         "0"
        ],
        [
         "('AZ', '202001')",
         "Explosions/Remote violence",
         "0"
        ],
        [
         "('AR', '202001')",
         "Protests",
         "11"
        ],
        [
         "('AR', '202001')",
         "Riots",
         "0"
        ],
        [
         "('AR', '202001')",
         "Strategic developments",
         "0"
        ],
        [
         "('AR', '202001')",
         "Violence against civilians",
         "0"
        ],
        [
         "('AR', '202001')",
         "Battles",
         "0"
        ],
        [
         "('AR', '202001')",
         "Explosions/Remote violence",
         "0"
        ],
        [
         "('CA', '202001')",
         "Protests",
         "168"
        ],
        [
         "('CA', '202001')",
         "Riots",
         "0"
        ],
        [
         "('CA', '202001')",
         "Strategic developments",
         "1"
        ],
        [
         "('CA', '202001')",
         "Violence against civilians",
         "0"
        ],
        [
         "('CA', '202001')",
         "Battles",
         "0"
        ],
        [
         "('CA', '202001')",
         "Explosions/Remote violence",
         "0"
        ],
        [
         "('CO', '202001')",
         "Protests",
         "36"
        ],
        [
         "('CO', '202001')",
         "Riots",
         "0"
        ],
        [
         "('CO', '202001')",
         "Strategic developments",
         "0"
        ],
        [
         "('CO', '202001')",
         "Violence against civilians",
         "0"
        ],
        [
         "('CO', '202001')",
         "Battles",
         "0"
        ],
        [
         "('CO', '202001')",
         "Explosions/Remote violence",
         "0"
        ],
        [
         "('CT', '202001')",
         "Protests",
         "14"
        ],
        [
         "('CT', '202001')",
         "Riots",
         "0"
        ],
        [
         "('CT', '202001')",
         "Strategic developments",
         "0"
        ],
        [
         "('CT', '202001')",
         "Violence against civilians",
         "0"
        ],
        [
         "('CT', '202001')",
         "Battles",
         "0"
        ],
        [
         "('CT', '202001')",
         "Explosions/Remote violence",
         "0"
        ],
        [
         "('DE', '202001')",
         "Protests",
         "2"
        ],
        [
         "('DE', '202001')",
         "Riots",
         "0"
        ],
        [
         "('DE', '202001')",
         "Strategic developments",
         "3"
        ],
        [
         "('DE', '202001')",
         "Violence against civilians",
         "0"
        ],
        [
         "('DE', '202001')",
         "Battles",
         "0"
        ],
        [
         "('DE', '202001')",
         "Explosions/Remote violence",
         "0"
        ],
        [
         "('District of Columbia', '202001')",
         "Protests",
         "15"
        ],
        [
         "('District of Columbia', '202001')",
         "Riots",
         "0"
        ]
       ],
       "shape": {
        "columns": 2,
        "rows": 5508
       }
      },
      "text/html": [
       "<div>\n",
       "<style scoped>\n",
       "    .dataframe tbody tr th:only-of-type {\n",
       "        vertical-align: middle;\n",
       "    }\n",
       "\n",
       "    .dataframe tbody tr th {\n",
       "        vertical-align: top;\n",
       "    }\n",
       "\n",
       "    .dataframe thead th {\n",
       "        text-align: right;\n",
       "    }\n",
       "</style>\n",
       "<table border=\"1\" class=\"dataframe\">\n",
       "  <thead>\n",
       "    <tr style=\"text-align: right;\">\n",
       "      <th></th>\n",
       "      <th></th>\n",
       "      <th>event_type</th>\n",
       "      <th>Events</th>\n",
       "    </tr>\n",
       "    <tr>\n",
       "      <th>state</th>\n",
       "      <th>period</th>\n",
       "      <th></th>\n",
       "      <th></th>\n",
       "    </tr>\n",
       "  </thead>\n",
       "  <tbody>\n",
       "    <tr>\n",
       "      <th rowspan=\"5\" valign=\"top\">AL</th>\n",
       "      <th>202001</th>\n",
       "      <td>Protests</td>\n",
       "      <td>5</td>\n",
       "    </tr>\n",
       "    <tr>\n",
       "      <th>202001</th>\n",
       "      <td>Riots</td>\n",
       "      <td>0</td>\n",
       "    </tr>\n",
       "    <tr>\n",
       "      <th>202001</th>\n",
       "      <td>Strategic developments</td>\n",
       "      <td>0</td>\n",
       "    </tr>\n",
       "    <tr>\n",
       "      <th>202001</th>\n",
       "      <td>Violence against civilians</td>\n",
       "      <td>0</td>\n",
       "    </tr>\n",
       "    <tr>\n",
       "      <th>202001</th>\n",
       "      <td>Battles</td>\n",
       "      <td>0</td>\n",
       "    </tr>\n",
       "    <tr>\n",
       "      <th>...</th>\n",
       "      <th>...</th>\n",
       "      <td>...</td>\n",
       "      <td>...</td>\n",
       "    </tr>\n",
       "    <tr>\n",
       "      <th rowspan=\"5\" valign=\"top\">ND</th>\n",
       "      <th>202106</th>\n",
       "      <td>Riots</td>\n",
       "      <td>0</td>\n",
       "    </tr>\n",
       "    <tr>\n",
       "      <th>202106</th>\n",
       "      <td>Strategic developments</td>\n",
       "      <td>0</td>\n",
       "    </tr>\n",
       "    <tr>\n",
       "      <th>202106</th>\n",
       "      <td>Violence against civilians</td>\n",
       "      <td>0</td>\n",
       "    </tr>\n",
       "    <tr>\n",
       "      <th>202106</th>\n",
       "      <td>Battles</td>\n",
       "      <td>0</td>\n",
       "    </tr>\n",
       "    <tr>\n",
       "      <th>202106</th>\n",
       "      <td>Explosions/Remote violence</td>\n",
       "      <td>0</td>\n",
       "    </tr>\n",
       "  </tbody>\n",
       "</table>\n",
       "<p>5508 rows × 2 columns</p>\n",
       "</div>"
      ],
      "text/plain": [
       "                              event_type  Events\n",
       "state period                                    \n",
       "AL    202001                    Protests       5\n",
       "      202001                       Riots       0\n",
       "      202001      Strategic developments       0\n",
       "      202001  Violence against civilians       0\n",
       "      202001                     Battles       0\n",
       "...                                  ...     ...\n",
       "ND    202106                       Riots       0\n",
       "      202106      Strategic developments       0\n",
       "      202106  Violence against civilians       0\n",
       "      202106                     Battles       0\n",
       "      202106  Explosions/Remote violence       0\n",
       "\n",
       "[5508 rows x 2 columns]"
      ]
     },
     "execution_count": 2,
     "metadata": {},
     "output_type": "execute_result"
    }
   ],
   "source": [
    "states_dict = {\n",
    "    'AL': 'Alabama', 'AK': 'Alaska', 'AZ': 'Arizona', 'AR': 'Arkansas',\n",
    "    'CA': 'California', 'CO': 'Colorado', 'CT': 'Connecticut', 'DE': 'Delaware',\n",
    "    'FL': 'Florida', 'GA': 'Georgia', 'HI': 'Hawaii', 'ID': 'Idaho',\n",
    "    'IL': 'Illinois', 'IN': 'Indiana', 'IA': 'Iowa', 'KS': 'Kansas',\n",
    "    'KY': 'Kentucky', 'LA': 'Louisiana', 'ME': 'Maine', 'MD': 'Maryland',\n",
    "    'MA': 'Massachusetts', 'MI': 'Michigan', 'MN': 'Minnesota',\n",
    "    'MS': 'Mississippi', 'MO': 'Missouri', 'MT': 'Montana', 'NE': 'Nebraska',\n",
    "    'NV': 'Nevada', 'NH': 'New Hampshire', 'NJ': 'New Jersey',\n",
    "    'NM': 'New Mexico', 'NY': 'New York', 'NC': 'North Carolina',\n",
    "    'ND': 'North Dakota', 'OH': 'Ohio', 'OK': 'Oklahoma', 'OR': 'Oregon',\n",
    "    'PA': 'Pennsylvania', 'RI': 'Rhode Island', 'SC': 'South Carolina',\n",
    "    'SD': 'South Dakota', 'TN': 'Tennessee', 'TX': 'Texas', 'UT': 'Utah',\n",
    "    'VT': 'Vermont', 'VA': 'Virginia', 'WA': 'Washington',\n",
    "    'WV': 'West Virginia', 'WI': 'Wisconsin', 'WY': 'Wyoming'\n",
    "}\n",
    "\n",
    "name_to_code = {v: k for k, v in states_dict.items()}\n",
    "\n",
    "events.drop(columns=['Country'], inplace=True)\n",
    "\n",
    "events['period'] = pd.to_datetime(events['Event month']).dt.strftime('%Y%m')\n",
    "events.drop(columns=['Event month'], inplace=True)\n",
    "\n",
    "events.rename(columns={'Admin1': 'state'}, inplace=True)\n",
    "events['state'] = events['state'].map(name_to_code).fillna(events['state'])\n",
    "\n",
    "# Melt the dataframe to long format\n",
    "events_melted = pd.melt(\n",
    "    events,\n",
    "    id_vars=['state', 'period', 'Events'],\n",
    "    value_name='event_type'\n",
    ")\n",
    "\n",
    "# Drop the variable column and rearrange to have event_type first, then Events\n",
    "events_melted.set_index(['state', 'period'], inplace=True)\n",
    "events_melted.drop(columns=['variable'], inplace=True)\n",
    "events_melted = events_melted[['event_type', 'Events']]\n",
    "events_melted"
   ]
  },
  {
   "cell_type": "markdown",
   "id": "d6167496",
   "metadata": {},
   "source": [
    "## Pivot the df to match our panel data format"
   ]
  },
  {
   "cell_type": "code",
   "execution_count": null,
   "id": "8954a18c",
   "metadata": {},
   "outputs": [
    {
     "data": {
      "application/vnd.microsoft.datawrangler.viewer.v0+json": {
       "columns": [
        {
         "name": "('state', 'period')",
         "rawType": "object",
         "type": "unknown"
        },
        {
         "name": "battles",
         "rawType": "float64",
         "type": "float"
        },
        {
         "name": "explosions",
         "rawType": "float64",
         "type": "float"
        },
        {
         "name": "protests",
         "rawType": "float64",
         "type": "float"
        },
        {
         "name": "riots",
         "rawType": "float64",
         "type": "float"
        },
        {
         "name": "strategic_devs",
         "rawType": "float64",
         "type": "float"
        },
        {
         "name": "violence",
         "rawType": "float64",
         "type": "float"
        }
       ],
       "conversionMethod": "pd.DataFrame",
       "ref": "8a08cc4d-e491-4064-b67f-76d1a8cd2706",
       "rows": [
        [
         "('AK', '202001')",
         "0.0",
         "0.0",
         "4.0",
         "0.0",
         "0.0",
         "0.0"
        ],
        [
         "('AK', '202002')",
         "0.0",
         "0.0",
         "11.0",
         "0.0",
         "0.0",
         "0.0"
        ],
        [
         "('AK', '202003')",
         "0.0",
         "0.0",
         "1.0",
         "0.0",
         "1.0",
         "0.0"
        ],
        [
         "('AK', '202004')",
         "0.0",
         "0.0",
         "2.0",
         "0.0",
         "0.0",
         "0.0"
        ],
        [
         "('AK', '202005')",
         "0.0",
         "0.0",
         "8.0",
         "0.0",
         "0.0",
         "0.0"
        ],
        [
         "('AK', '202006')",
         "0.0",
         "0.0",
         "36.0",
         "0.0",
         "0.0",
         "0.0"
        ],
        [
         "('AK', '202007')",
         "0.0",
         "0.0",
         "7.0",
         "0.0",
         "0.0",
         "0.0"
        ],
        [
         "('AK', '202008')",
         "0.0",
         "0.0",
         "7.0",
         "0.0",
         "0.0",
         "0.0"
        ],
        [
         "('AK', '202009')",
         "0.0",
         "0.0",
         "6.0",
         "0.0",
         "0.0",
         "0.0"
        ],
        [
         "('AK', '202010')",
         "0.0",
         "0.0",
         "9.0",
         "0.0",
         "0.0",
         "0.0"
        ],
        [
         "('AK', '202011')",
         "0.0",
         "0.0",
         "6.0",
         "0.0",
         "0.0",
         "0.0"
        ],
        [
         "('AK', '202012')",
         "0.0",
         "0.0",
         "2.0",
         "0.0",
         "0.0",
         "0.0"
        ],
        [
         "('AK', '202101')",
         "0.0",
         "0.0",
         "3.0",
         "0.0",
         "0.0",
         "0.0"
        ],
        [
         "('AK', '202102')",
         "0.0",
         "0.0",
         "0.0",
         "0.0",
         "0.0",
         "0.0"
        ],
        [
         "('AK', '202103')",
         "0.0",
         "0.0",
         "5.0",
         "0.0",
         "0.0",
         "0.0"
        ],
        [
         "('AK', '202104')",
         "0.0",
         "0.0",
         "2.0",
         "0.0",
         "0.0",
         "0.0"
        ],
        [
         "('AK', '202105')",
         "0.0",
         "0.0",
         "1.0",
         "0.0",
         "0.0",
         "0.0"
        ],
        [
         "('AK', '202106')",
         "0.0",
         "0.0",
         "1.0",
         "0.0",
         "0.0",
         "0.0"
        ],
        [
         "('AL', '202001')",
         "0.0",
         "0.0",
         "5.0",
         "0.0",
         "0.0",
         "0.0"
        ],
        [
         "('AL', '202002')",
         "0.0",
         "0.0",
         "5.0",
         "0.0",
         "1.0",
         "1.0"
        ],
        [
         "('AL', '202003')",
         "0.0",
         "0.0",
         "6.0",
         "0.0",
         "0.0",
         "1.0"
        ],
        [
         "('AL', '202004')",
         "0.0",
         "0.0",
         "3.0",
         "0.0",
         "1.0",
         "0.0"
        ],
        [
         "('AL', '202005')",
         "0.0",
         "0.0",
         "25.0",
         "4.0",
         "0.0",
         "1.0"
        ],
        [
         "('AL', '202006')",
         "0.0",
         "0.0",
         "97.0",
         "1.0",
         "1.0",
         "0.0"
        ],
        [
         "('AL', '202007')",
         "0.0",
         "0.0",
         "31.0",
         "0.0",
         "0.0",
         "0.0"
        ],
        [
         "('AL', '202008')",
         "0.0",
         "0.0",
         "27.0",
         "0.0",
         "0.0",
         "0.0"
        ],
        [
         "('AL', '202009')",
         "0.0",
         "0.0",
         "25.0",
         "0.0",
         "1.0",
         "0.0"
        ],
        [
         "('AL', '202010')",
         "0.0",
         "0.0",
         "29.0",
         "0.0",
         "0.0",
         "0.0"
        ],
        [
         "('AL', '202011')",
         "0.0",
         "0.0",
         "16.0",
         "0.0",
         "1.0",
         "0.0"
        ],
        [
         "('AL', '202012')",
         "0.0",
         "0.0",
         "9.0",
         "0.0",
         "1.0",
         "0.0"
        ],
        [
         "('AL', '202101')",
         "0.0",
         "0.0",
         "16.0",
         "0.0",
         "1.0",
         "1.0"
        ],
        [
         "('AL', '202102')",
         "0.0",
         "0.0",
         "11.0",
         "0.0",
         "0.0",
         "1.0"
        ],
        [
         "('AL', '202103')",
         "0.0",
         "0.0",
         "19.0",
         "0.0",
         "2.0",
         "1.0"
        ],
        [
         "('AL', '202104')",
         "0.0",
         "0.0",
         "24.0",
         "0.0",
         "0.0",
         "0.0"
        ],
        [
         "('AL', '202105')",
         "0.0",
         "0.0",
         "24.0",
         "0.0",
         "5.0",
         "1.0"
        ],
        [
         "('AL', '202106')",
         "0.0",
         "0.0",
         "19.0",
         "0.0",
         "1.0",
         "0.0"
        ],
        [
         "('AR', '202001')",
         "0.0",
         "0.0",
         "11.0",
         "0.0",
         "0.0",
         "0.0"
        ],
        [
         "('AR', '202002')",
         "0.0",
         "0.0",
         "6.0",
         "0.0",
         "0.0",
         "1.0"
        ],
        [
         "('AR', '202003')",
         "0.0",
         "0.0",
         "6.0",
         "0.0",
         "0.0",
         "0.0"
        ],
        [
         "('AR', '202004')",
         "0.0",
         "0.0",
         "1.0",
         "0.0",
         "0.0",
         "0.0"
        ],
        [
         "('AR', '202005')",
         "0.0",
         "0.0",
         "10.0",
         "2.0",
         "0.0",
         "0.0"
        ],
        [
         "('AR', '202006')",
         "0.0",
         "0.0",
         "49.0",
         "2.0",
         "3.0",
         "0.0"
        ],
        [
         "('AR', '202007')",
         "0.0",
         "0.0",
         "19.0",
         "1.0",
         "0.0",
         "1.0"
        ],
        [
         "('AR', '202008')",
         "0.0",
         "0.0",
         "19.0",
         "0.0",
         "1.0",
         "0.0"
        ],
        [
         "('AR', '202009')",
         "0.0",
         "0.0",
         "12.0",
         "1.0",
         "0.0",
         "0.0"
        ],
        [
         "('AR', '202010')",
         "0.0",
         "0.0",
         "10.0",
         "0.0",
         "2.0",
         "0.0"
        ],
        [
         "('AR', '202011')",
         "0.0",
         "0.0",
         "6.0",
         "0.0",
         "1.0",
         "0.0"
        ],
        [
         "('AR', '202012')",
         "0.0",
         "0.0",
         "6.0",
         "0.0",
         "0.0",
         "0.0"
        ],
        [
         "('AR', '202101')",
         "0.0",
         "0.0",
         "8.0",
         "0.0",
         "3.0",
         "0.0"
        ],
        [
         "('AR', '202102')",
         "0.0",
         "0.0",
         "5.0",
         "0.0",
         "0.0",
         "0.0"
        ]
       ],
       "shape": {
        "columns": 6,
        "rows": 918
       }
      },
      "text/html": [
       "<div>\n",
       "<style scoped>\n",
       "    .dataframe tbody tr th:only-of-type {\n",
       "        vertical-align: middle;\n",
       "    }\n",
       "\n",
       "    .dataframe tbody tr th {\n",
       "        vertical-align: top;\n",
       "    }\n",
       "\n",
       "    .dataframe thead th {\n",
       "        text-align: right;\n",
       "    }\n",
       "</style>\n",
       "<table border=\"1\" class=\"dataframe\">\n",
       "  <thead>\n",
       "    <tr style=\"text-align: right;\">\n",
       "      <th></th>\n",
       "      <th>event_type</th>\n",
       "      <th>battles</th>\n",
       "      <th>explosions</th>\n",
       "      <th>protests</th>\n",
       "      <th>riots</th>\n",
       "      <th>strategic_devs</th>\n",
       "      <th>violence</th>\n",
       "    </tr>\n",
       "    <tr>\n",
       "      <th>state</th>\n",
       "      <th>period</th>\n",
       "      <th></th>\n",
       "      <th></th>\n",
       "      <th></th>\n",
       "      <th></th>\n",
       "      <th></th>\n",
       "      <th></th>\n",
       "    </tr>\n",
       "  </thead>\n",
       "  <tbody>\n",
       "    <tr>\n",
       "      <th rowspan=\"5\" valign=\"top\">AK</th>\n",
       "      <th>202001</th>\n",
       "      <td>0.0</td>\n",
       "      <td>0.0</td>\n",
       "      <td>4.0</td>\n",
       "      <td>0.0</td>\n",
       "      <td>0.0</td>\n",
       "      <td>0.0</td>\n",
       "    </tr>\n",
       "    <tr>\n",
       "      <th>202002</th>\n",
       "      <td>0.0</td>\n",
       "      <td>0.0</td>\n",
       "      <td>11.0</td>\n",
       "      <td>0.0</td>\n",
       "      <td>0.0</td>\n",
       "      <td>0.0</td>\n",
       "    </tr>\n",
       "    <tr>\n",
       "      <th>202003</th>\n",
       "      <td>0.0</td>\n",
       "      <td>0.0</td>\n",
       "      <td>1.0</td>\n",
       "      <td>0.0</td>\n",
       "      <td>1.0</td>\n",
       "      <td>0.0</td>\n",
       "    </tr>\n",
       "    <tr>\n",
       "      <th>202004</th>\n",
       "      <td>0.0</td>\n",
       "      <td>0.0</td>\n",
       "      <td>2.0</td>\n",
       "      <td>0.0</td>\n",
       "      <td>0.0</td>\n",
       "      <td>0.0</td>\n",
       "    </tr>\n",
       "    <tr>\n",
       "      <th>202005</th>\n",
       "      <td>0.0</td>\n",
       "      <td>0.0</td>\n",
       "      <td>8.0</td>\n",
       "      <td>0.0</td>\n",
       "      <td>0.0</td>\n",
       "      <td>0.0</td>\n",
       "    </tr>\n",
       "    <tr>\n",
       "      <th>...</th>\n",
       "      <th>...</th>\n",
       "      <td>...</td>\n",
       "      <td>...</td>\n",
       "      <td>...</td>\n",
       "      <td>...</td>\n",
       "      <td>...</td>\n",
       "      <td>...</td>\n",
       "    </tr>\n",
       "    <tr>\n",
       "      <th rowspan=\"5\" valign=\"top\">WY</th>\n",
       "      <th>202102</th>\n",
       "      <td>0.0</td>\n",
       "      <td>0.0</td>\n",
       "      <td>0.0</td>\n",
       "      <td>0.0</td>\n",
       "      <td>0.0</td>\n",
       "      <td>0.0</td>\n",
       "    </tr>\n",
       "    <tr>\n",
       "      <th>202103</th>\n",
       "      <td>0.0</td>\n",
       "      <td>0.0</td>\n",
       "      <td>1.0</td>\n",
       "      <td>0.0</td>\n",
       "      <td>0.0</td>\n",
       "      <td>0.0</td>\n",
       "    </tr>\n",
       "    <tr>\n",
       "      <th>202104</th>\n",
       "      <td>0.0</td>\n",
       "      <td>0.0</td>\n",
       "      <td>3.0</td>\n",
       "      <td>0.0</td>\n",
       "      <td>0.0</td>\n",
       "      <td>0.0</td>\n",
       "    </tr>\n",
       "    <tr>\n",
       "      <th>202105</th>\n",
       "      <td>0.0</td>\n",
       "      <td>0.0</td>\n",
       "      <td>1.0</td>\n",
       "      <td>0.0</td>\n",
       "      <td>0.0</td>\n",
       "      <td>0.0</td>\n",
       "    </tr>\n",
       "    <tr>\n",
       "      <th>202106</th>\n",
       "      <td>0.0</td>\n",
       "      <td>0.0</td>\n",
       "      <td>0.0</td>\n",
       "      <td>0.0</td>\n",
       "      <td>0.0</td>\n",
       "      <td>0.0</td>\n",
       "    </tr>\n",
       "  </tbody>\n",
       "</table>\n",
       "<p>918 rows × 6 columns</p>\n",
       "</div>"
      ],
      "text/plain": [
       "event_type    battles  explosions  protests  riots  strategic_devs  violence\n",
       "state period                                                                \n",
       "AK    202001      0.0         0.0       4.0    0.0             0.0       0.0\n",
       "      202002      0.0         0.0      11.0    0.0             0.0       0.0\n",
       "      202003      0.0         0.0       1.0    0.0             1.0       0.0\n",
       "      202004      0.0         0.0       2.0    0.0             0.0       0.0\n",
       "      202005      0.0         0.0       8.0    0.0             0.0       0.0\n",
       "...               ...         ...       ...    ...             ...       ...\n",
       "WY    202102      0.0         0.0       0.0    0.0             0.0       0.0\n",
       "      202103      0.0         0.0       1.0    0.0             0.0       0.0\n",
       "      202104      0.0         0.0       3.0    0.0             0.0       0.0\n",
       "      202105      0.0         0.0       1.0    0.0             0.0       0.0\n",
       "      202106      0.0         0.0       0.0    0.0             0.0       0.0\n",
       "\n",
       "[918 rows x 6 columns]"
      ]
     },
     "execution_count": 3,
     "metadata": {},
     "output_type": "execute_result"
    }
   ],
   "source": [
    "# Create pivoted dataframes for Events and Fatalities\n",
    "events_pivot = pd.pivot_table(\n",
    "    events_melted, \n",
    "    index=['state', 'period'],\n",
    "    columns='event_type',\n",
    "    values='Events',\n",
    "    fill_value=0\n",
    ")\n",
    "\n",
    "# Define mappings for column renaming\n",
    "events_mapping = {\n",
    "    'Battles': 'battles',\n",
    "    'Explosions/Remote violence': 'explosions',\n",
    "    'Protests': 'protests',\n",
    "    'Riots': 'riots',\n",
    "    'Strategic developments': 'strategic_devs',\n",
    "    'Violence against civilians': 'violence'\n",
    "}\n",
    "events_pivot = events_pivot.rename(columns=events_mapping)\n",
    "acled = events_pivot\n",
    "\n",
    "acled.to_csv('data/acled_panel.csv', index=True)\n",
    "\n",
    "acled"
   ]
  }
 ],
 "metadata": {
  "kernelspec": {
   "display_name": "nastia2",
   "language": "python",
   "name": "python3"
  },
  "language_info": {
   "codemirror_mode": {
    "name": "ipython",
    "version": 3
   },
   "file_extension": ".py",
   "mimetype": "text/x-python",
   "name": "python",
   "nbconvert_exporter": "python",
   "pygments_lexer": "ipython3",
   "version": "3.12.9"
  }
 },
 "nbformat": 4,
 "nbformat_minor": 5
}
