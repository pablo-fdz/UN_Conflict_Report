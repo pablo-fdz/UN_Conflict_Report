{
 "cells": [
  {
   "cell_type": "code",
   "execution_count": 15,
   "id": "ea7a185c",
   "metadata": {},
   "outputs": [],
   "source": [
    "import neo4j\n",
    "from neo4j_graphrag_custom.kg_retriever import KGRetriever\n",
    "from neo4j_graphrag_custom.kg_indexer import KGIndexer\n",
    "import os\n",
    "import json\n",
    "from dotenv import load_dotenv\n",
    "from neo4j_graphrag.embeddings import SentenceTransformerEmbeddings\n",
    "from neo4j_graphrag.retrievers import (\n",
    "    VectorRetriever,\n",
    "    VectorCypherRetriever,\n",
    "    HybridRetriever,\n",
    "    HybridCypherRetriever,\n",
    "    Text2CypherRetriever\n",
    ")"
   ]
  },
  {
   "cell_type": "markdown",
   "id": "4eefe0dd",
   "metadata": {},
   "source": [
    "# 0. Initial setup\n",
    "\n",
    "Note: this notebook assumes the existence of an *indexed* knowledge graph (with the full text and the embeddings indexed) in the Neo4j database that is called. "
   ]
  },
  {
   "cell_type": "code",
   "execution_count": 8,
   "id": "d5412127",
   "metadata": {},
   "outputs": [],
   "source": [
    "# Load configuration and setup\n",
    "\n",
    "script_dir = os.getcwd()\n",
    "\n",
    "# script_dir = os.path.dirname(os.path.abspath(__file__))  # Uncomment if running as a script\n",
    "\n",
    "# Load environment variables from a .env file\n",
    "dotenv_path = os.path.join(script_dir, '.env')\n",
    "load_dotenv(dotenv_path, override=True)\n",
    "\n",
    "# Open configuration file from JSON format\n",
    "config_path = os.path.join(script_dir, 'kg_building_config.json')  # Configuration file of the knowledge graph builder\n",
    "with open(config_path, 'r') as kg_build_config_file:\n",
    "    build_config = json.load(kg_build_config_file)\n",
    "config_path = os.path.join(script_dir, 'kg_retrieval_config.json')  # Configuration file of the knowledge graph retriever\n",
    "with open(config_path, 'r') as kg_retr_config_file:\n",
    "    retr_config = json.load(kg_retr_config_file)\n",
    "\n",
    "# Neo4j connection\n",
    "neo4j_uri = os.getenv('NEO4J_URI')\n",
    "neo4j_username = os.getenv('NEO4J_USERNAME')\n",
    "neo4j_password = os.getenv('NEO4J_PASSWORD')\n",
    "\n",
    "driver = neo4j.GraphDatabase.driver(neo4j_uri, auth=(neo4j_username, neo4j_password))"
   ]
  },
  {
   "cell_type": "code",
   "execution_count": 13,
   "id": "8a6882f6",
   "metadata": {},
   "outputs": [
    {
     "name": "stdout",
     "output_type": "stream",
     "text": [
      "Found 5 indexes in the database:\n",
      "\n",
      "1. {'id': 2, 'name': '__entity__id', 'state': 'ONLINE', 'populationPercent': 100.0, 'type': 'RANGE', 'entityType': 'NODE', 'labelsOrTypes': ['__KGBuilder__'], 'properties': ['id'], 'indexProvider': 'range-1.0', 'owningConstraint': None, 'lastRead': neo4j.time.DateTime(2025, 6, 4, 8, 32, 21, 581000000, tzinfo=<UTC>), 'readCount': 498}\n",
      "\n",
      "2. {'id': 4, 'name': 'embeddings_index', 'state': 'ONLINE', 'populationPercent': 100.0, 'type': 'VECTOR', 'entityType': 'NODE', 'labelsOrTypes': ['Chunk'], 'properties': ['embedding'], 'indexProvider': 'vector-2.0', 'owningConstraint': None, 'lastRead': None, 'readCount': 0}\n",
      "\n",
      "3. {'id': 3, 'name': 'fulltext_index', 'state': 'ONLINE', 'populationPercent': 100.0, 'type': 'FULLTEXT', 'entityType': 'NODE', 'labelsOrTypes': ['Chunk'], 'properties': ['text'], 'indexProvider': 'fulltext-1.0', 'owningConstraint': None, 'lastRead': None, 'readCount': 0}\n",
      "\n",
      "4. {'id': 0, 'name': 'index_343aff4e', 'state': 'ONLINE', 'populationPercent': 100.0, 'type': 'LOOKUP', 'entityType': 'NODE', 'labelsOrTypes': None, 'properties': None, 'indexProvider': 'token-lookup-1.0', 'owningConstraint': None, 'lastRead': neo4j.time.DateTime(2025, 6, 4, 8, 32, 21, 733000000, tzinfo=<UTC>), 'readCount': 6}\n",
      "\n",
      "5. {'id': 1, 'name': 'index_f7700477', 'state': 'ONLINE', 'populationPercent': 100.0, 'type': 'LOOKUP', 'entityType': 'RELATIONSHIP', 'labelsOrTypes': None, 'properties': None, 'indexProvider': 'token-lookup-1.0', 'owningConstraint': None, 'lastRead': None, 'readCount': 0}\n"
     ]
    }
   ],
   "source": [
    "# Create embedder\n",
    "embedder = SentenceTransformerEmbeddings(model=build_config['embedder_config']['model_name'])\n",
    "\n",
    "# Get the index name for the text embeddings index\n",
    "indexer = KGIndexer(driver=driver)\n",
    "existing_indexes = indexer.list_all_indexes()\n",
    "embeddings_index_name = [index['name'] for index in existing_indexes if index['type'] == 'VECTOR'][0]\n",
    "fulltext_index_name = [index['name'] for index in existing_indexes if index['type'] == 'FULLTEXT'][0]"
   ]
  },
  {
   "cell_type": "markdown",
   "id": "d7462f17",
   "metadata": {},
   "source": [
    "# 1. Vector retriever\n",
    "\n",
    "Similarity search using vector embeddings."
   ]
  },
  {
   "cell_type": "code",
   "execution_count": null,
   "id": "80c59bdb",
   "metadata": {},
   "outputs": [
    {
     "ename": "TypeError",
     "evalue": "neo4j_graphrag.retrievers.base.Retriever.search() got multiple values for keyword argument 'query_text'",
     "output_type": "error",
     "traceback": [
      "\u001b[31m---------------------------------------------------------------------------\u001b[39m",
      "\u001b[31mTypeError\u001b[39m                                 Traceback (most recent call last)",
      "\u001b[36mCell\u001b[39m\u001b[36m \u001b[39m\u001b[32mIn[14]\u001b[39m\u001b[32m, line 9\u001b[39m\n\u001b[32m      2\u001b[39m retriever = KGRetriever.create_vector_retriever(\n\u001b[32m      3\u001b[39m     driver=driver,\n\u001b[32m      4\u001b[39m     index_name=embeddings_index_name,\n\u001b[32m      5\u001b[39m     embedder=embedder\n\u001b[32m      6\u001b[39m )\n\u001b[32m      8\u001b[39m \u001b[38;5;66;03m# Search using the retriever\u001b[39;00m\n\u001b[32m----> \u001b[39m\u001b[32m9\u001b[39m results = \u001b[43mretriever\u001b[49m\u001b[43m.\u001b[49m\u001b[43msearch\u001b[49m\u001b[43m(\u001b[49m\n\u001b[32m     10\u001b[39m \u001b[43m    \u001b[49m\u001b[43mquery_text\u001b[49m\u001b[43m=\u001b[49m\u001b[33;43m\"\u001b[39;49m\u001b[33;43mWhat are the major conflicts in the Middle East?\u001b[39;49m\u001b[33;43m\"\u001b[39;49m\u001b[43m,\u001b[49m\n\u001b[32m     11\u001b[39m \u001b[43m    \u001b[49m\u001b[43mtop_k\u001b[49m\u001b[43m=\u001b[49m\u001b[32;43m5\u001b[39;49m\n\u001b[32m     12\u001b[39m \u001b[43m)\u001b[49m\n\u001b[32m     14\u001b[39m \u001b[38;5;66;03m# Print results\u001b[39;00m\n\u001b[32m     15\u001b[39m \u001b[38;5;28;01mfor\u001b[39;00m item \u001b[38;5;129;01min\u001b[39;00m results:\n",
      "\u001b[36mFile \u001b[39m\u001b[32m/media/pablo/Shared files/GDrive personal/BSE - DSDM/3-Master_Thesis/UN_Conflict_Report/graphrag_pipeline/neo4j_graphrag_custom/kg_retriever/kg_retriever.py:314\u001b[39m, in \u001b[36mKGRetriever.search\u001b[39m\u001b[34m(self, query_text, **kwargs)\u001b[39m\n\u001b[32m    311\u001b[39m raw_results = \u001b[38;5;28mself\u001b[39m.get_search_results(**kwargs)\n\u001b[32m    313\u001b[39m \u001b[38;5;66;03m# Use the retriever's search method to format results\u001b[39;00m\n\u001b[32m--> \u001b[39m\u001b[32m314\u001b[39m \u001b[38;5;28;01mreturn\u001b[39;00m \u001b[38;5;28mself\u001b[39m.retriever.search(query_text=query_text, **kwargs).items\n",
      "\u001b[31mTypeError\u001b[39m: neo4j_graphrag.retrievers.base.Retriever.search() got multiple values for keyword argument 'query_text'"
     ]
    }
   ],
   "source": [
    "# Create vector retriever\n",
    "retriever = VectorRetriever(\n",
    "    driver=driver,\n",
    "    index_name=embeddings_index_name,  # Name of the vector index\n",
    "    embedder=embedder,  # Embedder to use for embedding the query text when doing a vector search\n",
    "    return_properties=['text']  # Properties to return from the vector search results\n",
    ")"
   ]
  },
  {
   "cell_type": "markdown",
   "id": "6c1398e1",
   "metadata": {},
   "source": [
    "# 2. VectorCypherRetriever\n",
    "\n",
    "Combines vector search with retrieval queries in Cypher, Neo4j’s Graph Query language, to traverse the graph and incorporate additional nodes and relationships. "
   ]
  },
  {
   "cell_type": "markdown",
   "id": "43b34125",
   "metadata": {},
   "source": [
    "# 3. HybridRetriever\n",
    "\n",
    "Combines vector and full-text search."
   ]
  },
  {
   "cell_type": "markdown",
   "id": "2cf5f073",
   "metadata": {},
   "source": [
    "# 4. HybridCypherRetriever\n",
    "\n",
    "Combines vector and full-text search with Cypher retrieval queries for additional graph traversal. "
   ]
  },
  {
   "cell_type": "markdown",
   "id": "11a491cb",
   "metadata": {},
   "source": [
    "# 5. Text2CypherRetriever\n",
    "\n",
    "Converts natural language queries into Cypher queries to run against Neo4j. Does NOT search in text or perform similarity measures."
   ]
  },
  {
   "cell_type": "markdown",
   "id": "76fd3fa3",
   "metadata": {},
   "source": [
    "# 6. Closing the driver connection"
   ]
  },
  {
   "cell_type": "code",
   "execution_count": null,
   "id": "b6b0bc5f",
   "metadata": {},
   "outputs": [],
   "source": [
    "driver.close()"
   ]
  }
 ],
 "metadata": {
  "kernelspec": {
   "display_name": "thesis",
   "language": "python",
   "name": "python3"
  },
  "language_info": {
   "codemirror_mode": {
    "name": "ipython",
    "version": 3
   },
   "file_extension": ".py",
   "mimetype": "text/x-python",
   "name": "python",
   "nbconvert_exporter": "python",
   "pygments_lexer": "ipython3",
   "version": "3.12.9"
  }
 },
 "nbformat": 4,
 "nbformat_minor": 5
}
