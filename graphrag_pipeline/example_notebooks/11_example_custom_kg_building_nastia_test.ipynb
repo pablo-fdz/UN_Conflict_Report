{
 "cells": [
  {
   "cell_type": "code",
   "execution_count": 4,
   "id": "318c590c",
   "metadata": {},
   "outputs": [],
   "source": [
    "\n",
    "def filter_cf_data(country: str):\n",
    "    \"\"\"\n",
    "    Get conflict forecast data for a specific country.\n",
    "    \n",
    "    Args:\n",
    "        country (str): The name of the country to filter the data.\n",
    "        window (int): The window size for the forecast.\n",
    "        horizon (int): The horizon size for the forecast.\n",
    "        \n",
    "    Returns:\n",
    "        pl.DataFrame: Filtered conflict forecast data.\n",
    "    \"\"\"\n",
    "    \n",
    "    # First, get the file listing\n",
    "    API_URL = \"http://api.backendless.com/C177D0DC-B3D5-818C-FF1E-1CC11BC69600/C5F2917E-C2F6-4F7D-9063-69555274134E/services/fileService/get-latest-file-listing\"\n",
    "\n",
    "    # Get the latest file listing\n",
    "    resp = requests.get(API_URL)\n",
    "    resp.raise_for_status()\n",
    "    files = resp.json()\n",
    "\n",
    "    # Find the specific file you want\n",
    "    target_file = \"conflictforecast_ons_armedconf_03.csv\"\n",
    "    file_url = None\n",
    "\n",
    "    for file_info in files:\n",
    "        if file_info[\"name\"] == target_file:\n",
    "            file_url = file_info[\"publicUrl\"]\n",
    "            break\n",
    "\n",
    "    if file_url:\n",
    "        \n",
    "        # Download the CSV file\n",
    "        csv_response = requests.get(file_url)\n",
    "        csv_response.raise_for_status()\n",
    "        \n",
    "        # Read directly into Polars DataFrame\n",
    "        cf_conflict = pl.read_csv(csv_response.content)\n",
    "    else:\n",
    "        print(f\"File {target_file} not found in the listing\")\n",
    "\n",
    "    def iso_lookup(country):\n",
    "        for c in pycountry.countries:\n",
    "            if country.lower() in [c.name.lower(), getattr(c, 'official_name', '').lower(), getattr(c, 'alpha_3', '').lower()]:\n",
    "                return c.alpha_3\n",
    "\n",
    "        print(f\"Country '{country}' not found in ISO lookup.\")\n",
    "        return None\n",
    "    \n",
    "    country = iso_lookup(country)\n",
    "        \n",
    "    return cf_conflict.filter(\n",
    "        (pl.col(\"isocode\") == country)\n",
    "    )\n",
    "\n",
    "country = \"Sudan\"  # ISO code for Sudan\n",
    "    \n",
    "cf_data = filter_cf_data(country)\n"
   ]
  },
  {
   "cell_type": "code",
   "execution_count": 41,
   "id": "ec54fa6a",
   "metadata": {},
   "outputs": [
    {
     "data": {
      "application/vnd.plotly.v1+json": {
       "config": {
        "plotlyServerURL": "https://plot.ly"
       },
       "data": [
        {
         "connectgaps": true,
         "line": {
          "width": 0
         },
         "marker": {
          "color": {
           "bdata": "cW7Z22cN6z/34QwxS8jlP6e3s63RmuU/4LHAhq7O5D+OXFjl/E3rPyGHvyZhFes/MKYELgOm7D/BQ1XNPMfrP1eZkL992uU/bP6E41mm5T+KX1rLD7rkPzEtXV/Ehus/0Aa3yEf56j/xt1DGC7jlPyCkDQQA+uQ/2UQ20Fbj7D8s22cymr7rP5HKVE6Kpes/InACokGR5T9VcesAYxXlP09cBSKMPuQ/a7uv6EcT4z+3PjvlJv/lP8PVS1GA+eY/JMIz33st6D8K1IjMKezoP8WDSPg1Q+o/iXoegAC66j/X/BWcpqnlPyn+ygRapOs/6C+Utu+/6j8XXaQ6EMnlPzNDgg//IOw/T9ug1U9q7D+UWUKiOuTqP9r4jEyj4+s/8h+Z4htz5D+JP/fcSg/tP0VatZbVfeQ/8QY7s3cv7D/Nf/2oYGftP/+dcL0+Ju4/CjO05Paz7j+mPLxEWbzuP2qV0nJpxe4/1XsaiFj87j91qWTcaJ/uPzhuRGcqvu8/EBA1WRe07z9UdAHxVb3vP0QKv4o0ne8/T1+gsAq+7z+xCbOWf7TvP0mF3gt7x+8/wwWRXKLU7z8rpkYD9NnvP6Wyi2lOz+8/eFixVgno7z9sa7p5F8HvP+Uyoin+4e8/SGOGHgf37z9L4RkPi/nvP2qacx3Q5u8/9B6mvJXk7z+yesSDafDvPw==",
           "dtype": "f8"
          },
          "colorbar": {
           "title": {
            "text": "Conflict Probability"
           }
          },
          "colorscale": [
           [
            0,
            "rgb(49,54,149)"
           ],
           [
            0.1,
            "rgb(69,117,180)"
           ],
           [
            0.2,
            "rgb(116,173,209)"
           ],
           [
            0.3,
            "rgb(171,217,233)"
           ],
           [
            0.4,
            "rgb(224,243,248)"
           ],
           [
            0.5,
            "rgb(255,255,191)"
           ],
           [
            0.6,
            "rgb(254,224,144)"
           ],
           [
            0.7,
            "rgb(253,174,97)"
           ],
           [
            0.8,
            "rgb(244,109,67)"
           ],
           [
            0.9,
            "rgb(215,48,39)"
           ],
           [
            1,
            "rgb(165,0,38)"
           ]
          ],
          "line": {
           "width": 0
          },
          "showscale": false,
          "size": 3
         },
         "mode": "lines+markers",
         "name": "Armed Conflict Forecast",
         "type": "scatter",
         "x": [
          "2020-01-01T00:00:00.000000",
          "2020-02-01T00:00:00.000000",
          "2020-03-01T00:00:00.000000",
          "2020-04-01T00:00:00.000000",
          "2020-05-01T00:00:00.000000",
          "2020-06-01T00:00:00.000000",
          "2020-07-01T00:00:00.000000",
          "2020-08-01T00:00:00.000000",
          "2020-09-01T00:00:00.000000",
          "2020-10-01T00:00:00.000000",
          "2020-11-01T00:00:00.000000",
          "2020-12-01T00:00:00.000000",
          "2021-01-01T00:00:00.000000",
          "2021-02-01T00:00:00.000000",
          "2021-03-01T00:00:00.000000",
          "2021-04-01T00:00:00.000000",
          "2021-05-01T00:00:00.000000",
          "2021-06-01T00:00:00.000000",
          "2021-07-01T00:00:00.000000",
          "2021-08-01T00:00:00.000000",
          "2021-09-01T00:00:00.000000",
          "2021-10-01T00:00:00.000000",
          "2021-11-01T00:00:00.000000",
          "2021-12-01T00:00:00.000000",
          "2022-01-01T00:00:00.000000",
          "2022-02-01T00:00:00.000000",
          "2022-03-01T00:00:00.000000",
          "2022-04-01T00:00:00.000000",
          "2022-05-01T00:00:00.000000",
          "2022-06-01T00:00:00.000000",
          "2022-07-01T00:00:00.000000",
          "2022-08-01T00:00:00.000000",
          "2022-09-01T00:00:00.000000",
          "2022-10-01T00:00:00.000000",
          "2022-11-01T00:00:00.000000",
          "2022-12-01T00:00:00.000000",
          "2023-01-01T00:00:00.000000",
          "2023-02-01T00:00:00.000000",
          "2023-03-01T00:00:00.000000",
          "2023-04-01T00:00:00.000000",
          "2023-05-01T00:00:00.000000",
          "2023-06-01T00:00:00.000000",
          "2023-07-01T00:00:00.000000",
          "2023-08-01T00:00:00.000000",
          "2023-09-01T00:00:00.000000",
          "2023-10-01T00:00:00.000000",
          "2023-11-01T00:00:00.000000",
          "2023-12-01T00:00:00.000000",
          "2024-01-01T00:00:00.000000",
          "2024-02-01T00:00:00.000000",
          "2024-03-01T00:00:00.000000",
          "2024-04-01T00:00:00.000000",
          "2024-05-01T00:00:00.000000",
          "2024-06-01T00:00:00.000000",
          "2024-07-01T00:00:00.000000",
          "2024-08-01T00:00:00.000000",
          "2024-09-01T00:00:00.000000",
          "2024-10-01T00:00:00.000000",
          "2024-11-01T00:00:00.000000",
          "2024-12-01T00:00:00.000000",
          "2025-01-01T00:00:00.000000",
          "2025-02-01T00:00:00.000000",
          "2025-03-01T00:00:00.000000",
          "2025-04-01T00:00:00.000000",
          "2025-05-01T00:00:00.000000"
         ],
         "y": {
          "bdata": "cW7Z22cN6z/34QwxS8jlP6e3s63RmuU/4LHAhq7O5D+OXFjl/E3rPyGHvyZhFes/MKYELgOm7D/BQ1XNPMfrP1eZkL992uU/bP6E41mm5T+KX1rLD7rkPzEtXV/Ehus/0Aa3yEf56j/xt1DGC7jlPyCkDQQA+uQ/2UQ20Fbj7D8s22cymr7rP5HKVE6Kpes/InACokGR5T9VcesAYxXlP09cBSKMPuQ/a7uv6EcT4z+3PjvlJv/lP8PVS1GA+eY/JMIz33st6D8K1IjMKezoP8WDSPg1Q+o/iXoegAC66j/X/BWcpqnlPyn+ygRapOs/6C+Utu+/6j8XXaQ6EMnlPzNDgg//IOw/T9ug1U9q7D+UWUKiOuTqP9r4jEyj4+s/8h+Z4htz5D+JP/fcSg/tP0VatZbVfeQ/8QY7s3cv7D/Nf/2oYGftP/+dcL0+Ju4/CjO05Paz7j+mPLxEWbzuP2qV0nJpxe4/1XsaiFj87j91qWTcaJ/uPzhuRGcqvu8/EBA1WRe07z9UdAHxVb3vP0QKv4o0ne8/T1+gsAq+7z+xCbOWf7TvP0mF3gt7x+8/wwWRXKLU7z8rpkYD9NnvP6Wyi2lOz+8/eFixVgno7z9sa7p5F8HvP+Uyoin+4e8/SGOGHgf37z9L4RkPi/nvP2qacx3Q5u8/9B6mvJXk7z+yesSDafDvPw==",
          "dtype": "f8"
         }
        },
        {
         "hoverinfo": "skip",
         "line": {
          "color": "rgb(105, 0, 149)",
          "width": 2
         },
         "mode": "lines",
         "showlegend": false,
         "type": "scatter",
         "x": [
          "2020-01-01T00:00:00",
          "2020-02-01T00:00:00"
         ],
         "y": [
          0.8453864377911043,
          0.6806999166502113
         ]
        },
        {
         "hoverinfo": "skip",
         "line": {
          "color": "rgb(51, 0, 203)",
          "width": 2
         },
         "mode": "lines",
         "showlegend": false,
         "type": "scatter",
         "x": [
          "2020-02-01T00:00:00",
          "2020-03-01T00:00:00"
         ],
         "y": [
          0.6806999166502113,
          0.6751488106362914
         ]
        },
        {
         "hoverinfo": "skip",
         "line": {
          "color": "rgb(42, 0, 212)",
          "width": 2
         },
         "mode": "lines",
         "showlegend": false,
         "type": "scatter",
         "x": [
          "2020-03-01T00:00:00",
          "2020-04-01T00:00:00"
         ],
         "y": [
          0.6751488106362914,
          0.6502297050370167
         ]
        },
        {
         "hoverinfo": "skip",
         "line": {
          "color": "rgb(98, 0, 156)",
          "width": 2
         },
         "mode": "lines",
         "showlegend": false,
         "type": "scatter",
         "x": [
          "2020-04-01T00:00:00",
          "2020-05-01T00:00:00"
         ],
         "y": [
          0.6502297050370167,
          0.8532700042150212
         ]
        },
        {
         "hoverinfo": "skip",
         "line": {
          "color": "rgb(160, 0, 94)",
          "width": 2
         },
         "mode": "lines",
         "showlegend": false,
         "type": "scatter",
         "x": [
          "2020-05-01T00:00:00",
          "2020-06-01T00:00:00"
         ],
         "y": [
          0.8532700042150212,
          0.8463598019409099
         ]
        },
        {
         "hoverinfo": "skip",
         "line": {
          "color": "rgb(173, 0, 81)",
          "width": 2
         },
         "mode": "lines",
         "showlegend": false,
         "type": "scatter",
         "x": [
          "2020-06-01T00:00:00",
          "2020-07-01T00:00:00"
         ],
         "y": [
          0.8463598019409099,
          0.8952651881019786
         ]
        },
        {
         "hoverinfo": "skip",
         "line": {
          "color": "rgb(180, 0, 74)",
          "width": 2
         },
         "mode": "lines",
         "showlegend": false,
         "type": "scatter",
         "x": [
          "2020-07-01T00:00:00",
          "2020-08-01T00:00:00"
         ],
         "y": [
          0.8952651881019786,
          0.8680709848796299
         ]
        },
        {
         "hoverinfo": "skip",
         "line": {
          "color": "rgb(113, 0, 141)",
          "width": 2
         },
         "mode": "lines",
         "showlegend": false,
         "type": "scatter",
         "x": [
          "2020-08-01T00:00:00",
          "2020-09-01T00:00:00"
         ],
         "y": [
          0.8680709848796299,
          0.682921289587095
         ]
        },
        {
         "hoverinfo": "skip",
         "line": {
          "color": "rgb(52, 0, 202)",
          "width": 2
         },
         "mode": "lines",
         "showlegend": false,
         "type": "scatter",
         "x": [
          "2020-09-01T00:00:00",
          "2020-10-01T00:00:00"
         ],
         "y": [
          0.682921289587095,
          0.6765565341701865
         ]
        },
        {
         "hoverinfo": "skip",
         "line": {
          "color": "rgb(41, 0, 213)",
          "width": 2
         },
         "mode": "lines",
         "showlegend": false,
         "type": "scatter",
         "x": [
          "2020-10-01T00:00:00",
          "2020-11-01T00:00:00"
         ],
         "y": [
          0.6765565341701865,
          0.6477126094568899
         ]
        },
        {
         "hoverinfo": "skip",
         "line": {
          "color": "rgb(99, 0, 155)",
          "width": 2
         },
         "mode": "lines",
         "showlegend": false,
         "type": "scatter",
         "x": [
          "2020-11-01T00:00:00",
          "2020-12-01T00:00:00"
         ],
         "y": [
          0.6477126094568899,
          0.8602010595872455
         ]
        },
        {
         "hoverinfo": "skip",
         "line": {
          "color": "rgb(161, 0, 93)",
          "width": 2
         },
         "mode": "lines",
         "showlegend": false,
         "type": "scatter",
         "x": [
          "2020-12-01T00:00:00",
          "2021-01-01T00:00:00"
         ],
         "y": [
          0.8602010595872455,
          0.8429297371114561
         ]
        },
        {
         "hoverinfo": "skip",
         "line": {
          "color": "rgb(104, 0, 150)",
          "width": 2
         },
         "mode": "lines",
         "showlegend": false,
         "type": "scatter",
         "x": [
          "2021-01-01T00:00:00",
          "2021-02-01T00:00:00"
         ],
         "y": [
          0.8429297371114561,
          0.6787165520997843
         ]
        },
        {
         "hoverinfo": "skip",
         "line": {
          "color": "rgb(44, 0, 210)",
          "width": 2
         },
         "mode": "lines",
         "showlegend": false,
         "type": "scatter",
         "x": [
          "2021-02-01T00:00:00",
          "2021-03-01T00:00:00"
         ],
         "y": [
          0.6787165520997843,
          0.6555175856748328
         ]
        },
        {
         "hoverinfo": "skip",
         "line": {
          "color": "rgb(115, 0, 139)",
          "width": 2
         },
         "mode": "lines",
         "showlegend": false,
         "type": "scatter",
         "x": [
          "2021-03-01T00:00:00",
          "2021-04-01T00:00:00"
         ],
         "y": [
          0.6555175856748328,
          0.902751356758155
         ]
        },
        {
         "hoverinfo": "skip",
         "line": {
          "color": "rgb(182, 0, 72)",
          "width": 2
         },
         "mode": "lines",
         "showlegend": false,
         "type": "scatter",
         "x": [
          "2021-04-01T00:00:00",
          "2021-05-01T00:00:00"
         ],
         "y": [
          0.902751356758155,
          0.8670168861852736
         ]
        },
        {
         "hoverinfo": "skip",
         "line": {
          "color": "rgb(170, 0, 84)",
          "width": 2
         },
         "mode": "lines",
         "showlegend": false,
         "type": "scatter",
         "x": [
          "2021-05-01T00:00:00",
          "2021-06-01T00:00:00"
         ],
         "y": [
          0.8670168861852736,
          0.8639575509935914
         ]
        },
        {
         "hoverinfo": "skip",
         "line": {
          "color": "rgb(109, 0, 145)",
          "width": 2
         },
         "mode": "lines",
         "showlegend": false,
         "type": "scatter",
         "x": [
          "2021-06-01T00:00:00",
          "2021-07-01T00:00:00"
         ],
         "y": [
          0.8639575509935914,
          0.6739814914940363
         ]
        },
        {
         "hoverinfo": "skip",
         "line": {
          "color": "rgb(44, 0, 210)",
          "width": 2
         },
         "mode": "lines",
         "showlegend": false,
         "type": "scatter",
         "x": [
          "2021-07-01T00:00:00",
          "2021-08-01T00:00:00"
         ],
         "y": [
          0.6739814914940363,
          0.6588606851542332
         ]
        },
        {
         "hoverinfo": "skip",
         "line": {
          "color": "rgb(31, 0, 223)",
          "width": 2
         },
         "mode": "lines",
         "showlegend": false,
         "type": "scatter",
         "x": [
          "2021-08-01T00:00:00",
          "2021-09-01T00:00:00"
         ],
         "y": [
          0.6588606851542332,
          0.6326351799460869
         ]
        },
        {
         "hoverinfo": "skip",
         "line": {
          "color": "rgb(11, 0, 243)",
          "width": 2
         },
         "mode": "lines",
         "showlegend": false,
         "type": "scatter",
         "x": [
          "2021-09-01T00:00:00",
          "2021-10-01T00:00:00"
         ],
         "y": [
          0.6326351799460869,
          0.5961036247880264
         ]
        },
        {
         "hoverinfo": "skip",
         "line": {
          "color": "rgb(28, 0, 226)",
          "width": 2
         },
         "mode": "lines",
         "showlegend": false,
         "type": "scatter",
         "x": [
          "2021-10-01T00:00:00",
          "2021-11-01T00:00:00"
         ],
         "y": [
          0.5961036247880264,
          0.6873964764763149
         ]
        },
        {
         "hoverinfo": "skip",
         "line": {
          "color": "rgb(67, 0, 187)",
          "width": 2
         },
         "mode": "lines",
         "showlegend": false,
         "type": "scatter",
         "x": [
          "2021-11-01T00:00:00",
          "2021-12-01T00:00:00"
         ],
         "y": [
          0.6873964764763149,
          0.7179566943947794
         ]
        },
        {
         "hoverinfo": "skip",
         "line": {
          "color": "rgb(88, 0, 166)",
          "width": 2
         },
         "mode": "lines",
         "showlegend": false,
         "type": "scatter",
         "x": [
          "2021-12-01T00:00:00",
          "2022-01-01T00:00:00"
         ],
         "y": [
          0.7179566943947794,
          0.7555522307794189
         ]
        },
        {
         "hoverinfo": "skip",
         "line": {
          "color": "rgb(108, 0, 146)",
          "width": 2
         },
         "mode": "lines",
         "showlegend": false,
         "type": "scatter",
         "x": [
          "2022-01-01T00:00:00",
          "2022-02-01T00:00:00"
         ],
         "y": [
          0.7555522307794189,
          0.7788285250486535
         ]
        },
        {
         "hoverinfo": "skip",
         "line": {
          "color": "rgb(128, 0, 126)",
          "width": 2
         },
         "mode": "lines",
         "showlegend": false,
         "type": "scatter",
         "x": [
          "2022-02-01T00:00:00",
          "2022-03-01T00:00:00"
         ],
         "y": [
          0.7788285250486535,
          0.8207044457704958
         ]
        },
        {
         "hoverinfo": "skip",
         "line": {
          "color": "rgb(146, 0, 108)",
          "width": 2
         },
         "mode": "lines",
         "showlegend": false,
         "type": "scatter",
         "x": [
          "2022-03-01T00:00:00",
          "2022-04-01T00:00:00"
         ],
         "y": [
          0.8207044457704958,
          0.8352053167653405
         ]
        },
        {
         "hoverinfo": "skip",
         "line": {
          "color": "rgb(101, 0, 153)",
          "width": 2
         },
         "mode": "lines",
         "showlegend": false,
         "type": "scatter",
         "x": [
          "2022-04-01T00:00:00",
          "2022-05-01T00:00:00"
         ],
         "y": [
          0.8352053167653405,
          0.6769593285133862
         ]
        },
        {
         "hoverinfo": "skip",
         "line": {
          "color": "rgb(110, 0, 144)",
          "width": 2
         },
         "mode": "lines",
         "showlegend": false,
         "type": "scatter",
         "x": [
          "2022-05-01T00:00:00",
          "2022-06-01T00:00:00"
         ],
         "y": [
          0.6769593285133862,
          0.863812455521786
         ]
        },
        {
         "hoverinfo": "skip",
         "line": {
          "color": "rgb(160, 0, 94)",
          "width": 2
         },
         "mode": "lines",
         "showlegend": false,
         "type": "scatter",
         "x": [
          "2022-06-01T00:00:00",
          "2022-07-01T00:00:00"
         ],
         "y": [
          0.863812455521786,
          0.835929733847931
         ]
        },
        {
         "hoverinfo": "skip",
         "line": {
          "color": "rgb(102, 0, 152)",
          "width": 2
         },
         "mode": "lines",
         "showlegend": false,
         "type": "scatter",
         "x": [
          "2022-07-01T00:00:00",
          "2022-08-01T00:00:00"
         ],
         "y": [
          0.835929733847931,
          0.6807938714363527
         ]
        },
        {
         "hoverinfo": "skip",
         "line": {
          "color": "rgb(116, 0, 138)",
          "width": 2
         },
         "mode": "lines",
         "showlegend": false,
         "type": "scatter",
         "x": [
          "2022-08-01T00:00:00",
          "2022-09-01T00:00:00"
         ],
         "y": [
          0.6807938714363527,
          0.8790278723628034
         ]
        },
        {
         "hoverinfo": "skip",
         "line": {
          "color": "rgb(181, 0, 73)",
          "width": 2
         },
         "mode": "lines",
         "showlegend": false,
         "type": "scatter",
         "x": [
          "2022-09-01T00:00:00",
          "2022-10-01T00:00:00"
         ],
         "y": [
          0.8790278723628034,
          0.8879775211743012
         ]
        },
        {
         "hoverinfo": "skip",
         "line": {
          "color": "rgb(169, 0, 85)",
          "width": 2
         },
         "mode": "lines",
         "showlegend": false,
         "type": "scatter",
         "x": [
          "2022-10-01T00:00:00",
          "2022-11-01T00:00:00"
         ],
         "y": [
          0.8879775211743012,
          0.8403599900364491
         ]
        },
        {
         "hoverinfo": "skip",
         "line": {
          "color": "rgb(164, 0, 90)",
          "width": 2
         },
         "mode": "lines",
         "showlegend": false,
         "type": "scatter",
         "x": [
          "2022-11-01T00:00:00",
          "2022-12-01T00:00:00"
         ],
         "y": [
          0.8403599900364491,
          0.8715378279810253
         ]
        },
        {
         "hoverinfo": "skip",
         "line": {
          "color": "rgb(100, 0, 154)",
          "width": 2
         },
         "mode": "lines",
         "showlegend": false,
         "type": "scatter",
         "x": [
          "2022-12-01T00:00:00",
          "2023-01-01T00:00:00"
         ],
         "y": [
          0.8715378279810253,
          0.6390513826127047
         ]
        },
        {
         "hoverinfo": "skip",
         "line": {
          "color": "rgb(112, 0, 142)",
          "width": 2
         },
         "mode": "lines",
         "showlegend": false,
         "type": "scatter",
         "x": [
          "2023-01-01T00:00:00",
          "2023-02-01T00:00:00"
         ],
         "y": [
          0.6390513826127047,
          0.9081167522181072
         ]
        },
        {
         "hoverinfo": "skip",
         "line": {
          "color": "rgb(112, 0, 142)",
          "width": 2
         },
         "mode": "lines",
         "showlegend": false,
         "type": "scatter",
         "x": [
          "2023-02-01T00:00:00",
          "2023-03-01T00:00:00"
         ],
         "y": [
          0.9081167522181072,
          0.6403606360934836
         ]
        },
        {
         "hoverinfo": "skip",
         "line": {
          "color": "rgb(104, 0, 150)",
          "width": 2
         },
         "mode": "lines",
         "showlegend": false,
         "type": "scatter",
         "x": [
          "2023-03-01T00:00:00",
          "2023-04-01T00:00:00"
         ],
         "y": [
          0.6403606360934836,
          0.8807943821522867
         ]
        },
        {
         "hoverinfo": "skip",
         "line": {
          "color": "rgb(192, 0, 62)",
          "width": 2
         },
         "mode": "lines",
         "showlegend": false,
         "type": "scatter",
         "x": [
          "2023-04-01T00:00:00",
          "2023-05-01T00:00:00"
         ],
         "y": [
          0.8807943821522867,
          0.9188693333235222
         ]
        },
        {
         "hoverinfo": "skip",
         "line": {
          "color": "rgb(211, 0, 43)",
          "width": 2
         },
         "mode": "lines",
         "showlegend": false,
         "type": "scatter",
         "x": [
          "2023-05-01T00:00:00",
          "2023-06-01T00:00:00"
         ],
         "y": [
          0.9188693333235222,
          0.9421685886381396
         ]
        },
        {
         "hoverinfo": "skip",
         "line": {
          "color": "rgb(224, 0, 30)",
          "width": 2
         },
         "mode": "lines",
         "showlegend": false,
         "type": "scatter",
         "x": [
          "2023-06-01T00:00:00",
          "2023-07-01T00:00:00"
         ],
         "y": [
          0.9421685886381396,
          0.959468313872635
         ]
        },
        {
         "hoverinfo": "skip",
         "line": {
          "color": "rgb(230, 0, 24)",
          "width": 2
         },
         "mode": "lines",
         "showlegend": false,
         "type": "scatter",
         "x": [
          "2023-07-01T00:00:00",
          "2023-08-01T00:00:00"
         ],
         "y": [
          0.959468313872635,
          0.960491785286554
         ]
        },
        {
         "hoverinfo": "skip",
         "line": {
          "color": "rgb(230, 0, 24)",
          "width": 2
         },
         "mode": "lines",
         "showlegend": false,
         "type": "scatter",
         "x": [
          "2023-08-01T00:00:00",
          "2023-09-01T00:00:00"
         ],
         "y": [
          0.960491785286554,
          0.961598133337856
         ]
        },
        {
         "hoverinfo": "skip",
         "line": {
          "color": "rgb(233, 0, 21)",
          "width": 2
         },
         "mode": "lines",
         "showlegend": false,
         "type": "scatter",
         "x": [
          "2023-09-01T00:00:00",
          "2023-10-01T00:00:00"
         ],
         "y": [
          0.961598133337856,
          0.9683039339323566
         ]
        },
        {
         "hoverinfo": "skip",
         "line": {
          "color": "rgb(231, 0, 23)",
          "width": 2
         },
         "mode": "lines",
         "showlegend": false,
         "type": "scatter",
         "x": [
          "2023-10-01T00:00:00",
          "2023-11-01T00:00:00"
         ],
         "y": [
          0.9683039339323566,
          0.956959181266298
         ]
        },
        {
         "hoverinfo": "skip",
         "line": {
          "color": "rgb(239, 0, 15)",
          "width": 2
         },
         "mode": "lines",
         "showlegend": false,
         "type": "scatter",
         "x": [
          "2023-11-01T00:00:00",
          "2023-12-01T00:00:00"
         ],
         "y": [
          0.956959181266298,
          0.9919635788859926
         ]
        },
        {
         "hoverinfo": "skip",
         "line": {
          "color": "rgb(250, 0, 4)",
          "width": 2
         },
         "mode": "lines",
         "showlegend": false,
         "type": "scatter",
         "x": [
          "2023-12-01T00:00:00",
          "2024-01-01T00:00:00"
         ],
         "y": [
          0.9919635788859926,
          0.9907337896661392
         ]
        },
        {
         "hoverinfo": "skip",
         "line": {
          "color": "rgb(249, 0, 5)",
          "width": 2
         },
         "mode": "lines",
         "showlegend": false,
         "type": "scatter",
         "x": [
          "2024-01-01T00:00:00",
          "2024-02-01T00:00:00"
         ],
         "y": [
          0.9907337896661392,
          0.9918622691290104
         ]
        },
        {
         "hoverinfo": "skip",
         "line": {
          "color": "rgb(249, 0, 5)",
          "width": 2
         },
         "mode": "lines",
         "showlegend": false,
         "type": "scatter",
         "x": [
          "2024-02-01T00:00:00",
          "2024-03-01T00:00:00"
         ],
         "y": [
          0.9918622691290104,
          0.9879400930297568
         ]
        },
        {
         "hoverinfo": "skip",
         "line": {
          "color": "rgb(249, 0, 5)",
          "width": 2
         },
         "mode": "lines",
         "showlegend": false,
         "type": "scatter",
         "x": [
          "2024-03-01T00:00:00",
          "2024-04-01T00:00:00"
         ],
         "y": [
          0.9879400930297568,
          0.9919484567389903
         ]
        },
        {
         "hoverinfo": "skip",
         "line": {
          "color": "rgb(250, 0, 4)",
          "width": 2
         },
         "mode": "lines",
         "showlegend": false,
         "type": "scatter",
         "x": [
          "2024-04-01T00:00:00",
          "2024-05-01T00:00:00"
         ],
         "y": [
          0.9919484567389903,
          0.990783495268536
         ]
        },
        {
         "hoverinfo": "skip",
         "line": {
          "color": "rgb(250, 0, 4)",
          "width": 2
         },
         "mode": "lines",
         "showlegend": false,
         "type": "scatter",
         "x": [
          "2024-05-01T00:00:00",
          "2024-06-01T00:00:00"
         ],
         "y": [
          0.990783495268536,
          0.9931006652661064
         ]
        },
        {
         "hoverinfo": "skip",
         "line": {
          "color": "rgb(251, 0, 3)",
          "width": 2
         },
         "mode": "lines",
         "showlegend": false,
         "type": "scatter",
         "x": [
          "2024-06-01T00:00:00",
          "2024-07-01T00:00:00"
         ],
         "y": [
          0.9931006652661064,
          0.9947063262881602
         ]
        },
        {
         "hoverinfo": "skip",
         "line": {
          "color": "rgb(252, 0, 2)",
          "width": 2
         },
         "mode": "lines",
         "showlegend": false,
         "type": "scatter",
         "x": [
          "2024-07-01T00:00:00",
          "2024-08-01T00:00:00"
         ],
         "y": [
          0.9947063262881602,
          0.9953556121810768
         ]
        },
        {
         "hoverinfo": "skip",
         "line": {
          "color": "rgb(252, 0, 2)",
          "width": 2
         },
         "mode": "lines",
         "showlegend": false,
         "type": "scatter",
         "x": [
          "2024-08-01T00:00:00",
          "2024-09-01T00:00:00"
         ],
         "y": [
          0.9953556121810768,
          0.994055944580016
         ]
        },
        {
         "hoverinfo": "skip",
         "line": {
          "color": "rgb(252, 0, 2)",
          "width": 2
         },
         "mode": "lines",
         "showlegend": false,
         "type": "scatter",
         "x": [
          "2024-09-01T00:00:00",
          "2024-10-01T00:00:00"
         ],
         "y": [
          0.994055944580016,
          0.9970747655122656
         ]
        },
        {
         "hoverinfo": "skip",
         "line": {
          "color": "rgb(252, 0, 2)",
          "width": 2
         },
         "mode": "lines",
         "showlegend": false,
         "type": "scatter",
         "x": [
          "2024-10-01T00:00:00",
          "2024-11-01T00:00:00"
         ],
         "y": [
          0.9970747655122656,
          0.992320764303583
         ]
        },
        {
         "hoverinfo": "skip",
         "line": {
          "color": "rgb(251, 0, 3)",
          "width": 2
         },
         "mode": "lines",
         "showlegend": false,
         "type": "scatter",
         "x": [
          "2024-11-01T00:00:00",
          "2024-12-01T00:00:00"
         ],
         "y": [
          0.992320764303583,
          0.9963370144992864
         ]
        },
        {
         "hoverinfo": "skip",
         "line": {
          "color": "rgb(253, 0, 1)",
          "width": 2
         },
         "mode": "lines",
         "showlegend": false,
         "type": "scatter",
         "x": [
          "2024-12-01T00:00:00",
          "2025-01-01T00:00:00"
         ],
         "y": [
          0.9963370144992864,
          0.998904761904762
         ]
        },
        {
         "hoverinfo": "skip",
         "line": {
          "color": "rgb(254, 0, 0)",
          "width": 2
         },
         "mode": "lines",
         "showlegend": false,
         "type": "scatter",
         "x": [
          "2025-01-01T00:00:00",
          "2025-02-01T00:00:00"
         ],
         "y": [
          0.998904761904762,
          0.9992118163054696
         ]
        },
        {
         "hoverinfo": "skip",
         "line": {
          "color": "rgb(254, 0, 0)",
          "width": 2
         },
         "mode": "lines",
         "showlegend": false,
         "type": "scatter",
         "x": [
          "2025-02-01T00:00:00",
          "2025-03-01T00:00:00"
         ],
         "y": [
          0.9992118163054696,
          0.9969254088617394
         ]
        },
        {
         "hoverinfo": "skip",
         "line": {
          "color": "rgb(253, 0, 1)",
          "width": 2
         },
         "mode": "lines",
         "showlegend": false,
         "type": "scatter",
         "x": [
          "2025-03-01T00:00:00",
          "2025-04-01T00:00:00"
         ],
         "y": [
          0.9969254088617394,
          0.996653431372549
         ]
        },
        {
         "hoverinfo": "skip",
         "line": {
          "color": "rgb(253, 0, 1)",
          "width": 2
         },
         "mode": "lines",
         "showlegend": false,
         "type": "scatter",
         "x": [
          "2025-04-01T00:00:00",
          "2025-05-01T00:00:00"
         ],
         "y": [
          0.996653431372549,
          0.9980971883377008
         ]
        },
        {
         "marker": {
          "color": "darkred",
          "size": 8
         },
         "mode": "markers+text",
         "name": "Latest Value",
         "showlegend": false,
         "text": [
          "0.998"
         ],
         "textfont": {
          "color": "darkred",
          "size": 12
         },
         "textposition": "top right",
         "type": "scatter",
         "x": [
          "2025-05-01T00:00:00"
         ],
         "y": [
          0.9980971883377008
         ]
        }
       ],
       "layout": {
        "annotations": [
         {
          "font": {
           "size": 12
          },
          "showarrow": false,
          "text": "2020",
          "x": "2020-01-01T00:00:00",
          "xanchor": "left",
          "y": 0.5461036247880263
         },
         {
          "font": {
           "size": 12
          },
          "showarrow": false,
          "text": "2021",
          "x": "2021-01-01T00:00:00",
          "xanchor": "left",
          "y": 0.5461036247880263
         },
         {
          "font": {
           "size": 12
          },
          "showarrow": false,
          "text": "2022",
          "x": "2022-01-01T00:00:00",
          "xanchor": "left",
          "y": 0.5461036247880263
         },
         {
          "font": {
           "size": 12
          },
          "showarrow": false,
          "text": "2023",
          "x": "2023-01-01T00:00:00",
          "xanchor": "left",
          "y": 0.5461036247880263
         },
         {
          "font": {
           "size": 12
          },
          "showarrow": false,
          "text": "2024",
          "x": "2024-01-01T00:00:00",
          "xanchor": "left",
          "y": 0.5461036247880263
         },
         {
          "font": {
           "size": 12
          },
          "showarrow": false,
          "text": "2025",
          "x": "2025-01-01T00:00:00",
          "xanchor": "left",
          "y": 0.5461036247880263
         }
        ],
        "font": {
         "family": "Arial(sans-serif)",
         "size": 12
        },
        "height": 500,
        "paper_bgcolor": "white",
        "plot_bgcolor": "white",
        "showlegend": false,
        "template": {
         "data": {
          "bar": [
           {
            "error_x": {
             "color": "#2a3f5f"
            },
            "error_y": {
             "color": "#2a3f5f"
            },
            "marker": {
             "line": {
              "color": "#E5ECF6",
              "width": 0.5
             },
             "pattern": {
              "fillmode": "overlay",
              "size": 10,
              "solidity": 0.2
             }
            },
            "type": "bar"
           }
          ],
          "barpolar": [
           {
            "marker": {
             "line": {
              "color": "#E5ECF6",
              "width": 0.5
             },
             "pattern": {
              "fillmode": "overlay",
              "size": 10,
              "solidity": 0.2
             }
            },
            "type": "barpolar"
           }
          ],
          "carpet": [
           {
            "aaxis": {
             "endlinecolor": "#2a3f5f",
             "gridcolor": "white",
             "linecolor": "white",
             "minorgridcolor": "white",
             "startlinecolor": "#2a3f5f"
            },
            "baxis": {
             "endlinecolor": "#2a3f5f",
             "gridcolor": "white",
             "linecolor": "white",
             "minorgridcolor": "white",
             "startlinecolor": "#2a3f5f"
            },
            "type": "carpet"
           }
          ],
          "choropleth": [
           {
            "colorbar": {
             "outlinewidth": 0,
             "ticks": ""
            },
            "type": "choropleth"
           }
          ],
          "contour": [
           {
            "colorbar": {
             "outlinewidth": 0,
             "ticks": ""
            },
            "colorscale": [
             [
              0,
              "#0d0887"
             ],
             [
              0.1111111111111111,
              "#46039f"
             ],
             [
              0.2222222222222222,
              "#7201a8"
             ],
             [
              0.3333333333333333,
              "#9c179e"
             ],
             [
              0.4444444444444444,
              "#bd3786"
             ],
             [
              0.5555555555555556,
              "#d8576b"
             ],
             [
              0.6666666666666666,
              "#ed7953"
             ],
             [
              0.7777777777777778,
              "#fb9f3a"
             ],
             [
              0.8888888888888888,
              "#fdca26"
             ],
             [
              1,
              "#f0f921"
             ]
            ],
            "type": "contour"
           }
          ],
          "contourcarpet": [
           {
            "colorbar": {
             "outlinewidth": 0,
             "ticks": ""
            },
            "type": "contourcarpet"
           }
          ],
          "heatmap": [
           {
            "colorbar": {
             "outlinewidth": 0,
             "ticks": ""
            },
            "colorscale": [
             [
              0,
              "#0d0887"
             ],
             [
              0.1111111111111111,
              "#46039f"
             ],
             [
              0.2222222222222222,
              "#7201a8"
             ],
             [
              0.3333333333333333,
              "#9c179e"
             ],
             [
              0.4444444444444444,
              "#bd3786"
             ],
             [
              0.5555555555555556,
              "#d8576b"
             ],
             [
              0.6666666666666666,
              "#ed7953"
             ],
             [
              0.7777777777777778,
              "#fb9f3a"
             ],
             [
              0.8888888888888888,
              "#fdca26"
             ],
             [
              1,
              "#f0f921"
             ]
            ],
            "type": "heatmap"
           }
          ],
          "histogram": [
           {
            "marker": {
             "pattern": {
              "fillmode": "overlay",
              "size": 10,
              "solidity": 0.2
             }
            },
            "type": "histogram"
           }
          ],
          "histogram2d": [
           {
            "colorbar": {
             "outlinewidth": 0,
             "ticks": ""
            },
            "colorscale": [
             [
              0,
              "#0d0887"
             ],
             [
              0.1111111111111111,
              "#46039f"
             ],
             [
              0.2222222222222222,
              "#7201a8"
             ],
             [
              0.3333333333333333,
              "#9c179e"
             ],
             [
              0.4444444444444444,
              "#bd3786"
             ],
             [
              0.5555555555555556,
              "#d8576b"
             ],
             [
              0.6666666666666666,
              "#ed7953"
             ],
             [
              0.7777777777777778,
              "#fb9f3a"
             ],
             [
              0.8888888888888888,
              "#fdca26"
             ],
             [
              1,
              "#f0f921"
             ]
            ],
            "type": "histogram2d"
           }
          ],
          "histogram2dcontour": [
           {
            "colorbar": {
             "outlinewidth": 0,
             "ticks": ""
            },
            "colorscale": [
             [
              0,
              "#0d0887"
             ],
             [
              0.1111111111111111,
              "#46039f"
             ],
             [
              0.2222222222222222,
              "#7201a8"
             ],
             [
              0.3333333333333333,
              "#9c179e"
             ],
             [
              0.4444444444444444,
              "#bd3786"
             ],
             [
              0.5555555555555556,
              "#d8576b"
             ],
             [
              0.6666666666666666,
              "#ed7953"
             ],
             [
              0.7777777777777778,
              "#fb9f3a"
             ],
             [
              0.8888888888888888,
              "#fdca26"
             ],
             [
              1,
              "#f0f921"
             ]
            ],
            "type": "histogram2dcontour"
           }
          ],
          "mesh3d": [
           {
            "colorbar": {
             "outlinewidth": 0,
             "ticks": ""
            },
            "type": "mesh3d"
           }
          ],
          "parcoords": [
           {
            "line": {
             "colorbar": {
              "outlinewidth": 0,
              "ticks": ""
             }
            },
            "type": "parcoords"
           }
          ],
          "pie": [
           {
            "automargin": true,
            "type": "pie"
           }
          ],
          "scatter": [
           {
            "fillpattern": {
             "fillmode": "overlay",
             "size": 10,
             "solidity": 0.2
            },
            "type": "scatter"
           }
          ],
          "scatter3d": [
           {
            "line": {
             "colorbar": {
              "outlinewidth": 0,
              "ticks": ""
             }
            },
            "marker": {
             "colorbar": {
              "outlinewidth": 0,
              "ticks": ""
             }
            },
            "type": "scatter3d"
           }
          ],
          "scattercarpet": [
           {
            "marker": {
             "colorbar": {
              "outlinewidth": 0,
              "ticks": ""
             }
            },
            "type": "scattercarpet"
           }
          ],
          "scattergeo": [
           {
            "marker": {
             "colorbar": {
              "outlinewidth": 0,
              "ticks": ""
             }
            },
            "type": "scattergeo"
           }
          ],
          "scattergl": [
           {
            "marker": {
             "colorbar": {
              "outlinewidth": 0,
              "ticks": ""
             }
            },
            "type": "scattergl"
           }
          ],
          "scattermap": [
           {
            "marker": {
             "colorbar": {
              "outlinewidth": 0,
              "ticks": ""
             }
            },
            "type": "scattermap"
           }
          ],
          "scattermapbox": [
           {
            "marker": {
             "colorbar": {
              "outlinewidth": 0,
              "ticks": ""
             }
            },
            "type": "scattermapbox"
           }
          ],
          "scatterpolar": [
           {
            "marker": {
             "colorbar": {
              "outlinewidth": 0,
              "ticks": ""
             }
            },
            "type": "scatterpolar"
           }
          ],
          "scatterpolargl": [
           {
            "marker": {
             "colorbar": {
              "outlinewidth": 0,
              "ticks": ""
             }
            },
            "type": "scatterpolargl"
           }
          ],
          "scatterternary": [
           {
            "marker": {
             "colorbar": {
              "outlinewidth": 0,
              "ticks": ""
             }
            },
            "type": "scatterternary"
           }
          ],
          "surface": [
           {
            "colorbar": {
             "outlinewidth": 0,
             "ticks": ""
            },
            "colorscale": [
             [
              0,
              "#0d0887"
             ],
             [
              0.1111111111111111,
              "#46039f"
             ],
             [
              0.2222222222222222,
              "#7201a8"
             ],
             [
              0.3333333333333333,
              "#9c179e"
             ],
             [
              0.4444444444444444,
              "#bd3786"
             ],
             [
              0.5555555555555556,
              "#d8576b"
             ],
             [
              0.6666666666666666,
              "#ed7953"
             ],
             [
              0.7777777777777778,
              "#fb9f3a"
             ],
             [
              0.8888888888888888,
              "#fdca26"
             ],
             [
              1,
              "#f0f921"
             ]
            ],
            "type": "surface"
           }
          ],
          "table": [
           {
            "cells": {
             "fill": {
              "color": "#EBF0F8"
             },
             "line": {
              "color": "white"
             }
            },
            "header": {
             "fill": {
              "color": "#C8D4E3"
             },
             "line": {
              "color": "white"
             }
            },
            "type": "table"
           }
          ]
         },
         "layout": {
          "annotationdefaults": {
           "arrowcolor": "#2a3f5f",
           "arrowhead": 0,
           "arrowwidth": 1
          },
          "autotypenumbers": "strict",
          "coloraxis": {
           "colorbar": {
            "outlinewidth": 0,
            "ticks": ""
           }
          },
          "colorscale": {
           "diverging": [
            [
             0,
             "#8e0152"
            ],
            [
             0.1,
             "#c51b7d"
            ],
            [
             0.2,
             "#de77ae"
            ],
            [
             0.3,
             "#f1b6da"
            ],
            [
             0.4,
             "#fde0ef"
            ],
            [
             0.5,
             "#f7f7f7"
            ],
            [
             0.6,
             "#e6f5d0"
            ],
            [
             0.7,
             "#b8e186"
            ],
            [
             0.8,
             "#7fbc41"
            ],
            [
             0.9,
             "#4d9221"
            ],
            [
             1,
             "#276419"
            ]
           ],
           "sequential": [
            [
             0,
             "#0d0887"
            ],
            [
             0.1111111111111111,
             "#46039f"
            ],
            [
             0.2222222222222222,
             "#7201a8"
            ],
            [
             0.3333333333333333,
             "#9c179e"
            ],
            [
             0.4444444444444444,
             "#bd3786"
            ],
            [
             0.5555555555555556,
             "#d8576b"
            ],
            [
             0.6666666666666666,
             "#ed7953"
            ],
            [
             0.7777777777777778,
             "#fb9f3a"
            ],
            [
             0.8888888888888888,
             "#fdca26"
            ],
            [
             1,
             "#f0f921"
            ]
           ],
           "sequentialminus": [
            [
             0,
             "#0d0887"
            ],
            [
             0.1111111111111111,
             "#46039f"
            ],
            [
             0.2222222222222222,
             "#7201a8"
            ],
            [
             0.3333333333333333,
             "#9c179e"
            ],
            [
             0.4444444444444444,
             "#bd3786"
            ],
            [
             0.5555555555555556,
             "#d8576b"
            ],
            [
             0.6666666666666666,
             "#ed7953"
            ],
            [
             0.7777777777777778,
             "#fb9f3a"
            ],
            [
             0.8888888888888888,
             "#fdca26"
            ],
            [
             1,
             "#f0f921"
            ]
           ]
          },
          "colorway": [
           "#636efa",
           "#EF553B",
           "#00cc96",
           "#ab63fa",
           "#FFA15A",
           "#19d3f3",
           "#FF6692",
           "#B6E880",
           "#FF97FF",
           "#FECB52"
          ],
          "font": {
           "color": "#2a3f5f"
          },
          "geo": {
           "bgcolor": "white",
           "lakecolor": "white",
           "landcolor": "#E5ECF6",
           "showlakes": true,
           "showland": true,
           "subunitcolor": "white"
          },
          "hoverlabel": {
           "align": "left"
          },
          "hovermode": "closest",
          "mapbox": {
           "style": "light"
          },
          "paper_bgcolor": "white",
          "plot_bgcolor": "#E5ECF6",
          "polar": {
           "angularaxis": {
            "gridcolor": "white",
            "linecolor": "white",
            "ticks": ""
           },
           "bgcolor": "#E5ECF6",
           "radialaxis": {
            "gridcolor": "white",
            "linecolor": "white",
            "ticks": ""
           }
          },
          "scene": {
           "xaxis": {
            "backgroundcolor": "#E5ECF6",
            "gridcolor": "white",
            "gridwidth": 2,
            "linecolor": "white",
            "showbackground": true,
            "ticks": "",
            "zerolinecolor": "white"
           },
           "yaxis": {
            "backgroundcolor": "#E5ECF6",
            "gridcolor": "white",
            "gridwidth": 2,
            "linecolor": "white",
            "showbackground": true,
            "ticks": "",
            "zerolinecolor": "white"
           },
           "zaxis": {
            "backgroundcolor": "#E5ECF6",
            "gridcolor": "white",
            "gridwidth": 2,
            "linecolor": "white",
            "showbackground": true,
            "ticks": "",
            "zerolinecolor": "white"
           }
          },
          "shapedefaults": {
           "line": {
            "color": "#2a3f5f"
           }
          },
          "ternary": {
           "aaxis": {
            "gridcolor": "white",
            "linecolor": "white",
            "ticks": ""
           },
           "baxis": {
            "gridcolor": "white",
            "linecolor": "white",
            "ticks": ""
           },
           "bgcolor": "#E5ECF6",
           "caxis": {
            "gridcolor": "white",
            "linecolor": "white",
            "ticks": ""
           }
          },
          "title": {
           "x": 0.05
          },
          "xaxis": {
           "automargin": true,
           "gridcolor": "white",
           "linecolor": "white",
           "ticks": "",
           "title": {
            "standoff": 15
           },
           "zerolinecolor": "white",
           "zerolinewidth": 2
          },
          "yaxis": {
           "automargin": true,
           "gridcolor": "white",
           "linecolor": "white",
           "ticks": "",
           "title": {
            "standoff": 15
           },
           "zerolinecolor": "white",
           "zerolinewidth": 2
          }
         }
        },
        "title": {
         "text": "Armed Conflict Probability Forecast"
        },
        "width": 900,
        "xaxis": {
         "dtick": "M3",
         "gridcolor": "lightgray",
         "gridwidth": 1,
         "minor": {
          "dtick": "M12",
          "tickmode": "linear"
         },
         "showgrid": true,
         "tickangle": 45,
         "tickformat": "%b",
         "title": {
          "text": "Date"
         }
        },
        "yaxis": {
         "gridcolor": "lightgray",
         "gridwidth": 0.5,
         "showgrid": true,
         "title": {
          "text": "Conflict Probability"
         }
        }
       }
      }
     },
     "metadata": {},
     "output_type": "display_data"
    }
   ],
   "source": [
    "# Convert period to datetime for better plotting\n",
    "# Extract year and month from period (format YYYYMM)\n",
    "df = cf_data.with_columns([\n",
    "    pl.col(\"period\").cast(str).str.slice(0, 4).alias(\"year\"),\n",
    "    pl.col(\"period\").cast(str).str.slice(4, 6).alias(\"month\")\n",
    "])\n",
    "\n",
    "# Create a date column by combining year and month\n",
    "df = df.with_columns([\n",
    "    pl.concat_str([pl.col(\"year\"), pl.col(\"month\")], separator=\"-\").str.to_datetime(\"%Y-%m\").alias(\"date\")\n",
    "])\n",
    "\n",
    "# Filter for 2020 onwards\n",
    "df_filtered = df.filter(pl.col(\"year\").cast(int) >= 2020)\n",
    "\n",
    "# Convert to pandas for easier plotting\n",
    "pdf = df_filtered.select([\"date\", \"ons_armedconf_03_all\"]).to_pandas()\n",
    "\n",
    "# Get the last datapoint for labeling\n",
    "last_date = pdf[\"date\"].iloc[-1]\n",
    "last_value = pdf[\"ons_armedconf_03_all\"].iloc[-1]\n",
    "\n",
    "# Create the Plotly figure\n",
    "fig = go.Figure()\n",
    "\n",
    "# Add the gradient line plot using Scatter with marker colors\n",
    "fig.add_trace(go.Scatter(\n",
    "    x=pdf[\"date\"], \n",
    "    y=pdf[\"ons_armedconf_03_all\"],\n",
    "    mode='lines+markers',\n",
    "    line=dict(width=0),  # Hide the line, we'll use markers\n",
    "    marker=dict(\n",
    "        color=pdf[\"ons_armedconf_03_all\"],  # Color based on values\n",
    "        colorscale='RdYlBu_r',  # Red to Blue reversed (blue low, red high)\n",
    "        size=3,\n",
    "        line=dict(width=0),\n",
    "        showscale=False,\n",
    "        colorbar=dict(\n",
    "            title=\"Conflict Probability\"\n",
    "        )\n",
    "    ),\n",
    "    name='Armed Conflict Forecast',\n",
    "    connectgaps=True\n",
    "))\n",
    "\n",
    "# Create a smooth line with gradient effect by adding multiple segments\n",
    "x_vals = pdf[\"date\"]\n",
    "y_vals = pdf[\"ons_armedconf_03_all\"]\n",
    "\n",
    "# Normalize values for color mapping\n",
    "norm_vals = (y_vals - y_vals.min()) / (y_vals.max() - y_vals.min())\n",
    "\n",
    "# Add line segments with different colors\n",
    "for i in range(len(x_vals)-1):\n",
    "    # Calculate color based on average of two consecutive points\n",
    "    avg_val = (norm_vals.iloc[i] + norm_vals.iloc[i+1]) / 2\n",
    "    \n",
    "    # Convert normalized value to RGB color (blue to red)\n",
    "    red = int(255 * avg_val)\n",
    "    blue = int(255 * (1 - avg_val))\n",
    "    color = f'rgb({red}, 0, {blue})'\n",
    "    \n",
    "    fig.add_trace(go.Scatter(\n",
    "        x=[x_vals.iloc[i], x_vals.iloc[i+1]],\n",
    "        y=[y_vals.iloc[i], y_vals.iloc[i+1]],\n",
    "        mode='lines',\n",
    "        line=dict(color=color, width=2),\n",
    "        showlegend=False,\n",
    "        hoverinfo='skip'\n",
    "    ))\n",
    "\n",
    "# Add a point and label for the last datapoint\n",
    "fig.add_trace(go.Scatter(\n",
    "    x=[last_date],\n",
    "    y=[last_value],\n",
    "    mode='markers+text',\n",
    "    marker=dict(color='darkred', size=8),\n",
    "    text=[f'{last_value:.3f}'],\n",
    "    textposition='top right',\n",
    "    textfont=dict(size=12, color='darkred'),\n",
    "    showlegend=False,\n",
    "    name='Latest Value'\n",
    "))\n",
    "\n",
    "# Update layout\n",
    "fig.update_layout(\n",
    "    title='Armed Conflict Probability Forecast',\n",
    "    xaxis_title='Date',\n",
    "    yaxis_title='Conflict Probability',\n",
    "    font=dict(size=12, family='Arial(sans-serif)'),\n",
    "    showlegend=False,\n",
    "    width=900,\n",
    "    height=500,\n",
    "    paper_bgcolor='white',\n",
    "    plot_bgcolor='white'\n",
    ")\n",
    "\n",
    "# Add grid and x-axis formatting\n",
    "fig.update_xaxes(\n",
    "    showgrid=True, \n",
    "    gridcolor='lightgray', \n",
    "    gridwidth=1,\n",
    "    dtick=\"M3\",  # Monthly ticks\n",
    "    tickformat=\"%b\",  # Show only month abbreviation for ticks\n",
    "    tickangle=45,  # Rotate labels for better readability\n",
    "    # Add year labels\n",
    "    minor=dict(\n",
    "        dtick=\"M12\",  # Year intervals\n",
    "        tickmode=\"linear\"\n",
    "    )\n",
    ")\n",
    "\n",
    "# Add custom year annotations\n",
    "years = pdf[\"date\"].dt.year.unique()\n",
    "for year in sorted(years):\n",
    "    # Find the first date of each year in the data\n",
    "    year_data = pdf[pdf[\"date\"].dt.year == year]\n",
    "    if not year_data.empty:\n",
    "        first_date = year_data[\"date\"].min()\n",
    "        fig.add_annotation(\n",
    "            x=first_date,\n",
    "            y=pdf[\"ons_armedconf_03_all\"].min() - 0.05,  # Position below the plot\n",
    "            text=str(year),\n",
    "            showarrow=False,\n",
    "            font=dict(size=12),\n",
    "            xanchor=\"left\"\n",
    "        )\n",
    "\n",
    "fig.update_yaxes(showgrid=True, gridcolor='lightgray', gridwidth=0.5)\n",
    "\n",
    "# Show the plot\n",
    "fig.show()"
   ]
  },
  {
   "cell_type": "code",
   "execution_count": 22,
   "id": "a55cf9f1",
   "metadata": {},
   "outputs": [
    {
     "data": {
      "application/vnd.plotly.v1+json": {
       "config": {
        "plotlyServerURL": "https://plot.ly"
       },
       "data": [
        {
         "hoverinfo": "skip",
         "line": {
          "color": "rgb(47,0,208)",
          "width": 2
         },
         "mode": "lines",
         "showlegend": false,
         "type": "scatter",
         "x": [
          "2020-01-01T00:00:00",
          "2020-02-01T00:00:00"
         ],
         "y": [
          0.0142360356193324,
          0.0145875364950478
         ]
        },
        {
         "hoverinfo": "skip",
         "line": {
          "color": "rgb(45,0,210)",
          "width": 2
         },
         "mode": "lines",
         "showlegend": false,
         "type": "scatter",
         "x": [
          "2020-02-01T00:00:00",
          "2020-03-01T00:00:00"
         ],
         "y": [
          0.0145875364950478,
          0.0136898250215764
         ]
        },
        {
         "hoverinfo": "skip",
         "line": {
          "color": "rgb(42,0,213)",
          "width": 2
         },
         "mode": "lines",
         "showlegend": false,
         "type": "scatter",
         "x": [
          "2020-03-01T00:00:00",
          "2020-04-01T00:00:00"
         ],
         "y": [
          0.0136898250215764,
          0.0140347100328134
         ]
        },
        {
         "hoverinfo": "skip",
         "line": {
          "color": "rgb(40,0,215)",
          "width": 2
         },
         "mode": "lines",
         "showlegend": false,
         "type": "scatter",
         "x": [
          "2020-04-01T00:00:00",
          "2020-05-01T00:00:00"
         ],
         "y": [
          0.0140347100328134,
          0.0134120699414279
         ]
        },
        {
         "hoverinfo": "skip",
         "line": {
          "color": "rgb(42,0,213)",
          "width": 2
         },
         "mode": "lines",
         "showlegend": false,
         "type": "scatter",
         "x": [
          "2020-05-01T00:00:00",
          "2020-06-01T00:00:00"
         ],
         "y": [
          0.0134120699414279,
          0.0142439850602452
         ]
        },
        {
         "hoverinfo": "skip",
         "line": {
          "color": "rgb(41,0,214)",
          "width": 2
         },
         "mode": "lines",
         "showlegend": false,
         "type": "scatter",
         "x": [
          "2020-06-01T00:00:00",
          "2020-07-01T00:00:00"
         ],
         "y": [
          0.0142439850602452,
          0.0133839848262797
         ]
        },
        {
         "hoverinfo": "skip",
         "line": {
          "color": "rgb(37,0,218)",
          "width": 2
         },
         "mode": "lines",
         "showlegend": false,
         "type": "scatter",
         "x": [
          "2020-07-01T00:00:00",
          "2020-08-01T00:00:00"
         ],
         "y": [
          0.0133839848262797,
          0.0134072542985752
         ]
        },
        {
         "hoverinfo": "skip",
         "line": {
          "color": "rgb(42,0,213)",
          "width": 2
         },
         "mode": "lines",
         "showlegend": false,
         "type": "scatter",
         "x": [
          "2020-08-01T00:00:00",
          "2020-09-01T00:00:00"
         ],
         "y": [
          0.0134072542985752,
          0.0142930496358355
         ]
        },
        {
         "hoverinfo": "skip",
         "line": {
          "color": "rgb(42,0,213)",
          "width": 2
         },
         "mode": "lines",
         "showlegend": false,
         "type": "scatter",
         "x": [
          "2020-09-01T00:00:00",
          "2020-10-01T00:00:00"
         ],
         "y": [
          0.0142930496358355,
          0.0135145022770631
         ]
        },
        {
         "hoverinfo": "skip",
         "line": {
          "color": "rgb(42,0,213)",
          "width": 2
         },
         "mode": "lines",
         "showlegend": false,
         "type": "scatter",
         "x": [
          "2020-10-01T00:00:00",
          "2020-11-01T00:00:00"
         ],
         "y": [
          0.0135145022770631,
          0.0142842898372523
         ]
        },
        {
         "hoverinfo": "skip",
         "line": {
          "color": "rgb(43,0,212)",
          "width": 2
         },
         "mode": "lines",
         "showlegend": false,
         "type": "scatter",
         "x": [
          "2020-11-01T00:00:00",
          "2020-12-01T00:00:00"
         ],
         "y": [
          0.0142842898372523,
          0.0136576609453709
         ]
        },
        {
         "hoverinfo": "skip",
         "line": {
          "color": "rgb(45,0,210)",
          "width": 2
         },
         "mode": "lines",
         "showlegend": false,
         "type": "scatter",
         "x": [
          "2020-12-01T00:00:00",
          "2021-01-01T00:00:00"
         ],
         "y": [
          0.0136576609453709,
          0.0145978688232402
         ]
        },
        {
         "hoverinfo": "skip",
         "line": {
          "color": "rgb(44,0,211)",
          "width": 2
         },
         "mode": "lines",
         "showlegend": false,
         "type": "scatter",
         "x": [
          "2021-01-01T00:00:00",
          "2021-02-01T00:00:00"
         ],
         "y": [
          0.0145978688232402,
          0.0136081327680114
         ]
        },
        {
         "hoverinfo": "skip",
         "line": {
          "color": "rgb(42,0,213)",
          "width": 2
         },
         "mode": "lines",
         "showlegend": false,
         "type": "scatter",
         "x": [
          "2021-02-01T00:00:00",
          "2021-03-01T00:00:00"
         ],
         "y": [
          0.0136081327680114,
          0.0141504602757728
         ]
        },
        {
         "hoverinfo": "skip",
         "line": {
          "color": "rgb(44,0,211)",
          "width": 2
         },
         "mode": "lines",
         "showlegend": false,
         "type": "scatter",
         "x": [
          "2021-03-01T00:00:00",
          "2021-04-01T00:00:00"
         ],
         "y": [
          0.0141504602757728,
          0.0140576812829394
         ]
        },
        {
         "hoverinfo": "skip",
         "line": {
          "color": "rgb(44,0,211)",
          "width": 2
         },
         "mode": "lines",
         "showlegend": false,
         "type": "scatter",
         "x": [
          "2021-04-01T00:00:00",
          "2021-05-01T00:00:00"
         ],
         "y": [
          0.0140576812829394,
          0.0140407367844344
         ]
        },
        {
         "hoverinfo": "skip",
         "line": {
          "color": "rgb(43,0,212)",
          "width": 2
         },
         "mode": "lines",
         "showlegend": false,
         "type": "scatter",
         "x": [
          "2021-05-01T00:00:00",
          "2021-06-01T00:00:00"
         ],
         "y": [
          0.0140407367844344,
          0.0139541712660817
         ]
        },
        {
         "hoverinfo": "skip",
         "line": {
          "color": "rgb(46,0,209)",
          "width": 2
         },
         "mode": "lines",
         "showlegend": false,
         "type": "scatter",
         "x": [
          "2021-06-01T00:00:00",
          "2021-07-01T00:00:00"
         ],
         "y": [
          0.0139541712660817,
          0.014561306863641
         ]
        },
        {
         "hoverinfo": "skip",
         "line": {
          "color": "rgb(45,0,210)",
          "width": 2
         },
         "mode": "lines",
         "showlegend": false,
         "type": "scatter",
         "x": [
          "2021-07-01T00:00:00",
          "2021-08-01T00:00:00"
         ],
         "y": [
          0.014561306863641,
          0.0138570523706141
         ]
        },
        {
         "hoverinfo": "skip",
         "line": {
          "color": "rgb(42,0,213)",
          "width": 2
         },
         "mode": "lines",
         "showlegend": false,
         "type": "scatter",
         "x": [
          "2021-08-01T00:00:00",
          "2021-09-01T00:00:00"
         ],
         "y": [
          0.0138570523706141,
          0.0139861336272588
         ]
        },
        {
         "hoverinfo": "skip",
         "line": {
          "color": "rgb(40,0,215)",
          "width": 2
         },
         "mode": "lines",
         "showlegend": false,
         "type": "scatter",
         "x": [
          "2021-09-01T00:00:00",
          "2021-10-01T00:00:00"
         ],
         "y": [
          0.0139861336272588,
          0.0133102525689534
         ]
        },
        {
         "hoverinfo": "skip",
         "line": {
          "color": "rgb(40,0,215)",
          "width": 2
         },
         "mode": "lines",
         "showlegend": false,
         "type": "scatter",
         "x": [
          "2021-10-01T00:00:00",
          "2021-11-01T00:00:00"
         ],
         "y": [
          0.0133102525689534,
          0.0140606497253135
         ]
        },
        {
         "hoverinfo": "skip",
         "line": {
          "color": "rgb(44,0,211)",
          "width": 2
         },
         "mode": "lines",
         "showlegend": false,
         "type": "scatter",
         "x": [
          "2021-11-01T00:00:00",
          "2021-12-01T00:00:00"
         ],
         "y": [
          0.0140606497253135,
          0.0140014638021082
         ]
        },
        {
         "hoverinfo": "skip",
         "line": {
          "color": "rgb(43,0,212)",
          "width": 2
         },
         "mode": "lines",
         "showlegend": false,
         "type": "scatter",
         "x": [
          "2021-12-01T00:00:00",
          "2022-01-01T00:00:00"
         ],
         "y": [
          0.0140014638021082,
          0.0138988549286643
         ]
        },
        {
         "hoverinfo": "skip",
         "line": {
          "color": "rgb(38,0,217)",
          "width": 2
         },
         "mode": "lines",
         "showlegend": false,
         "type": "scatter",
         "x": [
          "2022-01-01T00:00:00",
          "2022-02-01T00:00:00"
         ],
         "y": [
          0.0138988549286643,
          0.0130627750250792
         ]
        },
        {
         "hoverinfo": "skip",
         "line": {
          "color": "rgb(35,0,220)",
          "width": 2
         },
         "mode": "lines",
         "showlegend": false,
         "type": "scatter",
         "x": [
          "2022-02-01T00:00:00",
          "2022-03-01T00:00:00"
         ],
         "y": [
          0.0130627750250792,
          0.0132913265456549
         ]
        },
        {
         "hoverinfo": "skip",
         "line": {
          "color": "rgb(35,0,220)",
          "width": 2
         },
         "mode": "lines",
         "showlegend": false,
         "type": "scatter",
         "x": [
          "2022-03-01T00:00:00",
          "2022-04-01T00:00:00"
         ],
         "y": [
          0.0132913265456549,
          0.0131210833355385
         ]
        },
        {
         "hoverinfo": "skip",
         "line": {
          "color": "rgb(40,0,215)",
          "width": 2
         },
         "mode": "lines",
         "showlegend": false,
         "type": "scatter",
         "x": [
          "2022-04-01T00:00:00",
          "2022-05-01T00:00:00"
         ],
         "y": [
          0.0131210833355385,
          0.0143247587333668
         ]
        },
        {
         "hoverinfo": "skip",
         "line": {
          "color": "rgb(42,0,213)",
          "width": 2
         },
         "mode": "lines",
         "showlegend": false,
         "type": "scatter",
         "x": [
          "2022-05-01T00:00:00",
          "2022-06-01T00:00:00"
         ],
         "y": [
          0.0143247587333668,
          0.0134689887705101
         ]
        },
        {
         "hoverinfo": "skip",
         "line": {
          "color": "rgb(40,0,215)",
          "width": 2
         },
         "mode": "lines",
         "showlegend": false,
         "type": "scatter",
         "x": [
          "2022-06-01T00:00:00",
          "2022-07-01T00:00:00"
         ],
         "y": [
          0.0134689887705101,
          0.0139660041678433
         ]
        },
        {
         "hoverinfo": "skip",
         "line": {
          "color": "rgb(25,0,230)",
          "width": 2
         },
         "mode": "lines",
         "showlegend": false,
         "type": "scatter",
         "x": [
          "2022-07-01T00:00:00",
          "2022-08-01T00:00:00"
         ],
         "y": [
          0.0139660041678433,
          0.0104281637393336
         ]
        },
        {
         "hoverinfo": "skip",
         "line": {
          "color": "rgb(8,0,247)",
          "width": 2
         },
         "mode": "lines",
         "showlegend": false,
         "type": "scatter",
         "x": [
          "2022-08-01T00:00:00",
          "2022-09-01T00:00:00"
         ],
         "y": [
          0.0104281637393336,
          0.0105482337390107
         ]
        },
        {
         "hoverinfo": "skip",
         "line": {
          "color": "rgb(6,0,249)",
          "width": 2
         },
         "mode": "lines",
         "showlegend": false,
         "type": "scatter",
         "x": [
          "2022-09-01T00:00:00",
          "2022-10-01T00:00:00"
         ],
         "y": [
          0.0105482337390107,
          0.0099252754520653
         ]
        },
        {
         "hoverinfo": "skip",
         "line": {
          "color": "rgb(4,0,251)",
          "width": 2
         },
         "mode": "lines",
         "showlegend": false,
         "type": "scatter",
         "x": [
          "2022-10-01T00:00:00",
          "2022-11-01T00:00:00"
         ],
         "y": [
          0.0099252754520653,
          0.0101510020046574
         ]
        },
        {
         "hoverinfo": "skip",
         "line": {
          "color": "rgb(4,0,251)",
          "width": 2
         },
         "mode": "lines",
         "showlegend": false,
         "type": "scatter",
         "x": [
          "2022-11-01T00:00:00",
          "2022-12-01T00:00:00"
         ],
         "y": [
          0.0101510020046574,
          0.0099440730637768
         ]
        },
        {
         "hoverinfo": "skip",
         "line": {
          "color": "rgb(5,0,250)",
          "width": 2
         },
         "mode": "lines",
         "showlegend": false,
         "type": "scatter",
         "x": [
          "2022-12-01T00:00:00",
          "2023-01-01T00:00:00"
         ],
         "y": [
          0.0099440730637768,
          0.0104058405314453
         ]
        },
        {
         "hoverinfo": "skip",
         "line": {
          "color": "rgb(4,0,251)",
          "width": 2
         },
         "mode": "lines",
         "showlegend": false,
         "type": "scatter",
         "x": [
          "2023-01-01T00:00:00",
          "2023-02-01T00:00:00"
         ],
         "y": [
          0.0104058405314453,
          0.0095985326958017
         ]
        },
        {
         "hoverinfo": "skip",
         "line": {
          "color": "rgb(3,0,252)",
          "width": 2
         },
         "mode": "lines",
         "showlegend": false,
         "type": "scatter",
         "x": [
          "2023-02-01T00:00:00",
          "2023-03-01T00:00:00"
         ],
         "y": [
          0.0095985326958017,
          0.0103297035631551
         ]
        },
        {
         "hoverinfo": "skip",
         "line": {
          "color": "rgb(9,0,246)",
          "width": 2
         },
         "mode": "lines",
         "showlegend": false,
         "type": "scatter",
         "x": [
          "2023-03-01T00:00:00",
          "2023-04-01T00:00:00"
         ],
         "y": [
          0.0103297035631551,
          0.0107105829072088
         ]
        },
        {
         "hoverinfo": "skip",
         "line": {
          "color": "rgb(133,0,122)",
          "width": 2
         },
         "mode": "lines",
         "showlegend": false,
         "type": "scatter",
         "x": [
          "2023-04-01T00:00:00",
          "2023-05-01T00:00:00"
         ],
         "y": [
          0.0107105829072088,
          0.0352597965893473
         ]
        },
        {
         "hoverinfo": "skip",
         "line": {
          "color": "rgb(238,0,17)",
          "width": 2
         },
         "mode": "lines",
         "showlegend": false,
         "type": "scatter",
         "x": [
          "2023-05-01T00:00:00",
          "2023-06-01T00:00:00"
         ],
         "y": [
          0.0352597965893473,
          0.0319377710530357
         ]
        },
        {
         "hoverinfo": "skip",
         "line": {
          "color": "rgb(207,0,48)",
          "width": 2
         },
         "mode": "lines",
         "showlegend": false,
         "type": "scatter",
         "x": [
          "2023-06-01T00:00:00",
          "2023-07-01T00:00:00"
         ],
         "y": [
          0.0319377710530357,
          0.0289623821763551
         ]
        },
        {
         "hoverinfo": "skip",
         "line": {
          "color": "rgb(186,0,69)",
          "width": 2
         },
         "mode": "lines",
         "showlegend": false,
         "type": "scatter",
         "x": [
          "2023-07-01T00:00:00",
          "2023-08-01T00:00:00"
         ],
         "y": [
          0.0289623821763551,
          0.0277066820964501
         ]
        },
        {
         "hoverinfo": "skip",
         "line": {
          "color": "rgb(174,0,81)",
          "width": 2
         },
         "mode": "lines",
         "showlegend": false,
         "type": "scatter",
         "x": [
          "2023-08-01T00:00:00",
          "2023-09-01T00:00:00"
         ],
         "y": [
          0.0277066820964501,
          0.026538977017429
         ]
        },
        {
         "hoverinfo": "skip",
         "line": {
          "color": "rgb(176,0,79)",
          "width": 2
         },
         "mode": "lines",
         "showlegend": false,
         "type": "scatter",
         "x": [
          "2023-09-01T00:00:00",
          "2023-10-01T00:00:00"
         ],
         "y": [
          0.026538977017429,
          0.0281099755968083
         ]
        },
        {
         "hoverinfo": "skip",
         "line": {
          "color": "rgb(182,0,73)",
          "width": 2
         },
         "mode": "lines",
         "showlegend": false,
         "type": "scatter",
         "x": [
          "2023-10-01T00:00:00",
          "2023-11-01T00:00:00"
         ],
         "y": [
          0.0281099755968083,
          0.0279070813253077
         ]
        },
        {
         "hoverinfo": "skip",
         "line": {
          "color": "rgb(170,0,85)",
          "width": 2
         },
         "mode": "lines",
         "showlegend": false,
         "type": "scatter",
         "x": [
          "2023-11-01T00:00:00",
          "2023-12-01T00:00:00"
         ],
         "y": [
          0.0279070813253077,
          0.0255163390021478
         ]
        },
        {
         "hoverinfo": "skip",
         "line": {
          "color": "rgb(155,0,100)",
          "width": 2
         },
         "mode": "lines",
         "showlegend": false,
         "type": "scatter",
         "x": [
          "2023-12-01T00:00:00",
          "2024-01-01T00:00:00"
         ],
         "y": [
          0.0255163390021478,
          0.0249013242908739
         ]
        },
        {
         "hoverinfo": "skip",
         "line": {
          "color": "rgb(143,0,112)",
          "width": 2
         },
         "mode": "lines",
         "showlegend": false,
         "type": "scatter",
         "x": [
          "2024-01-01T00:00:00",
          "2024-02-01T00:00:00"
         ],
         "y": [
          0.0249013242908739,
          0.0231497811227728
         ]
        },
        {
         "hoverinfo": "skip",
         "line": {
          "color": "rgb(123,0,132)",
          "width": 2
         },
         "mode": "lines",
         "showlegend": false,
         "type": "scatter",
         "x": [
          "2024-02-01T00:00:00",
          "2024-03-01T00:00:00"
         ],
         "y": [
          0.0231497811227728,
          0.0208999427465673
         ]
        },
        {
         "hoverinfo": "skip",
         "line": {
          "color": "rgb(109,0,146)",
          "width": 2
         },
         "mode": "lines",
         "showlegend": false,
         "type": "scatter",
         "x": [
          "2024-03-01T00:00:00",
          "2024-04-01T00:00:00"
         ],
         "y": [
          0.0208999427465673,
          0.0203030317674326
         ]
        },
        {
         "hoverinfo": "skip",
         "line": {
          "color": "rgb(90,0,165)",
          "width": 2
         },
         "mode": "lines",
         "showlegend": false,
         "type": "scatter",
         "x": [
          "2024-04-01T00:00:00",
          "2024-05-01T00:00:00"
         ],
         "y": [
          0.0203030317674326,
          0.017022299219108
         ]
        },
        {
         "hoverinfo": "skip",
         "line": {
          "color": "rgb(66,0,189)",
          "width": 2
         },
         "mode": "lines",
         "showlegend": false,
         "type": "scatter",
         "x": [
          "2024-05-01T00:00:00",
          "2024-06-01T00:00:00"
         ],
         "y": [
          0.017022299219108,
          0.0156082532232253
         ]
        },
        {
         "hoverinfo": "skip",
         "line": {
          "color": "rgb(57,0,198)",
          "width": 2
         },
         "mode": "lines",
         "showlegend": false,
         "type": "scatter",
         "x": [
          "2024-06-01T00:00:00",
          "2024-07-01T00:00:00"
         ],
         "y": [
          0.0156082532232253,
          0.0151332568929401
         ]
        },
        {
         "hoverinfo": "skip",
         "line": {
          "color": "rgb(54,0,201)",
          "width": 2
         },
         "mode": "lines",
         "showlegend": false,
         "type": "scatter",
         "x": [
          "2024-07-01T00:00:00",
          "2024-08-01T00:00:00"
         ],
         "y": [
          0.0151332568929401,
          0.0149910527209787
         ]
        },
        {
         "hoverinfo": "skip",
         "line": {
          "color": "rgb(53,0,202)",
          "width": 2
         },
         "mode": "lines",
         "showlegend": false,
         "type": "scatter",
         "x": [
          "2024-08-01T00:00:00",
          "2024-09-01T00:00:00"
         ],
         "y": [
          0.0149910527209787,
          0.0150436113104518
         ]
        },
        {
         "hoverinfo": "skip",
         "line": {
          "color": "rgb(45,0,210)",
          "width": 2
         },
         "mode": "lines",
         "showlegend": false,
         "type": "scatter",
         "x": [
          "2024-09-01T00:00:00",
          "2024-10-01T00:00:00"
         ],
         "y": [
          0.0150436113104518,
          0.01325844306576
         ]
        },
        {
         "hoverinfo": "skip",
         "line": {
          "color": "rgb(42,0,213)",
          "width": 2
         },
         "mode": "lines",
         "showlegend": false,
         "type": "scatter",
         "x": [
          "2024-10-01T00:00:00",
          "2024-11-01T00:00:00"
         ],
         "y": [
          0.01325844306576,
          0.0144063878704268
         ]
        },
        {
         "hoverinfo": "skip",
         "line": {
          "color": "rgb(46,0,209)",
          "width": 2
         },
         "mode": "lines",
         "showlegend": false,
         "type": "scatter",
         "x": [
          "2024-11-01T00:00:00",
          "2024-12-01T00:00:00"
         ],
         "y": [
          0.0144063878704268,
          0.0140683967887445
         ]
        },
        {
         "hoverinfo": "skip",
         "line": {
          "color": "rgb(36,0,219)",
          "width": 2
         },
         "mode": "lines",
         "showlegend": false,
         "type": "scatter",
         "x": [
          "2024-12-01T00:00:00",
          "2025-01-01T00:00:00"
         ],
         "y": [
          0.0140683967887445,
          0.0124118448859492
         ]
        },
        {
         "hoverinfo": "skip",
         "line": {
          "color": "rgb(28,0,227)",
          "width": 2
         },
         "mode": "lines",
         "showlegend": false,
         "type": "scatter",
         "x": [
          "2025-01-01T00:00:00",
          "2025-02-01T00:00:00"
         ],
         "y": [
          0.0124118448859492,
          0.0125999591124394
         ]
        },
        {
         "hoverinfo": "skip",
         "line": {
          "color": "rgb(35,0,220)",
          "width": 2
         },
         "mode": "lines",
         "showlegend": false,
         "type": "scatter",
         "x": [
          "2025-02-01T00:00:00",
          "2025-03-01T00:00:00"
         ],
         "y": [
          0.0125999591124394,
          0.0136685186405655
         ]
        },
        {
         "hoverinfo": "skip",
         "line": {
          "color": "rgb(32,0,223)",
          "width": 2
         },
         "mode": "lines",
         "showlegend": false,
         "type": "scatter",
         "x": [
          "2025-03-01T00:00:00",
          "2025-04-01T00:00:00"
         ],
         "y": [
          0.0136685186405655,
          0.0120955032291025
         ]
        },
        {
         "hoverinfo": "skip",
         "line": {
          "color": "rgb(22,0,233)",
          "width": 2
         },
         "mode": "lines",
         "showlegend": false,
         "type": "scatter",
         "x": [
          "2025-04-01T00:00:00",
          "2025-05-01T00:00:00"
         ],
         "y": [
          0.0120955032291025,
          0.0116614937814838
         ]
        },
        {
         "marker": {
          "color": "darkred",
          "size": 8
         },
         "mode": "markers+text",
         "showlegend": false,
         "text": [
          "0.01"
         ],
         "textfont": {
          "color": "darkred",
          "size": 12
         },
         "textposition": "top right",
         "type": "scatter",
         "x": [
          "2025-05-01T00:00:00"
         ],
         "y": [
          0.0116614937814838
         ]
        }
       ],
       "layout": {
        "annotations": [
         {
          "font": {
           "size": 12
          },
          "showarrow": false,
          "text": "2020",
          "x": "2020-01-01T00:00:00",
          "xanchor": "left",
          "y": 0.007032406306447138
         },
         {
          "font": {
           "size": 12
          },
          "showarrow": false,
          "text": "2021",
          "x": "2021-01-01T00:00:00",
          "xanchor": "left",
          "y": 0.007032406306447138
         },
         {
          "font": {
           "size": 12
          },
          "showarrow": false,
          "text": "2022",
          "x": "2022-01-01T00:00:00",
          "xanchor": "left",
          "y": 0.007032406306447138
         },
         {
          "font": {
           "size": 12
          },
          "showarrow": false,
          "text": "2023",
          "x": "2023-01-01T00:00:00",
          "xanchor": "left",
          "y": 0.007032406306447138
         },
         {
          "font": {
           "size": 12
          },
          "showarrow": false,
          "text": "2024",
          "x": "2024-01-01T00:00:00",
          "xanchor": "left",
          "y": 0.007032406306447138
         },
         {
          "font": {
           "size": 12
          },
          "showarrow": false,
          "text": "2025",
          "x": "2025-01-01T00:00:00",
          "xanchor": "left",
          "y": 0.007032406306447138
         }
        ],
        "font": {
         "family": "Arial, sans-serif",
         "size": 12
        },
        "height": 500,
        "paper_bgcolor": "white",
        "plot_bgcolor": "white",
        "showlegend": false,
        "template": {
         "data": {
          "bar": [
           {
            "error_x": {
             "color": "#2a3f5f"
            },
            "error_y": {
             "color": "#2a3f5f"
            },
            "marker": {
             "line": {
              "color": "#E5ECF6",
              "width": 0.5
             },
             "pattern": {
              "fillmode": "overlay",
              "size": 10,
              "solidity": 0.2
             }
            },
            "type": "bar"
           }
          ],
          "barpolar": [
           {
            "marker": {
             "line": {
              "color": "#E5ECF6",
              "width": 0.5
             },
             "pattern": {
              "fillmode": "overlay",
              "size": 10,
              "solidity": 0.2
             }
            },
            "type": "barpolar"
           }
          ],
          "carpet": [
           {
            "aaxis": {
             "endlinecolor": "#2a3f5f",
             "gridcolor": "white",
             "linecolor": "white",
             "minorgridcolor": "white",
             "startlinecolor": "#2a3f5f"
            },
            "baxis": {
             "endlinecolor": "#2a3f5f",
             "gridcolor": "white",
             "linecolor": "white",
             "minorgridcolor": "white",
             "startlinecolor": "#2a3f5f"
            },
            "type": "carpet"
           }
          ],
          "choropleth": [
           {
            "colorbar": {
             "outlinewidth": 0,
             "ticks": ""
            },
            "type": "choropleth"
           }
          ],
          "contour": [
           {
            "colorbar": {
             "outlinewidth": 0,
             "ticks": ""
            },
            "colorscale": [
             [
              0,
              "#0d0887"
             ],
             [
              0.1111111111111111,
              "#46039f"
             ],
             [
              0.2222222222222222,
              "#7201a8"
             ],
             [
              0.3333333333333333,
              "#9c179e"
             ],
             [
              0.4444444444444444,
              "#bd3786"
             ],
             [
              0.5555555555555556,
              "#d8576b"
             ],
             [
              0.6666666666666666,
              "#ed7953"
             ],
             [
              0.7777777777777778,
              "#fb9f3a"
             ],
             [
              0.8888888888888888,
              "#fdca26"
             ],
             [
              1,
              "#f0f921"
             ]
            ],
            "type": "contour"
           }
          ],
          "contourcarpet": [
           {
            "colorbar": {
             "outlinewidth": 0,
             "ticks": ""
            },
            "type": "contourcarpet"
           }
          ],
          "heatmap": [
           {
            "colorbar": {
             "outlinewidth": 0,
             "ticks": ""
            },
            "colorscale": [
             [
              0,
              "#0d0887"
             ],
             [
              0.1111111111111111,
              "#46039f"
             ],
             [
              0.2222222222222222,
              "#7201a8"
             ],
             [
              0.3333333333333333,
              "#9c179e"
             ],
             [
              0.4444444444444444,
              "#bd3786"
             ],
             [
              0.5555555555555556,
              "#d8576b"
             ],
             [
              0.6666666666666666,
              "#ed7953"
             ],
             [
              0.7777777777777778,
              "#fb9f3a"
             ],
             [
              0.8888888888888888,
              "#fdca26"
             ],
             [
              1,
              "#f0f921"
             ]
            ],
            "type": "heatmap"
           }
          ],
          "histogram": [
           {
            "marker": {
             "pattern": {
              "fillmode": "overlay",
              "size": 10,
              "solidity": 0.2
             }
            },
            "type": "histogram"
           }
          ],
          "histogram2d": [
           {
            "colorbar": {
             "outlinewidth": 0,
             "ticks": ""
            },
            "colorscale": [
             [
              0,
              "#0d0887"
             ],
             [
              0.1111111111111111,
              "#46039f"
             ],
             [
              0.2222222222222222,
              "#7201a8"
             ],
             [
              0.3333333333333333,
              "#9c179e"
             ],
             [
              0.4444444444444444,
              "#bd3786"
             ],
             [
              0.5555555555555556,
              "#d8576b"
             ],
             [
              0.6666666666666666,
              "#ed7953"
             ],
             [
              0.7777777777777778,
              "#fb9f3a"
             ],
             [
              0.8888888888888888,
              "#fdca26"
             ],
             [
              1,
              "#f0f921"
             ]
            ],
            "type": "histogram2d"
           }
          ],
          "histogram2dcontour": [
           {
            "colorbar": {
             "outlinewidth": 0,
             "ticks": ""
            },
            "colorscale": [
             [
              0,
              "#0d0887"
             ],
             [
              0.1111111111111111,
              "#46039f"
             ],
             [
              0.2222222222222222,
              "#7201a8"
             ],
             [
              0.3333333333333333,
              "#9c179e"
             ],
             [
              0.4444444444444444,
              "#bd3786"
             ],
             [
              0.5555555555555556,
              "#d8576b"
             ],
             [
              0.6666666666666666,
              "#ed7953"
             ],
             [
              0.7777777777777778,
              "#fb9f3a"
             ],
             [
              0.8888888888888888,
              "#fdca26"
             ],
             [
              1,
              "#f0f921"
             ]
            ],
            "type": "histogram2dcontour"
           }
          ],
          "mesh3d": [
           {
            "colorbar": {
             "outlinewidth": 0,
             "ticks": ""
            },
            "type": "mesh3d"
           }
          ],
          "parcoords": [
           {
            "line": {
             "colorbar": {
              "outlinewidth": 0,
              "ticks": ""
             }
            },
            "type": "parcoords"
           }
          ],
          "pie": [
           {
            "automargin": true,
            "type": "pie"
           }
          ],
          "scatter": [
           {
            "fillpattern": {
             "fillmode": "overlay",
             "size": 10,
             "solidity": 0.2
            },
            "type": "scatter"
           }
          ],
          "scatter3d": [
           {
            "line": {
             "colorbar": {
              "outlinewidth": 0,
              "ticks": ""
             }
            },
            "marker": {
             "colorbar": {
              "outlinewidth": 0,
              "ticks": ""
             }
            },
            "type": "scatter3d"
           }
          ],
          "scattercarpet": [
           {
            "marker": {
             "colorbar": {
              "outlinewidth": 0,
              "ticks": ""
             }
            },
            "type": "scattercarpet"
           }
          ],
          "scattergeo": [
           {
            "marker": {
             "colorbar": {
              "outlinewidth": 0,
              "ticks": ""
             }
            },
            "type": "scattergeo"
           }
          ],
          "scattergl": [
           {
            "marker": {
             "colorbar": {
              "outlinewidth": 0,
              "ticks": ""
             }
            },
            "type": "scattergl"
           }
          ],
          "scattermap": [
           {
            "marker": {
             "colorbar": {
              "outlinewidth": 0,
              "ticks": ""
             }
            },
            "type": "scattermap"
           }
          ],
          "scattermapbox": [
           {
            "marker": {
             "colorbar": {
              "outlinewidth": 0,
              "ticks": ""
             }
            },
            "type": "scattermapbox"
           }
          ],
          "scatterpolar": [
           {
            "marker": {
             "colorbar": {
              "outlinewidth": 0,
              "ticks": ""
             }
            },
            "type": "scatterpolar"
           }
          ],
          "scatterpolargl": [
           {
            "marker": {
             "colorbar": {
              "outlinewidth": 0,
              "ticks": ""
             }
            },
            "type": "scatterpolargl"
           }
          ],
          "scatterternary": [
           {
            "marker": {
             "colorbar": {
              "outlinewidth": 0,
              "ticks": ""
             }
            },
            "type": "scatterternary"
           }
          ],
          "surface": [
           {
            "colorbar": {
             "outlinewidth": 0,
             "ticks": ""
            },
            "colorscale": [
             [
              0,
              "#0d0887"
             ],
             [
              0.1111111111111111,
              "#46039f"
             ],
             [
              0.2222222222222222,
              "#7201a8"
             ],
             [
              0.3333333333333333,
              "#9c179e"
             ],
             [
              0.4444444444444444,
              "#bd3786"
             ],
             [
              0.5555555555555556,
              "#d8576b"
             ],
             [
              0.6666666666666666,
              "#ed7953"
             ],
             [
              0.7777777777777778,
              "#fb9f3a"
             ],
             [
              0.8888888888888888,
              "#fdca26"
             ],
             [
              1,
              "#f0f921"
             ]
            ],
            "type": "surface"
           }
          ],
          "table": [
           {
            "cells": {
             "fill": {
              "color": "#EBF0F8"
             },
             "line": {
              "color": "white"
             }
            },
            "header": {
             "fill": {
              "color": "#C8D4E3"
             },
             "line": {
              "color": "white"
             }
            },
            "type": "table"
           }
          ]
         },
         "layout": {
          "annotationdefaults": {
           "arrowcolor": "#2a3f5f",
           "arrowhead": 0,
           "arrowwidth": 1
          },
          "autotypenumbers": "strict",
          "coloraxis": {
           "colorbar": {
            "outlinewidth": 0,
            "ticks": ""
           }
          },
          "colorscale": {
           "diverging": [
            [
             0,
             "#8e0152"
            ],
            [
             0.1,
             "#c51b7d"
            ],
            [
             0.2,
             "#de77ae"
            ],
            [
             0.3,
             "#f1b6da"
            ],
            [
             0.4,
             "#fde0ef"
            ],
            [
             0.5,
             "#f7f7f7"
            ],
            [
             0.6,
             "#e6f5d0"
            ],
            [
             0.7,
             "#b8e186"
            ],
            [
             0.8,
             "#7fbc41"
            ],
            [
             0.9,
             "#4d9221"
            ],
            [
             1,
             "#276419"
            ]
           ],
           "sequential": [
            [
             0,
             "#0d0887"
            ],
            [
             0.1111111111111111,
             "#46039f"
            ],
            [
             0.2222222222222222,
             "#7201a8"
            ],
            [
             0.3333333333333333,
             "#9c179e"
            ],
            [
             0.4444444444444444,
             "#bd3786"
            ],
            [
             0.5555555555555556,
             "#d8576b"
            ],
            [
             0.6666666666666666,
             "#ed7953"
            ],
            [
             0.7777777777777778,
             "#fb9f3a"
            ],
            [
             0.8888888888888888,
             "#fdca26"
            ],
            [
             1,
             "#f0f921"
            ]
           ],
           "sequentialminus": [
            [
             0,
             "#0d0887"
            ],
            [
             0.1111111111111111,
             "#46039f"
            ],
            [
             0.2222222222222222,
             "#7201a8"
            ],
            [
             0.3333333333333333,
             "#9c179e"
            ],
            [
             0.4444444444444444,
             "#bd3786"
            ],
            [
             0.5555555555555556,
             "#d8576b"
            ],
            [
             0.6666666666666666,
             "#ed7953"
            ],
            [
             0.7777777777777778,
             "#fb9f3a"
            ],
            [
             0.8888888888888888,
             "#fdca26"
            ],
            [
             1,
             "#f0f921"
            ]
           ]
          },
          "colorway": [
           "#636efa",
           "#EF553B",
           "#00cc96",
           "#ab63fa",
           "#FFA15A",
           "#19d3f3",
           "#FF6692",
           "#B6E880",
           "#FF97FF",
           "#FECB52"
          ],
          "font": {
           "color": "#2a3f5f"
          },
          "geo": {
           "bgcolor": "white",
           "lakecolor": "white",
           "landcolor": "#E5ECF6",
           "showlakes": true,
           "showland": true,
           "subunitcolor": "white"
          },
          "hoverlabel": {
           "align": "left"
          },
          "hovermode": "closest",
          "mapbox": {
           "style": "light"
          },
          "paper_bgcolor": "white",
          "plot_bgcolor": "#E5ECF6",
          "polar": {
           "angularaxis": {
            "gridcolor": "white",
            "linecolor": "white",
            "ticks": ""
           },
           "bgcolor": "#E5ECF6",
           "radialaxis": {
            "gridcolor": "white",
            "linecolor": "white",
            "ticks": ""
           }
          },
          "scene": {
           "xaxis": {
            "backgroundcolor": "#E5ECF6",
            "gridcolor": "white",
            "gridwidth": 2,
            "linecolor": "white",
            "showbackground": true,
            "ticks": "",
            "zerolinecolor": "white"
           },
           "yaxis": {
            "backgroundcolor": "#E5ECF6",
            "gridcolor": "white",
            "gridwidth": 2,
            "linecolor": "white",
            "showbackground": true,
            "ticks": "",
            "zerolinecolor": "white"
           },
           "zaxis": {
            "backgroundcolor": "#E5ECF6",
            "gridcolor": "white",
            "gridwidth": 2,
            "linecolor": "white",
            "showbackground": true,
            "ticks": "",
            "zerolinecolor": "white"
           }
          },
          "shapedefaults": {
           "line": {
            "color": "#2a3f5f"
           }
          },
          "ternary": {
           "aaxis": {
            "gridcolor": "white",
            "linecolor": "white",
            "ticks": ""
           },
           "baxis": {
            "gridcolor": "white",
            "linecolor": "white",
            "ticks": ""
           },
           "bgcolor": "#E5ECF6",
           "caxis": {
            "gridcolor": "white",
            "linecolor": "white",
            "ticks": ""
           }
          },
          "title": {
           "x": 0.05
          },
          "xaxis": {
           "automargin": true,
           "gridcolor": "white",
           "linecolor": "white",
           "ticks": "",
           "title": {
            "standoff": 15
           },
           "zerolinecolor": "white",
           "zerolinewidth": 2
          },
          "yaxis": {
           "automargin": true,
           "gridcolor": "white",
           "linecolor": "white",
           "ticks": "",
           "title": {
            "standoff": 15
           },
           "zerolinecolor": "white",
           "zerolinewidth": 2
          }
         }
        },
        "title": {
         "text": "Armed Conflict Probability Forecast - Spain"
        },
        "width": 900,
        "xaxis": {
         "automargin": true,
         "dtick": "M3",
         "gridcolor": "lightgray",
         "gridwidth": 1,
         "showgrid": true,
         "tickangle": 45,
         "tickformat": "%b",
         "title": {
          "text": "Date"
         }
        },
        "yaxis": {
         "automargin": true,
         "gridcolor": "lightgray",
         "gridwidth": 0.5,
         "showgrid": true,
         "title": {
          "text": "Conflict Probability"
         }
        }
       }
      }
     },
     "metadata": {},
     "output_type": "display_data"
    }
   ],
   "source": [
    "def plot_conflict_forecast(country: str):\n",
    "    \"\"\"\n",
    "    Plot conflict probability forecast for a specific country with gradient colors.\n",
    "    \"\"\"\n",
    "    import polars as pl\n",
    "    import requests\n",
    "    import pycountry\n",
    "    import plotly.graph_objects as go\n",
    "    import pandas as pd\n",
    "\n",
    "    # Improved ISO3 code lookup\n",
    "    def iso3(name):\n",
    "        name = name.lower().strip()\n",
    "        \n",
    "        # Handle common country name mappings first\n",
    "        country_mappings = {\n",
    "            'united states': 'USA',\n",
    "            'usa': 'USA',\n",
    "            'us': 'USA',\n",
    "            'america': 'USA',\n",
    "            'united states of america': 'USA',\n",
    "            'russia': 'RUS',\n",
    "            'russian federation': 'RUS',\n",
    "            'iran': 'IRN',\n",
    "            'south korea': 'KOR',\n",
    "            'north korea': 'PRK',\n",
    "            'uk': 'GBR',\n",
    "            'britain': 'GBR',\n",
    "            'great britain': 'GBR',\n",
    "            'united kingdom': 'GBR',\n",
    "        }\n",
    "        \n",
    "        if name in country_mappings:\n",
    "            return country_mappings[name]\n",
    "        \n",
    "        # Try exact matches first\n",
    "        for c in pycountry.countries:\n",
    "            names_to_check = [\n",
    "                c.name.lower(),\n",
    "                getattr(c, 'official_name', '').lower(),\n",
    "                c.alpha_3.lower()\n",
    "            ]\n",
    "            if name in names_to_check:\n",
    "                return c.alpha_3\n",
    "        \n",
    "        # Then try substring matching (but prioritize shorter matches)\n",
    "        matches = []\n",
    "        for c in pycountry.countries:\n",
    "            names_to_check = [\n",
    "                c.name.lower(),\n",
    "                getattr(c, 'official_name', '').lower()\n",
    "            ]\n",
    "            for country_name in names_to_check:\n",
    "                if country_name and (name in country_name or country_name in name):\n",
    "                    matches.append((c.alpha_3, len(country_name), country_name))\n",
    "        \n",
    "        if matches:\n",
    "            # Sort by length to prefer shorter, more precise matches\n",
    "            matches.sort(key=lambda x: x[1])\n",
    "            return matches[0][0]\n",
    "        \n",
    "        print(f\"Country '{name}' not found in ISO lookup.\")\n",
    "        return None\n",
    "\n",
    "    try:\n",
    "        # Get latest file listing and find target file\n",
    "        files = requests.get(\n",
    "            \"http://api.backendless.com/C177D0DC-B3D5-818C-FF1E-1CC11BC69600/C5F2917E-C2F6-4F7D-9063-69555274134E/services/fileService/get-latest-file-listing\"\n",
    "        ).json()\n",
    "        file_url = next((f[\"publicUrl\"] for f in files if f[\"name\"] == \"conflictforecast_ons_armedconf_03.csv\"), None)\n",
    "        if not file_url: raise ValueError(\"Target file not found.\")\n",
    "\n",
    "        # Read and filter data\n",
    "        df = pl.read_csv(requests.get(file_url).content)\n",
    "        \n",
    "        iso = iso3(country)\n",
    "        if not iso: raise ValueError(f\"ISO code not found for {country}\")\n",
    "        \n",
    "        df = df.filter(pl.col(\"isocode\") == iso)\n",
    "        if df.height == 0: raise ValueError(f\"No data for {country}\")\n",
    "\n",
    "        # Parse dates and filter\n",
    "        df = df.with_columns([\n",
    "            pl.col(\"period\").cast(str).str.slice(0, 4).alias(\"year\"),\n",
    "            pl.col(\"period\").cast(str).str.slice(4, 6).alias(\"month\"),\n",
    "        ])\n",
    "        df = df.with_columns([\n",
    "            (pl.col(\"year\") + \"-\" + pl.col(\"month\")).str.to_datetime(\"%Y-%m\").alias(\"date\")\n",
    "        ]).filter(pl.col(\"year\").cast(int) >= 2020)\n",
    "        if df.height == 0: raise ValueError(f\"No data for {country} from 2020\")\n",
    "\n",
    "        pdf = df.select([\"date\", \"ons_armedconf_03_all\"]).to_pandas()\n",
    "        x, y = pdf[\"date\"], pdf[\"ons_armedconf_03_all\"]\n",
    "        norm = (y - y.min()) / (y.max() - y.min())\n",
    "\n",
    "        fig = go.Figure()\n",
    "        # Add colored line segments\n",
    "        for i in range(len(x)-1):\n",
    "            c = int(255 * ((norm.iloc[i] + norm.iloc[i+1])/2))\n",
    "            fig.add_trace(go.Scatter(\n",
    "                x=[x.iloc[i], x.iloc[i+1]], y=[y.iloc[i], y.iloc[i+1]],\n",
    "                mode='lines', line=dict(color=f'rgb({c},0,{255-c})', width=2),\n",
    "                showlegend=False, hoverinfo='skip'\n",
    "            ))\n",
    "        # Last value label\n",
    "        fig.add_trace(go.Scatter(\n",
    "            x=[x.iloc[-1]], y=[y.iloc[-1]], mode='markers+text',\n",
    "            marker=dict(color='darkred', size=8),\n",
    "            text=[f'{y.iloc[-1]:.2f}'], textposition='top right',\n",
    "            textfont=dict(size=12, color='darkred'), showlegend=False\n",
    "        ))\n",
    "\n",
    "        fig.update_layout(\n",
    "            title=f'Armed Conflict Probability Forecast - {country}',\n",
    "            xaxis_title='Date', yaxis_title='Conflict Probability',\n",
    "            font=dict(size=12, family='Arial, sans-serif'), showlegend=False,\n",
    "            width=900, height=500, paper_bgcolor='white', plot_bgcolor='white'\n",
    "        )\n",
    "        fig.update_xaxes(\n",
    "            showgrid=True, gridcolor='lightgray', gridwidth=1,\n",
    "            dtick=\"M3\", tickformat=\"%b\", tickangle=45, automargin=True\n",
    "        )\n",
    "        fig.update_yaxes(showgrid=True, gridcolor='lightgray', gridwidth=0.5, automargin=True)\n",
    "        \n",
    "        # Add custom year annotations\n",
    "        years = pdf[\"date\"].dt.year.unique()\n",
    "        for year in sorted(years):\n",
    "            # Find the first date of each year in the data\n",
    "            year_data = pdf[pdf[\"date\"].dt.year == year]\n",
    "            if not year_data.empty:\n",
    "                first_date = year_data[\"date\"].min()\n",
    "                fig.add_annotation(\n",
    "                    x=first_date,\n",
    "                    y=pdf[\"ons_armedconf_03_all\"].min()-(((pdf[\"ons_armedconf_03_all\"].max())-(pdf[\"ons_armedconf_03_all\"].min()))*0.1),  # Position below the plot\n",
    "                    text=str(year),\n",
    "                    showarrow=False,\n",
    "                    font=dict(size=12),\n",
    "                    xanchor=\"left\"\n",
    "                )\n",
    "        \n",
    "        return fig\n",
    "\n",
    "    except Exception as e:\n",
    "        print(f\"Error in plot_conflict_forecast: {e}\")\n",
    "        import traceback\n",
    "        traceback.print_exc()\n",
    "        return None\n",
    "\n",
    "# Example usage\n",
    "fig = plot_conflict_forecast(\"Spain\")\n",
    "if fig: fig.show()"
   ]
  }
 ],
 "metadata": {
  "kernelspec": {
   "display_name": ".venv",
   "language": "python",
   "name": "python3"
  },
  "language_info": {
   "codemirror_mode": {
    "name": "ipython",
    "version": 3
   },
   "file_extension": ".py",
   "mimetype": "text/x-python",
   "name": "python",
   "nbconvert_exporter": "python",
   "pygments_lexer": "ipython3",
   "version": "3.12.4"
  }
 },
 "nbformat": 4,
 "nbformat_minor": 5
}
