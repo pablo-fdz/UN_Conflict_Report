{
 "cells": [
  {
   "cell_type": "code",
   "execution_count": 1,
   "id": "1a1249d9",
   "metadata": {},
   "outputs": [],
   "source": [
    "# !pip install googlenewsdecoder\n",
    "# !pip install pygooglenews"
   ]
  },
  {
   "cell_type": "code",
   "execution_count": null,
   "id": "8824c57c",
   "metadata": {},
   "outputs": [],
   "source": [
    "from pygooglenews import GoogleNews\n",
    "import pprint\n",
    "from itertools import islice\n",
    "from googlenewsdecoder import gnewsdecoder\n",
    "from datetime import datetime, timedelta\n",
    "import polars as pl\n",
    "from tqdm.auto import tqdm\n",
    "from concurrent.futures import ThreadPoolExecutor, as_completed\n",
    "import os\n",
    "import random\n",
    "import httpx\n",
    "import trafilatura\n",
    "import time\n",
    "\n",
    "import importlib\n",
    "import sys\n",
    "sys.path.append('c:/Users/blanc/OneDrive/Desktop/DSDM/3-TFM/repo/UN_Conflict_Report/graphrag_pipeline/pipeline')\n",
    "google_news_ingestion = importlib.import_module('01_data_ingestion.google_news_ingestion')\n",
    "GoogleNewsIngestor = google_news_ingestion.GoogleNewsIngestor\n"
   ]
  },
  {
   "cell_type": "markdown",
   "id": "d2ec669f",
   "metadata": {},
   "source": [
    "# 1. Google News Query\n",
    "We are going to define here the search term and start and end dates for our query as well as the language and country of the GoogleNews class."
   ]
  },
  {
   "cell_type": "code",
   "execution_count": null,
   "id": "7c57e1ae",
   "metadata": {},
   "outputs": [],
   "source": [
    "# DATES\n",
    "ONE_DAY = ('2024-01-01', '2024-01-02')\n",
    "ONE_MONTH = ('2025-06-10', '2025-06-27')\n",
    "ONE_YEAR = ('2023-01-01', '2023-12-31')\n"
   ]
  },
  {
   "cell_type": "code",
   "execution_count": 10,
   "id": "49d8fb59",
   "metadata": {},
   "outputs": [],
   "source": [
    "gn_ingestor = GoogleNewsIngestor('Sudan -South Sudan', ONE_MONTH)"
   ]
  },
  {
   "cell_type": "code",
   "execution_count": 11,
   "id": "62a1cdf3",
   "metadata": {},
   "outputs": [
    {
     "name": "stderr",
     "output_type": "stream",
     "text": [
      "Fetching batches:   0%|          | 0/6 [00:00<?, ?it/s]"
     ]
    },
    {
     "name": "stderr",
     "output_type": "stream",
     "text": [
      "Fetching batches: 100%|██████████| 6/6 [00:01<00:00,  4.97it/s]\n"
     ]
    },
    {
     "name": "stdout",
     "output_type": "stream",
     "text": [
      "------------------------------------------------------\n",
      "TOTAL NUMBER OF ARTICLES: 337\n",
      "Average articles per day: 19\n",
      "Batches that were expanded to 1-day queries (0):\n",
      "Batches that failed (0)\n",
      "------------------------------------------------------\n",
      "shape: (5, 4)\n",
      "┌────────────────────────────┬───────────────────────────┬──────────────────┬──────────────────────┐\n",
      "│ title                      ┆ google_link               ┆ published        ┆ source               │\n",
      "│ ---                        ┆ ---                       ┆ ---              ┆ ---                  │\n",
      "│ str                        ┆ str                       ┆ str              ┆ str                  │\n",
      "╞════════════════════════════╪═══════════════════════════╪══════════════════╪══════════════════════╡\n",
      "│ 10 dead in Iranian attack  ┆ https://news.google.com/r ┆ Sun, 15 Jun 2025 ┆ lokmattimes.com      │\n",
      "│ on c…                      ┆ ss/ar…                    ┆ 07:00:00 GMT     ┆                      │\n",
      "│ Sudan - WFP Sudan Market   ┆ https://news.google.com/r ┆ Thu, 19 Jun 2025 ┆ ReliefWeb            │\n",
      "│ Monit…                     ┆ ss/ar…                    ┆ 11:40:05 GMT     ┆                      │\n",
      "│ Sudan Strongly Condemns    ┆ https://news.google.com/r ┆ Mon, 23 Jun 2025 ┆ MSN                  │\n",
      "│ Attack…                    ┆ ss/ar…                    ┆ 21:33:45 GMT     ┆                      │\n",
      "│ UAE Profiting from Sudan’s ┆ https://news.google.com/r ┆ Wed, 25 Jun 2025 ┆ وطن. يغرد خارج السرب │\n",
      "│ Cha…                       ┆ ss/ar…                    ┆ 16:59:47 GMT     ┆                      │\n",
      "│ QC relief mission to       ┆ https://news.google.com/r ┆ Sun, 22 Jun 2025 ┆ Qatar Tribune        │\n",
      "│ address S…                 ┆ ss/ar…                    ┆ 01:11:05 GMT     ┆                      │\n",
      "└────────────────────────────┴───────────────────────────┴──────────────────┴──────────────────────┘\n"
     ]
    }
   ],
   "source": [
    "gn_ingestor.execute_google_news_query()\n",
    "gn_ingestor.print_query_summary()"
   ]
  },
  {
   "cell_type": "code",
   "execution_count": null,
   "id": "afdf5c3d",
   "metadata": {},
   "outputs": [
    {
     "data": {
      "text/html": [
       "<div><style>\n",
       ".dataframe > thead > tr,\n",
       ".dataframe > tbody > tr {\n",
       "  text-align: right;\n",
       "  white-space: pre-wrap;\n",
       "}\n",
       "</style>\n",
       "<small>shape: (5, 5)</small><table border=\"1\" class=\"dataframe\"><thead><tr><th>title</th><th>google_link</th><th>source</th><th>id</th><th>date</th></tr><tr><td>str</td><td>str</td><td>str</td><td>str</td><td>date</td></tr></thead><tbody><tr><td>&quot;10 dead in Iranian attack on c…</td><td>&quot;https://news.google.com/rss/ar…</td><td>&quot;lokmattimes.com&quot;</td><td>&quot;GN_SUD93810&quot;</td><td>2025-06-15</td></tr><tr><td>&quot;Sudan - WFP Sudan Market Monit…</td><td>&quot;https://news.google.com/rss/ar…</td><td>&quot;ReliefWeb&quot;</td><td>&quot;GN_SUD24592&quot;</td><td>2025-06-19</td></tr><tr><td>&quot;Sudan Strongly Condemns Attack…</td><td>&quot;https://news.google.com/rss/ar…</td><td>&quot;MSN&quot;</td><td>&quot;GN_SUD13278&quot;</td><td>2025-06-23</td></tr><tr><td>&quot;UAE Profiting from Sudan’s Cha…</td><td>&quot;https://news.google.com/rss/ar…</td><td>&quot;وطن. يغرد خارج السرب&quot;</td><td>&quot;GN_SUD46048&quot;</td><td>2025-06-25</td></tr><tr><td>&quot;QC relief mission to address S…</td><td>&quot;https://news.google.com/rss/ar…</td><td>&quot;Qatar Tribune&quot;</td><td>&quot;GN_SUD42098&quot;</td><td>2025-06-22</td></tr></tbody></table></div>"
      ],
      "text/plain": [
       "shape: (5, 5)\n",
       "┌────────────────────────┬───────────────────────┬──────────────────────┬─────────────┬────────────┐\n",
       "│ title                  ┆ google_link           ┆ source               ┆ id          ┆ date       │\n",
       "│ ---                    ┆ ---                   ┆ ---                  ┆ ---         ┆ ---        │\n",
       "│ str                    ┆ str                   ┆ str                  ┆ str         ┆ date       │\n",
       "╞════════════════════════╪═══════════════════════╪══════════════════════╪═════════════╪════════════╡\n",
       "│ 10 dead in Iranian     ┆ https://news.google.c ┆ lokmattimes.com      ┆ GN_SUD93810 ┆ 2025-06-15 │\n",
       "│ attack on c…           ┆ om/rss/ar…            ┆                      ┆             ┆            │\n",
       "│ Sudan - WFP Sudan      ┆ https://news.google.c ┆ ReliefWeb            ┆ GN_SUD24592 ┆ 2025-06-19 │\n",
       "│ Market Monit…          ┆ om/rss/ar…            ┆                      ┆             ┆            │\n",
       "│ Sudan Strongly         ┆ https://news.google.c ┆ MSN                  ┆ GN_SUD13278 ┆ 2025-06-23 │\n",
       "│ Condemns Attack…       ┆ om/rss/ar…            ┆                      ┆             ┆            │\n",
       "│ UAE Profiting from     ┆ https://news.google.c ┆ وطن. يغرد خارج السرب ┆ GN_SUD46048 ┆ 2025-06-25 │\n",
       "│ Sudan’s Cha…           ┆ om/rss/ar…            ┆                      ┆             ┆            │\n",
       "│ QC relief mission to   ┆ https://news.google.c ┆ Qatar Tribune        ┆ GN_SUD42098 ┆ 2025-06-22 │\n",
       "│ address S…             ┆ om/rss/ar…            ┆                      ┆             ┆            │\n",
       "└────────────────────────┴───────────────────────┴──────────────────────┴─────────────┴────────────┘"
      ]
     },
     "execution_count": 17,
     "metadata": {},
     "output_type": "execute_result"
    }
   ],
   "source": [
    "df = gn_ingestor.df_1\n",
    "\n",
    "country = \"Sudan -South Sudan\"\n",
    "prefix = country.replace(\" \", \"\")[:3].upper()  # e.g., \"SUD\"\n",
    "\n",
    "# Generate a unique 5-digit number for each row\n",
    "n_rows = df.height\n",
    "random.seed(42)  # For reproducibility, optional\n",
    "unique_digits = random.sample(range(10000, 99999), n_rows)\n",
    "\n",
    "\n",
    "\n",
    "df = df.with_columns(\n",
    "    [\n",
    "        pl.Series(\n",
    "            name=\"id\",\n",
    "            values=[f\"GN_{prefix}{num}\" for num in unique_digits]\n",
    "        ),\n",
    "        pl.col(\"published\").str.strptime(pl.Date, \"%a, %d %b %Y %H:%M:%S %Z\", strict=False).alias(\"date\")\n",
    "    ]\n",
    ").drop(\"published\")\n",
    "\n",
    "df.head()"
   ]
  },
  {
   "cell_type": "code",
   "execution_count": 6,
   "id": "45856d00",
   "metadata": {},
   "outputs": [
    {
     "name": "stderr",
     "output_type": "stream",
     "text": [
      "decoding URLs (base64): 100%|██████████| 500/500 [00:00<00:00, 105767.20it/s]\n",
      "Fetching: 0it [00:00, ?it/s]\n",
      "decoding URLs (base64): 100%|██████████| 500/500 [00:00<00:00, 176751.12it/s]\n",
      "Fetching: 0it [00:00, ?it/s]\n",
      "decoding URLs (base64): 100%|██████████| 113/113 [00:00<?, ?it/s]\n",
      "Fetching: 0it [00:00, ?it/s]\n"
     ]
    }
   ],
   "source": [
    "gn_ingestor.decode_urls_and_fetch_articles_base64()"
   ]
  },
  {
   "cell_type": "code",
   "execution_count": 7,
   "id": "c804b713",
   "metadata": {},
   "outputs": [],
   "source": [
    "# gn_ingestor.decode_urls_and_fetch_articles()"
   ]
  },
  {
   "cell_type": "code",
   "execution_count": 8,
   "id": "7c14bc7f",
   "metadata": {},
   "outputs": [
    {
     "name": "stdout",
     "output_type": "stream",
     "text": [
      "DataFrame: df_1\n",
      "Number of correctly fetched articles (non-null): 0 / 1\n",
      "Number of non-empty articles: 0 / 1\n",
      "DataFrame: df_2\n",
      "Number of correctly fetched articles (non-null): 0 / 1\n",
      "Number of non-empty articles: 0 / 1\n",
      "DataFrame: df_3\n",
      "Number of correctly fetched articles (non-null): 0 / 1\n",
      "Number of non-empty articles: 0 / 1\n"
     ]
    }
   ],
   "source": [
    "gn_ingestor.print_urls_and_texts_summary()"
   ]
  },
  {
   "cell_type": "code",
   "execution_count": null,
   "id": "a644f675",
   "metadata": {},
   "outputs": [],
   "source": [
    "june_25_df = pl.concat([gn_ingestor.df_1, gn_ingestor.df_2])"
   ]
  },
  {
   "cell_type": "code",
   "execution_count": null,
   "id": "d4106028",
   "metadata": {},
   "outputs": [],
   "source": [
    "# DataFrame: df_1\n",
    "# Number of correctly fetched articles (non-null): 400 / 500\n",
    "# Number of non-empty articles: 400 / 500\n",
    "# DataFrame: df_2\n",
    "# Number of correctly fetched articles (non-null): 311 / 391\n",
    "# Number of non-empty articles: 311 / 391"
   ]
  },
  {
   "cell_type": "code",
   "execution_count": 13,
   "id": "8e9bbf61",
   "metadata": {},
   "outputs": [
    {
     "data": {
      "text/html": [
       "<div><style>\n",
       ".dataframe > thead > tr,\n",
       ".dataframe > tbody > tr {\n",
       "  text-align: right;\n",
       "  white-space: pre-wrap;\n",
       "}\n",
       "</style>\n",
       "<small>shape: (5, 6)</small><table border=\"1\" class=\"dataframe\"><thead><tr><th>title</th><th>google_link</th><th>published</th><th>source</th><th>decoded_url</th><th>full_text</th></tr><tr><td>str</td><td>str</td><td>str</td><td>str</td><td>str</td><td>str</td></tr></thead><tbody><tr><td>&quot;WHO says ‘huge biological risk…</td><td>&quot;https://news.google.com/rss/ar…</td><td>&quot;Tue, 25 Apr 2023 07:00:00 GMT&quot;</td><td>&quot;Al Jazeera&quot;</td><td>&quot;https://www.aljazeera.com/news…</td><td>&quot;WHO says ‘huge biological risk…</td></tr><tr><td>&quot;Sudan violence: Ballymena man …</td><td>&quot;https://news.google.com/rss/ar…</td><td>&quot;Mon, 24 Apr 2023 07:00:00 GMT&quot;</td><td>&quot;BBC&quot;</td><td>&quot;https://www.bbc.co.uk/news/art…</td><td>&quot;Ballymena man among those caug…</td></tr><tr><td>&quot;UNESCO/EU project supports Sou…</td><td>&quot;https://news.google.com/rss/ar…</td><td>&quot;Thu, 20 Apr 2023 07:00:00 GMT&quot;</td><td>&quot;UNESCO&quot;</td><td>&quot;https://www.unesco.org/en/arti…</td><td>null</td></tr><tr><td>&quot;Sudan&#x27;s Badr Airlines launches…</td><td>&quot;https://news.google.com/rss/ar…</td><td>&quot;Sun, 02 Apr 2023 07:00:00 GMT&quot;</td><td>&quot;NewVision.co.ug&quot;</td><td>&quot;https://www.newvision.co.ug/ca…</td><td>null</td></tr><tr><td>&quot;South Sudan Needs $1.7 Billion…</td><td>&quot;https://news.google.com/rss/ar…</td><td>&quot;Fri, 07 Apr 2023 07:00:00 GMT&quot;</td><td>&quot;theheritagetimes.com&quot;</td><td>&quot;https://www.theheritagetimes.c…</td><td>&quot;By Ebi Kesiena\n",
       "South Sudan’s s…</td></tr></tbody></table></div>"
      ],
      "text/plain": [
       "shape: (5, 6)\n",
       "┌────────────────┬────────────────┬────────────────┬───────────────┬───────────────┬───────────────┐\n",
       "│ title          ┆ google_link    ┆ published      ┆ source        ┆ decoded_url   ┆ full_text     │\n",
       "│ ---            ┆ ---            ┆ ---            ┆ ---           ┆ ---           ┆ ---           │\n",
       "│ str            ┆ str            ┆ str            ┆ str           ┆ str           ┆ str           │\n",
       "╞════════════════╪════════════════╪════════════════╪═══════════════╪═══════════════╪═══════════════╡\n",
       "│ WHO says ‘huge ┆ https://news.g ┆ Tue, 25 Apr    ┆ Al Jazeera    ┆ https://www.a ┆ WHO says      │\n",
       "│ biological     ┆ oogle.com/rss/ ┆ 2023 07:00:00  ┆               ┆ ljazeera.com/ ┆ ‘huge         │\n",
       "│ risk…          ┆ ar…            ┆ GMT            ┆               ┆ news…         ┆ biological    │\n",
       "│                ┆                ┆                ┆               ┆               ┆ risk…         │\n",
       "│ Sudan          ┆ https://news.g ┆ Mon, 24 Apr    ┆ BBC           ┆ https://www.b ┆ Ballymena man │\n",
       "│ violence:      ┆ oogle.com/rss/ ┆ 2023 07:00:00  ┆               ┆ bc.co.uk/news ┆ among those   │\n",
       "│ Ballymena man  ┆ ar…            ┆ GMT            ┆               ┆ /art…         ┆ caug…         │\n",
       "│ …              ┆                ┆                ┆               ┆               ┆               │\n",
       "│ UNESCO/EU      ┆ https://news.g ┆ Thu, 20 Apr    ┆ UNESCO        ┆ https://www.u ┆ null          │\n",
       "│ project        ┆ oogle.com/rss/ ┆ 2023 07:00:00  ┆               ┆ nesco.org/en/ ┆               │\n",
       "│ supports Sou…  ┆ ar…            ┆ GMT            ┆               ┆ arti…         ┆               │\n",
       "│ Sudan's Badr   ┆ https://news.g ┆ Sun, 02 Apr    ┆ NewVision.co. ┆ https://www.n ┆ null          │\n",
       "│ Airlines       ┆ oogle.com/rss/ ┆ 2023 07:00:00  ┆ ug            ┆ ewvision.co.u ┆               │\n",
       "│ launches…      ┆ ar…            ┆ GMT            ┆               ┆ g/ca…         ┆               │\n",
       "│ South Sudan    ┆ https://news.g ┆ Fri, 07 Apr    ┆ theheritageti ┆ https://www.t ┆ By Ebi        │\n",
       "│ Needs $1.7     ┆ oogle.com/rss/ ┆ 2023 07:00:00  ┆ mes.com       ┆ heheritagetim ┆ Kesiena       │\n",
       "│ Billion…       ┆ ar…            ┆ GMT            ┆               ┆ es.c…         ┆ South Sudan’s │\n",
       "│                ┆                ┆                ┆               ┆               ┆ s…            │\n",
       "└────────────────┴────────────────┴────────────────┴───────────────┴───────────────┴───────────────┘"
      ]
     },
     "execution_count": 13,
     "metadata": {},
     "output_type": "execute_result"
    }
   ],
   "source": [
    "april_23_df.head()"
   ]
  },
  {
   "cell_type": "markdown",
   "id": "01764096",
   "metadata": {},
   "source": [
    "For a 1-month interval:\n",
    "* Number of articles: ~800-1200 articles\n",
    "* Execution times:\n",
    "    * Google News query: 1-3 seconds\n",
    "    * URL decoding + article fetching (done in the same step): ~15min\n",
    "\n",
    "For now, query language and country are set to English, United States. This is the country from which the articles come from. The GoogleNews class also needs to be initialized with a value for these two parameters. \n",
    "\n",
    "While the country choice can have implications, most widely-recognised news sources (BBC, Al-Jazeera...) as well as UN sites that post news are available in the US and in English. We cannot set the search option to English in some countries, that is why we do not use the country we are searching as the query country. \n",
    "\n",
    "In the long term, consider how to overcome the implications of the query country choice. Maybe concatenate results from top_news in different query countries? That may be redundant, though."
   ]
  }
 ],
 "metadata": {
  "kernelspec": {
   "display_name": "tfm",
   "language": "python",
   "name": "python3"
  },
  "language_info": {
   "codemirror_mode": {
    "name": "ipython",
    "version": 3
   },
   "file_extension": ".py",
   "mimetype": "text/x-python",
   "name": "python",
   "nbconvert_exporter": "python",
   "pygments_lexer": "ipython3",
   "version": "3.12.10"
  }
 },
 "nbformat": 4,
 "nbformat_minor": 5
}
