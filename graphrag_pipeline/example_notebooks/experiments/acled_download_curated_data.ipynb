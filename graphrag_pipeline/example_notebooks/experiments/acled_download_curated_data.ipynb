{
 "cells": [
  {
   "cell_type": "markdown",
   "id": "c67dfb82",
   "metadata": {},
   "source": [
    "# *Optional (implemented with Selenium, requires Chrome browser)"
   ]
  },
  {
   "cell_type": "markdown",
   "id": "4f4bdb2a",
   "metadata": {},
   "source": [
    "# Security Implications for UN Opertations"
   ]
  },
  {
   "cell_type": "code",
   "execution_count": null,
   "id": "15b5a27c",
   "metadata": {},
   "outputs": [
    {
     "data": {
      "text/html": [
       "<div><style>\n",
       ".dataframe > thead > tr,\n",
       ".dataframe > tbody > tr {\n",
       "  text-align: right;\n",
       "  white-space: pre-wrap;\n",
       "}\n",
       "</style>\n",
       "<small>shape: (5, 31)</small><table border=\"1\" class=\"dataframe\"><thead><tr><th>EVENT_ID_CNTY</th><th>EVENT_DATE</th><th>YEAR</th><th>TIME_PRECISION</th><th>DISORDER_TYPE</th><th>EVENT_TYPE</th><th>SUB_EVENT_TYPE</th><th>ACTOR1</th><th>ASSOC_ACTOR_1</th><th>INTER1</th><th>ACTOR2</th><th>ASSOC_ACTOR_2</th><th>INTER2</th><th>INTERACTION</th><th>CIVILIAN_TARGETING</th><th>ISO</th><th>REGION</th><th>COUNTRY</th><th>ADMIN1</th><th>ADMIN2</th><th>ADMIN3</th><th>LOCATION</th><th>LATITUDE</th><th>LONGITUDE</th><th>GEO_PRECISION</th><th>SOURCE</th><th>SOURCE_SCALE</th><th>NOTES</th><th>FATALITIES</th><th>TAGS</th><th>TIMESTAMP</th></tr><tr><td>str</td><td>date</td><td>i64</td><td>i64</td><td>str</td><td>str</td><td>str</td><td>str</td><td>str</td><td>str</td><td>str</td><td>str</td><td>str</td><td>str</td><td>str</td><td>i64</td><td>str</td><td>str</td><td>str</td><td>str</td><td>str</td><td>str</td><td>f64</td><td>f64</td><td>i64</td><td>str</td><td>str</td><td>str</td><td>i64</td><td>str</td><td>i64</td></tr></thead><tbody><tr><td>&quot;XKX1147&quot;</td><td>2025-04-01</td><td>2025</td><td>1</td><td>&quot;Strategic developments&quot;</td><td>&quot;Strategic developments&quot;</td><td>&quot;Change to group/activity&quot;</td><td>&quot;NATO: North Atlantic Treaty Or…</td><td>&quot;KFOR: Kosovo Force (1999-); Mi…</td><td>&quot;External/Other forces&quot;</td><td>&quot;&quot;</td><td>&quot;&quot;</td><td>&quot;&quot;</td><td>&quot;External/Other forces only&quot;</td><td>&quot;&quot;</td><td>0</td><td>&quot;Europe&quot;</td><td>&quot;Kosovo&quot;</td><td>&quot;Ferizaj&quot;</td><td>&quot;Ferizaj&quot;</td><td>&quot;&quot;</td><td>&quot;Ferizaj&quot;</td><td>42.371</td><td>21.155</td><td>3</td><td>&quot;KoSSev&quot;</td><td>&quot;National&quot;</td><td>&quot;Movement of forces: On 1 April…</td><td>0</td><td>&quot;&quot;</td><td>1744148740</td></tr><tr><td>&quot;XKX1106&quot;</td><td>2025-01-24</td><td>2025</td><td>1</td><td>&quot;Strategic developments&quot;</td><td>&quot;Strategic developments&quot;</td><td>&quot;Change to group/activity&quot;</td><td>&quot;NATO: North Atlantic Treaty Or…</td><td>&quot;KFOR: Kosovo Force (1999-); Mi…</td><td>&quot;External/Other forces&quot;</td><td>&quot;&quot;</td><td>&quot;&quot;</td><td>&quot;&quot;</td><td>&quot;External/Other forces only&quot;</td><td>&quot;&quot;</td><td>0</td><td>&quot;Europe&quot;</td><td>&quot;Kosovo&quot;</td><td>&quot;Mitrovica&quot;</td><td>&quot;Leposaviq&quot;</td><td>&quot;&quot;</td><td>&quot;Leposaviq&quot;</td><td>43.102</td><td>20.801</td><td>1</td><td>&quot;KoSSev&quot;</td><td>&quot;Subnational&quot;</td><td>&quot;Security measures: On 24 Janua…</td><td>0</td><td>&quot;&quot;</td><td>1747163769</td></tr><tr><td>&quot;XKX1105&quot;</td><td>2025-01-18</td><td>2025</td><td>1</td><td>&quot;Strategic developments&quot;</td><td>&quot;Strategic developments&quot;</td><td>&quot;Change to group/activity&quot;</td><td>&quot;NATO: North Atlantic Treaty Or…</td><td>&quot;KFOR: Kosovo Force (1999-); Mi…</td><td>&quot;External/Other forces&quot;</td><td>&quot;&quot;</td><td>&quot;&quot;</td><td>&quot;&quot;</td><td>&quot;External/Other forces only&quot;</td><td>&quot;&quot;</td><td>0</td><td>&quot;Europe&quot;</td><td>&quot;Kosovo&quot;</td><td>&quot;Mitrovica&quot;</td><td>&quot;North Mitrovica&quot;</td><td>&quot;&quot;</td><td>&quot;North Mitrovica&quot;</td><td>42.895</td><td>20.865</td><td>1</td><td>&quot;KoSSev&quot;</td><td>&quot;Subnational&quot;</td><td>&quot;Movement of forces: On 18 Janu…</td><td>0</td><td>&quot;&quot;</td><td>1738102195</td></tr><tr><td>&quot;XKX1100&quot;</td><td>2025-01-05</td><td>2025</td><td>1</td><td>&quot;Strategic developments&quot;</td><td>&quot;Strategic developments&quot;</td><td>&quot;Change to group/activity&quot;</td><td>&quot;NATO: North Atlantic Treaty Or…</td><td>&quot;KFOR: Kosovo Force (1999-)&quot;</td><td>&quot;External/Other forces&quot;</td><td>&quot;&quot;</td><td>&quot;&quot;</td><td>&quot;&quot;</td><td>&quot;External/Other forces only&quot;</td><td>&quot;&quot;</td><td>0</td><td>&quot;Europe&quot;</td><td>&quot;Kosovo&quot;</td><td>&quot;Mitrovica&quot;</td><td>&quot;North Mitrovica&quot;</td><td>&quot;&quot;</td><td>&quot;North Mitrovica&quot;</td><td>42.895</td><td>20.865</td><td>1</td><td>&quot;KoSSev&quot;</td><td>&quot;Subnational&quot;</td><td>&quot;Movement of forces: On 5 Janua…</td><td>0</td><td>&quot;&quot;</td><td>1737435899</td></tr><tr><td>&quot;XKX1075&quot;</td><td>2024-11-07</td><td>2024</td><td>1</td><td>&quot;Strategic developments&quot;</td><td>&quot;Strategic developments&quot;</td><td>&quot;Change to group/activity&quot;</td><td>&quot;NATO: North Atlantic Treaty Or…</td><td>&quot;KFOR: Kosovo Force (1999-)&quot;</td><td>&quot;External/Other forces&quot;</td><td>&quot;&quot;</td><td>&quot;&quot;</td><td>&quot;&quot;</td><td>&quot;External/Other forces only&quot;</td><td>&quot;&quot;</td><td>0</td><td>&quot;Europe&quot;</td><td>&quot;Kosovo&quot;</td><td>&quot;Mitrovica&quot;</td><td>&quot;North Mitrovica&quot;</td><td>&quot;&quot;</td><td>&quot;North Mitrovica&quot;</td><td>42.895</td><td>20.865</td><td>3</td><td>&quot;KoSSev&quot;</td><td>&quot;Subnational&quot;</td><td>&quot;Security measures: On 7 Novemb…</td><td>0</td><td>&quot;&quot;</td><td>1731510677</td></tr></tbody></table></div>"
      ],
      "text/plain": [
       "shape: (5, 31)\n",
       "┌─────────────┬────────────┬──────┬─────────────┬───┬─────────────┬────────────┬──────┬────────────┐\n",
       "│ EVENT_ID_CN ┆ EVENT_DATE ┆ YEAR ┆ TIME_PRECIS ┆ … ┆ NOTES       ┆ FATALITIES ┆ TAGS ┆ TIMESTAMP  │\n",
       "│ TY          ┆ ---        ┆ ---  ┆ ION         ┆   ┆ ---         ┆ ---        ┆ ---  ┆ ---        │\n",
       "│ ---         ┆ date       ┆ i64  ┆ ---         ┆   ┆ str         ┆ i64        ┆ str  ┆ i64        │\n",
       "│ str         ┆            ┆      ┆ i64         ┆   ┆             ┆            ┆      ┆            │\n",
       "╞═════════════╪════════════╪══════╪═════════════╪═══╪═════════════╪════════════╪══════╪════════════╡\n",
       "│ XKX1147     ┆ 2025-04-01 ┆ 2025 ┆ 1           ┆ … ┆ Movement of ┆ 0          ┆      ┆ 1744148740 │\n",
       "│             ┆            ┆      ┆             ┆   ┆ forces: On  ┆            ┆      ┆            │\n",
       "│             ┆            ┆      ┆             ┆   ┆ 1 April…    ┆            ┆      ┆            │\n",
       "│ XKX1106     ┆ 2025-01-24 ┆ 2025 ┆ 1           ┆ … ┆ Security    ┆ 0          ┆      ┆ 1747163769 │\n",
       "│             ┆            ┆      ┆             ┆   ┆ measures:   ┆            ┆      ┆            │\n",
       "│             ┆            ┆      ┆             ┆   ┆ On 24       ┆            ┆      ┆            │\n",
       "│             ┆            ┆      ┆             ┆   ┆ Janua…      ┆            ┆      ┆            │\n",
       "│ XKX1105     ┆ 2025-01-18 ┆ 2025 ┆ 1           ┆ … ┆ Movement of ┆ 0          ┆      ┆ 1738102195 │\n",
       "│             ┆            ┆      ┆             ┆   ┆ forces: On  ┆            ┆      ┆            │\n",
       "│             ┆            ┆      ┆             ┆   ┆ 18 Janu…    ┆            ┆      ┆            │\n",
       "│ XKX1100     ┆ 2025-01-05 ┆ 2025 ┆ 1           ┆ … ┆ Movement of ┆ 0          ┆      ┆ 1737435899 │\n",
       "│             ┆            ┆      ┆             ┆   ┆ forces: On  ┆            ┆      ┆            │\n",
       "│             ┆            ┆      ┆             ┆   ┆ 5 Janua…    ┆            ┆      ┆            │\n",
       "│ XKX1075     ┆ 2024-11-07 ┆ 2024 ┆ 1           ┆ … ┆ Security    ┆ 0          ┆      ┆ 1731510677 │\n",
       "│             ┆            ┆      ┆             ┆   ┆ measures:   ┆            ┆      ┆            │\n",
       "│             ┆            ┆      ┆             ┆   ┆ On 7        ┆            ┆      ┆            │\n",
       "│             ┆            ┆      ┆             ┆   ┆ Novemb…     ┆            ┆      ┆            │\n",
       "└─────────────┴────────────┴──────┴─────────────┴───┴─────────────┴────────────┴──────┴────────────┘"
      ]
     },
     "metadata": {},
     "output_type": "display_data"
    }
   ],
   "source": [
    "peacekeepers = pl.read_excel(\"/Users/newmac/Downloads/peacekeeping_2025-05-16.xlsx\")\n",
    "peacekeepers.head()"
   ]
  },
  {
   "cell_type": "code",
   "execution_count": null,
   "id": "17cc73c2",
   "metadata": {},
   "outputs": [],
   "source": [
    "import time\n",
    "\n",
    "from selenium import webdriver\n",
    "from selenium.webdriver.common.by import By\n",
    "from selenium.webdriver.support import expected_conditions as EC\n",
    "from selenium.webdriver.support.ui import WebDriverWait"
   ]
  },
  {
   "cell_type": "code",
   "execution_count": null,
   "id": "cc1dd7a5",
   "metadata": {},
   "outputs": [
    {
     "name": "stdout",
     "output_type": "stream",
     "text": [
      "Enter API key: success\n",
      "Enter email: success\n",
      "File downloaded to the default browser download folder.\n"
     ]
    }
   ],
   "source": [
    "def click_and_enter_credentials():\n",
    "    driver = webdriver.Chrome()\n",
    "    driver.maximize_window()  # Maximize window to avoid viewport issues\n",
    "    wait = WebDriverWait(driver, 15)\n",
    "    \n",
    "    try:\n",
    "        driver.get(\"https://acleddata.com/curated-data-files/#peacekeepers\")\n",
    "        time.sleep(5)\n",
    "        \n",
    "        download_btn = driver.find_element(By.ID, \"download-link-21415\")\n",
    "        download_btn.click()\n",
    "        \n",
    "        time.sleep(3)\n",
    "        \n",
    "        # Enter API key\n",
    "        api_key_input = wait.until(\n",
    "            EC.presence_of_element_located((By.CSS_SELECTOR, \"input.credentials-api\"))\n",
    "        )\n",
    "        api_key_input.clear()\n",
    "        api_key_input.send_keys(acled_api_key)\n",
    "        print(f\"Enter API key: success\")\n",
    "        \n",
    "        # Enter email\n",
    "        email_input = wait.until(\n",
    "            EC.presence_of_element_located((By.CSS_SELECTOR, \"input.credentials-email\"))\n",
    "        )\n",
    "        email_input.clear()\n",
    "        email_input.send_keys(acled_email)\n",
    "        print(f\"Enter email: success\")\n",
    "        \n",
    "        # Fix: Use JavaScript click to bypass the overlapping element\n",
    "        submit_button = wait.until(\n",
    "            EC.presence_of_element_located((By.CSS_SELECTOR, \"button.btn-check-api-credentials\"))\n",
    "        )\n",
    "        driver.execute_script(\"arguments[0].click();\", submit_button)\n",
    "        \n",
    "        time.sleep(5)\n",
    "        print(\"File downloaded to the default browser download folder.\")\n",
    "        \n",
    "    except Exception as e:\n",
    "        print(f\"Error: {e}\")\n",
    "        driver.save_screenshot(\"credentials_error.png\")\n",
    "        \n",
    "    finally:\n",
    "        driver.close()\n",
    "\n",
    "if __name__ == \"__main__\":\n",
    "    click_and_enter_credentials()"
   ]
  }
 ],
 "metadata": {
  "language_info": {
   "name": "python"
  }
 },
 "nbformat": 4,
 "nbformat_minor": 5
}
