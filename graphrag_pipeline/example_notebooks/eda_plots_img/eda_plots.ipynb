{
 "cells": [
  {
   "cell_type": "code",
   "execution_count": 61,
   "id": "63555e5d",
   "metadata": {},
   "outputs": [
    {
     "name": "stdout",
     "output_type": "stream",
     "text": [
      "Data directory: c:\\Users\\matia\\OneDrive\\Escritorio\\Nastia_BSE\\Master_Thesis\\UN_Conflict_Report\\graphrag_pipeline\\example_notebooks\\..\\data\n",
      "Directory exists: True\n",
      "\n",
      "Found 11 parquet files:\n",
      "  - acled\\Acled_India_2025-04-03_2025-07-03.parquet\n",
      "    Size: 0.65 MB\n",
      "    Modified: 2025-07-03 19:06:38.296592\n",
      "\n",
      "  - acled\\Acled_Sudan_2025-04-03_2025-07-03.parquet\n",
      "    Size: 0.11 MB\n",
      "    Modified: 2025-07-03 19:06:38.298276\n",
      "\n",
      "  - acled\\Acled_United_States_2025-04-03_2025-07-03.parquet\n",
      "    Size: 0.66 MB\n",
      "    Modified: 2025-07-03 19:06:38.298276\n",
      "\n",
      "  - factal\\Factal_India_2025-04-03_2025-07-03.parquet\n",
      "    Size: 0.30 MB\n",
      "    Modified: 2025-07-03 20:04:16.332583\n",
      "\n",
      "  - factal\\Factal_Sudan_2025-04-03_2025-07-03.parquet\n",
      "    Size: 0.06 MB\n",
      "    Modified: 2025-07-03 20:00:32.020078\n",
      "\n",
      "  - factal\\Factal_United_States_2025-04-03_2025-07-03.parquet\n",
      "    Size: 0.56 MB\n",
      "    Modified: 2025-07-03 20:06:03.056631\n",
      "\n",
      "  - google_news\\google_news_India_2025-06-26_2025-07-01.parquet\n",
      "    Size: 0.79 MB\n",
      "    Modified: 2025-07-03 19:06:38.310784\n",
      "\n",
      "  - google_news\\google_news_India_2025-07-01_2025-07-03.parquet\n",
      "    Size: 0.29 MB\n",
      "    Modified: 2025-07-03 19:06:38.310784\n",
      "\n",
      "  - google_news\\google_news_Sudan_2025-07-01_2025-07-03.parquet\n",
      "    Size: 0.22 MB\n",
      "    Modified: 2025-07-03 22:05:59.985239\n",
      "\n",
      "  - google_news\\google_news_United_States_2025-06-26_2025-07-02.parquet\n",
      "    Size: 1.23 MB\n",
      "    Modified: 2025-07-03 19:06:38.316430\n",
      "\n",
      "  - google_news\\google_news_United_States_2025-07-02_2025-07-03.parquet\n",
      "    Size: 0.20 MB\n",
      "    Modified: 2025-07-03 19:06:38.316430\n",
      "\n"
     ]
    }
   ],
   "source": [
    "# Import Required Libraries\n",
    "import pandas as pd\n",
    "import polars as pl\n",
    "import plotly.express as px\n",
    "import plotly.graph_objects as go\n",
    "from plotly.subplots import make_subplots\n",
    "import numpy as np\n",
    "from pathlib import Path\n",
    "import os\n",
    "from datetime import datetime\n",
    "import warnings\n",
    "warnings.filterwarnings('ignore')\n",
    "\n",
    "# Set up paths\n",
    "data_dir = Path(\"../data\")\n",
    "print(f\"Data directory: {data_dir.absolute()}\")\n",
    "print(f\"Directory exists: {data_dir.exists()}\")\n",
    "\n",
    "# Find all parquet files\n",
    "parquet_files = list(data_dir.rglob(\"*.parquet\"))\n",
    "print(f\"\\nFound {len(parquet_files)} parquet files:\")\n",
    "for file in parquet_files:\n",
    "    print(f\"  - {file.relative_to(data_dir)}\")\n",
    "    print(f\"    Size: {file.stat().st_size / (1024*1024):.2f} MB\")\n",
    "    print(f\"    Modified: {datetime.fromtimestamp(file.stat().st_mtime)}\")\n",
    "    print()"
   ]
  },
  {
   "cell_type": "code",
   "execution_count": 62,
   "id": "76bd4572",
   "metadata": {},
   "outputs": [
    {
     "name": "stdout",
     "output_type": "stream",
     "text": [
      "Creating Event Type Distribution...\n"
     ]
    },
    {
     "data": {
      "application/vnd.plotly.v1+json": {
       "config": {
        "plotlyServerURL": "https://plot.ly"
       },
       "data": [
        {
         "cliponaxis": false,
         "customdata": [
          0.7183427998663549,
          2.355496157701303,
          5.061810892081524,
          9.97327096558637,
          11.27631139325092,
          70.61476779151353
         ],
         "hovertemplate": "<b>%{y}</b><br>Count: %{x:,}<br>Percentage: %{customdata:.1f}%<extra></extra>",
         "marker": {
          "color": [
           "#5b9bd5",
           "#5b9bd5",
           "#ffd700",
           "#ff6b35",
           "#ff6b35",
           "#d73600"
          ],
          "line": {
           "color": "white",
           "width": 0.5
          }
         },
         "orientation": "h",
         "text": [
          "<b>43</b> (0.7%)",
          "<b>141</b> (2.4%)",
          "<b>303</b> (5.1%)",
          "<b>597</b> (10.0%)",
          "<b>675</b> (11.3%)",
          "<b>4,227</b> (70.6%)"
         ],
         "textfont": {
          "size": 14
         },
         "textposition": "outside",
         "type": "bar",
         "x": [
          43,
          141,
          303,
          597,
          675,
          4227
         ],
         "y": [
          "Explosions/Remote violence",
          "Violence against civilians",
          "Battles",
          "Riots",
          "Strategic developments",
          "Protests"
         ]
        }
       ],
       "layout": {
        "annotations": [
         {
          "showarrow": false,
          "text": "Median: 450",
          "x": 450,
          "xanchor": "center",
          "xref": "x",
          "y": 1,
          "yanchor": "bottom",
          "yref": "y domain"
         }
        ],
        "bargap": 0.3,
        "font": {
         "color": "black",
         "family": "Times New Roman",
         "size": 16
        },
        "height": 400,
        "margin": {
         "b": 80,
         "l": 200,
         "r": 100,
         "t": 80
        },
        "paper_bgcolor": "white",
        "plot_bgcolor": "white",
        "shapes": [
         {
          "line": {
           "color": "gray",
           "dash": "dash",
           "width": 1
          },
          "type": "line",
          "x0": 450,
          "x1": 450,
          "xref": "x",
          "y0": 0,
          "y1": 1,
          "yref": "y domain"
         }
        ],
        "showlegend": false,
        "template": {
         "data": {
          "bar": [
           {
            "error_x": {
             "color": "#2a3f5f"
            },
            "error_y": {
             "color": "#2a3f5f"
            },
            "marker": {
             "line": {
              "color": "#E5ECF6",
              "width": 0.5
             },
             "pattern": {
              "fillmode": "overlay",
              "size": 10,
              "solidity": 0.2
             }
            },
            "type": "bar"
           }
          ],
          "barpolar": [
           {
            "marker": {
             "line": {
              "color": "#E5ECF6",
              "width": 0.5
             },
             "pattern": {
              "fillmode": "overlay",
              "size": 10,
              "solidity": 0.2
             }
            },
            "type": "barpolar"
           }
          ],
          "carpet": [
           {
            "aaxis": {
             "endlinecolor": "#2a3f5f",
             "gridcolor": "white",
             "linecolor": "white",
             "minorgridcolor": "white",
             "startlinecolor": "#2a3f5f"
            },
            "baxis": {
             "endlinecolor": "#2a3f5f",
             "gridcolor": "white",
             "linecolor": "white",
             "minorgridcolor": "white",
             "startlinecolor": "#2a3f5f"
            },
            "type": "carpet"
           }
          ],
          "choropleth": [
           {
            "colorbar": {
             "outlinewidth": 0,
             "ticks": ""
            },
            "type": "choropleth"
           }
          ],
          "contour": [
           {
            "colorbar": {
             "outlinewidth": 0,
             "ticks": ""
            },
            "colorscale": [
             [
              0,
              "#0d0887"
             ],
             [
              0.1111111111111111,
              "#46039f"
             ],
             [
              0.2222222222222222,
              "#7201a8"
             ],
             [
              0.3333333333333333,
              "#9c179e"
             ],
             [
              0.4444444444444444,
              "#bd3786"
             ],
             [
              0.5555555555555556,
              "#d8576b"
             ],
             [
              0.6666666666666666,
              "#ed7953"
             ],
             [
              0.7777777777777778,
              "#fb9f3a"
             ],
             [
              0.8888888888888888,
              "#fdca26"
             ],
             [
              1,
              "#f0f921"
             ]
            ],
            "type": "contour"
           }
          ],
          "contourcarpet": [
           {
            "colorbar": {
             "outlinewidth": 0,
             "ticks": ""
            },
            "type": "contourcarpet"
           }
          ],
          "heatmap": [
           {
            "colorbar": {
             "outlinewidth": 0,
             "ticks": ""
            },
            "colorscale": [
             [
              0,
              "#0d0887"
             ],
             [
              0.1111111111111111,
              "#46039f"
             ],
             [
              0.2222222222222222,
              "#7201a8"
             ],
             [
              0.3333333333333333,
              "#9c179e"
             ],
             [
              0.4444444444444444,
              "#bd3786"
             ],
             [
              0.5555555555555556,
              "#d8576b"
             ],
             [
              0.6666666666666666,
              "#ed7953"
             ],
             [
              0.7777777777777778,
              "#fb9f3a"
             ],
             [
              0.8888888888888888,
              "#fdca26"
             ],
             [
              1,
              "#f0f921"
             ]
            ],
            "type": "heatmap"
           }
          ],
          "histogram": [
           {
            "marker": {
             "pattern": {
              "fillmode": "overlay",
              "size": 10,
              "solidity": 0.2
             }
            },
            "type": "histogram"
           }
          ],
          "histogram2d": [
           {
            "colorbar": {
             "outlinewidth": 0,
             "ticks": ""
            },
            "colorscale": [
             [
              0,
              "#0d0887"
             ],
             [
              0.1111111111111111,
              "#46039f"
             ],
             [
              0.2222222222222222,
              "#7201a8"
             ],
             [
              0.3333333333333333,
              "#9c179e"
             ],
             [
              0.4444444444444444,
              "#bd3786"
             ],
             [
              0.5555555555555556,
              "#d8576b"
             ],
             [
              0.6666666666666666,
              "#ed7953"
             ],
             [
              0.7777777777777778,
              "#fb9f3a"
             ],
             [
              0.8888888888888888,
              "#fdca26"
             ],
             [
              1,
              "#f0f921"
             ]
            ],
            "type": "histogram2d"
           }
          ],
          "histogram2dcontour": [
           {
            "colorbar": {
             "outlinewidth": 0,
             "ticks": ""
            },
            "colorscale": [
             [
              0,
              "#0d0887"
             ],
             [
              0.1111111111111111,
              "#46039f"
             ],
             [
              0.2222222222222222,
              "#7201a8"
             ],
             [
              0.3333333333333333,
              "#9c179e"
             ],
             [
              0.4444444444444444,
              "#bd3786"
             ],
             [
              0.5555555555555556,
              "#d8576b"
             ],
             [
              0.6666666666666666,
              "#ed7953"
             ],
             [
              0.7777777777777778,
              "#fb9f3a"
             ],
             [
              0.8888888888888888,
              "#fdca26"
             ],
             [
              1,
              "#f0f921"
             ]
            ],
            "type": "histogram2dcontour"
           }
          ],
          "mesh3d": [
           {
            "colorbar": {
             "outlinewidth": 0,
             "ticks": ""
            },
            "type": "mesh3d"
           }
          ],
          "parcoords": [
           {
            "line": {
             "colorbar": {
              "outlinewidth": 0,
              "ticks": ""
             }
            },
            "type": "parcoords"
           }
          ],
          "pie": [
           {
            "automargin": true,
            "type": "pie"
           }
          ],
          "scatter": [
           {
            "fillpattern": {
             "fillmode": "overlay",
             "size": 10,
             "solidity": 0.2
            },
            "type": "scatter"
           }
          ],
          "scatter3d": [
           {
            "line": {
             "colorbar": {
              "outlinewidth": 0,
              "ticks": ""
             }
            },
            "marker": {
             "colorbar": {
              "outlinewidth": 0,
              "ticks": ""
             }
            },
            "type": "scatter3d"
           }
          ],
          "scattercarpet": [
           {
            "marker": {
             "colorbar": {
              "outlinewidth": 0,
              "ticks": ""
             }
            },
            "type": "scattercarpet"
           }
          ],
          "scattergeo": [
           {
            "marker": {
             "colorbar": {
              "outlinewidth": 0,
              "ticks": ""
             }
            },
            "type": "scattergeo"
           }
          ],
          "scattergl": [
           {
            "marker": {
             "colorbar": {
              "outlinewidth": 0,
              "ticks": ""
             }
            },
            "type": "scattergl"
           }
          ],
          "scattermap": [
           {
            "marker": {
             "colorbar": {
              "outlinewidth": 0,
              "ticks": ""
             }
            },
            "type": "scattermap"
           }
          ],
          "scattermapbox": [
           {
            "marker": {
             "colorbar": {
              "outlinewidth": 0,
              "ticks": ""
             }
            },
            "type": "scattermapbox"
           }
          ],
          "scatterpolar": [
           {
            "marker": {
             "colorbar": {
              "outlinewidth": 0,
              "ticks": ""
             }
            },
            "type": "scatterpolar"
           }
          ],
          "scatterpolargl": [
           {
            "marker": {
             "colorbar": {
              "outlinewidth": 0,
              "ticks": ""
             }
            },
            "type": "scatterpolargl"
           }
          ],
          "scatterternary": [
           {
            "marker": {
             "colorbar": {
              "outlinewidth": 0,
              "ticks": ""
             }
            },
            "type": "scatterternary"
           }
          ],
          "surface": [
           {
            "colorbar": {
             "outlinewidth": 0,
             "ticks": ""
            },
            "colorscale": [
             [
              0,
              "#0d0887"
             ],
             [
              0.1111111111111111,
              "#46039f"
             ],
             [
              0.2222222222222222,
              "#7201a8"
             ],
             [
              0.3333333333333333,
              "#9c179e"
             ],
             [
              0.4444444444444444,
              "#bd3786"
             ],
             [
              0.5555555555555556,
              "#d8576b"
             ],
             [
              0.6666666666666666,
              "#ed7953"
             ],
             [
              0.7777777777777778,
              "#fb9f3a"
             ],
             [
              0.8888888888888888,
              "#fdca26"
             ],
             [
              1,
              "#f0f921"
             ]
            ],
            "type": "surface"
           }
          ],
          "table": [
           {
            "cells": {
             "fill": {
              "color": "#EBF0F8"
             },
             "line": {
              "color": "white"
             }
            },
            "header": {
             "fill": {
              "color": "#C8D4E3"
             },
             "line": {
              "color": "white"
             }
            },
            "type": "table"
           }
          ]
         },
         "layout": {
          "annotationdefaults": {
           "arrowcolor": "#2a3f5f",
           "arrowhead": 0,
           "arrowwidth": 1
          },
          "autotypenumbers": "strict",
          "coloraxis": {
           "colorbar": {
            "outlinewidth": 0,
            "ticks": ""
           }
          },
          "colorscale": {
           "diverging": [
            [
             0,
             "#8e0152"
            ],
            [
             0.1,
             "#c51b7d"
            ],
            [
             0.2,
             "#de77ae"
            ],
            [
             0.3,
             "#f1b6da"
            ],
            [
             0.4,
             "#fde0ef"
            ],
            [
             0.5,
             "#f7f7f7"
            ],
            [
             0.6,
             "#e6f5d0"
            ],
            [
             0.7,
             "#b8e186"
            ],
            [
             0.8,
             "#7fbc41"
            ],
            [
             0.9,
             "#4d9221"
            ],
            [
             1,
             "#276419"
            ]
           ],
           "sequential": [
            [
             0,
             "#0d0887"
            ],
            [
             0.1111111111111111,
             "#46039f"
            ],
            [
             0.2222222222222222,
             "#7201a8"
            ],
            [
             0.3333333333333333,
             "#9c179e"
            ],
            [
             0.4444444444444444,
             "#bd3786"
            ],
            [
             0.5555555555555556,
             "#d8576b"
            ],
            [
             0.6666666666666666,
             "#ed7953"
            ],
            [
             0.7777777777777778,
             "#fb9f3a"
            ],
            [
             0.8888888888888888,
             "#fdca26"
            ],
            [
             1,
             "#f0f921"
            ]
           ],
           "sequentialminus": [
            [
             0,
             "#0d0887"
            ],
            [
             0.1111111111111111,
             "#46039f"
            ],
            [
             0.2222222222222222,
             "#7201a8"
            ],
            [
             0.3333333333333333,
             "#9c179e"
            ],
            [
             0.4444444444444444,
             "#bd3786"
            ],
            [
             0.5555555555555556,
             "#d8576b"
            ],
            [
             0.6666666666666666,
             "#ed7953"
            ],
            [
             0.7777777777777778,
             "#fb9f3a"
            ],
            [
             0.8888888888888888,
             "#fdca26"
            ],
            [
             1,
             "#f0f921"
            ]
           ]
          },
          "colorway": [
           "#636efa",
           "#EF553B",
           "#00cc96",
           "#ab63fa",
           "#FFA15A",
           "#19d3f3",
           "#FF6692",
           "#B6E880",
           "#FF97FF",
           "#FECB52"
          ],
          "font": {
           "color": "#2a3f5f"
          },
          "geo": {
           "bgcolor": "white",
           "lakecolor": "white",
           "landcolor": "#E5ECF6",
           "showlakes": true,
           "showland": true,
           "subunitcolor": "white"
          },
          "hoverlabel": {
           "align": "left"
          },
          "hovermode": "closest",
          "mapbox": {
           "style": "light"
          },
          "paper_bgcolor": "white",
          "plot_bgcolor": "#E5ECF6",
          "polar": {
           "angularaxis": {
            "gridcolor": "white",
            "linecolor": "white",
            "ticks": ""
           },
           "bgcolor": "#E5ECF6",
           "radialaxis": {
            "gridcolor": "white",
            "linecolor": "white",
            "ticks": ""
           }
          },
          "scene": {
           "xaxis": {
            "backgroundcolor": "#E5ECF6",
            "gridcolor": "white",
            "gridwidth": 2,
            "linecolor": "white",
            "showbackground": true,
            "ticks": "",
            "zerolinecolor": "white"
           },
           "yaxis": {
            "backgroundcolor": "#E5ECF6",
            "gridcolor": "white",
            "gridwidth": 2,
            "linecolor": "white",
            "showbackground": true,
            "ticks": "",
            "zerolinecolor": "white"
           },
           "zaxis": {
            "backgroundcolor": "#E5ECF6",
            "gridcolor": "white",
            "gridwidth": 2,
            "linecolor": "white",
            "showbackground": true,
            "ticks": "",
            "zerolinecolor": "white"
           }
          },
          "shapedefaults": {
           "line": {
            "color": "#2a3f5f"
           }
          },
          "ternary": {
           "aaxis": {
            "gridcolor": "white",
            "linecolor": "white",
            "ticks": ""
           },
           "baxis": {
            "gridcolor": "white",
            "linecolor": "white",
            "ticks": ""
           },
           "bgcolor": "#E5ECF6",
           "caxis": {
            "gridcolor": "white",
            "linecolor": "white",
            "ticks": ""
           }
          },
          "title": {
           "x": 0.05
          },
          "xaxis": {
           "automargin": true,
           "gridcolor": "white",
           "linecolor": "white",
           "ticks": "",
           "title": {
            "standoff": 15
           },
           "zerolinecolor": "white",
           "zerolinewidth": 2
          },
          "yaxis": {
           "automargin": true,
           "gridcolor": "white",
           "linecolor": "white",
           "ticks": "",
           "title": {
            "standoff": 15
           },
           "zerolinecolor": "white",
           "zerolinewidth": 2
          }
         }
        },
        "uniformtext": {
         "minsize": 16,
         "mode": "show"
        },
        "width": 1200,
        "xaxis": {
         "automargin": true,
         "gridcolor": "lightgray",
         "range": [
          0,
          6340.5
         ],
         "showgrid": false,
         "showticklabels": true,
         "tickfont": {
          "size": 16
         },
         "title": {
          "text": "Number of Events"
         }
        },
        "yaxis": {
         "automargin": true,
         "categoryarray": [
          "Explosions/Remote violence",
          "Violence against civilians",
          "Battles",
          "Riots",
          "Strategic developments",
          "Protests"
         ],
         "categoryorder": "array",
         "showgrid": false,
         "side": "left",
         "tickfont": {
          "size": 16
         },
         "tickmode": "linear",
         "title": {
          "text": "Event Type"
         }
        }
       }
      }
     },
     "metadata": {},
     "output_type": "display_data"
    },
    {
     "name": "stdout",
     "output_type": "stream",
     "text": [
      "Event types found: 6\n",
      "\n",
      "Creating Sub Event Type Distribution...\n"
     ]
    },
    {
     "data": {
      "application/vnd.plotly.v1+json": {
       "config": {
        "plotlyServerURL": "https://plot.ly"
       },
       "data": [
        {
         "cliponaxis": false,
         "customdata": [
          0.11693952555963917,
          0.18376211159371866,
          0.2505846976277982,
          0.2505846976277982,
          0.4677581022385567,
          0.9188105579685933,
          1.536919478783829,
          2.071500167056465,
          2.355496157701303,
          2.8733711994654194,
          3.341129301703976,
          5.028399599064484,
          6.080855329101236,
          6.632141663882392,
          67.72469094553959
         ],
         "hovertemplate": "<b>%{y}</b><br>Count: %{x:,}<br>Percentage: %{customdata:.1f}%<extra></extra>",
         "marker": {
          "color": [
           "#5b9bd5",
           "#5b9bd5",
           "#5b9bd5",
           "#5b9bd5",
           "#5b9bd5",
           "#5b9bd5",
           "#5b9bd5",
           "#5b9bd5",
           "#5b9bd5",
           "#5b9bd5",
           "#5b9bd5",
           "#ffd700",
           "#ffd700",
           "#ffd700",
           "#d73600"
          ],
          "line": {
           "color": "white",
           "width": 0.5
          }
         },
         "orientation": "h",
         "text": [
          "<b>7</b> (0.1%)",
          "<b>11</b> (0.2%)",
          "<b>15</b> (0.3%)",
          "<b>15</b> (0.3%)",
          "<b>28</b> (0.5%)",
          "<b>55</b> (0.9%)",
          "<b>92</b> (1.5%)",
          "<b>124</b> (2.1%)",
          "<b>141</b> (2.4%)",
          "<b>172</b> (2.9%)",
          "<b>200</b> (3.3%)",
          "<b>301</b> (5.0%)",
          "<b>364</b> (6.1%)",
          "<b>397</b> (6.6%)",
          "<b>4,054</b> (67.7%)"
         ],
         "textfont": {
          "size": 14
         },
         "textposition": "outside",
         "type": "bar",
         "x": [
          7,
          11,
          15,
          15,
          28,
          55,
          92,
          124,
          141,
          172,
          200,
          301,
          364,
          397,
          4054
         ],
         "y": [
          "Change to group/activity",
          "Air/drone strike",
          "Abduction/forced disappearance",
          "Agreement",
          "Remote explosive/landmine/IED",
          "Arrests",
          "Looting/property destruction",
          "Attack",
          "Other",
          "Protest with intervention",
          "Violent demonstration",
          "Armed clash",
          "Disrupted weapons use",
          "Mob violence",
          "Peaceful protest"
         ]
        }
       ],
       "layout": {
        "annotations": [
         {
          "showarrow": false,
          "text": "Median: 124",
          "x": 124,
          "xanchor": "center",
          "xref": "x",
          "y": 1,
          "yanchor": "bottom",
          "yref": "y domain"
         }
        ],
        "bargap": 0.3,
        "font": {
         "color": "black",
         "family": "Times New Roman",
         "size": 16
        },
        "height": 750,
        "margin": {
         "b": 80,
         "l": 200,
         "r": 100,
         "t": 80
        },
        "paper_bgcolor": "white",
        "plot_bgcolor": "white",
        "shapes": [
         {
          "line": {
           "color": "gray",
           "dash": "dash",
           "width": 1
          },
          "type": "line",
          "x0": 124,
          "x1": 124,
          "xref": "x",
          "y0": 0,
          "y1": 1,
          "yref": "y domain"
         }
        ],
        "showlegend": false,
        "template": {
         "data": {
          "bar": [
           {
            "error_x": {
             "color": "#2a3f5f"
            },
            "error_y": {
             "color": "#2a3f5f"
            },
            "marker": {
             "line": {
              "color": "#E5ECF6",
              "width": 0.5
             },
             "pattern": {
              "fillmode": "overlay",
              "size": 10,
              "solidity": 0.2
             }
            },
            "type": "bar"
           }
          ],
          "barpolar": [
           {
            "marker": {
             "line": {
              "color": "#E5ECF6",
              "width": 0.5
             },
             "pattern": {
              "fillmode": "overlay",
              "size": 10,
              "solidity": 0.2
             }
            },
            "type": "barpolar"
           }
          ],
          "carpet": [
           {
            "aaxis": {
             "endlinecolor": "#2a3f5f",
             "gridcolor": "white",
             "linecolor": "white",
             "minorgridcolor": "white",
             "startlinecolor": "#2a3f5f"
            },
            "baxis": {
             "endlinecolor": "#2a3f5f",
             "gridcolor": "white",
             "linecolor": "white",
             "minorgridcolor": "white",
             "startlinecolor": "#2a3f5f"
            },
            "type": "carpet"
           }
          ],
          "choropleth": [
           {
            "colorbar": {
             "outlinewidth": 0,
             "ticks": ""
            },
            "type": "choropleth"
           }
          ],
          "contour": [
           {
            "colorbar": {
             "outlinewidth": 0,
             "ticks": ""
            },
            "colorscale": [
             [
              0,
              "#0d0887"
             ],
             [
              0.1111111111111111,
              "#46039f"
             ],
             [
              0.2222222222222222,
              "#7201a8"
             ],
             [
              0.3333333333333333,
              "#9c179e"
             ],
             [
              0.4444444444444444,
              "#bd3786"
             ],
             [
              0.5555555555555556,
              "#d8576b"
             ],
             [
              0.6666666666666666,
              "#ed7953"
             ],
             [
              0.7777777777777778,
              "#fb9f3a"
             ],
             [
              0.8888888888888888,
              "#fdca26"
             ],
             [
              1,
              "#f0f921"
             ]
            ],
            "type": "contour"
           }
          ],
          "contourcarpet": [
           {
            "colorbar": {
             "outlinewidth": 0,
             "ticks": ""
            },
            "type": "contourcarpet"
           }
          ],
          "heatmap": [
           {
            "colorbar": {
             "outlinewidth": 0,
             "ticks": ""
            },
            "colorscale": [
             [
              0,
              "#0d0887"
             ],
             [
              0.1111111111111111,
              "#46039f"
             ],
             [
              0.2222222222222222,
              "#7201a8"
             ],
             [
              0.3333333333333333,
              "#9c179e"
             ],
             [
              0.4444444444444444,
              "#bd3786"
             ],
             [
              0.5555555555555556,
              "#d8576b"
             ],
             [
              0.6666666666666666,
              "#ed7953"
             ],
             [
              0.7777777777777778,
              "#fb9f3a"
             ],
             [
              0.8888888888888888,
              "#fdca26"
             ],
             [
              1,
              "#f0f921"
             ]
            ],
            "type": "heatmap"
           }
          ],
          "histogram": [
           {
            "marker": {
             "pattern": {
              "fillmode": "overlay",
              "size": 10,
              "solidity": 0.2
             }
            },
            "type": "histogram"
           }
          ],
          "histogram2d": [
           {
            "colorbar": {
             "outlinewidth": 0,
             "ticks": ""
            },
            "colorscale": [
             [
              0,
              "#0d0887"
             ],
             [
              0.1111111111111111,
              "#46039f"
             ],
             [
              0.2222222222222222,
              "#7201a8"
             ],
             [
              0.3333333333333333,
              "#9c179e"
             ],
             [
              0.4444444444444444,
              "#bd3786"
             ],
             [
              0.5555555555555556,
              "#d8576b"
             ],
             [
              0.6666666666666666,
              "#ed7953"
             ],
             [
              0.7777777777777778,
              "#fb9f3a"
             ],
             [
              0.8888888888888888,
              "#fdca26"
             ],
             [
              1,
              "#f0f921"
             ]
            ],
            "type": "histogram2d"
           }
          ],
          "histogram2dcontour": [
           {
            "colorbar": {
             "outlinewidth": 0,
             "ticks": ""
            },
            "colorscale": [
             [
              0,
              "#0d0887"
             ],
             [
              0.1111111111111111,
              "#46039f"
             ],
             [
              0.2222222222222222,
              "#7201a8"
             ],
             [
              0.3333333333333333,
              "#9c179e"
             ],
             [
              0.4444444444444444,
              "#bd3786"
             ],
             [
              0.5555555555555556,
              "#d8576b"
             ],
             [
              0.6666666666666666,
              "#ed7953"
             ],
             [
              0.7777777777777778,
              "#fb9f3a"
             ],
             [
              0.8888888888888888,
              "#fdca26"
             ],
             [
              1,
              "#f0f921"
             ]
            ],
            "type": "histogram2dcontour"
           }
          ],
          "mesh3d": [
           {
            "colorbar": {
             "outlinewidth": 0,
             "ticks": ""
            },
            "type": "mesh3d"
           }
          ],
          "parcoords": [
           {
            "line": {
             "colorbar": {
              "outlinewidth": 0,
              "ticks": ""
             }
            },
            "type": "parcoords"
           }
          ],
          "pie": [
           {
            "automargin": true,
            "type": "pie"
           }
          ],
          "scatter": [
           {
            "fillpattern": {
             "fillmode": "overlay",
             "size": 10,
             "solidity": 0.2
            },
            "type": "scatter"
           }
          ],
          "scatter3d": [
           {
            "line": {
             "colorbar": {
              "outlinewidth": 0,
              "ticks": ""
             }
            },
            "marker": {
             "colorbar": {
              "outlinewidth": 0,
              "ticks": ""
             }
            },
            "type": "scatter3d"
           }
          ],
          "scattercarpet": [
           {
            "marker": {
             "colorbar": {
              "outlinewidth": 0,
              "ticks": ""
             }
            },
            "type": "scattercarpet"
           }
          ],
          "scattergeo": [
           {
            "marker": {
             "colorbar": {
              "outlinewidth": 0,
              "ticks": ""
             }
            },
            "type": "scattergeo"
           }
          ],
          "scattergl": [
           {
            "marker": {
             "colorbar": {
              "outlinewidth": 0,
              "ticks": ""
             }
            },
            "type": "scattergl"
           }
          ],
          "scattermap": [
           {
            "marker": {
             "colorbar": {
              "outlinewidth": 0,
              "ticks": ""
             }
            },
            "type": "scattermap"
           }
          ],
          "scattermapbox": [
           {
            "marker": {
             "colorbar": {
              "outlinewidth": 0,
              "ticks": ""
             }
            },
            "type": "scattermapbox"
           }
          ],
          "scatterpolar": [
           {
            "marker": {
             "colorbar": {
              "outlinewidth": 0,
              "ticks": ""
             }
            },
            "type": "scatterpolar"
           }
          ],
          "scatterpolargl": [
           {
            "marker": {
             "colorbar": {
              "outlinewidth": 0,
              "ticks": ""
             }
            },
            "type": "scatterpolargl"
           }
          ],
          "scatterternary": [
           {
            "marker": {
             "colorbar": {
              "outlinewidth": 0,
              "ticks": ""
             }
            },
            "type": "scatterternary"
           }
          ],
          "surface": [
           {
            "colorbar": {
             "outlinewidth": 0,
             "ticks": ""
            },
            "colorscale": [
             [
              0,
              "#0d0887"
             ],
             [
              0.1111111111111111,
              "#46039f"
             ],
             [
              0.2222222222222222,
              "#7201a8"
             ],
             [
              0.3333333333333333,
              "#9c179e"
             ],
             [
              0.4444444444444444,
              "#bd3786"
             ],
             [
              0.5555555555555556,
              "#d8576b"
             ],
             [
              0.6666666666666666,
              "#ed7953"
             ],
             [
              0.7777777777777778,
              "#fb9f3a"
             ],
             [
              0.8888888888888888,
              "#fdca26"
             ],
             [
              1,
              "#f0f921"
             ]
            ],
            "type": "surface"
           }
          ],
          "table": [
           {
            "cells": {
             "fill": {
              "color": "#EBF0F8"
             },
             "line": {
              "color": "white"
             }
            },
            "header": {
             "fill": {
              "color": "#C8D4E3"
             },
             "line": {
              "color": "white"
             }
            },
            "type": "table"
           }
          ]
         },
         "layout": {
          "annotationdefaults": {
           "arrowcolor": "#2a3f5f",
           "arrowhead": 0,
           "arrowwidth": 1
          },
          "autotypenumbers": "strict",
          "coloraxis": {
           "colorbar": {
            "outlinewidth": 0,
            "ticks": ""
           }
          },
          "colorscale": {
           "diverging": [
            [
             0,
             "#8e0152"
            ],
            [
             0.1,
             "#c51b7d"
            ],
            [
             0.2,
             "#de77ae"
            ],
            [
             0.3,
             "#f1b6da"
            ],
            [
             0.4,
             "#fde0ef"
            ],
            [
             0.5,
             "#f7f7f7"
            ],
            [
             0.6,
             "#e6f5d0"
            ],
            [
             0.7,
             "#b8e186"
            ],
            [
             0.8,
             "#7fbc41"
            ],
            [
             0.9,
             "#4d9221"
            ],
            [
             1,
             "#276419"
            ]
           ],
           "sequential": [
            [
             0,
             "#0d0887"
            ],
            [
             0.1111111111111111,
             "#46039f"
            ],
            [
             0.2222222222222222,
             "#7201a8"
            ],
            [
             0.3333333333333333,
             "#9c179e"
            ],
            [
             0.4444444444444444,
             "#bd3786"
            ],
            [
             0.5555555555555556,
             "#d8576b"
            ],
            [
             0.6666666666666666,
             "#ed7953"
            ],
            [
             0.7777777777777778,
             "#fb9f3a"
            ],
            [
             0.8888888888888888,
             "#fdca26"
            ],
            [
             1,
             "#f0f921"
            ]
           ],
           "sequentialminus": [
            [
             0,
             "#0d0887"
            ],
            [
             0.1111111111111111,
             "#46039f"
            ],
            [
             0.2222222222222222,
             "#7201a8"
            ],
            [
             0.3333333333333333,
             "#9c179e"
            ],
            [
             0.4444444444444444,
             "#bd3786"
            ],
            [
             0.5555555555555556,
             "#d8576b"
            ],
            [
             0.6666666666666666,
             "#ed7953"
            ],
            [
             0.7777777777777778,
             "#fb9f3a"
            ],
            [
             0.8888888888888888,
             "#fdca26"
            ],
            [
             1,
             "#f0f921"
            ]
           ]
          },
          "colorway": [
           "#636efa",
           "#EF553B",
           "#00cc96",
           "#ab63fa",
           "#FFA15A",
           "#19d3f3",
           "#FF6692",
           "#B6E880",
           "#FF97FF",
           "#FECB52"
          ],
          "font": {
           "color": "#2a3f5f"
          },
          "geo": {
           "bgcolor": "white",
           "lakecolor": "white",
           "landcolor": "#E5ECF6",
           "showlakes": true,
           "showland": true,
           "subunitcolor": "white"
          },
          "hoverlabel": {
           "align": "left"
          },
          "hovermode": "closest",
          "mapbox": {
           "style": "light"
          },
          "paper_bgcolor": "white",
          "plot_bgcolor": "#E5ECF6",
          "polar": {
           "angularaxis": {
            "gridcolor": "white",
            "linecolor": "white",
            "ticks": ""
           },
           "bgcolor": "#E5ECF6",
           "radialaxis": {
            "gridcolor": "white",
            "linecolor": "white",
            "ticks": ""
           }
          },
          "scene": {
           "xaxis": {
            "backgroundcolor": "#E5ECF6",
            "gridcolor": "white",
            "gridwidth": 2,
            "linecolor": "white",
            "showbackground": true,
            "ticks": "",
            "zerolinecolor": "white"
           },
           "yaxis": {
            "backgroundcolor": "#E5ECF6",
            "gridcolor": "white",
            "gridwidth": 2,
            "linecolor": "white",
            "showbackground": true,
            "ticks": "",
            "zerolinecolor": "white"
           },
           "zaxis": {
            "backgroundcolor": "#E5ECF6",
            "gridcolor": "white",
            "gridwidth": 2,
            "linecolor": "white",
            "showbackground": true,
            "ticks": "",
            "zerolinecolor": "white"
           }
          },
          "shapedefaults": {
           "line": {
            "color": "#2a3f5f"
           }
          },
          "ternary": {
           "aaxis": {
            "gridcolor": "white",
            "linecolor": "white",
            "ticks": ""
           },
           "baxis": {
            "gridcolor": "white",
            "linecolor": "white",
            "ticks": ""
           },
           "bgcolor": "#E5ECF6",
           "caxis": {
            "gridcolor": "white",
            "linecolor": "white",
            "ticks": ""
           }
          },
          "title": {
           "x": 0.05
          },
          "xaxis": {
           "automargin": true,
           "gridcolor": "white",
           "linecolor": "white",
           "ticks": "",
           "title": {
            "standoff": 15
           },
           "zerolinecolor": "white",
           "zerolinewidth": 2
          },
          "yaxis": {
           "automargin": true,
           "gridcolor": "white",
           "linecolor": "white",
           "ticks": "",
           "title": {
            "standoff": 15
           },
           "zerolinecolor": "white",
           "zerolinewidth": 2
          }
         }
        },
        "uniformtext": {
         "minsize": 16,
         "mode": "show"
        },
        "width": 1200,
        "xaxis": {
         "automargin": true,
         "gridcolor": "lightgray",
         "range": [
          0,
          6081
         ],
         "showgrid": false,
         "showticklabels": true,
         "tickfont": {
          "size": 16
         },
         "title": {
          "text": "Number of Events"
         }
        },
        "yaxis": {
         "automargin": true,
         "categoryarray": [
          "Change to group/activity",
          "Air/drone strike",
          "Abduction/forced disappearance",
          "Agreement",
          "Remote explosive/landmine/IED",
          "Arrests",
          "Looting/property destruction",
          "Attack",
          "Other",
          "Protest with intervention",
          "Violent demonstration",
          "Armed clash",
          "Disrupted weapons use",
          "Mob violence",
          "Peaceful protest"
         ],
         "categoryorder": "array",
         "showgrid": false,
         "side": "left",
         "tickfont": {
          "size": 16
         },
         "tickmode": "linear",
         "title": {
          "text": "Sub Event Type"
         }
        }
       }
      }
     },
     "metadata": {},
     "output_type": "display_data"
    },
    {
     "name": "stdout",
     "output_type": "stream",
     "text": [
      "Total sub-event types: 20\n",
      "Showing top 15 sub-event types\n",
      "\n",
      "Creating Fatalities Distribution...\n"
     ]
    },
    {
     "data": {
      "application/vnd.plotly.v1+json": {
       "config": {
        "plotlyServerURL": "https://plot.ly"
       },
       "data": [
        {
         "cliponaxis": false,
         "customdata": [
          0.01670564650851988,
          0.03341129301703976,
          0.06682258603407952,
          0.6348145673237554,
          2.73972602739726,
          96.50851987971934
         ],
         "hovertemplate": "<b>%{y}</b><br>Count: %{x:,}<br>Percentage: %{customdata:.1f}%<extra></extra>",
         "marker": {
          "color": [
           "#5b9bd5",
           "#5b9bd5",
           "#5b9bd5",
           "#5b9bd5",
           "#5b9bd5",
           "#d73600"
          ],
          "line": {
           "color": "white",
           "width": 0.5
          }
         },
         "orientation": "h",
         "text": [
          "<b>1</b> (0.0%)",
          "<b>2</b> (0.0%)",
          "<b>4</b> (0.1%)",
          "<b>38</b> (0.6%)",
          "<b>164</b> (2.7%)",
          "<b>5,777</b> (96.5%)"
         ],
         "textfont": {
          "size": 14
         },
         "textposition": "outside",
         "type": "bar",
         "x": [
          1,
          2,
          4,
          38,
          164,
          5777
         ],
         "y": [
          "11-25 fatalities",
          "26-50 fatalities",
          "6-10 fatalities",
          "2-5 fatalities",
          "1 fatality",
          "0 fatalities"
         ]
        }
       ],
       "layout": {
        "annotations": [
         {
          "showarrow": false,
          "text": "Median: 21",
          "x": 21,
          "xanchor": "center",
          "xref": "x",
          "y": 1,
          "yanchor": "bottom",
          "yref": "y domain"
         }
        ],
        "bargap": 0.3,
        "font": {
         "color": "black",
         "family": "Times New Roman",
         "size": 16
        },
        "height": 400,
        "margin": {
         "b": 80,
         "l": 200,
         "r": 100,
         "t": 80
        },
        "paper_bgcolor": "white",
        "plot_bgcolor": "white",
        "shapes": [
         {
          "line": {
           "color": "gray",
           "dash": "dash",
           "width": 1
          },
          "type": "line",
          "x0": 21,
          "x1": 21,
          "xref": "x",
          "y0": 0,
          "y1": 1,
          "yref": "y domain"
         }
        ],
        "showlegend": false,
        "template": {
         "data": {
          "bar": [
           {
            "error_x": {
             "color": "#2a3f5f"
            },
            "error_y": {
             "color": "#2a3f5f"
            },
            "marker": {
             "line": {
              "color": "#E5ECF6",
              "width": 0.5
             },
             "pattern": {
              "fillmode": "overlay",
              "size": 10,
              "solidity": 0.2
             }
            },
            "type": "bar"
           }
          ],
          "barpolar": [
           {
            "marker": {
             "line": {
              "color": "#E5ECF6",
              "width": 0.5
             },
             "pattern": {
              "fillmode": "overlay",
              "size": 10,
              "solidity": 0.2
             }
            },
            "type": "barpolar"
           }
          ],
          "carpet": [
           {
            "aaxis": {
             "endlinecolor": "#2a3f5f",
             "gridcolor": "white",
             "linecolor": "white",
             "minorgridcolor": "white",
             "startlinecolor": "#2a3f5f"
            },
            "baxis": {
             "endlinecolor": "#2a3f5f",
             "gridcolor": "white",
             "linecolor": "white",
             "minorgridcolor": "white",
             "startlinecolor": "#2a3f5f"
            },
            "type": "carpet"
           }
          ],
          "choropleth": [
           {
            "colorbar": {
             "outlinewidth": 0,
             "ticks": ""
            },
            "type": "choropleth"
           }
          ],
          "contour": [
           {
            "colorbar": {
             "outlinewidth": 0,
             "ticks": ""
            },
            "colorscale": [
             [
              0,
              "#0d0887"
             ],
             [
              0.1111111111111111,
              "#46039f"
             ],
             [
              0.2222222222222222,
              "#7201a8"
             ],
             [
              0.3333333333333333,
              "#9c179e"
             ],
             [
              0.4444444444444444,
              "#bd3786"
             ],
             [
              0.5555555555555556,
              "#d8576b"
             ],
             [
              0.6666666666666666,
              "#ed7953"
             ],
             [
              0.7777777777777778,
              "#fb9f3a"
             ],
             [
              0.8888888888888888,
              "#fdca26"
             ],
             [
              1,
              "#f0f921"
             ]
            ],
            "type": "contour"
           }
          ],
          "contourcarpet": [
           {
            "colorbar": {
             "outlinewidth": 0,
             "ticks": ""
            },
            "type": "contourcarpet"
           }
          ],
          "heatmap": [
           {
            "colorbar": {
             "outlinewidth": 0,
             "ticks": ""
            },
            "colorscale": [
             [
              0,
              "#0d0887"
             ],
             [
              0.1111111111111111,
              "#46039f"
             ],
             [
              0.2222222222222222,
              "#7201a8"
             ],
             [
              0.3333333333333333,
              "#9c179e"
             ],
             [
              0.4444444444444444,
              "#bd3786"
             ],
             [
              0.5555555555555556,
              "#d8576b"
             ],
             [
              0.6666666666666666,
              "#ed7953"
             ],
             [
              0.7777777777777778,
              "#fb9f3a"
             ],
             [
              0.8888888888888888,
              "#fdca26"
             ],
             [
              1,
              "#f0f921"
             ]
            ],
            "type": "heatmap"
           }
          ],
          "histogram": [
           {
            "marker": {
             "pattern": {
              "fillmode": "overlay",
              "size": 10,
              "solidity": 0.2
             }
            },
            "type": "histogram"
           }
          ],
          "histogram2d": [
           {
            "colorbar": {
             "outlinewidth": 0,
             "ticks": ""
            },
            "colorscale": [
             [
              0,
              "#0d0887"
             ],
             [
              0.1111111111111111,
              "#46039f"
             ],
             [
              0.2222222222222222,
              "#7201a8"
             ],
             [
              0.3333333333333333,
              "#9c179e"
             ],
             [
              0.4444444444444444,
              "#bd3786"
             ],
             [
              0.5555555555555556,
              "#d8576b"
             ],
             [
              0.6666666666666666,
              "#ed7953"
             ],
             [
              0.7777777777777778,
              "#fb9f3a"
             ],
             [
              0.8888888888888888,
              "#fdca26"
             ],
             [
              1,
              "#f0f921"
             ]
            ],
            "type": "histogram2d"
           }
          ],
          "histogram2dcontour": [
           {
            "colorbar": {
             "outlinewidth": 0,
             "ticks": ""
            },
            "colorscale": [
             [
              0,
              "#0d0887"
             ],
             [
              0.1111111111111111,
              "#46039f"
             ],
             [
              0.2222222222222222,
              "#7201a8"
             ],
             [
              0.3333333333333333,
              "#9c179e"
             ],
             [
              0.4444444444444444,
              "#bd3786"
             ],
             [
              0.5555555555555556,
              "#d8576b"
             ],
             [
              0.6666666666666666,
              "#ed7953"
             ],
             [
              0.7777777777777778,
              "#fb9f3a"
             ],
             [
              0.8888888888888888,
              "#fdca26"
             ],
             [
              1,
              "#f0f921"
             ]
            ],
            "type": "histogram2dcontour"
           }
          ],
          "mesh3d": [
           {
            "colorbar": {
             "outlinewidth": 0,
             "ticks": ""
            },
            "type": "mesh3d"
           }
          ],
          "parcoords": [
           {
            "line": {
             "colorbar": {
              "outlinewidth": 0,
              "ticks": ""
             }
            },
            "type": "parcoords"
           }
          ],
          "pie": [
           {
            "automargin": true,
            "type": "pie"
           }
          ],
          "scatter": [
           {
            "fillpattern": {
             "fillmode": "overlay",
             "size": 10,
             "solidity": 0.2
            },
            "type": "scatter"
           }
          ],
          "scatter3d": [
           {
            "line": {
             "colorbar": {
              "outlinewidth": 0,
              "ticks": ""
             }
            },
            "marker": {
             "colorbar": {
              "outlinewidth": 0,
              "ticks": ""
             }
            },
            "type": "scatter3d"
           }
          ],
          "scattercarpet": [
           {
            "marker": {
             "colorbar": {
              "outlinewidth": 0,
              "ticks": ""
             }
            },
            "type": "scattercarpet"
           }
          ],
          "scattergeo": [
           {
            "marker": {
             "colorbar": {
              "outlinewidth": 0,
              "ticks": ""
             }
            },
            "type": "scattergeo"
           }
          ],
          "scattergl": [
           {
            "marker": {
             "colorbar": {
              "outlinewidth": 0,
              "ticks": ""
             }
            },
            "type": "scattergl"
           }
          ],
          "scattermap": [
           {
            "marker": {
             "colorbar": {
              "outlinewidth": 0,
              "ticks": ""
             }
            },
            "type": "scattermap"
           }
          ],
          "scattermapbox": [
           {
            "marker": {
             "colorbar": {
              "outlinewidth": 0,
              "ticks": ""
             }
            },
            "type": "scattermapbox"
           }
          ],
          "scatterpolar": [
           {
            "marker": {
             "colorbar": {
              "outlinewidth": 0,
              "ticks": ""
             }
            },
            "type": "scatterpolar"
           }
          ],
          "scatterpolargl": [
           {
            "marker": {
             "colorbar": {
              "outlinewidth": 0,
              "ticks": ""
             }
            },
            "type": "scatterpolargl"
           }
          ],
          "scatterternary": [
           {
            "marker": {
             "colorbar": {
              "outlinewidth": 0,
              "ticks": ""
             }
            },
            "type": "scatterternary"
           }
          ],
          "surface": [
           {
            "colorbar": {
             "outlinewidth": 0,
             "ticks": ""
            },
            "colorscale": [
             [
              0,
              "#0d0887"
             ],
             [
              0.1111111111111111,
              "#46039f"
             ],
             [
              0.2222222222222222,
              "#7201a8"
             ],
             [
              0.3333333333333333,
              "#9c179e"
             ],
             [
              0.4444444444444444,
              "#bd3786"
             ],
             [
              0.5555555555555556,
              "#d8576b"
             ],
             [
              0.6666666666666666,
              "#ed7953"
             ],
             [
              0.7777777777777778,
              "#fb9f3a"
             ],
             [
              0.8888888888888888,
              "#fdca26"
             ],
             [
              1,
              "#f0f921"
             ]
            ],
            "type": "surface"
           }
          ],
          "table": [
           {
            "cells": {
             "fill": {
              "color": "#EBF0F8"
             },
             "line": {
              "color": "white"
             }
            },
            "header": {
             "fill": {
              "color": "#C8D4E3"
             },
             "line": {
              "color": "white"
             }
            },
            "type": "table"
           }
          ]
         },
         "layout": {
          "annotationdefaults": {
           "arrowcolor": "#2a3f5f",
           "arrowhead": 0,
           "arrowwidth": 1
          },
          "autotypenumbers": "strict",
          "coloraxis": {
           "colorbar": {
            "outlinewidth": 0,
            "ticks": ""
           }
          },
          "colorscale": {
           "diverging": [
            [
             0,
             "#8e0152"
            ],
            [
             0.1,
             "#c51b7d"
            ],
            [
             0.2,
             "#de77ae"
            ],
            [
             0.3,
             "#f1b6da"
            ],
            [
             0.4,
             "#fde0ef"
            ],
            [
             0.5,
             "#f7f7f7"
            ],
            [
             0.6,
             "#e6f5d0"
            ],
            [
             0.7,
             "#b8e186"
            ],
            [
             0.8,
             "#7fbc41"
            ],
            [
             0.9,
             "#4d9221"
            ],
            [
             1,
             "#276419"
            ]
           ],
           "sequential": [
            [
             0,
             "#0d0887"
            ],
            [
             0.1111111111111111,
             "#46039f"
            ],
            [
             0.2222222222222222,
             "#7201a8"
            ],
            [
             0.3333333333333333,
             "#9c179e"
            ],
            [
             0.4444444444444444,
             "#bd3786"
            ],
            [
             0.5555555555555556,
             "#d8576b"
            ],
            [
             0.6666666666666666,
             "#ed7953"
            ],
            [
             0.7777777777777778,
             "#fb9f3a"
            ],
            [
             0.8888888888888888,
             "#fdca26"
            ],
            [
             1,
             "#f0f921"
            ]
           ],
           "sequentialminus": [
            [
             0,
             "#0d0887"
            ],
            [
             0.1111111111111111,
             "#46039f"
            ],
            [
             0.2222222222222222,
             "#7201a8"
            ],
            [
             0.3333333333333333,
             "#9c179e"
            ],
            [
             0.4444444444444444,
             "#bd3786"
            ],
            [
             0.5555555555555556,
             "#d8576b"
            ],
            [
             0.6666666666666666,
             "#ed7953"
            ],
            [
             0.7777777777777778,
             "#fb9f3a"
            ],
            [
             0.8888888888888888,
             "#fdca26"
            ],
            [
             1,
             "#f0f921"
            ]
           ]
          },
          "colorway": [
           "#636efa",
           "#EF553B",
           "#00cc96",
           "#ab63fa",
           "#FFA15A",
           "#19d3f3",
           "#FF6692",
           "#B6E880",
           "#FF97FF",
           "#FECB52"
          ],
          "font": {
           "color": "#2a3f5f"
          },
          "geo": {
           "bgcolor": "white",
           "lakecolor": "white",
           "landcolor": "#E5ECF6",
           "showlakes": true,
           "showland": true,
           "subunitcolor": "white"
          },
          "hoverlabel": {
           "align": "left"
          },
          "hovermode": "closest",
          "mapbox": {
           "style": "light"
          },
          "paper_bgcolor": "white",
          "plot_bgcolor": "#E5ECF6",
          "polar": {
           "angularaxis": {
            "gridcolor": "white",
            "linecolor": "white",
            "ticks": ""
           },
           "bgcolor": "#E5ECF6",
           "radialaxis": {
            "gridcolor": "white",
            "linecolor": "white",
            "ticks": ""
           }
          },
          "scene": {
           "xaxis": {
            "backgroundcolor": "#E5ECF6",
            "gridcolor": "white",
            "gridwidth": 2,
            "linecolor": "white",
            "showbackground": true,
            "ticks": "",
            "zerolinecolor": "white"
           },
           "yaxis": {
            "backgroundcolor": "#E5ECF6",
            "gridcolor": "white",
            "gridwidth": 2,
            "linecolor": "white",
            "showbackground": true,
            "ticks": "",
            "zerolinecolor": "white"
           },
           "zaxis": {
            "backgroundcolor": "#E5ECF6",
            "gridcolor": "white",
            "gridwidth": 2,
            "linecolor": "white",
            "showbackground": true,
            "ticks": "",
            "zerolinecolor": "white"
           }
          },
          "shapedefaults": {
           "line": {
            "color": "#2a3f5f"
           }
          },
          "ternary": {
           "aaxis": {
            "gridcolor": "white",
            "linecolor": "white",
            "ticks": ""
           },
           "baxis": {
            "gridcolor": "white",
            "linecolor": "white",
            "ticks": ""
           },
           "bgcolor": "#E5ECF6",
           "caxis": {
            "gridcolor": "white",
            "linecolor": "white",
            "ticks": ""
           }
          },
          "title": {
           "x": 0.05
          },
          "xaxis": {
           "automargin": true,
           "gridcolor": "white",
           "linecolor": "white",
           "ticks": "",
           "title": {
            "standoff": 15
           },
           "zerolinecolor": "white",
           "zerolinewidth": 2
          },
          "yaxis": {
           "automargin": true,
           "gridcolor": "white",
           "linecolor": "white",
           "ticks": "",
           "title": {
            "standoff": 15
           },
           "zerolinecolor": "white",
           "zerolinewidth": 2
          }
         }
        },
        "uniformtext": {
         "minsize": 16,
         "mode": "show"
        },
        "width": 1200,
        "xaxis": {
         "automargin": true,
         "gridcolor": "lightgray",
         "range": [
          0,
          8665.5
         ],
         "showgrid": false,
         "showticklabels": true,
         "tickfont": {
          "size": 16
         },
         "title": {
          "text": "Number of Events"
         }
        },
        "yaxis": {
         "automargin": true,
         "categoryarray": [
          "11-25 fatalities",
          "26-50 fatalities",
          "6-10 fatalities",
          "2-5 fatalities",
          "1 fatality",
          "0 fatalities"
         ],
         "categoryorder": "array",
         "showgrid": false,
         "side": "left",
         "tickfont": {
          "size": 16
         },
         "tickmode": "linear",
         "title": {
          "text": "Fatality Category"
         }
        }
       }
      }
     },
     "metadata": {},
     "output_type": "display_data"
    },
    {
     "name": "stdout",
     "output_type": "stream",
     "text": [
      "Total fatalities across all events: 376\n",
      "Average fatalities per event: 0.06\n",
      "Median fatalities per event: 0.0\n",
      "Maximum fatalities in single event: 29\n",
      "Events with zero fatalities: 5,777 (96.5%)\n",
      "\n",
      "============================================================\n",
      "COMPREHENSIVE ACLED SUMMARY\n",
      "============================================================\n",
      "Total events in merged dataset: 5,986\n",
      "Date range: 2025-04-03 00:00:00 to 2025-06-27 00:00:00\n",
      "Time span: 85 days\n",
      "Countries covered: 1\n",
      "Top 3 countries by event count:\n",
      "  India: 5,986 events\n"
     ]
    }
   ],
   "source": [
    "# ACLED Distribution Analysis (Forecast Generation Style)\n",
    "if acled_pd is not None:\n",
    "    \n",
    "    def create_distribution_plot(data_column, column_name, top_n=15, chart_title=None):\n",
    "        \"\"\"\n",
    "        Create a horizontal bar chart with forecast_generation styling\n",
    "        \"\"\"\n",
    "        if column_name not in acled_pd.columns:\n",
    "            print(f\"Column '{column_name}' not found in dataset\")\n",
    "            return None\n",
    "            \n",
    "        # Get value counts\n",
    "        value_counts = acled_pd[column_name].value_counts()\n",
    "        \n",
    "        # Take top N values if specified\n",
    "        if top_n and len(value_counts) > top_n:\n",
    "            value_counts = value_counts.head(top_n)\n",
    "            title_suffix = f\" (Top {top_n})\"\n",
    "        else:\n",
    "            title_suffix = \"\"\n",
    "        \n",
    "        # Sort in ascending order for proper horizontal bar chart display\n",
    "        value_counts = value_counts.sort_values(ascending=True)\n",
    "        \n",
    "        # Prepare data\n",
    "        categories = value_counts.index.tolist()\n",
    "        counts = value_counts.values.tolist()\n",
    "        \n",
    "        # Create text labels showing both count and percentage\n",
    "        total_events = acled_pd[column_name].count()\n",
    "        text_labels = []\n",
    "        for count in counts:\n",
    "            percentage = (count / total_events) * 100\n",
    "            text_labels.append(f\"<b>{count:,}</b> ({percentage:.1f}%)\")\n",
    "        \n",
    "        # Create color mapping (similar to forecast_generation script)\n",
    "        colors = []\n",
    "        max_count = max(counts)\n",
    "        for count in counts:\n",
    "            # Color intensity based on relative frequency\n",
    "            intensity = count / max_count\n",
    "            if intensity >= 0.8:\n",
    "                colors.append('#d73600')  # High frequency - dark red\n",
    "            elif intensity >= 0.1:\n",
    "                colors.append('#ff6b35')  # Medium-high frequency - orange-red\n",
    "            elif intensity >= 0.07:\n",
    "                colors.append('#ffd700')  # Medium frequency - gold\n",
    "            elif intensity >= 0.05:\n",
    "                colors.append('#87ceeb')  # Low-medium frequency - sky blue\n",
    "            else:\n",
    "                colors.append('#5b9bd5')  # Low frequency - blue\n",
    "        \n",
    "        # Create the horizontal bar chart\n",
    "        fig = go.Figure()\n",
    "        \n",
    "        fig.add_trace(go.Bar(\n",
    "            y=categories,\n",
    "            x=counts,\n",
    "            orientation='h',\n",
    "            marker=dict(\n",
    "                color=colors,\n",
    "                line=dict(color='white', width=0.5)\n",
    "            ),\n",
    "            text=text_labels,\n",
    "            textposition='outside',\n",
    "            textfont=dict(size=14),\n",
    "            cliponaxis=False,\n",
    "            hovertemplate=(\n",
    "                \"<b>%{y}</b><br>\"\n",
    "                \"Count: %{x:,}<br>\"\n",
    "                \"Percentage: %{customdata:.1f}%\"\n",
    "                \"<extra></extra>\"\n",
    "            ),\n",
    "            customdata=[(count / total_events) * 100 for count in counts]\n",
    "        ))\n",
    "        \n",
    "        # Calculate dynamic height based on number of categories\n",
    "        num_categories = len(categories)\n",
    "        bar_height = 50\n",
    "        calculated_height = max(400, num_categories * bar_height)\n",
    "        \n",
    "        # Set x-axis range with extra space for labels\n",
    "        x_range = [0, max(counts) * 1.5]\n",
    "        \n",
    "        # Update axes with styling similar to forecast_generation\n",
    "        fig.update_xaxes(\n",
    "            showticklabels=True,\n",
    "            tickfont=dict(size=16),\n",
    "            showgrid=False,\n",
    "            gridcolor='lightgray',\n",
    "            automargin=True,\n",
    "            title=\"Number of Events\"\n",
    "        )\n",
    "\n",
    "        fig.update_yaxes(\n",
    "            tickfont=dict(size=16),\n",
    "            tickmode='linear',\n",
    "            showgrid=False,\n",
    "            side='left',\n",
    "            categoryorder='array',\n",
    "            categoryarray=categories,\n",
    "            automargin=True,\n",
    "            title=column_name.replace('_', ' ').title()\n",
    "        )\n",
    "        \n",
    "        # Update layout with styling similar to forecast_generation\n",
    "        fig.update_layout(\n",
    "            font=dict(size=16, family=\"Times New Roman\", color=\"black\"),\n",
    "            uniformtext_minsize=16,\n",
    "            uniformtext_mode='show',\n",
    "            margin=dict(l=200, r=100, t=80, b=80),\n",
    "            height=calculated_height,\n",
    "            width=1200,\n",
    "            paper_bgcolor='white',\n",
    "            plot_bgcolor='white',\n",
    "            showlegend=False,\n",
    "            xaxis=dict(range=x_range),\n",
    "            bargap=0.3\n",
    "        )\n",
    "        \n",
    "        # Add vertical line at median for reference\n",
    "        median_count = np.median(counts)\n",
    "        fig.add_vline(\n",
    "            x=median_count, \n",
    "            line_dash=\"dash\", \n",
    "            line_color=\"gray\", \n",
    "            line_width=1,\n",
    "            annotation_text=f\"Median: {median_count:,.0f}\",\n",
    "            annotation_position=\"top\"\n",
    "        )\n",
    "        \n",
    "        return fig, value_counts\n",
    "    \n",
    "    # 1. Event Type Distribution\n",
    "    print(\"Creating Event Type Distribution...\")\n",
    "    fig_event_type, event_type_stats = create_distribution_plot('event_type', 'event_type')\n",
    "    if fig_event_type:\n",
    "        fig_event_type.show()\n",
    "        print(f\"Event types found: {len(event_type_stats)}\")\n",
    "    \n",
    "    # 2. Sub Event Type Distribution (Top 15)\n",
    "    print(\"\\nCreating Sub Event Type Distribution...\")\n",
    "    fig_sub_event_type, sub_event_stats = create_distribution_plot('sub_event_type', 'sub_event_type', top_n=15)\n",
    "    if fig_sub_event_type:\n",
    "        fig_sub_event_type.show()\n",
    "        print(f\"Total sub-event types: {acled_pd['sub_event_type'].nunique()}\")\n",
    "        print(f\"Showing top 15 sub-event types\")\n",
    "    \n",
    "    # 3. Fatalities Distribution (Special handling for numerical data)\n",
    "    print(\"\\nCreating Fatalities Distribution...\")\n",
    "    if 'fatalities' in acled_pd.columns:\n",
    "        # Create fatality bins for better visualization\n",
    "        fatalities_data = acled_pd['fatalities'].copy()\n",
    "        \n",
    "        # Define fatality ranges\n",
    "        def categorize_fatalities(x):\n",
    "            if pd.isna(x) or x == 0:\n",
    "                return \"0 fatalities\"\n",
    "            elif x == 1:\n",
    "                return \"1 fatality\"\n",
    "            elif 2 <= x <= 5:\n",
    "                return \"2-5 fatalities\"\n",
    "            elif 6 <= x <= 10:\n",
    "                return \"6-10 fatalities\"\n",
    "            elif 11 <= x <= 25:\n",
    "                return \"11-25 fatalities\"\n",
    "            elif 26 <= x <= 50:\n",
    "                return \"26-50 fatalities\"\n",
    "            elif 51 <= x <= 100:\n",
    "                return \"51-100 fatalities\"\n",
    "            else:\n",
    "                return \"100+ fatalities\"\n",
    "        \n",
    "        acled_pd['fatality_category'] = fatalities_data.apply(categorize_fatalities)\n",
    "        \n",
    "        fig_fatalities, fatality_stats = create_distribution_plot('fatality_category', 'fatality_category')\n",
    "        if fig_fatalities:\n",
    "            fig_fatalities.show()\n",
    "            \n",
    "            # Print fatality statistics\n",
    "            print(f\"Total fatalities across all events: {fatalities_data.sum():,}\")\n",
    "            print(f\"Average fatalities per event: {fatalities_data.mean():.2f}\")\n",
    "            print(f\"Median fatalities per event: {fatalities_data.median():.1f}\")\n",
    "            print(f\"Maximum fatalities in single event: {fatalities_data.max():,}\")\n",
    "            print(f\"Events with zero fatalities: {(fatalities_data == 0).sum():,} ({(fatalities_data == 0).mean()*100:.1f}%)\")\n",
    "    \n",
    "    # Print overall summary\n",
    "    print(f\"\\n\" + \"=\"*60)\n",
    "    print(\"COMPREHENSIVE ACLED SUMMARY\")\n",
    "    print(\"=\"*60)\n",
    "    print(f\"Total events in merged dataset: {len(acled_pd):,}\")\n",
    "    if 'date' in acled_pd.columns:\n",
    "        acled_pd['date'] = pd.to_datetime(acled_pd['date'])\n",
    "        print(f\"Date range: {acled_pd['date'].min()} to {acled_pd['date'].max()}\")\n",
    "        print(f\"Time span: {(acled_pd['date'].max() - acled_pd['date'].min()).days} days\")\n",
    "    \n",
    "    if 'country' in acled_pd.columns:\n",
    "        print(f\"Countries covered: {acled_pd['country'].nunique()}\")\n",
    "        top_countries = acled_pd['country'].value_counts().head(3)\n",
    "        print(\"Top 3 countries by event count:\")\n",
    "        for country, count in top_countries.items():\n",
    "            print(f\"  {country}: {count:,} events\")\n",
    "    \n",
    "else:\n",
    "    print(\"ACLED data not available for distribution analysis\")"
   ]
  },
  {
   "cell_type": "code",
   "execution_count": null,
   "id": "91684b2f",
   "metadata": {},
   "outputs": [],
   "source": []
  },
  {
   "cell_type": "code",
   "execution_count": 67,
   "id": "898b9ab9",
   "metadata": {},
   "outputs": [
    {
     "name": "stdout",
     "output_type": "stream",
     "text": [
      "============================================================\n",
      "FACTAL DISTRIBUTION ANALYSIS\n",
      "============================================================\n",
      "Creating Factal Severity Distribution...\n"
     ]
    },
    {
     "data": {
      "application/vnd.plotly.v1+json": {
       "config": {
        "plotlyServerURL": "https://plot.ly"
       },
       "data": [
        {
         "cliponaxis": false,
         "customdata": [
          1.7041581458759374,
          6.5439672801636,
          13.36059986366735,
          30.94751192910702,
          47.443762781186095
         ],
         "hovertemplate": "<b>%{y}</b><br>Count: %{x:,}<br>Percentage: %{customdata:.1f}%<extra></extra>",
         "marker": {
          "color": [
           "#477091",
           "#477091",
           "#53C2EE",
           "#FF8F1F",
           "#E02A2A"
          ],
          "line": {
           "color": "white",
           "width": 0.5
          }
         },
         "orientation": "h",
         "text": [
          "<b>25</b> (1.7%)",
          "<b>96</b> (6.5%)",
          "<b>196</b> (13.4%)",
          "<b>454</b> (30.9%)",
          "<b>696</b> (47.4%)"
         ],
         "textfont": {
          "size": 16
         },
         "textposition": "outside",
         "type": "bar",
         "x": [
          25,
          96,
          196,
          454,
          696
         ],
         "y": [
          "5",
          "4",
          "1",
          "3",
          "2"
         ]
        }
       ],
       "layout": {
        "annotations": [
         {
          "showarrow": false,
          "text": "Median: 196",
          "x": 196,
          "xanchor": "center",
          "xref": "x",
          "y": 1,
          "yanchor": "bottom",
          "yref": "y domain"
         }
        ],
        "bargap": 0.3,
        "font": {
         "color": "black",
         "family": "Times New Roman",
         "size": 16
        },
        "height": 400,
        "margin": {
         "b": 80,
         "l": 200,
         "r": 100,
         "t": 80
        },
        "paper_bgcolor": "white",
        "plot_bgcolor": "white",
        "shapes": [
         {
          "line": {
           "color": "gray",
           "dash": "dash",
           "width": 1
          },
          "type": "line",
          "x0": 196,
          "x1": 196,
          "xref": "x",
          "y0": 0,
          "y1": 1,
          "yref": "y domain"
         }
        ],
        "showlegend": false,
        "template": {
         "data": {
          "bar": [
           {
            "error_x": {
             "color": "#2a3f5f"
            },
            "error_y": {
             "color": "#2a3f5f"
            },
            "marker": {
             "line": {
              "color": "#E5ECF6",
              "width": 0.5
             },
             "pattern": {
              "fillmode": "overlay",
              "size": 10,
              "solidity": 0.2
             }
            },
            "type": "bar"
           }
          ],
          "barpolar": [
           {
            "marker": {
             "line": {
              "color": "#E5ECF6",
              "width": 0.5
             },
             "pattern": {
              "fillmode": "overlay",
              "size": 10,
              "solidity": 0.2
             }
            },
            "type": "barpolar"
           }
          ],
          "carpet": [
           {
            "aaxis": {
             "endlinecolor": "#2a3f5f",
             "gridcolor": "white",
             "linecolor": "white",
             "minorgridcolor": "white",
             "startlinecolor": "#2a3f5f"
            },
            "baxis": {
             "endlinecolor": "#2a3f5f",
             "gridcolor": "white",
             "linecolor": "white",
             "minorgridcolor": "white",
             "startlinecolor": "#2a3f5f"
            },
            "type": "carpet"
           }
          ],
          "choropleth": [
           {
            "colorbar": {
             "outlinewidth": 0,
             "ticks": ""
            },
            "type": "choropleth"
           }
          ],
          "contour": [
           {
            "colorbar": {
             "outlinewidth": 0,
             "ticks": ""
            },
            "colorscale": [
             [
              0,
              "#0d0887"
             ],
             [
              0.1111111111111111,
              "#46039f"
             ],
             [
              0.2222222222222222,
              "#7201a8"
             ],
             [
              0.3333333333333333,
              "#9c179e"
             ],
             [
              0.4444444444444444,
              "#bd3786"
             ],
             [
              0.5555555555555556,
              "#d8576b"
             ],
             [
              0.6666666666666666,
              "#ed7953"
             ],
             [
              0.7777777777777778,
              "#fb9f3a"
             ],
             [
              0.8888888888888888,
              "#fdca26"
             ],
             [
              1,
              "#f0f921"
             ]
            ],
            "type": "contour"
           }
          ],
          "contourcarpet": [
           {
            "colorbar": {
             "outlinewidth": 0,
             "ticks": ""
            },
            "type": "contourcarpet"
           }
          ],
          "heatmap": [
           {
            "colorbar": {
             "outlinewidth": 0,
             "ticks": ""
            },
            "colorscale": [
             [
              0,
              "#0d0887"
             ],
             [
              0.1111111111111111,
              "#46039f"
             ],
             [
              0.2222222222222222,
              "#7201a8"
             ],
             [
              0.3333333333333333,
              "#9c179e"
             ],
             [
              0.4444444444444444,
              "#bd3786"
             ],
             [
              0.5555555555555556,
              "#d8576b"
             ],
             [
              0.6666666666666666,
              "#ed7953"
             ],
             [
              0.7777777777777778,
              "#fb9f3a"
             ],
             [
              0.8888888888888888,
              "#fdca26"
             ],
             [
              1,
              "#f0f921"
             ]
            ],
            "type": "heatmap"
           }
          ],
          "histogram": [
           {
            "marker": {
             "pattern": {
              "fillmode": "overlay",
              "size": 10,
              "solidity": 0.2
             }
            },
            "type": "histogram"
           }
          ],
          "histogram2d": [
           {
            "colorbar": {
             "outlinewidth": 0,
             "ticks": ""
            },
            "colorscale": [
             [
              0,
              "#0d0887"
             ],
             [
              0.1111111111111111,
              "#46039f"
             ],
             [
              0.2222222222222222,
              "#7201a8"
             ],
             [
              0.3333333333333333,
              "#9c179e"
             ],
             [
              0.4444444444444444,
              "#bd3786"
             ],
             [
              0.5555555555555556,
              "#d8576b"
             ],
             [
              0.6666666666666666,
              "#ed7953"
             ],
             [
              0.7777777777777778,
              "#fb9f3a"
             ],
             [
              0.8888888888888888,
              "#fdca26"
             ],
             [
              1,
              "#f0f921"
             ]
            ],
            "type": "histogram2d"
           }
          ],
          "histogram2dcontour": [
           {
            "colorbar": {
             "outlinewidth": 0,
             "ticks": ""
            },
            "colorscale": [
             [
              0,
              "#0d0887"
             ],
             [
              0.1111111111111111,
              "#46039f"
             ],
             [
              0.2222222222222222,
              "#7201a8"
             ],
             [
              0.3333333333333333,
              "#9c179e"
             ],
             [
              0.4444444444444444,
              "#bd3786"
             ],
             [
              0.5555555555555556,
              "#d8576b"
             ],
             [
              0.6666666666666666,
              "#ed7953"
             ],
             [
              0.7777777777777778,
              "#fb9f3a"
             ],
             [
              0.8888888888888888,
              "#fdca26"
             ],
             [
              1,
              "#f0f921"
             ]
            ],
            "type": "histogram2dcontour"
           }
          ],
          "mesh3d": [
           {
            "colorbar": {
             "outlinewidth": 0,
             "ticks": ""
            },
            "type": "mesh3d"
           }
          ],
          "parcoords": [
           {
            "line": {
             "colorbar": {
              "outlinewidth": 0,
              "ticks": ""
             }
            },
            "type": "parcoords"
           }
          ],
          "pie": [
           {
            "automargin": true,
            "type": "pie"
           }
          ],
          "scatter": [
           {
            "fillpattern": {
             "fillmode": "overlay",
             "size": 10,
             "solidity": 0.2
            },
            "type": "scatter"
           }
          ],
          "scatter3d": [
           {
            "line": {
             "colorbar": {
              "outlinewidth": 0,
              "ticks": ""
             }
            },
            "marker": {
             "colorbar": {
              "outlinewidth": 0,
              "ticks": ""
             }
            },
            "type": "scatter3d"
           }
          ],
          "scattercarpet": [
           {
            "marker": {
             "colorbar": {
              "outlinewidth": 0,
              "ticks": ""
             }
            },
            "type": "scattercarpet"
           }
          ],
          "scattergeo": [
           {
            "marker": {
             "colorbar": {
              "outlinewidth": 0,
              "ticks": ""
             }
            },
            "type": "scattergeo"
           }
          ],
          "scattergl": [
           {
            "marker": {
             "colorbar": {
              "outlinewidth": 0,
              "ticks": ""
             }
            },
            "type": "scattergl"
           }
          ],
          "scattermap": [
           {
            "marker": {
             "colorbar": {
              "outlinewidth": 0,
              "ticks": ""
             }
            },
            "type": "scattermap"
           }
          ],
          "scattermapbox": [
           {
            "marker": {
             "colorbar": {
              "outlinewidth": 0,
              "ticks": ""
             }
            },
            "type": "scattermapbox"
           }
          ],
          "scatterpolar": [
           {
            "marker": {
             "colorbar": {
              "outlinewidth": 0,
              "ticks": ""
             }
            },
            "type": "scatterpolar"
           }
          ],
          "scatterpolargl": [
           {
            "marker": {
             "colorbar": {
              "outlinewidth": 0,
              "ticks": ""
             }
            },
            "type": "scatterpolargl"
           }
          ],
          "scatterternary": [
           {
            "marker": {
             "colorbar": {
              "outlinewidth": 0,
              "ticks": ""
             }
            },
            "type": "scatterternary"
           }
          ],
          "surface": [
           {
            "colorbar": {
             "outlinewidth": 0,
             "ticks": ""
            },
            "colorscale": [
             [
              0,
              "#0d0887"
             ],
             [
              0.1111111111111111,
              "#46039f"
             ],
             [
              0.2222222222222222,
              "#7201a8"
             ],
             [
              0.3333333333333333,
              "#9c179e"
             ],
             [
              0.4444444444444444,
              "#bd3786"
             ],
             [
              0.5555555555555556,
              "#d8576b"
             ],
             [
              0.6666666666666666,
              "#ed7953"
             ],
             [
              0.7777777777777778,
              "#fb9f3a"
             ],
             [
              0.8888888888888888,
              "#fdca26"
             ],
             [
              1,
              "#f0f921"
             ]
            ],
            "type": "surface"
           }
          ],
          "table": [
           {
            "cells": {
             "fill": {
              "color": "#EBF0F8"
             },
             "line": {
              "color": "white"
             }
            },
            "header": {
             "fill": {
              "color": "#C8D4E3"
             },
             "line": {
              "color": "white"
             }
            },
            "type": "table"
           }
          ]
         },
         "layout": {
          "annotationdefaults": {
           "arrowcolor": "#2a3f5f",
           "arrowhead": 0,
           "arrowwidth": 1
          },
          "autotypenumbers": "strict",
          "coloraxis": {
           "colorbar": {
            "outlinewidth": 0,
            "ticks": ""
           }
          },
          "colorscale": {
           "diverging": [
            [
             0,
             "#8e0152"
            ],
            [
             0.1,
             "#c51b7d"
            ],
            [
             0.2,
             "#de77ae"
            ],
            [
             0.3,
             "#f1b6da"
            ],
            [
             0.4,
             "#fde0ef"
            ],
            [
             0.5,
             "#f7f7f7"
            ],
            [
             0.6,
             "#e6f5d0"
            ],
            [
             0.7,
             "#b8e186"
            ],
            [
             0.8,
             "#7fbc41"
            ],
            [
             0.9,
             "#4d9221"
            ],
            [
             1,
             "#276419"
            ]
           ],
           "sequential": [
            [
             0,
             "#0d0887"
            ],
            [
             0.1111111111111111,
             "#46039f"
            ],
            [
             0.2222222222222222,
             "#7201a8"
            ],
            [
             0.3333333333333333,
             "#9c179e"
            ],
            [
             0.4444444444444444,
             "#bd3786"
            ],
            [
             0.5555555555555556,
             "#d8576b"
            ],
            [
             0.6666666666666666,
             "#ed7953"
            ],
            [
             0.7777777777777778,
             "#fb9f3a"
            ],
            [
             0.8888888888888888,
             "#fdca26"
            ],
            [
             1,
             "#f0f921"
            ]
           ],
           "sequentialminus": [
            [
             0,
             "#0d0887"
            ],
            [
             0.1111111111111111,
             "#46039f"
            ],
            [
             0.2222222222222222,
             "#7201a8"
            ],
            [
             0.3333333333333333,
             "#9c179e"
            ],
            [
             0.4444444444444444,
             "#bd3786"
            ],
            [
             0.5555555555555556,
             "#d8576b"
            ],
            [
             0.6666666666666666,
             "#ed7953"
            ],
            [
             0.7777777777777778,
             "#fb9f3a"
            ],
            [
             0.8888888888888888,
             "#fdca26"
            ],
            [
             1,
             "#f0f921"
            ]
           ]
          },
          "colorway": [
           "#636efa",
           "#EF553B",
           "#00cc96",
           "#ab63fa",
           "#FFA15A",
           "#19d3f3",
           "#FF6692",
           "#B6E880",
           "#FF97FF",
           "#FECB52"
          ],
          "font": {
           "color": "#2a3f5f"
          },
          "geo": {
           "bgcolor": "white",
           "lakecolor": "white",
           "landcolor": "#E5ECF6",
           "showlakes": true,
           "showland": true,
           "subunitcolor": "white"
          },
          "hoverlabel": {
           "align": "left"
          },
          "hovermode": "closest",
          "mapbox": {
           "style": "light"
          },
          "paper_bgcolor": "white",
          "plot_bgcolor": "#E5ECF6",
          "polar": {
           "angularaxis": {
            "gridcolor": "white",
            "linecolor": "white",
            "ticks": ""
           },
           "bgcolor": "#E5ECF6",
           "radialaxis": {
            "gridcolor": "white",
            "linecolor": "white",
            "ticks": ""
           }
          },
          "scene": {
           "xaxis": {
            "backgroundcolor": "#E5ECF6",
            "gridcolor": "white",
            "gridwidth": 2,
            "linecolor": "white",
            "showbackground": true,
            "ticks": "",
            "zerolinecolor": "white"
           },
           "yaxis": {
            "backgroundcolor": "#E5ECF6",
            "gridcolor": "white",
            "gridwidth": 2,
            "linecolor": "white",
            "showbackground": true,
            "ticks": "",
            "zerolinecolor": "white"
           },
           "zaxis": {
            "backgroundcolor": "#E5ECF6",
            "gridcolor": "white",
            "gridwidth": 2,
            "linecolor": "white",
            "showbackground": true,
            "ticks": "",
            "zerolinecolor": "white"
           }
          },
          "shapedefaults": {
           "line": {
            "color": "#2a3f5f"
           }
          },
          "ternary": {
           "aaxis": {
            "gridcolor": "white",
            "linecolor": "white",
            "ticks": ""
           },
           "baxis": {
            "gridcolor": "white",
            "linecolor": "white",
            "ticks": ""
           },
           "bgcolor": "#E5ECF6",
           "caxis": {
            "gridcolor": "white",
            "linecolor": "white",
            "ticks": ""
           }
          },
          "title": {
           "x": 0.05
          },
          "xaxis": {
           "automargin": true,
           "gridcolor": "white",
           "linecolor": "white",
           "ticks": "",
           "title": {
            "standoff": 15
           },
           "zerolinecolor": "white",
           "zerolinewidth": 2
          },
          "yaxis": {
           "automargin": true,
           "gridcolor": "white",
           "linecolor": "white",
           "ticks": "",
           "title": {
            "standoff": 15
           },
           "zerolinecolor": "white",
           "zerolinewidth": 2
          }
         }
        },
        "uniformtext": {
         "minsize": 16,
         "mode": "show"
        },
        "width": 1200,
        "xaxis": {
         "automargin": true,
         "gridcolor": "lightgray",
         "range": [
          0,
          1044
         ],
         "showgrid": false,
         "showticklabels": true,
         "tickfont": {
          "size": 16
         },
         "title": {
          "text": "Number of Articles"
         }
        },
        "yaxis": {
         "automargin": true,
         "categoryarray": [
          "5",
          "4",
          "1",
          "3",
          "2"
         ],
         "categoryorder": "array",
         "showgrid": false,
         "side": "left",
         "tickfont": {
          "size": 16
         },
         "tickmode": "linear",
         "title": {
          "text": "Severity"
         }
        }
       }
      }
     },
     "metadata": {},
     "output_type": "display_data"
    },
    {
     "name": "stdout",
     "output_type": "stream",
     "text": [
      "Severity levels found: 5\n",
      "\n",
      "Creating Factal Tag Distribution...\n"
     ]
    },
    {
     "data": {
      "application/vnd.plotly.v1+json": {
       "config": {
        "plotlyServerURL": "https://plot.ly"
       },
       "data": [
        {
         "cliponaxis": false,
         "customdata": [
          1.1588275391956373,
          1.1588275391956373,
          1.499659168370825,
          1.5678254942058625,
          1.6359918200409,
          1.8404907975460123,
          1.9086571233810499,
          3.135650988411725,
          3.408316291751875,
          3.6809815950920246,
          4.839809134287662,
          5.725971370143149,
          7.702794819359236,
          7.90729379686435,
          12.5426039536469
         ],
         "hovertemplate": "<b>%{y}</b><br>Count: %{x:,}<br>Percentage: %{customdata:.1f}%<extra></extra>",
         "marker": {
          "color": [
           "#477091",
           "#477091",
           "#477091",
           "#477091",
           "#477091",
           "#477091",
           "#477091",
           "#53C2EE",
           "#53C2EE",
           "#53C2EE",
           "#53C2EE",
           "#FFC01F",
           "#FF8F1F",
           "#FF8F1F",
           "#E02A2A"
          ],
          "line": {
           "color": "white",
           "width": 0.5
          }
         },
         "orientation": "h",
         "text": [
          "<b>17</b> (1.2%)",
          "<b>17</b> (1.2%)",
          "<b>22</b> (1.5%)",
          "<b>23</b> (1.6%)",
          "<b>24</b> (1.6%)",
          "<b>27</b> (1.8%)",
          "<b>28</b> (1.9%)",
          "<b>46</b> (3.1%)",
          "<b>50</b> (3.4%)",
          "<b>54</b> (3.7%)",
          "<b>71</b> (4.8%)",
          "<b>84</b> (5.7%)",
          "<b>113</b> (7.7%)",
          "<b>116</b> (7.9%)",
          "<b>184</b> (12.5%)"
         ],
         "textfont": {
          "size": 16
         },
         "textposition": "outside",
         "type": "bar",
         "x": [
          17,
          17,
          22,
          23,
          24,
          27,
          28,
          46,
          50,
          54,
          71,
          84,
          113,
          116,
          184
         ],
         "y": [
          "evacuations",
          "maritime incidents",
          "schools & universities",
          "landslides",
          "bomb threats",
          "drones",
          "power outages",
          "protests & civil unrest",
          "building collapses",
          "shootings",
          "explosions",
          "floods",
          "road incidents",
          "air incidents",
          "fires"
         ]
        }
       ],
       "layout": {
        "annotations": [
         {
          "showarrow": false,
          "text": "Median: 46",
          "x": 46,
          "xanchor": "center",
          "xref": "x",
          "y": 1,
          "yanchor": "bottom",
          "yref": "y domain"
         }
        ],
        "bargap": 0.3,
        "font": {
         "color": "black",
         "family": "Times New Roman",
         "size": 16
        },
        "height": 750,
        "margin": {
         "b": 80,
         "l": 200,
         "r": 100,
         "t": 80
        },
        "paper_bgcolor": "white",
        "plot_bgcolor": "white",
        "shapes": [
         {
          "line": {
           "color": "gray",
           "dash": "dash",
           "width": 1
          },
          "type": "line",
          "x0": 46,
          "x1": 46,
          "xref": "x",
          "y0": 0,
          "y1": 1,
          "yref": "y domain"
         }
        ],
        "showlegend": false,
        "template": {
         "data": {
          "bar": [
           {
            "error_x": {
             "color": "#2a3f5f"
            },
            "error_y": {
             "color": "#2a3f5f"
            },
            "marker": {
             "line": {
              "color": "#E5ECF6",
              "width": 0.5
             },
             "pattern": {
              "fillmode": "overlay",
              "size": 10,
              "solidity": 0.2
             }
            },
            "type": "bar"
           }
          ],
          "barpolar": [
           {
            "marker": {
             "line": {
              "color": "#E5ECF6",
              "width": 0.5
             },
             "pattern": {
              "fillmode": "overlay",
              "size": 10,
              "solidity": 0.2
             }
            },
            "type": "barpolar"
           }
          ],
          "carpet": [
           {
            "aaxis": {
             "endlinecolor": "#2a3f5f",
             "gridcolor": "white",
             "linecolor": "white",
             "minorgridcolor": "white",
             "startlinecolor": "#2a3f5f"
            },
            "baxis": {
             "endlinecolor": "#2a3f5f",
             "gridcolor": "white",
             "linecolor": "white",
             "minorgridcolor": "white",
             "startlinecolor": "#2a3f5f"
            },
            "type": "carpet"
           }
          ],
          "choropleth": [
           {
            "colorbar": {
             "outlinewidth": 0,
             "ticks": ""
            },
            "type": "choropleth"
           }
          ],
          "contour": [
           {
            "colorbar": {
             "outlinewidth": 0,
             "ticks": ""
            },
            "colorscale": [
             [
              0,
              "#0d0887"
             ],
             [
              0.1111111111111111,
              "#46039f"
             ],
             [
              0.2222222222222222,
              "#7201a8"
             ],
             [
              0.3333333333333333,
              "#9c179e"
             ],
             [
              0.4444444444444444,
              "#bd3786"
             ],
             [
              0.5555555555555556,
              "#d8576b"
             ],
             [
              0.6666666666666666,
              "#ed7953"
             ],
             [
              0.7777777777777778,
              "#fb9f3a"
             ],
             [
              0.8888888888888888,
              "#fdca26"
             ],
             [
              1,
              "#f0f921"
             ]
            ],
            "type": "contour"
           }
          ],
          "contourcarpet": [
           {
            "colorbar": {
             "outlinewidth": 0,
             "ticks": ""
            },
            "type": "contourcarpet"
           }
          ],
          "heatmap": [
           {
            "colorbar": {
             "outlinewidth": 0,
             "ticks": ""
            },
            "colorscale": [
             [
              0,
              "#0d0887"
             ],
             [
              0.1111111111111111,
              "#46039f"
             ],
             [
              0.2222222222222222,
              "#7201a8"
             ],
             [
              0.3333333333333333,
              "#9c179e"
             ],
             [
              0.4444444444444444,
              "#bd3786"
             ],
             [
              0.5555555555555556,
              "#d8576b"
             ],
             [
              0.6666666666666666,
              "#ed7953"
             ],
             [
              0.7777777777777778,
              "#fb9f3a"
             ],
             [
              0.8888888888888888,
              "#fdca26"
             ],
             [
              1,
              "#f0f921"
             ]
            ],
            "type": "heatmap"
           }
          ],
          "histogram": [
           {
            "marker": {
             "pattern": {
              "fillmode": "overlay",
              "size": 10,
              "solidity": 0.2
             }
            },
            "type": "histogram"
           }
          ],
          "histogram2d": [
           {
            "colorbar": {
             "outlinewidth": 0,
             "ticks": ""
            },
            "colorscale": [
             [
              0,
              "#0d0887"
             ],
             [
              0.1111111111111111,
              "#46039f"
             ],
             [
              0.2222222222222222,
              "#7201a8"
             ],
             [
              0.3333333333333333,
              "#9c179e"
             ],
             [
              0.4444444444444444,
              "#bd3786"
             ],
             [
              0.5555555555555556,
              "#d8576b"
             ],
             [
              0.6666666666666666,
              "#ed7953"
             ],
             [
              0.7777777777777778,
              "#fb9f3a"
             ],
             [
              0.8888888888888888,
              "#fdca26"
             ],
             [
              1,
              "#f0f921"
             ]
            ],
            "type": "histogram2d"
           }
          ],
          "histogram2dcontour": [
           {
            "colorbar": {
             "outlinewidth": 0,
             "ticks": ""
            },
            "colorscale": [
             [
              0,
              "#0d0887"
             ],
             [
              0.1111111111111111,
              "#46039f"
             ],
             [
              0.2222222222222222,
              "#7201a8"
             ],
             [
              0.3333333333333333,
              "#9c179e"
             ],
             [
              0.4444444444444444,
              "#bd3786"
             ],
             [
              0.5555555555555556,
              "#d8576b"
             ],
             [
              0.6666666666666666,
              "#ed7953"
             ],
             [
              0.7777777777777778,
              "#fb9f3a"
             ],
             [
              0.8888888888888888,
              "#fdca26"
             ],
             [
              1,
              "#f0f921"
             ]
            ],
            "type": "histogram2dcontour"
           }
          ],
          "mesh3d": [
           {
            "colorbar": {
             "outlinewidth": 0,
             "ticks": ""
            },
            "type": "mesh3d"
           }
          ],
          "parcoords": [
           {
            "line": {
             "colorbar": {
              "outlinewidth": 0,
              "ticks": ""
             }
            },
            "type": "parcoords"
           }
          ],
          "pie": [
           {
            "automargin": true,
            "type": "pie"
           }
          ],
          "scatter": [
           {
            "fillpattern": {
             "fillmode": "overlay",
             "size": 10,
             "solidity": 0.2
            },
            "type": "scatter"
           }
          ],
          "scatter3d": [
           {
            "line": {
             "colorbar": {
              "outlinewidth": 0,
              "ticks": ""
             }
            },
            "marker": {
             "colorbar": {
              "outlinewidth": 0,
              "ticks": ""
             }
            },
            "type": "scatter3d"
           }
          ],
          "scattercarpet": [
           {
            "marker": {
             "colorbar": {
              "outlinewidth": 0,
              "ticks": ""
             }
            },
            "type": "scattercarpet"
           }
          ],
          "scattergeo": [
           {
            "marker": {
             "colorbar": {
              "outlinewidth": 0,
              "ticks": ""
             }
            },
            "type": "scattergeo"
           }
          ],
          "scattergl": [
           {
            "marker": {
             "colorbar": {
              "outlinewidth": 0,
              "ticks": ""
             }
            },
            "type": "scattergl"
           }
          ],
          "scattermap": [
           {
            "marker": {
             "colorbar": {
              "outlinewidth": 0,
              "ticks": ""
             }
            },
            "type": "scattermap"
           }
          ],
          "scattermapbox": [
           {
            "marker": {
             "colorbar": {
              "outlinewidth": 0,
              "ticks": ""
             }
            },
            "type": "scattermapbox"
           }
          ],
          "scatterpolar": [
           {
            "marker": {
             "colorbar": {
              "outlinewidth": 0,
              "ticks": ""
             }
            },
            "type": "scatterpolar"
           }
          ],
          "scatterpolargl": [
           {
            "marker": {
             "colorbar": {
              "outlinewidth": 0,
              "ticks": ""
             }
            },
            "type": "scatterpolargl"
           }
          ],
          "scatterternary": [
           {
            "marker": {
             "colorbar": {
              "outlinewidth": 0,
              "ticks": ""
             }
            },
            "type": "scatterternary"
           }
          ],
          "surface": [
           {
            "colorbar": {
             "outlinewidth": 0,
             "ticks": ""
            },
            "colorscale": [
             [
              0,
              "#0d0887"
             ],
             [
              0.1111111111111111,
              "#46039f"
             ],
             [
              0.2222222222222222,
              "#7201a8"
             ],
             [
              0.3333333333333333,
              "#9c179e"
             ],
             [
              0.4444444444444444,
              "#bd3786"
             ],
             [
              0.5555555555555556,
              "#d8576b"
             ],
             [
              0.6666666666666666,
              "#ed7953"
             ],
             [
              0.7777777777777778,
              "#fb9f3a"
             ],
             [
              0.8888888888888888,
              "#fdca26"
             ],
             [
              1,
              "#f0f921"
             ]
            ],
            "type": "surface"
           }
          ],
          "table": [
           {
            "cells": {
             "fill": {
              "color": "#EBF0F8"
             },
             "line": {
              "color": "white"
             }
            },
            "header": {
             "fill": {
              "color": "#C8D4E3"
             },
             "line": {
              "color": "white"
             }
            },
            "type": "table"
           }
          ]
         },
         "layout": {
          "annotationdefaults": {
           "arrowcolor": "#2a3f5f",
           "arrowhead": 0,
           "arrowwidth": 1
          },
          "autotypenumbers": "strict",
          "coloraxis": {
           "colorbar": {
            "outlinewidth": 0,
            "ticks": ""
           }
          },
          "colorscale": {
           "diverging": [
            [
             0,
             "#8e0152"
            ],
            [
             0.1,
             "#c51b7d"
            ],
            [
             0.2,
             "#de77ae"
            ],
            [
             0.3,
             "#f1b6da"
            ],
            [
             0.4,
             "#fde0ef"
            ],
            [
             0.5,
             "#f7f7f7"
            ],
            [
             0.6,
             "#e6f5d0"
            ],
            [
             0.7,
             "#b8e186"
            ],
            [
             0.8,
             "#7fbc41"
            ],
            [
             0.9,
             "#4d9221"
            ],
            [
             1,
             "#276419"
            ]
           ],
           "sequential": [
            [
             0,
             "#0d0887"
            ],
            [
             0.1111111111111111,
             "#46039f"
            ],
            [
             0.2222222222222222,
             "#7201a8"
            ],
            [
             0.3333333333333333,
             "#9c179e"
            ],
            [
             0.4444444444444444,
             "#bd3786"
            ],
            [
             0.5555555555555556,
             "#d8576b"
            ],
            [
             0.6666666666666666,
             "#ed7953"
            ],
            [
             0.7777777777777778,
             "#fb9f3a"
            ],
            [
             0.8888888888888888,
             "#fdca26"
            ],
            [
             1,
             "#f0f921"
            ]
           ],
           "sequentialminus": [
            [
             0,
             "#0d0887"
            ],
            [
             0.1111111111111111,
             "#46039f"
            ],
            [
             0.2222222222222222,
             "#7201a8"
            ],
            [
             0.3333333333333333,
             "#9c179e"
            ],
            [
             0.4444444444444444,
             "#bd3786"
            ],
            [
             0.5555555555555556,
             "#d8576b"
            ],
            [
             0.6666666666666666,
             "#ed7953"
            ],
            [
             0.7777777777777778,
             "#fb9f3a"
            ],
            [
             0.8888888888888888,
             "#fdca26"
            ],
            [
             1,
             "#f0f921"
            ]
           ]
          },
          "colorway": [
           "#636efa",
           "#EF553B",
           "#00cc96",
           "#ab63fa",
           "#FFA15A",
           "#19d3f3",
           "#FF6692",
           "#B6E880",
           "#FF97FF",
           "#FECB52"
          ],
          "font": {
           "color": "#2a3f5f"
          },
          "geo": {
           "bgcolor": "white",
           "lakecolor": "white",
           "landcolor": "#E5ECF6",
           "showlakes": true,
           "showland": true,
           "subunitcolor": "white"
          },
          "hoverlabel": {
           "align": "left"
          },
          "hovermode": "closest",
          "mapbox": {
           "style": "light"
          },
          "paper_bgcolor": "white",
          "plot_bgcolor": "#E5ECF6",
          "polar": {
           "angularaxis": {
            "gridcolor": "white",
            "linecolor": "white",
            "ticks": ""
           },
           "bgcolor": "#E5ECF6",
           "radialaxis": {
            "gridcolor": "white",
            "linecolor": "white",
            "ticks": ""
           }
          },
          "scene": {
           "xaxis": {
            "backgroundcolor": "#E5ECF6",
            "gridcolor": "white",
            "gridwidth": 2,
            "linecolor": "white",
            "showbackground": true,
            "ticks": "",
            "zerolinecolor": "white"
           },
           "yaxis": {
            "backgroundcolor": "#E5ECF6",
            "gridcolor": "white",
            "gridwidth": 2,
            "linecolor": "white",
            "showbackground": true,
            "ticks": "",
            "zerolinecolor": "white"
           },
           "zaxis": {
            "backgroundcolor": "#E5ECF6",
            "gridcolor": "white",
            "gridwidth": 2,
            "linecolor": "white",
            "showbackground": true,
            "ticks": "",
            "zerolinecolor": "white"
           }
          },
          "shapedefaults": {
           "line": {
            "color": "#2a3f5f"
           }
          },
          "ternary": {
           "aaxis": {
            "gridcolor": "white",
            "linecolor": "white",
            "ticks": ""
           },
           "baxis": {
            "gridcolor": "white",
            "linecolor": "white",
            "ticks": ""
           },
           "bgcolor": "#E5ECF6",
           "caxis": {
            "gridcolor": "white",
            "linecolor": "white",
            "ticks": ""
           }
          },
          "title": {
           "x": 0.05
          },
          "xaxis": {
           "automargin": true,
           "gridcolor": "white",
           "linecolor": "white",
           "ticks": "",
           "title": {
            "standoff": 15
           },
           "zerolinecolor": "white",
           "zerolinewidth": 2
          },
          "yaxis": {
           "automargin": true,
           "gridcolor": "white",
           "linecolor": "white",
           "ticks": "",
           "title": {
            "standoff": 15
           },
           "zerolinecolor": "white",
           "zerolinewidth": 2
          }
         }
        },
        "uniformtext": {
         "minsize": 16,
         "mode": "show"
        },
        "width": 1200,
        "xaxis": {
         "automargin": true,
         "gridcolor": "lightgray",
         "range": [
          0,
          276
         ],
         "showgrid": false,
         "showticklabels": true,
         "tickfont": {
          "size": 16
         },
         "title": {
          "text": "Number of Articles"
         }
        },
        "yaxis": {
         "automargin": true,
         "categoryarray": [
          "evacuations",
          "maritime incidents",
          "schools & universities",
          "landslides",
          "bomb threats",
          "drones",
          "power outages",
          "protests & civil unrest",
          "building collapses",
          "shootings",
          "explosions",
          "floods",
          "road incidents",
          "air incidents",
          "fires"
         ],
         "categoryorder": "array",
         "showgrid": false,
         "side": "left",
         "tickfont": {
          "size": 16
         },
         "tickmode": "linear",
         "title": {
          "text": "Tag"
         }
        }
       }
      }
     },
     "metadata": {},
     "output_type": "display_data"
    },
    {
     "name": "stdout",
     "output_type": "stream",
     "text": [
      "Total unique tags: 105\n",
      "Showing top 15 tags\n",
      "\n",
      "Creating Factal Theme Distribution...\n"
     ]
    },
    {
     "data": {
      "application/vnd.plotly.v1+json": {
       "config": {
        "plotlyServerURL": "https://plot.ly"
       },
       "data": [
        {
         "cliponaxis": false,
         "customdata": [
          0.0681663258350375,
          0.136332651670075,
          0.408997955010225,
          0.6134969325153374,
          2.7948193592365373,
          10.702113156100886,
          13.769597818677573,
          19.90456714383095,
          28.28902522154056
         ],
         "hovertemplate": "<b>%{y}</b><br>Count: %{x:,}<br>Percentage: %{customdata:.1f}%<extra></extra>",
         "marker": {
          "color": [
           "#477091",
           "#477091",
           "#477091",
           "#477091",
           "#477091",
           "#53C2EE",
           "#FFC01F",
           "#FF8F1F",
           "#E02A2A"
          ],
          "line": {
           "color": "white",
           "width": 0.5
          }
         },
         "orientation": "h",
         "text": [
          "<b>1</b> (0.1%)",
          "<b>2</b> (0.1%)",
          "<b>6</b> (0.4%)",
          "<b>9</b> (0.6%)",
          "<b>41</b> (2.8%)",
          "<b>157</b> (10.7%)",
          "<b>202</b> (13.8%)",
          "<b>292</b> (19.9%)",
          "<b>415</b> (28.3%)"
         ],
         "textfont": {
          "size": 16
         },
         "textposition": "outside",
         "type": "bar",
         "x": [
          1,
          2,
          6,
          9,
          41,
          157,
          202,
          292,
          415
         ],
         "y": [
          "entertainment",
          "business",
          "environment",
          "health",
          "politics",
          "crime & courts",
          "weather",
          "travel",
          "war & conflict"
         ]
        }
       ],
       "layout": {
        "annotations": [
         {
          "showarrow": false,
          "text": "Median: 41",
          "x": 41,
          "xanchor": "center",
          "xref": "x",
          "y": 1,
          "yanchor": "bottom",
          "yref": "y domain"
         }
        ],
        "bargap": 0.3,
        "font": {
         "color": "black",
         "family": "Times New Roman",
         "size": 16
        },
        "height": 450,
        "margin": {
         "b": 80,
         "l": 200,
         "r": 100,
         "t": 80
        },
        "paper_bgcolor": "white",
        "plot_bgcolor": "white",
        "shapes": [
         {
          "line": {
           "color": "gray",
           "dash": "dash",
           "width": 1
          },
          "type": "line",
          "x0": 41,
          "x1": 41,
          "xref": "x",
          "y0": 0,
          "y1": 1,
          "yref": "y domain"
         }
        ],
        "showlegend": false,
        "template": {
         "data": {
          "bar": [
           {
            "error_x": {
             "color": "#2a3f5f"
            },
            "error_y": {
             "color": "#2a3f5f"
            },
            "marker": {
             "line": {
              "color": "#E5ECF6",
              "width": 0.5
             },
             "pattern": {
              "fillmode": "overlay",
              "size": 10,
              "solidity": 0.2
             }
            },
            "type": "bar"
           }
          ],
          "barpolar": [
           {
            "marker": {
             "line": {
              "color": "#E5ECF6",
              "width": 0.5
             },
             "pattern": {
              "fillmode": "overlay",
              "size": 10,
              "solidity": 0.2
             }
            },
            "type": "barpolar"
           }
          ],
          "carpet": [
           {
            "aaxis": {
             "endlinecolor": "#2a3f5f",
             "gridcolor": "white",
             "linecolor": "white",
             "minorgridcolor": "white",
             "startlinecolor": "#2a3f5f"
            },
            "baxis": {
             "endlinecolor": "#2a3f5f",
             "gridcolor": "white",
             "linecolor": "white",
             "minorgridcolor": "white",
             "startlinecolor": "#2a3f5f"
            },
            "type": "carpet"
           }
          ],
          "choropleth": [
           {
            "colorbar": {
             "outlinewidth": 0,
             "ticks": ""
            },
            "type": "choropleth"
           }
          ],
          "contour": [
           {
            "colorbar": {
             "outlinewidth": 0,
             "ticks": ""
            },
            "colorscale": [
             [
              0,
              "#0d0887"
             ],
             [
              0.1111111111111111,
              "#46039f"
             ],
             [
              0.2222222222222222,
              "#7201a8"
             ],
             [
              0.3333333333333333,
              "#9c179e"
             ],
             [
              0.4444444444444444,
              "#bd3786"
             ],
             [
              0.5555555555555556,
              "#d8576b"
             ],
             [
              0.6666666666666666,
              "#ed7953"
             ],
             [
              0.7777777777777778,
              "#fb9f3a"
             ],
             [
              0.8888888888888888,
              "#fdca26"
             ],
             [
              1,
              "#f0f921"
             ]
            ],
            "type": "contour"
           }
          ],
          "contourcarpet": [
           {
            "colorbar": {
             "outlinewidth": 0,
             "ticks": ""
            },
            "type": "contourcarpet"
           }
          ],
          "heatmap": [
           {
            "colorbar": {
             "outlinewidth": 0,
             "ticks": ""
            },
            "colorscale": [
             [
              0,
              "#0d0887"
             ],
             [
              0.1111111111111111,
              "#46039f"
             ],
             [
              0.2222222222222222,
              "#7201a8"
             ],
             [
              0.3333333333333333,
              "#9c179e"
             ],
             [
              0.4444444444444444,
              "#bd3786"
             ],
             [
              0.5555555555555556,
              "#d8576b"
             ],
             [
              0.6666666666666666,
              "#ed7953"
             ],
             [
              0.7777777777777778,
              "#fb9f3a"
             ],
             [
              0.8888888888888888,
              "#fdca26"
             ],
             [
              1,
              "#f0f921"
             ]
            ],
            "type": "heatmap"
           }
          ],
          "histogram": [
           {
            "marker": {
             "pattern": {
              "fillmode": "overlay",
              "size": 10,
              "solidity": 0.2
             }
            },
            "type": "histogram"
           }
          ],
          "histogram2d": [
           {
            "colorbar": {
             "outlinewidth": 0,
             "ticks": ""
            },
            "colorscale": [
             [
              0,
              "#0d0887"
             ],
             [
              0.1111111111111111,
              "#46039f"
             ],
             [
              0.2222222222222222,
              "#7201a8"
             ],
             [
              0.3333333333333333,
              "#9c179e"
             ],
             [
              0.4444444444444444,
              "#bd3786"
             ],
             [
              0.5555555555555556,
              "#d8576b"
             ],
             [
              0.6666666666666666,
              "#ed7953"
             ],
             [
              0.7777777777777778,
              "#fb9f3a"
             ],
             [
              0.8888888888888888,
              "#fdca26"
             ],
             [
              1,
              "#f0f921"
             ]
            ],
            "type": "histogram2d"
           }
          ],
          "histogram2dcontour": [
           {
            "colorbar": {
             "outlinewidth": 0,
             "ticks": ""
            },
            "colorscale": [
             [
              0,
              "#0d0887"
             ],
             [
              0.1111111111111111,
              "#46039f"
             ],
             [
              0.2222222222222222,
              "#7201a8"
             ],
             [
              0.3333333333333333,
              "#9c179e"
             ],
             [
              0.4444444444444444,
              "#bd3786"
             ],
             [
              0.5555555555555556,
              "#d8576b"
             ],
             [
              0.6666666666666666,
              "#ed7953"
             ],
             [
              0.7777777777777778,
              "#fb9f3a"
             ],
             [
              0.8888888888888888,
              "#fdca26"
             ],
             [
              1,
              "#f0f921"
             ]
            ],
            "type": "histogram2dcontour"
           }
          ],
          "mesh3d": [
           {
            "colorbar": {
             "outlinewidth": 0,
             "ticks": ""
            },
            "type": "mesh3d"
           }
          ],
          "parcoords": [
           {
            "line": {
             "colorbar": {
              "outlinewidth": 0,
              "ticks": ""
             }
            },
            "type": "parcoords"
           }
          ],
          "pie": [
           {
            "automargin": true,
            "type": "pie"
           }
          ],
          "scatter": [
           {
            "fillpattern": {
             "fillmode": "overlay",
             "size": 10,
             "solidity": 0.2
            },
            "type": "scatter"
           }
          ],
          "scatter3d": [
           {
            "line": {
             "colorbar": {
              "outlinewidth": 0,
              "ticks": ""
             }
            },
            "marker": {
             "colorbar": {
              "outlinewidth": 0,
              "ticks": ""
             }
            },
            "type": "scatter3d"
           }
          ],
          "scattercarpet": [
           {
            "marker": {
             "colorbar": {
              "outlinewidth": 0,
              "ticks": ""
             }
            },
            "type": "scattercarpet"
           }
          ],
          "scattergeo": [
           {
            "marker": {
             "colorbar": {
              "outlinewidth": 0,
              "ticks": ""
             }
            },
            "type": "scattergeo"
           }
          ],
          "scattergl": [
           {
            "marker": {
             "colorbar": {
              "outlinewidth": 0,
              "ticks": ""
             }
            },
            "type": "scattergl"
           }
          ],
          "scattermap": [
           {
            "marker": {
             "colorbar": {
              "outlinewidth": 0,
              "ticks": ""
             }
            },
            "type": "scattermap"
           }
          ],
          "scattermapbox": [
           {
            "marker": {
             "colorbar": {
              "outlinewidth": 0,
              "ticks": ""
             }
            },
            "type": "scattermapbox"
           }
          ],
          "scatterpolar": [
           {
            "marker": {
             "colorbar": {
              "outlinewidth": 0,
              "ticks": ""
             }
            },
            "type": "scatterpolar"
           }
          ],
          "scatterpolargl": [
           {
            "marker": {
             "colorbar": {
              "outlinewidth": 0,
              "ticks": ""
             }
            },
            "type": "scatterpolargl"
           }
          ],
          "scatterternary": [
           {
            "marker": {
             "colorbar": {
              "outlinewidth": 0,
              "ticks": ""
             }
            },
            "type": "scatterternary"
           }
          ],
          "surface": [
           {
            "colorbar": {
             "outlinewidth": 0,
             "ticks": ""
            },
            "colorscale": [
             [
              0,
              "#0d0887"
             ],
             [
              0.1111111111111111,
              "#46039f"
             ],
             [
              0.2222222222222222,
              "#7201a8"
             ],
             [
              0.3333333333333333,
              "#9c179e"
             ],
             [
              0.4444444444444444,
              "#bd3786"
             ],
             [
              0.5555555555555556,
              "#d8576b"
             ],
             [
              0.6666666666666666,
              "#ed7953"
             ],
             [
              0.7777777777777778,
              "#fb9f3a"
             ],
             [
              0.8888888888888888,
              "#fdca26"
             ],
             [
              1,
              "#f0f921"
             ]
            ],
            "type": "surface"
           }
          ],
          "table": [
           {
            "cells": {
             "fill": {
              "color": "#EBF0F8"
             },
             "line": {
              "color": "white"
             }
            },
            "header": {
             "fill": {
              "color": "#C8D4E3"
             },
             "line": {
              "color": "white"
             }
            },
            "type": "table"
           }
          ]
         },
         "layout": {
          "annotationdefaults": {
           "arrowcolor": "#2a3f5f",
           "arrowhead": 0,
           "arrowwidth": 1
          },
          "autotypenumbers": "strict",
          "coloraxis": {
           "colorbar": {
            "outlinewidth": 0,
            "ticks": ""
           }
          },
          "colorscale": {
           "diverging": [
            [
             0,
             "#8e0152"
            ],
            [
             0.1,
             "#c51b7d"
            ],
            [
             0.2,
             "#de77ae"
            ],
            [
             0.3,
             "#f1b6da"
            ],
            [
             0.4,
             "#fde0ef"
            ],
            [
             0.5,
             "#f7f7f7"
            ],
            [
             0.6,
             "#e6f5d0"
            ],
            [
             0.7,
             "#b8e186"
            ],
            [
             0.8,
             "#7fbc41"
            ],
            [
             0.9,
             "#4d9221"
            ],
            [
             1,
             "#276419"
            ]
           ],
           "sequential": [
            [
             0,
             "#0d0887"
            ],
            [
             0.1111111111111111,
             "#46039f"
            ],
            [
             0.2222222222222222,
             "#7201a8"
            ],
            [
             0.3333333333333333,
             "#9c179e"
            ],
            [
             0.4444444444444444,
             "#bd3786"
            ],
            [
             0.5555555555555556,
             "#d8576b"
            ],
            [
             0.6666666666666666,
             "#ed7953"
            ],
            [
             0.7777777777777778,
             "#fb9f3a"
            ],
            [
             0.8888888888888888,
             "#fdca26"
            ],
            [
             1,
             "#f0f921"
            ]
           ],
           "sequentialminus": [
            [
             0,
             "#0d0887"
            ],
            [
             0.1111111111111111,
             "#46039f"
            ],
            [
             0.2222222222222222,
             "#7201a8"
            ],
            [
             0.3333333333333333,
             "#9c179e"
            ],
            [
             0.4444444444444444,
             "#bd3786"
            ],
            [
             0.5555555555555556,
             "#d8576b"
            ],
            [
             0.6666666666666666,
             "#ed7953"
            ],
            [
             0.7777777777777778,
             "#fb9f3a"
            ],
            [
             0.8888888888888888,
             "#fdca26"
            ],
            [
             1,
             "#f0f921"
            ]
           ]
          },
          "colorway": [
           "#636efa",
           "#EF553B",
           "#00cc96",
           "#ab63fa",
           "#FFA15A",
           "#19d3f3",
           "#FF6692",
           "#B6E880",
           "#FF97FF",
           "#FECB52"
          ],
          "font": {
           "color": "#2a3f5f"
          },
          "geo": {
           "bgcolor": "white",
           "lakecolor": "white",
           "landcolor": "#E5ECF6",
           "showlakes": true,
           "showland": true,
           "subunitcolor": "white"
          },
          "hoverlabel": {
           "align": "left"
          },
          "hovermode": "closest",
          "mapbox": {
           "style": "light"
          },
          "paper_bgcolor": "white",
          "plot_bgcolor": "#E5ECF6",
          "polar": {
           "angularaxis": {
            "gridcolor": "white",
            "linecolor": "white",
            "ticks": ""
           },
           "bgcolor": "#E5ECF6",
           "radialaxis": {
            "gridcolor": "white",
            "linecolor": "white",
            "ticks": ""
           }
          },
          "scene": {
           "xaxis": {
            "backgroundcolor": "#E5ECF6",
            "gridcolor": "white",
            "gridwidth": 2,
            "linecolor": "white",
            "showbackground": true,
            "ticks": "",
            "zerolinecolor": "white"
           },
           "yaxis": {
            "backgroundcolor": "#E5ECF6",
            "gridcolor": "white",
            "gridwidth": 2,
            "linecolor": "white",
            "showbackground": true,
            "ticks": "",
            "zerolinecolor": "white"
           },
           "zaxis": {
            "backgroundcolor": "#E5ECF6",
            "gridcolor": "white",
            "gridwidth": 2,
            "linecolor": "white",
            "showbackground": true,
            "ticks": "",
            "zerolinecolor": "white"
           }
          },
          "shapedefaults": {
           "line": {
            "color": "#2a3f5f"
           }
          },
          "ternary": {
           "aaxis": {
            "gridcolor": "white",
            "linecolor": "white",
            "ticks": ""
           },
           "baxis": {
            "gridcolor": "white",
            "linecolor": "white",
            "ticks": ""
           },
           "bgcolor": "#E5ECF6",
           "caxis": {
            "gridcolor": "white",
            "linecolor": "white",
            "ticks": ""
           }
          },
          "title": {
           "x": 0.05
          },
          "xaxis": {
           "automargin": true,
           "gridcolor": "white",
           "linecolor": "white",
           "ticks": "",
           "title": {
            "standoff": 15
           },
           "zerolinecolor": "white",
           "zerolinewidth": 2
          },
          "yaxis": {
           "automargin": true,
           "gridcolor": "white",
           "linecolor": "white",
           "ticks": "",
           "title": {
            "standoff": 15
           },
           "zerolinecolor": "white",
           "zerolinewidth": 2
          }
         }
        },
        "uniformtext": {
         "minsize": 16,
         "mode": "show"
        },
        "width": 1200,
        "xaxis": {
         "automargin": true,
         "gridcolor": "lightgray",
         "range": [
          0,
          622.5
         ],
         "showgrid": false,
         "showticklabels": true,
         "tickfont": {
          "size": 16
         },
         "title": {
          "text": "Number of Articles"
         }
        },
        "yaxis": {
         "automargin": true,
         "categoryarray": [
          "entertainment",
          "business",
          "environment",
          "health",
          "politics",
          "crime & courts",
          "weather",
          "travel",
          "war & conflict"
         ],
         "categoryorder": "array",
         "showgrid": false,
         "side": "left",
         "tickfont": {
          "size": 16
         },
         "tickmode": "linear",
         "title": {
          "text": "Theme"
         }
        }
       }
      }
     },
     "metadata": {},
     "output_type": "display_data"
    },
    {
     "name": "stdout",
     "output_type": "stream",
     "text": [
      "Total unique themes: 10\n",
      "Showing top 15 themes\n",
      "\n",
      "Analyzing Factal Content Length...\n"
     ]
    },
    {
     "data": {
      "application/vnd.plotly.v1+json": {
       "config": {
        "plotlyServerURL": "https://plot.ly"
       },
       "data": [
        {
         "cliponaxis": false,
         "customdata": [
          0.0681663258350375,
          0.81799591002045,
          15.20109066121336,
          83.91274710293115
         ],
         "hovertemplate": "<b>%{y}</b><br>Count: %{x:,}<br>Percentage: %{customdata:.1f}%<extra></extra>",
         "marker": {
          "color": [
           "#477091",
           "#477091",
           "#477091",
           "#E02A2A"
          ],
          "line": {
           "color": "white",
           "width": 0.5
          }
         },
         "orientation": "h",
         "text": [
          "<b>1</b> (0.1%)",
          "<b>12</b> (0.8%)",
          "<b>223</b> (15.2%)",
          "<b>1,231</b> (83.9%)"
         ],
         "textfont": {
          "size": 16
         },
         "textposition": "outside",
         "type": "bar",
         "x": [
          1,
          12,
          223,
          1231
         ],
         "y": [
          "Very Long (1001-2000)",
          "Long (601-1000)",
          "Medium (301-600)",
          "Short (101-300)"
         ]
        }
       ],
       "layout": {
        "annotations": [
         {
          "showarrow": false,
          "text": "Median: 118",
          "x": 117.5,
          "xanchor": "center",
          "xref": "x",
          "y": 1,
          "yanchor": "bottom",
          "yref": "y domain"
         }
        ],
        "bargap": 0.3,
        "font": {
         "color": "black",
         "family": "Times New Roman",
         "size": 16
        },
        "height": 400,
        "margin": {
         "b": 80,
         "l": 200,
         "r": 100,
         "t": 80
        },
        "paper_bgcolor": "white",
        "plot_bgcolor": "white",
        "shapes": [
         {
          "line": {
           "color": "gray",
           "dash": "dash",
           "width": 1
          },
          "type": "line",
          "x0": 117.5,
          "x1": 117.5,
          "xref": "x",
          "y0": 0,
          "y1": 1,
          "yref": "y domain"
         }
        ],
        "showlegend": false,
        "template": {
         "data": {
          "bar": [
           {
            "error_x": {
             "color": "#2a3f5f"
            },
            "error_y": {
             "color": "#2a3f5f"
            },
            "marker": {
             "line": {
              "color": "#E5ECF6",
              "width": 0.5
             },
             "pattern": {
              "fillmode": "overlay",
              "size": 10,
              "solidity": 0.2
             }
            },
            "type": "bar"
           }
          ],
          "barpolar": [
           {
            "marker": {
             "line": {
              "color": "#E5ECF6",
              "width": 0.5
             },
             "pattern": {
              "fillmode": "overlay",
              "size": 10,
              "solidity": 0.2
             }
            },
            "type": "barpolar"
           }
          ],
          "carpet": [
           {
            "aaxis": {
             "endlinecolor": "#2a3f5f",
             "gridcolor": "white",
             "linecolor": "white",
             "minorgridcolor": "white",
             "startlinecolor": "#2a3f5f"
            },
            "baxis": {
             "endlinecolor": "#2a3f5f",
             "gridcolor": "white",
             "linecolor": "white",
             "minorgridcolor": "white",
             "startlinecolor": "#2a3f5f"
            },
            "type": "carpet"
           }
          ],
          "choropleth": [
           {
            "colorbar": {
             "outlinewidth": 0,
             "ticks": ""
            },
            "type": "choropleth"
           }
          ],
          "contour": [
           {
            "colorbar": {
             "outlinewidth": 0,
             "ticks": ""
            },
            "colorscale": [
             [
              0,
              "#0d0887"
             ],
             [
              0.1111111111111111,
              "#46039f"
             ],
             [
              0.2222222222222222,
              "#7201a8"
             ],
             [
              0.3333333333333333,
              "#9c179e"
             ],
             [
              0.4444444444444444,
              "#bd3786"
             ],
             [
              0.5555555555555556,
              "#d8576b"
             ],
             [
              0.6666666666666666,
              "#ed7953"
             ],
             [
              0.7777777777777778,
              "#fb9f3a"
             ],
             [
              0.8888888888888888,
              "#fdca26"
             ],
             [
              1,
              "#f0f921"
             ]
            ],
            "type": "contour"
           }
          ],
          "contourcarpet": [
           {
            "colorbar": {
             "outlinewidth": 0,
             "ticks": ""
            },
            "type": "contourcarpet"
           }
          ],
          "heatmap": [
           {
            "colorbar": {
             "outlinewidth": 0,
             "ticks": ""
            },
            "colorscale": [
             [
              0,
              "#0d0887"
             ],
             [
              0.1111111111111111,
              "#46039f"
             ],
             [
              0.2222222222222222,
              "#7201a8"
             ],
             [
              0.3333333333333333,
              "#9c179e"
             ],
             [
              0.4444444444444444,
              "#bd3786"
             ],
             [
              0.5555555555555556,
              "#d8576b"
             ],
             [
              0.6666666666666666,
              "#ed7953"
             ],
             [
              0.7777777777777778,
              "#fb9f3a"
             ],
             [
              0.8888888888888888,
              "#fdca26"
             ],
             [
              1,
              "#f0f921"
             ]
            ],
            "type": "heatmap"
           }
          ],
          "histogram": [
           {
            "marker": {
             "pattern": {
              "fillmode": "overlay",
              "size": 10,
              "solidity": 0.2
             }
            },
            "type": "histogram"
           }
          ],
          "histogram2d": [
           {
            "colorbar": {
             "outlinewidth": 0,
             "ticks": ""
            },
            "colorscale": [
             [
              0,
              "#0d0887"
             ],
             [
              0.1111111111111111,
              "#46039f"
             ],
             [
              0.2222222222222222,
              "#7201a8"
             ],
             [
              0.3333333333333333,
              "#9c179e"
             ],
             [
              0.4444444444444444,
              "#bd3786"
             ],
             [
              0.5555555555555556,
              "#d8576b"
             ],
             [
              0.6666666666666666,
              "#ed7953"
             ],
             [
              0.7777777777777778,
              "#fb9f3a"
             ],
             [
              0.8888888888888888,
              "#fdca26"
             ],
             [
              1,
              "#f0f921"
             ]
            ],
            "type": "histogram2d"
           }
          ],
          "histogram2dcontour": [
           {
            "colorbar": {
             "outlinewidth": 0,
             "ticks": ""
            },
            "colorscale": [
             [
              0,
              "#0d0887"
             ],
             [
              0.1111111111111111,
              "#46039f"
             ],
             [
              0.2222222222222222,
              "#7201a8"
             ],
             [
              0.3333333333333333,
              "#9c179e"
             ],
             [
              0.4444444444444444,
              "#bd3786"
             ],
             [
              0.5555555555555556,
              "#d8576b"
             ],
             [
              0.6666666666666666,
              "#ed7953"
             ],
             [
              0.7777777777777778,
              "#fb9f3a"
             ],
             [
              0.8888888888888888,
              "#fdca26"
             ],
             [
              1,
              "#f0f921"
             ]
            ],
            "type": "histogram2dcontour"
           }
          ],
          "mesh3d": [
           {
            "colorbar": {
             "outlinewidth": 0,
             "ticks": ""
            },
            "type": "mesh3d"
           }
          ],
          "parcoords": [
           {
            "line": {
             "colorbar": {
              "outlinewidth": 0,
              "ticks": ""
             }
            },
            "type": "parcoords"
           }
          ],
          "pie": [
           {
            "automargin": true,
            "type": "pie"
           }
          ],
          "scatter": [
           {
            "fillpattern": {
             "fillmode": "overlay",
             "size": 10,
             "solidity": 0.2
            },
            "type": "scatter"
           }
          ],
          "scatter3d": [
           {
            "line": {
             "colorbar": {
              "outlinewidth": 0,
              "ticks": ""
             }
            },
            "marker": {
             "colorbar": {
              "outlinewidth": 0,
              "ticks": ""
             }
            },
            "type": "scatter3d"
           }
          ],
          "scattercarpet": [
           {
            "marker": {
             "colorbar": {
              "outlinewidth": 0,
              "ticks": ""
             }
            },
            "type": "scattercarpet"
           }
          ],
          "scattergeo": [
           {
            "marker": {
             "colorbar": {
              "outlinewidth": 0,
              "ticks": ""
             }
            },
            "type": "scattergeo"
           }
          ],
          "scattergl": [
           {
            "marker": {
             "colorbar": {
              "outlinewidth": 0,
              "ticks": ""
             }
            },
            "type": "scattergl"
           }
          ],
          "scattermap": [
           {
            "marker": {
             "colorbar": {
              "outlinewidth": 0,
              "ticks": ""
             }
            },
            "type": "scattermap"
           }
          ],
          "scattermapbox": [
           {
            "marker": {
             "colorbar": {
              "outlinewidth": 0,
              "ticks": ""
             }
            },
            "type": "scattermapbox"
           }
          ],
          "scatterpolar": [
           {
            "marker": {
             "colorbar": {
              "outlinewidth": 0,
              "ticks": ""
             }
            },
            "type": "scatterpolar"
           }
          ],
          "scatterpolargl": [
           {
            "marker": {
             "colorbar": {
              "outlinewidth": 0,
              "ticks": ""
             }
            },
            "type": "scatterpolargl"
           }
          ],
          "scatterternary": [
           {
            "marker": {
             "colorbar": {
              "outlinewidth": 0,
              "ticks": ""
             }
            },
            "type": "scatterternary"
           }
          ],
          "surface": [
           {
            "colorbar": {
             "outlinewidth": 0,
             "ticks": ""
            },
            "colorscale": [
             [
              0,
              "#0d0887"
             ],
             [
              0.1111111111111111,
              "#46039f"
             ],
             [
              0.2222222222222222,
              "#7201a8"
             ],
             [
              0.3333333333333333,
              "#9c179e"
             ],
             [
              0.4444444444444444,
              "#bd3786"
             ],
             [
              0.5555555555555556,
              "#d8576b"
             ],
             [
              0.6666666666666666,
              "#ed7953"
             ],
             [
              0.7777777777777778,
              "#fb9f3a"
             ],
             [
              0.8888888888888888,
              "#fdca26"
             ],
             [
              1,
              "#f0f921"
             ]
            ],
            "type": "surface"
           }
          ],
          "table": [
           {
            "cells": {
             "fill": {
              "color": "#EBF0F8"
             },
             "line": {
              "color": "white"
             }
            },
            "header": {
             "fill": {
              "color": "#C8D4E3"
             },
             "line": {
              "color": "white"
             }
            },
            "type": "table"
           }
          ]
         },
         "layout": {
          "annotationdefaults": {
           "arrowcolor": "#2a3f5f",
           "arrowhead": 0,
           "arrowwidth": 1
          },
          "autotypenumbers": "strict",
          "coloraxis": {
           "colorbar": {
            "outlinewidth": 0,
            "ticks": ""
           }
          },
          "colorscale": {
           "diverging": [
            [
             0,
             "#8e0152"
            ],
            [
             0.1,
             "#c51b7d"
            ],
            [
             0.2,
             "#de77ae"
            ],
            [
             0.3,
             "#f1b6da"
            ],
            [
             0.4,
             "#fde0ef"
            ],
            [
             0.5,
             "#f7f7f7"
            ],
            [
             0.6,
             "#e6f5d0"
            ],
            [
             0.7,
             "#b8e186"
            ],
            [
             0.8,
             "#7fbc41"
            ],
            [
             0.9,
             "#4d9221"
            ],
            [
             1,
             "#276419"
            ]
           ],
           "sequential": [
            [
             0,
             "#0d0887"
            ],
            [
             0.1111111111111111,
             "#46039f"
            ],
            [
             0.2222222222222222,
             "#7201a8"
            ],
            [
             0.3333333333333333,
             "#9c179e"
            ],
            [
             0.4444444444444444,
             "#bd3786"
            ],
            [
             0.5555555555555556,
             "#d8576b"
            ],
            [
             0.6666666666666666,
             "#ed7953"
            ],
            [
             0.7777777777777778,
             "#fb9f3a"
            ],
            [
             0.8888888888888888,
             "#fdca26"
            ],
            [
             1,
             "#f0f921"
            ]
           ],
           "sequentialminus": [
            [
             0,
             "#0d0887"
            ],
            [
             0.1111111111111111,
             "#46039f"
            ],
            [
             0.2222222222222222,
             "#7201a8"
            ],
            [
             0.3333333333333333,
             "#9c179e"
            ],
            [
             0.4444444444444444,
             "#bd3786"
            ],
            [
             0.5555555555555556,
             "#d8576b"
            ],
            [
             0.6666666666666666,
             "#ed7953"
            ],
            [
             0.7777777777777778,
             "#fb9f3a"
            ],
            [
             0.8888888888888888,
             "#fdca26"
            ],
            [
             1,
             "#f0f921"
            ]
           ]
          },
          "colorway": [
           "#636efa",
           "#EF553B",
           "#00cc96",
           "#ab63fa",
           "#FFA15A",
           "#19d3f3",
           "#FF6692",
           "#B6E880",
           "#FF97FF",
           "#FECB52"
          ],
          "font": {
           "color": "#2a3f5f"
          },
          "geo": {
           "bgcolor": "white",
           "lakecolor": "white",
           "landcolor": "#E5ECF6",
           "showlakes": true,
           "showland": true,
           "subunitcolor": "white"
          },
          "hoverlabel": {
           "align": "left"
          },
          "hovermode": "closest",
          "mapbox": {
           "style": "light"
          },
          "paper_bgcolor": "white",
          "plot_bgcolor": "#E5ECF6",
          "polar": {
           "angularaxis": {
            "gridcolor": "white",
            "linecolor": "white",
            "ticks": ""
           },
           "bgcolor": "#E5ECF6",
           "radialaxis": {
            "gridcolor": "white",
            "linecolor": "white",
            "ticks": ""
           }
          },
          "scene": {
           "xaxis": {
            "backgroundcolor": "#E5ECF6",
            "gridcolor": "white",
            "gridwidth": 2,
            "linecolor": "white",
            "showbackground": true,
            "ticks": "",
            "zerolinecolor": "white"
           },
           "yaxis": {
            "backgroundcolor": "#E5ECF6",
            "gridcolor": "white",
            "gridwidth": 2,
            "linecolor": "white",
            "showbackground": true,
            "ticks": "",
            "zerolinecolor": "white"
           },
           "zaxis": {
            "backgroundcolor": "#E5ECF6",
            "gridcolor": "white",
            "gridwidth": 2,
            "linecolor": "white",
            "showbackground": true,
            "ticks": "",
            "zerolinecolor": "white"
           }
          },
          "shapedefaults": {
           "line": {
            "color": "#2a3f5f"
           }
          },
          "ternary": {
           "aaxis": {
            "gridcolor": "white",
            "linecolor": "white",
            "ticks": ""
           },
           "baxis": {
            "gridcolor": "white",
            "linecolor": "white",
            "ticks": ""
           },
           "bgcolor": "#E5ECF6",
           "caxis": {
            "gridcolor": "white",
            "linecolor": "white",
            "ticks": ""
           }
          },
          "title": {
           "x": 0.05
          },
          "xaxis": {
           "automargin": true,
           "gridcolor": "white",
           "linecolor": "white",
           "ticks": "",
           "title": {
            "standoff": 15
           },
           "zerolinecolor": "white",
           "zerolinewidth": 2
          },
          "yaxis": {
           "automargin": true,
           "gridcolor": "white",
           "linecolor": "white",
           "ticks": "",
           "title": {
            "standoff": 15
           },
           "zerolinecolor": "white",
           "zerolinewidth": 2
          }
         }
        },
        "uniformtext": {
         "minsize": 16,
         "mode": "show"
        },
        "width": 1200,
        "xaxis": {
         "automargin": true,
         "gridcolor": "lightgray",
         "range": [
          0,
          1846.5
         ],
         "showgrid": false,
         "showticklabels": true,
         "tickfont": {
          "size": 16
         },
         "title": {
          "text": "Number of Articles"
         }
        },
        "yaxis": {
         "automargin": true,
         "categoryarray": [
          "Very Long (1001-2000)",
          "Long (601-1000)",
          "Medium (301-600)",
          "Short (101-300)"
         ],
         "categoryorder": "array",
         "showgrid": false,
         "side": "left",
         "tickfont": {
          "size": 16
         },
         "tickmode": "linear",
         "title": {
          "text": "Length Category"
         }
        }
       }
      }
     },
     "metadata": {},
     "output_type": "display_data"
    },
    {
     "name": "stdout",
     "output_type": "stream",
     "text": [
      "Average content length: 267 characters\n",
      "Median content length: 257 characters\n",
      "Maximum content length: 1,058 characters\n",
      "Articles with empty content: 0 (0.0%)\n",
      "\n",
      "============================================================\n",
      "COMPREHENSIVE FACTAL SUMMARY\n",
      "============================================================\n",
      "Total articles in merged dataset: 1,467\n",
      "Date range: 2025-04-03 00:00:00 to 2025-07-03 00:00:00\n",
      "Time span: 91 days\n",
      "Geographic regions covered: 20\n",
      "Top 3 countrys by article count:\n",
      "  India: 1,294 articles\n",
      "  Pakistan: 145 articles\n",
      "  US: 4 articles\n"
     ]
    }
   ],
   "source": [
    "# FACTAL Distribution Analysis (Forecast Generation Style)\n",
    "if factal_pd is not None:\n",
    "    \n",
    "    def create_factal_distribution_plot(data_column, column_name, top_n=15, chart_title=None):\n",
    "        \"\"\"\n",
    "        Create a horizontal bar chart with forecast_generation styling for Factal data\n",
    "        \"\"\"\n",
    "        if column_name not in factal_pd.columns:\n",
    "            print(f\"Column '{column_name}' not found in Factal dataset\")\n",
    "            return None, None\n",
    "            \n",
    "        # Handle potential null values and convert to string\n",
    "        data_series = factal_pd[column_name].fillna('Unknown').astype(str)\n",
    "        \n",
    "        # Get value counts\n",
    "        value_counts = data_series.value_counts()\n",
    "        \n",
    "        # Remove 'Unknown' or empty values for cleaner visualization\n",
    "        value_counts = value_counts[~value_counts.index.isin(['Unknown', 'nan', '', 'None', \"N/A\", \"Air India\"])]\n",
    "        \n",
    "        # Take top N values if specified\n",
    "        if top_n and len(value_counts) > top_n:\n",
    "            value_counts = value_counts.head(top_n)\n",
    "            title_suffix = f\" (Top {top_n})\"\n",
    "        else:\n",
    "            title_suffix = \"\"\n",
    "        \n",
    "        if len(value_counts) == 0:\n",
    "            print(f\"No valid data found for {column_name}\")\n",
    "            return None, None\n",
    "        \n",
    "        # Sort in ascending order for proper horizontal bar chart display\n",
    "        value_counts = value_counts.sort_values(ascending=True)\n",
    "        \n",
    "        # Prepare data\n",
    "        categories = value_counts.index.tolist()\n",
    "        counts = value_counts.values.tolist()\n",
    "        \n",
    "        # Create text labels showing both count and percentage\n",
    "        total_events = len(data_series[~data_series.isin(['Unknown', 'nan', '', 'None'])])\n",
    "        text_labels = []\n",
    "        for count in counts:\n",
    "            percentage = (count / total_events) * 100\n",
    "            text_labels.append(f\"<b>{count:,}</b> ({percentage:.1f}%)\")\n",
    "        \n",
    "        # Create color mapping (similar to forecast_generation script)\n",
    "        colors = []\n",
    "        max_count = max(counts)\n",
    "        for count in counts:\n",
    "            # Color intensity based on relative frequency\n",
    "            intensity = count / max_count\n",
    "            if intensity >= 0.8:\n",
    "                colors.append(\"#E02A2A\")  # High frequency - saddle brown\n",
    "            elif intensity >= 0.6:\n",
    "                colors.append(\"#FF8F1F\")  # Medium-high frequency - sandy brown\n",
    "            elif intensity >= 0.4:\n",
    "                colors.append(\"#FFC01F\")  # Medium frequency - goldenrod\n",
    "            elif intensity >= 0.2:\n",
    "                colors.append(\"#53C2EE\")  # Low-medium frequency - light sea green\n",
    "            else:\n",
    "                colors.append(\"#477091\")  # Low frequency - steel blue\n",
    "        \n",
    "        # Create the horizontal bar chart\n",
    "        fig = go.Figure()\n",
    "        \n",
    "        fig.add_trace(go.Bar(\n",
    "            y=categories,\n",
    "            x=counts,\n",
    "            orientation='h',\n",
    "            marker=dict(\n",
    "                color=colors,\n",
    "                line=dict(color='white', width=0.5)\n",
    "            ),\n",
    "            text=text_labels,\n",
    "            textposition='outside',\n",
    "            textfont=dict(size=16),\n",
    "            cliponaxis=False,\n",
    "            hovertemplate=(\n",
    "                \"<b>%{y}</b><br>\"\n",
    "                \"Count: %{x:,}<br>\"\n",
    "                \"Percentage: %{customdata:.1f}%\"\n",
    "                \"<extra></extra>\"\n",
    "            ),\n",
    "            customdata=[(count / total_events) * 100 for count in counts]\n",
    "        ))\n",
    "        \n",
    "        # Calculate dynamic height based on number of categories\n",
    "        num_categories = len(categories)\n",
    "        bar_height = 50\n",
    "        calculated_height = max(400, num_categories * bar_height)\n",
    "        \n",
    "        # Set x-axis range with extra space for labels\n",
    "        x_range = [0, max(counts) * 1.5]\n",
    "        \n",
    "        # Update axes with styling similar to forecast_generation\n",
    "        fig.update_xaxes(\n",
    "            showticklabels=True,\n",
    "            tickfont=dict(size=16),\n",
    "            showgrid=False,\n",
    "            gridcolor='lightgray',\n",
    "            automargin=True,\n",
    "            title=\"Number of Articles\"\n",
    "        )\n",
    "\n",
    "        fig.update_yaxes(\n",
    "            tickfont=dict(size=16),\n",
    "            tickmode='linear',\n",
    "            showgrid=False,\n",
    "            side='left',\n",
    "            categoryorder='array',\n",
    "            categoryarray=categories,\n",
    "            automargin=True,\n",
    "            title=column_name.replace('_', ' ').title()\n",
    "        )\n",
    "        \n",
    "        # Update layout with styling similar to forecast_generation\n",
    "        fig.update_layout(\n",
    "            font=dict(size=16, family=\"Times New Roman\", color=\"black\"),\n",
    "            uniformtext_minsize=16,\n",
    "            uniformtext_mode='show',\n",
    "            margin=dict(l=200, r=100, t=80, b=80),\n",
    "            height=calculated_height,\n",
    "            width=1200,\n",
    "            paper_bgcolor='white',\n",
    "            plot_bgcolor='white',\n",
    "            showlegend=False,\n",
    "            xaxis=dict(range=x_range),\n",
    "            bargap=0.3\n",
    "        )\n",
    "        \n",
    "        # Add vertical line at median for reference\n",
    "        median_count = np.median(counts)\n",
    "        fig.add_vline(\n",
    "            x=median_count, \n",
    "            line_dash=\"dash\", \n",
    "            line_color=\"gray\", \n",
    "            line_width=1,\n",
    "            annotation_text=f\"Median: {median_count:,.0f}\",\n",
    "            annotation_position=\"top\"\n",
    "        )\n",
    "        \n",
    "        return fig, value_counts\n",
    "    \n",
    "    print(\"=\"*60)\n",
    "    print(\"FACTAL DISTRIBUTION ANALYSIS\")\n",
    "    print(\"=\"*60)\n",
    "    \n",
    "    # 1. Severity Distribution\n",
    "    print(\"Creating Factal Severity Distribution...\")\n",
    "    severity_col = None\n",
    "    # Check for different possible severity column names\n",
    "    for col in ['severity', 'Severity', 'severity_score', 'alert_level']:\n",
    "        if col in factal_pd.columns:\n",
    "            severity_col = col\n",
    "            break\n",
    "    \n",
    "    if severity_col:\n",
    "        fig_severity, severity_stats = create_factal_distribution_plot(severity_col, severity_col)\n",
    "        if fig_severity:\n",
    "            fig_severity.show()\n",
    "            print(f\"Severity levels found: {len(severity_stats)}\")\n",
    "        else:\n",
    "            print(f\"No valid severity data found in column '{severity_col}'\")\n",
    "    else:\n",
    "        print(\"No severity column found in Factal data\")\n",
    "        print(f\"Available columns: {list(factal_pd.columns)}\")\n",
    "    \n",
    "    # 2. Tag Distribution (Top 15)\n",
    "    print(f\"\\nCreating Factal Tag Distribution...\")\n",
    "    tag_col = None\n",
    "    # Check for different possible tag column names\n",
    "    for col in ['tag', 'tags', 'Tag', 'Tags', 'category', 'categories']:\n",
    "        if col in factal_pd.columns:\n",
    "            tag_col = col\n",
    "            break\n",
    "    \n",
    "    if tag_col:\n",
    "        fig_tag, tag_stats = create_factal_distribution_plot(tag_col, tag_col, top_n=15)\n",
    "        if fig_tag:\n",
    "            fig_tag.show()\n",
    "            print(f\"Total unique tags: {factal_pd[tag_col].nunique()}\")\n",
    "            print(f\"Showing top 15 tags\")\n",
    "        else:\n",
    "            print(f\"No valid tag data found in column '{tag_col}'\")\n",
    "    else:\n",
    "        print(\"No tag column found in Factal data\")\n",
    "    \n",
    "    # 3. Theme Distribution (Top 15)\n",
    "    print(f\"\\nCreating Factal Theme Distribution...\")\n",
    "    theme_col = None\n",
    "    # Check for different possible theme column names\n",
    "    for col in ['theme', 'themes', 'Theme', 'Themes', 'topic', 'topics']:\n",
    "        if col in factal_pd.columns:\n",
    "            theme_col = col\n",
    "            break\n",
    "    \n",
    "    if theme_col:\n",
    "        fig_theme, theme_stats = create_factal_distribution_plot(theme_col, theme_col, top_n=15)\n",
    "        if fig_theme:\n",
    "            fig_theme.show()\n",
    "            print(f\"Total unique themes: {factal_pd[theme_col].nunique()}\")\n",
    "            print(f\"Showing top 15 themes\")\n",
    "        else:\n",
    "            print(f\"No valid theme data found in column '{theme_col}'\")\n",
    "    else:\n",
    "        print(\"No theme column found in Factal data\")\n",
    "    \n",
    "    # 4. Content Length Distribution (if text data is available)\n",
    "    print(f\"\\nAnalyzing Factal Content Length...\")\n",
    "    text_cols = ['content', 'text', 'description', 'summary', 'body']\n",
    "    text_col = None\n",
    "    for col in text_cols:\n",
    "        if col in factal_pd.columns:\n",
    "            text_col = col\n",
    "            break\n",
    "    \n",
    "    if text_col:\n",
    "        # Calculate text lengths\n",
    "        factal_pd['content_length'] = factal_pd[text_col].fillna('').astype(str).str.len()\n",
    "        \n",
    "        # Create length categories\n",
    "        def categorize_length(x):\n",
    "            if x == 0:\n",
    "                return \"Empty\"\n",
    "            elif 1 <= x <= 100:\n",
    "                return \"Very Short (1-100)\"\n",
    "            elif 101 <= x <= 300:\n",
    "                return \"Short (101-300)\"\n",
    "            elif 301 <= x <= 600:\n",
    "                return \"Medium (301-600)\"\n",
    "            elif 601 <= x <= 1000:\n",
    "                return \"Long (601-1000)\"\n",
    "            elif 1001 <= x <= 2000:\n",
    "                return \"Very Long (1001-2000)\"\n",
    "            else:\n",
    "                return \"Extremely Long (2000+)\"\n",
    "        \n",
    "        factal_pd['length_category'] = factal_pd['content_length'].apply(categorize_length)\n",
    "        \n",
    "        fig_length, length_stats = create_factal_distribution_plot('length_category', 'length_category')\n",
    "        if fig_length:\n",
    "            fig_length.show()\n",
    "            \n",
    "            # Print length statistics\n",
    "            print(f\"Average content length: {factal_pd['content_length'].mean():.0f} characters\")\n",
    "            print(f\"Median content length: {factal_pd['content_length'].median():.0f} characters\")\n",
    "            print(f\"Maximum content length: {factal_pd['content_length'].max():,} characters\")\n",
    "            print(f\"Articles with empty content: {(factal_pd['content_length'] == 0).sum():,} ({(factal_pd['content_length'] == 0).mean()*100:.1f}%)\")\n",
    "    else:\n",
    "        print(\"No text content column found for length analysis\")\n",
    "    \n",
    "    # Print overall Factal summary\n",
    "    print(f\"\\n\" + \"=\"*60)\n",
    "    print(\"COMPREHENSIVE FACTAL SUMMARY\")\n",
    "    print(\"=\"*60)\n",
    "    print(f\"Total articles in merged dataset: {len(factal_pd):,}\")\n",
    "    \n",
    "    if 'date' in factal_pd.columns or 'published_date' in factal_pd.columns or 'timestamp' in factal_pd.columns:\n",
    "        date_col = None\n",
    "        for col in ['date', 'published_date', 'timestamp', 'created_at']:\n",
    "            if col in factal_pd.columns:\n",
    "                date_col = col\n",
    "                break\n",
    "        \n",
    "        if date_col:\n",
    "            try:\n",
    "                factal_pd[date_col] = pd.to_datetime(factal_pd[date_col])\n",
    "                print(f\"Date range: {factal_pd[date_col].min()} to {factal_pd[date_col].max()}\")\n",
    "                print(f\"Time span: {(factal_pd[date_col].max() - factal_pd[date_col].min()).days} days\")\n",
    "            except:\n",
    "                print(f\"Could not parse dates in column '{date_col}'\")\n",
    "    \n",
    "    if 'country' in factal_pd.columns or 'region' in factal_pd.columns:\n",
    "        geo_col = 'country' if 'country' in factal_pd.columns else 'region'\n",
    "        print(f\"Geographic regions covered: {factal_pd[geo_col].nunique()}\")\n",
    "        top_regions = factal_pd[geo_col].value_counts().head(3)\n",
    "        print(f\"Top 3 {geo_col}s by article count:\")\n",
    "        for region, count in top_regions.items():\n",
    "            print(f\"  {region}: {count:,} articles\")\n",
    "    \n",
    "else:\n",
    "    print(\"Factal data not available for distribution analysis\")"
   ]
  },
  {
   "cell_type": "code",
   "execution_count": 64,
   "id": "7e0de09e",
   "metadata": {},
   "outputs": [
    {
     "name": "stdout",
     "output_type": "stream",
     "text": [
      "Found 5 Google News files:\n",
      "  Loading: google_news_India_2025-06-26_2025-07-01.parquet\n",
      "    Successfully loaded: (500, 7)\n",
      "  Loading: google_news_India_2025-07-01_2025-07-03.parquet\n",
      "    Successfully loaded: (192, 7)\n",
      "  Loading: google_news_Sudan_2025-07-01_2025-07-03.parquet\n",
      "    Successfully loaded: (142, 7)\n",
      "  Loading: google_news_United_States_2025-06-26_2025-07-02.parquet\n",
      "    Successfully loaded: (500, 7)\n",
      "  Loading: google_news_United_States_2025-07-02_2025-07-03.parquet\n",
      "    Successfully loaded: (100, 7)\n",
      "Merging all Google News dataframes...\n",
      "Combined shape: (1434, 7)\n",
      "\n",
      "Combined Google News Dataset Overview:\n",
      "Shape: (1434, 7)\n",
      "Columns: ['title', 'google_link', 'source', 'id', 'date', 'decoded_url', 'full_text']\n",
      "\n",
      "Removed 8 duplicate records based on title\n",
      "\n",
      "Checking for empty cells in text columns: ['full_text', 'title']\n",
      "  full_text: 343 empty cells (24.1%)\n",
      "  title: 0 empty cells (0.0%)\n",
      "\n",
      "Removing rows with empty 'full_text' column...\n",
      "Removed 343 rows with empty 'full_text' (24.1%)\n",
      "Final dataset size: 1,083 records\n",
      "Total records removed: 351 (24.5%)\n",
      "\n",
      "Removed 8 duplicate records based on title\n",
      "\n",
      "Checking for empty cells in text columns: ['full_text', 'title']\n",
      "  full_text: 343 empty cells (24.1%)\n",
      "  title: 0 empty cells (0.0%)\n",
      "\n",
      "Removing rows with empty 'full_text' column...\n",
      "Removed 343 rows with empty 'full_text' (24.1%)\n",
      "Final dataset size: 1,083 records\n",
      "Total records removed: 351 (24.5%)\n"
     ]
    }
   ],
   "source": [
    "# Load and merge all Google News data files\n",
    "google_files = [f for f in parquet_files if 'google' in f.name.lower()]\n",
    "if google_files:\n",
    "    print(f\"Found {len(google_files)} Google News files:\")\n",
    "    \n",
    "    # Load and combine all Google files with error handling\n",
    "    all_google_dfs = []\n",
    "    for file in google_files:\n",
    "        print(f\"  Loading: {file.name}\")\n",
    "        try:\n",
    "            df = pl.read_parquet(file)\n",
    "            all_google_dfs.append(df)\n",
    "            print(f\"    Successfully loaded: {df.shape}\")\n",
    "        except Exception as e:\n",
    "            print(f\"    Error loading {file.name}: {e}\")\n",
    "            continue\n",
    "    \n",
    "    if all_google_dfs:\n",
    "        # Merge all Google dataframes\n",
    "        if len(all_google_dfs) > 1:\n",
    "            print(\"Merging all Google News dataframes...\")\n",
    "            google_df = pl.concat(all_google_dfs, how=\"vertical\")\n",
    "            print(f\"Combined shape: {google_df.shape}\")\n",
    "        else:\n",
    "            google_df = all_google_dfs[0]\n",
    "            print(f\"Single file shape: {google_df.shape}\")\n",
    "        \n",
    "        print(f\"\\nCombined Google News Dataset Overview:\")\n",
    "        print(f\"Shape: {google_df.shape}\")\n",
    "        print(f\"Columns: {google_df.columns}\")\n",
    "        \n",
    "        # Convert to pandas for plotting\n",
    "        google_pd = google_df.to_pandas()\n",
    "        \n",
    "        # Remove duplicates if any (based on url or title)\n",
    "        original_size = len(google_pd)\n",
    "        if 'url' in google_pd.columns:\n",
    "            google_pd = google_pd.drop_duplicates(subset=['url'])\n",
    "            print(f\"\\nRemoved {original_size - len(google_pd)} duplicate records based on URL\")\n",
    "        elif 'title' in google_pd.columns:\n",
    "            google_pd = google_pd.drop_duplicates(subset=['title'])\n",
    "            print(f\"\\nRemoved {original_size - len(google_pd)} duplicate records based on title\")\n",
    "        \n",
    "        # Remove rows with empty cells in key columns\n",
    "        size_before_empty_removal = len(google_pd)\n",
    "        \n",
    "        # Check for important text columns and remove rows where they are empty\n",
    "        text_columns_to_check = ['full_text', 'text', 'content', 'description', 'summary', 'title']\n",
    "        existing_text_cols = [col for col in text_columns_to_check if col in google_pd.columns]\n",
    "        \n",
    "        if existing_text_cols:\n",
    "            print(f\"\\nChecking for empty cells in text columns: {existing_text_cols}\")\n",
    "            \n",
    "            # For each text column, show empty statistics before removal\n",
    "            for col in existing_text_cols:\n",
    "                empty_count = google_pd[col].isna().sum() + (google_pd[col].astype(str).str.strip() == '').sum()\n",
    "                empty_pct = (empty_count / len(google_pd)) * 100\n",
    "                print(f\"  {col}: {empty_count:,} empty cells ({empty_pct:.1f}%)\")\n",
    "            \n",
    "            # Remove rows where primary text column (if exists) is empty\n",
    "            primary_text_col = None\n",
    "            for col in ['full_text', 'text', 'content', 'description']:\n",
    "                if col in google_pd.columns:\n",
    "                    primary_text_col = col\n",
    "                    break\n",
    "            \n",
    "            if primary_text_col:\n",
    "                print(f\"\\nRemoving rows with empty '{primary_text_col}' column...\")\n",
    "                # Remove rows where the primary text column is null or empty string\n",
    "                google_pd = google_pd[\n",
    "                    google_pd[primary_text_col].notna() & \n",
    "                    (google_pd[primary_text_col].astype(str).str.strip() != '')\n",
    "                ]\n",
    "                removed_empty = size_before_empty_removal - len(google_pd)\n",
    "                print(f\"Removed {removed_empty:,} rows with empty '{primary_text_col}' ({removed_empty/size_before_empty_removal*100:.1f}%)\")\n",
    "            \n",
    "            # Also remove rows where title is empty (if title column exists)\n",
    "            if 'title' in google_pd.columns:\n",
    "                size_before_title = len(google_pd)\n",
    "                google_pd = google_pd[\n",
    "                    google_pd['title'].notna() & \n",
    "                    (google_pd['title'].astype(str).str.strip() != '')\n",
    "                ]\n",
    "                removed_title = size_before_title - len(google_pd)\n",
    "                if removed_title > 0:\n",
    "                    print(f\"Additionally removed {removed_title:,} rows with empty titles\")\n",
    "        \n",
    "        else:\n",
    "            print(\"\\nNo standard text columns found for empty cell removal\")\n",
    "        \n",
    "        print(f\"Final dataset size: {len(google_pd):,} records\")\n",
    "        total_removed = original_size - len(google_pd)\n",
    "        print(f\"Total records removed: {total_removed:,} ({total_removed/original_size*100:.1f}%)\")\n",
    "        \n",
    "    else:\n",
    "        print(\"No Google News files could be loaded successfully\")\n",
    "        google_df = None\n",
    "        google_pd = None\n",
    "        \n",
    "else:\n",
    "    print(\"No Google News files found\")\n",
    "    google_df = None\n",
    "    google_pd = None"
   ]
  },
  {
   "cell_type": "code",
   "execution_count": 65,
   "id": "e2614da8",
   "metadata": {},
   "outputs": [
    {
     "name": "stdout",
     "output_type": "stream",
     "text": [
      "============================================================\n",
      "GOOGLE NEWS CHARACTER COUNT ANALYSIS\n",
      "============================================================\n",
      "Analyzing character count distribution for 'full_text' column...\n",
      "Text length statistics:\n",
      "  Total articles: 1,083\n",
      "  Average length: 5137 characters\n",
      "  Median length: 3336 characters\n",
      "  Min length: 72 characters\n",
      "  Max length: 84,673 characters\n",
      "  Articles with empty text: 0 (0.0%)\n"
     ]
    },
    {
     "data": {
      "application/vnd.plotly.v1+json": {
       "config": {
        "plotlyServerURL": "https://plot.ly"
       },
       "data": [
        {
         "cliponaxis": false,
         "customdata": [
          0.2770083102493075,
          2.954755309325946,
          4.986149584487535,
          14.40443213296399,
          44.87534626038781,
          22.068328716528164,
          10.43397968605725
         ],
         "hovertemplate": "<b>%{y}</b><br>Count: %{x:,}<br>Percentage: %{customdata:.1f}%<extra></extra>",
         "marker": {
          "color": [
           "#4D94DB",
           "#4D94DB",
           "#4D94DB",
           "#42BFF4",
           "#EA4335",
           "#F6C43C",
           "#42BFF4"
          ],
          "line": {
           "color": "white",
           "width": 0.5
          }
         },
         "name": "Google News Character Count Distribution",
         "orientation": "h",
         "text": [
          "<b>3</b> (0.3%)",
          "<b>32</b> (3.0%)",
          "<b>54</b> (5.0%)",
          "<b>156</b> (14.4%)",
          "<b>486</b> (44.9%)",
          "<b>239</b> (22.1%)",
          "<b>113</b> (10.4%)"
         ],
         "textfont": {
          "color": "black",
          "family": "Times New Roman",
          "size": 16
         },
         "textposition": "outside",
         "type": "bar",
         "x": [
          3,
          32,
          54,
          156,
          486,
          239,
          113
         ],
         "y": [
          "Very Short (1-100)",
          "Short (101-500)",
          "Medium (501-1000)",
          "Long (1001-2000)",
          "Very Long (2001-5000)",
          "Extremely Long (5001-10000)",
          "Ultra Long (10000+)"
         ]
        }
       ],
       "layout": {
        "annotations": [
         {
          "showarrow": false,
          "text": "Median: 113",
          "x": 113,
          "xanchor": "center",
          "xref": "x",
          "y": 1,
          "yanchor": "bottom",
          "yref": "y domain"
         }
        ],
        "bargap": 0.3,
        "font": {
         "color": "black",
         "family": "Times New Roman",
         "size": 16
        },
        "height": 400,
        "margin": {
         "b": 80,
         "l": 250,
         "r": 100,
         "t": 80
        },
        "paper_bgcolor": "white",
        "plot_bgcolor": "white",
        "shapes": [
         {
          "line": {
           "color": "gray",
           "dash": "dash",
           "width": 1
          },
          "type": "line",
          "x0": 113,
          "x1": 113,
          "xref": "x",
          "y0": 0,
          "y1": 1,
          "yref": "y domain"
         }
        ],
        "showlegend": false,
        "template": {
         "data": {
          "bar": [
           {
            "error_x": {
             "color": "#2a3f5f"
            },
            "error_y": {
             "color": "#2a3f5f"
            },
            "marker": {
             "line": {
              "color": "#E5ECF6",
              "width": 0.5
             },
             "pattern": {
              "fillmode": "overlay",
              "size": 10,
              "solidity": 0.2
             }
            },
            "type": "bar"
           }
          ],
          "barpolar": [
           {
            "marker": {
             "line": {
              "color": "#E5ECF6",
              "width": 0.5
             },
             "pattern": {
              "fillmode": "overlay",
              "size": 10,
              "solidity": 0.2
             }
            },
            "type": "barpolar"
           }
          ],
          "carpet": [
           {
            "aaxis": {
             "endlinecolor": "#2a3f5f",
             "gridcolor": "white",
             "linecolor": "white",
             "minorgridcolor": "white",
             "startlinecolor": "#2a3f5f"
            },
            "baxis": {
             "endlinecolor": "#2a3f5f",
             "gridcolor": "white",
             "linecolor": "white",
             "minorgridcolor": "white",
             "startlinecolor": "#2a3f5f"
            },
            "type": "carpet"
           }
          ],
          "choropleth": [
           {
            "colorbar": {
             "outlinewidth": 0,
             "ticks": ""
            },
            "type": "choropleth"
           }
          ],
          "contour": [
           {
            "colorbar": {
             "outlinewidth": 0,
             "ticks": ""
            },
            "colorscale": [
             [
              0,
              "#0d0887"
             ],
             [
              0.1111111111111111,
              "#46039f"
             ],
             [
              0.2222222222222222,
              "#7201a8"
             ],
             [
              0.3333333333333333,
              "#9c179e"
             ],
             [
              0.4444444444444444,
              "#bd3786"
             ],
             [
              0.5555555555555556,
              "#d8576b"
             ],
             [
              0.6666666666666666,
              "#ed7953"
             ],
             [
              0.7777777777777778,
              "#fb9f3a"
             ],
             [
              0.8888888888888888,
              "#fdca26"
             ],
             [
              1,
              "#f0f921"
             ]
            ],
            "type": "contour"
           }
          ],
          "contourcarpet": [
           {
            "colorbar": {
             "outlinewidth": 0,
             "ticks": ""
            },
            "type": "contourcarpet"
           }
          ],
          "heatmap": [
           {
            "colorbar": {
             "outlinewidth": 0,
             "ticks": ""
            },
            "colorscale": [
             [
              0,
              "#0d0887"
             ],
             [
              0.1111111111111111,
              "#46039f"
             ],
             [
              0.2222222222222222,
              "#7201a8"
             ],
             [
              0.3333333333333333,
              "#9c179e"
             ],
             [
              0.4444444444444444,
              "#bd3786"
             ],
             [
              0.5555555555555556,
              "#d8576b"
             ],
             [
              0.6666666666666666,
              "#ed7953"
             ],
             [
              0.7777777777777778,
              "#fb9f3a"
             ],
             [
              0.8888888888888888,
              "#fdca26"
             ],
             [
              1,
              "#f0f921"
             ]
            ],
            "type": "heatmap"
           }
          ],
          "histogram": [
           {
            "marker": {
             "pattern": {
              "fillmode": "overlay",
              "size": 10,
              "solidity": 0.2
             }
            },
            "type": "histogram"
           }
          ],
          "histogram2d": [
           {
            "colorbar": {
             "outlinewidth": 0,
             "ticks": ""
            },
            "colorscale": [
             [
              0,
              "#0d0887"
             ],
             [
              0.1111111111111111,
              "#46039f"
             ],
             [
              0.2222222222222222,
              "#7201a8"
             ],
             [
              0.3333333333333333,
              "#9c179e"
             ],
             [
              0.4444444444444444,
              "#bd3786"
             ],
             [
              0.5555555555555556,
              "#d8576b"
             ],
             [
              0.6666666666666666,
              "#ed7953"
             ],
             [
              0.7777777777777778,
              "#fb9f3a"
             ],
             [
              0.8888888888888888,
              "#fdca26"
             ],
             [
              1,
              "#f0f921"
             ]
            ],
            "type": "histogram2d"
           }
          ],
          "histogram2dcontour": [
           {
            "colorbar": {
             "outlinewidth": 0,
             "ticks": ""
            },
            "colorscale": [
             [
              0,
              "#0d0887"
             ],
             [
              0.1111111111111111,
              "#46039f"
             ],
             [
              0.2222222222222222,
              "#7201a8"
             ],
             [
              0.3333333333333333,
              "#9c179e"
             ],
             [
              0.4444444444444444,
              "#bd3786"
             ],
             [
              0.5555555555555556,
              "#d8576b"
             ],
             [
              0.6666666666666666,
              "#ed7953"
             ],
             [
              0.7777777777777778,
              "#fb9f3a"
             ],
             [
              0.8888888888888888,
              "#fdca26"
             ],
             [
              1,
              "#f0f921"
             ]
            ],
            "type": "histogram2dcontour"
           }
          ],
          "mesh3d": [
           {
            "colorbar": {
             "outlinewidth": 0,
             "ticks": ""
            },
            "type": "mesh3d"
           }
          ],
          "parcoords": [
           {
            "line": {
             "colorbar": {
              "outlinewidth": 0,
              "ticks": ""
             }
            },
            "type": "parcoords"
           }
          ],
          "pie": [
           {
            "automargin": true,
            "type": "pie"
           }
          ],
          "scatter": [
           {
            "fillpattern": {
             "fillmode": "overlay",
             "size": 10,
             "solidity": 0.2
            },
            "type": "scatter"
           }
          ],
          "scatter3d": [
           {
            "line": {
             "colorbar": {
              "outlinewidth": 0,
              "ticks": ""
             }
            },
            "marker": {
             "colorbar": {
              "outlinewidth": 0,
              "ticks": ""
             }
            },
            "type": "scatter3d"
           }
          ],
          "scattercarpet": [
           {
            "marker": {
             "colorbar": {
              "outlinewidth": 0,
              "ticks": ""
             }
            },
            "type": "scattercarpet"
           }
          ],
          "scattergeo": [
           {
            "marker": {
             "colorbar": {
              "outlinewidth": 0,
              "ticks": ""
             }
            },
            "type": "scattergeo"
           }
          ],
          "scattergl": [
           {
            "marker": {
             "colorbar": {
              "outlinewidth": 0,
              "ticks": ""
             }
            },
            "type": "scattergl"
           }
          ],
          "scattermap": [
           {
            "marker": {
             "colorbar": {
              "outlinewidth": 0,
              "ticks": ""
             }
            },
            "type": "scattermap"
           }
          ],
          "scattermapbox": [
           {
            "marker": {
             "colorbar": {
              "outlinewidth": 0,
              "ticks": ""
             }
            },
            "type": "scattermapbox"
           }
          ],
          "scatterpolar": [
           {
            "marker": {
             "colorbar": {
              "outlinewidth": 0,
              "ticks": ""
             }
            },
            "type": "scatterpolar"
           }
          ],
          "scatterpolargl": [
           {
            "marker": {
             "colorbar": {
              "outlinewidth": 0,
              "ticks": ""
             }
            },
            "type": "scatterpolargl"
           }
          ],
          "scatterternary": [
           {
            "marker": {
             "colorbar": {
              "outlinewidth": 0,
              "ticks": ""
             }
            },
            "type": "scatterternary"
           }
          ],
          "surface": [
           {
            "colorbar": {
             "outlinewidth": 0,
             "ticks": ""
            },
            "colorscale": [
             [
              0,
              "#0d0887"
             ],
             [
              0.1111111111111111,
              "#46039f"
             ],
             [
              0.2222222222222222,
              "#7201a8"
             ],
             [
              0.3333333333333333,
              "#9c179e"
             ],
             [
              0.4444444444444444,
              "#bd3786"
             ],
             [
              0.5555555555555556,
              "#d8576b"
             ],
             [
              0.6666666666666666,
              "#ed7953"
             ],
             [
              0.7777777777777778,
              "#fb9f3a"
             ],
             [
              0.8888888888888888,
              "#fdca26"
             ],
             [
              1,
              "#f0f921"
             ]
            ],
            "type": "surface"
           }
          ],
          "table": [
           {
            "cells": {
             "fill": {
              "color": "#EBF0F8"
             },
             "line": {
              "color": "white"
             }
            },
            "header": {
             "fill": {
              "color": "#C8D4E3"
             },
             "line": {
              "color": "white"
             }
            },
            "type": "table"
           }
          ]
         },
         "layout": {
          "annotationdefaults": {
           "arrowcolor": "#2a3f5f",
           "arrowhead": 0,
           "arrowwidth": 1
          },
          "autotypenumbers": "strict",
          "coloraxis": {
           "colorbar": {
            "outlinewidth": 0,
            "ticks": ""
           }
          },
          "colorscale": {
           "diverging": [
            [
             0,
             "#8e0152"
            ],
            [
             0.1,
             "#c51b7d"
            ],
            [
             0.2,
             "#de77ae"
            ],
            [
             0.3,
             "#f1b6da"
            ],
            [
             0.4,
             "#fde0ef"
            ],
            [
             0.5,
             "#f7f7f7"
            ],
            [
             0.6,
             "#e6f5d0"
            ],
            [
             0.7,
             "#b8e186"
            ],
            [
             0.8,
             "#7fbc41"
            ],
            [
             0.9,
             "#4d9221"
            ],
            [
             1,
             "#276419"
            ]
           ],
           "sequential": [
            [
             0,
             "#0d0887"
            ],
            [
             0.1111111111111111,
             "#46039f"
            ],
            [
             0.2222222222222222,
             "#7201a8"
            ],
            [
             0.3333333333333333,
             "#9c179e"
            ],
            [
             0.4444444444444444,
             "#bd3786"
            ],
            [
             0.5555555555555556,
             "#d8576b"
            ],
            [
             0.6666666666666666,
             "#ed7953"
            ],
            [
             0.7777777777777778,
             "#fb9f3a"
            ],
            [
             0.8888888888888888,
             "#fdca26"
            ],
            [
             1,
             "#f0f921"
            ]
           ],
           "sequentialminus": [
            [
             0,
             "#0d0887"
            ],
            [
             0.1111111111111111,
             "#46039f"
            ],
            [
             0.2222222222222222,
             "#7201a8"
            ],
            [
             0.3333333333333333,
             "#9c179e"
            ],
            [
             0.4444444444444444,
             "#bd3786"
            ],
            [
             0.5555555555555556,
             "#d8576b"
            ],
            [
             0.6666666666666666,
             "#ed7953"
            ],
            [
             0.7777777777777778,
             "#fb9f3a"
            ],
            [
             0.8888888888888888,
             "#fdca26"
            ],
            [
             1,
             "#f0f921"
            ]
           ]
          },
          "colorway": [
           "#636efa",
           "#EF553B",
           "#00cc96",
           "#ab63fa",
           "#FFA15A",
           "#19d3f3",
           "#FF6692",
           "#B6E880",
           "#FF97FF",
           "#FECB52"
          ],
          "font": {
           "color": "#2a3f5f"
          },
          "geo": {
           "bgcolor": "white",
           "lakecolor": "white",
           "landcolor": "#E5ECF6",
           "showlakes": true,
           "showland": true,
           "subunitcolor": "white"
          },
          "hoverlabel": {
           "align": "left"
          },
          "hovermode": "closest",
          "mapbox": {
           "style": "light"
          },
          "paper_bgcolor": "white",
          "plot_bgcolor": "#E5ECF6",
          "polar": {
           "angularaxis": {
            "gridcolor": "white",
            "linecolor": "white",
            "ticks": ""
           },
           "bgcolor": "#E5ECF6",
           "radialaxis": {
            "gridcolor": "white",
            "linecolor": "white",
            "ticks": ""
           }
          },
          "scene": {
           "xaxis": {
            "backgroundcolor": "#E5ECF6",
            "gridcolor": "white",
            "gridwidth": 2,
            "linecolor": "white",
            "showbackground": true,
            "ticks": "",
            "zerolinecolor": "white"
           },
           "yaxis": {
            "backgroundcolor": "#E5ECF6",
            "gridcolor": "white",
            "gridwidth": 2,
            "linecolor": "white",
            "showbackground": true,
            "ticks": "",
            "zerolinecolor": "white"
           },
           "zaxis": {
            "backgroundcolor": "#E5ECF6",
            "gridcolor": "white",
            "gridwidth": 2,
            "linecolor": "white",
            "showbackground": true,
            "ticks": "",
            "zerolinecolor": "white"
           }
          },
          "shapedefaults": {
           "line": {
            "color": "#2a3f5f"
           }
          },
          "ternary": {
           "aaxis": {
            "gridcolor": "white",
            "linecolor": "white",
            "ticks": ""
           },
           "baxis": {
            "gridcolor": "white",
            "linecolor": "white",
            "ticks": ""
           },
           "bgcolor": "#E5ECF6",
           "caxis": {
            "gridcolor": "white",
            "linecolor": "white",
            "ticks": ""
           }
          },
          "title": {
           "x": 0.05
          },
          "xaxis": {
           "automargin": true,
           "gridcolor": "white",
           "linecolor": "white",
           "ticks": "",
           "title": {
            "standoff": 15
           },
           "zerolinecolor": "white",
           "zerolinewidth": 2
          },
          "yaxis": {
           "automargin": true,
           "gridcolor": "white",
           "linecolor": "white",
           "ticks": "",
           "title": {
            "standoff": 15
           },
           "zerolinecolor": "white",
           "zerolinewidth": 2
          }
         }
        },
        "uniformtext": {
         "minsize": 16,
         "mode": "show"
        },
        "width": 1200,
        "xaxis": {
         "automargin": true,
         "gridcolor": "lightgray",
         "range": [
          0,
          729
         ],
         "showgrid": false,
         "showticklabels": true,
         "tickfont": {
          "color": "black",
          "family": "Times New Roman",
          "size": 16
         },
         "title": {
          "text": "Number of Articles"
         }
        },
        "yaxis": {
         "automargin": true,
         "categoryarray": [
          "Very Short (1-100)",
          "Short (101-500)",
          "Medium (501-1000)",
          "Long (1001-2000)",
          "Very Long (2001-5000)",
          "Extremely Long (5001-10000)",
          "Ultra Long (10000+)"
         ],
         "categoryorder": "array",
         "showgrid": false,
         "side": "left",
         "tickfont": {
          "color": "black",
          "family": "Times New Roman",
          "size": 16
         },
         "tickmode": "linear",
         "title": {
          "text": "Character Length Category"
         }
        }
       }
      }
     },
     "metadata": {},
     "output_type": "display_data"
    },
    {
     "name": "stdout",
     "output_type": "stream",
     "text": [
      "\n",
      "Character count categories found: 7\n",
      "\n",
      "Detailed Statistics:\n",
      "  Standard deviation: 6369 characters\n",
      "  25th percentile: 2126 characters\n",
      "  75th percentile: 6236 characters\n",
      "  95th percentile: 13407 characters\n",
      "\n",
      "Category Distribution:\n",
      "  Very Short (1-100): 3 articles (0.3%)\n",
      "  Short (101-500): 32 articles (3.0%)\n",
      "  Medium (501-1000): 54 articles (5.0%)\n",
      "  Long (1001-2000): 156 articles (14.4%)\n",
      "  Very Long (2001-5000): 486 articles (44.9%)\n",
      "  Extremely Long (5001-10000): 239 articles (22.1%)\n",
      "  Ultra Long (10000+): 113 articles (10.4%)\n",
      "\n",
      "============================================================\n",
      "COMPREHENSIVE GOOGLE NEWS SUMMARY\n",
      "============================================================\n",
      "Total articles in merged dataset: 1,083\n",
      "Date range: 2025-06-26 00:00:00 to 2025-07-03 00:00:00\n",
      "Time span: 7 days\n",
      "Unique sources: 403\n",
      "Top 3 sources by article count:\n",
      "  Times of India: 90 articles\n",
      "  army.mil: 54 articles\n",
      "  The Economic Times: 46 articles\n"
     ]
    }
   ],
   "source": [
    "# GOOGLE NEWS Full Text Character Count Distribution Analysis\n",
    "if google_pd is not None:\n",
    "    \n",
    "    def create_google_character_distribution_plot(text_column, chart_title=None):\n",
    "        \"\"\"\n",
    "        Create a horizontal bar chart showing character count distribution for Google News text data\n",
    "        \"\"\"\n",
    "        if text_column not in google_pd.columns:\n",
    "            print(f\"Column '{text_column}' not found in Google News dataset\")\n",
    "            print(f\"Available columns: {list(google_pd.columns)}\")\n",
    "            return None, None\n",
    "            \n",
    "        # Calculate character lengths\n",
    "        print(f\"Analyzing character count distribution for '{text_column}' column...\")\n",
    "        \n",
    "        # Handle null values and calculate text lengths\n",
    "        text_data = google_pd[text_column].fillna('').astype(str)\n",
    "        char_lengths = text_data.str.len()\n",
    "        \n",
    "        print(f\"Text length statistics:\")\n",
    "        print(f\"  Total articles: {len(char_lengths):,}\")\n",
    "        print(f\"  Average length: {char_lengths.mean():.0f} characters\")\n",
    "        print(f\"  Median length: {char_lengths.median():.0f} characters\")\n",
    "        print(f\"  Min length: {char_lengths.min():,} characters\")\n",
    "        print(f\"  Max length: {char_lengths.max():,} characters\")\n",
    "        print(f\"  Articles with empty text: {(char_lengths == 0).sum():,} ({(char_lengths == 0).mean()*100:.1f}%)\")\n",
    "        \n",
    "        # Create character length categories\n",
    "        def categorize_char_length(x):\n",
    "            if x == 0:\n",
    "                return \"Empty (0)\"\n",
    "            elif 1 <= x <= 100:\n",
    "                return \"Very Short (1-100)\"\n",
    "            elif 101 <= x <= 500:\n",
    "                return \"Short (101-500)\"\n",
    "            elif 501 <= x <= 1000:\n",
    "                return \"Medium (501-1000)\"\n",
    "            elif 1001 <= x <= 2000:\n",
    "                return \"Long (1001-2000)\"\n",
    "            elif 2001 <= x <= 5000:\n",
    "                return \"Very Long (2001-5000)\"\n",
    "            elif 5001 <= x <= 10000:\n",
    "                return \"Extremely Long (5001-10000)\"\n",
    "            else:\n",
    "                return \"Ultra Long (10000+)\"\n",
    "        \n",
    "        # Apply categorization\n",
    "        google_pd['char_length_category'] = char_lengths.apply(categorize_char_length)\n",
    "        \n",
    "        # Get value counts for categories\n",
    "        value_counts = google_pd['char_length_category'].value_counts()\n",
    "        \n",
    "        # Sort in ascending order for proper horizontal bar chart display\n",
    "        # Custom order for logical progression\n",
    "        category_order = [\n",
    "            \"Empty (0)\",\n",
    "            \"Very Short (1-100)\", \n",
    "            \"Short (101-500)\",\n",
    "            \"Medium (501-1000)\",\n",
    "            \"Long (1001-2000)\",\n",
    "            \"Very Long (2001-5000)\",\n",
    "            \"Extremely Long (5001-10000)\",\n",
    "            \"Ultra Long (10000+)\"\n",
    "        ]\n",
    "        \n",
    "        # Reorder based on category_order, only including existing categories\n",
    "        ordered_counts = pd.Series(dtype='int64')\n",
    "        for category in category_order:\n",
    "            if category in value_counts.index:\n",
    "                ordered_counts[category] = value_counts[category]\n",
    "        \n",
    "        # Prepare data\n",
    "        categories = ordered_counts.index.tolist()\n",
    "        counts = ordered_counts.values.tolist()\n",
    "        \n",
    "        if len(counts) == 0:\n",
    "            print(\"No valid character count data found\")\n",
    "            return None, None\n",
    "        \n",
    "        # Create text labels showing both count and percentage\n",
    "        total_articles = len(google_pd)\n",
    "        text_labels = []\n",
    "        for count in counts:\n",
    "            percentage = (count / total_articles) * 100\n",
    "            text_labels.append(f\"<b>{count:,}</b> ({percentage:.1f}%)\")\n",
    "        \n",
    "        # Create color mapping (Google-themed colors)\n",
    "        colors = []\n",
    "        max_count = max(counts)\n",
    "        for count in counts:\n",
    "            # Color intensity based on relative frequency\n",
    "            intensity = count / max_count\n",
    "            if intensity >= 0.8:\n",
    "                colors.append('#EA4335')  # High frequency - Google red\n",
    "            elif intensity >= 0.6:\n",
    "                colors.append('#FBBC04')  # Medium-high frequency - Google yellow\n",
    "            elif intensity >= 0.4:\n",
    "                colors.append(\"#F6C43C\")  # Medium frequency - Google green\n",
    "            elif intensity >= 0.2:\n",
    "                colors.append(\"#42BFF4\")  # Low-medium frequency - Google blue\n",
    "            else:\n",
    "                colors.append(\"#4D94DB\")  # Low frequency - Google gray\n",
    "        \n",
    "        # Create the horizontal bar chart\n",
    "        fig = go.Figure()\n",
    "        \n",
    "        fig.add_trace(go.Bar(\n",
    "            y=categories,\n",
    "            x=counts,\n",
    "            orientation='h',\n",
    "            marker=dict(\n",
    "                color=colors,\n",
    "                line=dict(color='white', width=0.5)\n",
    "            ),\n",
    "            text=text_labels,\n",
    "            textposition='outside',\n",
    "            textfont=dict(size=16, family=\"Times New Roman\", color=\"black\"),\n",
    "            cliponaxis=False,\n",
    "            hovertemplate=(\n",
    "                \"<b>%{y}</b><br>\"\n",
    "                \"Count: %{x:,}<br>\"\n",
    "                \"Percentage: %{customdata:.1f}%\"\n",
    "                \"<extra></extra>\"\n",
    "            ),\n",
    "            customdata=[(count / total_articles) * 100 for count in counts],\n",
    "            name=\"Google News Character Count Distribution\"\n",
    "        ))\n",
    "        \n",
    "        # Calculate dynamic height based on number of categories\n",
    "        num_categories = len(categories)\n",
    "        bar_height = 50\n",
    "        calculated_height = max(400, num_categories * bar_height)\n",
    "        \n",
    "        # Set x-axis range with extra space for labels\n",
    "        x_range = [0, max(counts) * 1.5]\n",
    "        \n",
    "        # Update axes with styling similar to other plots\n",
    "        fig.update_xaxes(\n",
    "            showticklabels=True,\n",
    "            tickfont=dict(size=16, family=\"Times New Roman\", color=\"black\"),\n",
    "            showgrid=False,\n",
    "            gridcolor='lightgray',\n",
    "            automargin=True,\n",
    "            title=\"Number of Articles\"\n",
    "        )\n",
    "\n",
    "        fig.update_yaxes(\n",
    "            tickfont=dict(size=16, family=\"Times New Roman\", color=\"black\"),\n",
    "            tickmode='linear',\n",
    "            showgrid=False,\n",
    "            side='left',\n",
    "            categoryorder='array',\n",
    "            categoryarray=categories,\n",
    "            automargin=True,\n",
    "            title=\"Character Length Category\"\n",
    "        )\n",
    "        \n",
    "        # Update layout with styling similar to other plots\n",
    "        fig.update_layout(\n",
    "            font=dict(size=16, family=\"Times New Roman\", color=\"black\"),\n",
    "            uniformtext_minsize=16,\n",
    "            uniformtext_mode='show',\n",
    "            margin=dict(l=250, r=100, t=80, b=80),\n",
    "            height=calculated_height,\n",
    "            width=1200,\n",
    "            paper_bgcolor='white',\n",
    "            plot_bgcolor='white',\n",
    "            showlegend=False,\n",
    "            xaxis=dict(range=x_range),\n",
    "            bargap=0.3\n",
    "        )\n",
    "        \n",
    "        # Add vertical line at median for reference\n",
    "        median_count = np.median(counts)\n",
    "        fig.add_vline(\n",
    "            x=median_count, \n",
    "            line_dash=\"dash\", \n",
    "            line_color=\"gray\", \n",
    "            line_width=1,\n",
    "            annotation_text=f\"Median: {median_count:,.0f}\",\n",
    "            annotation_position=\"top\"\n",
    "        )\n",
    "        \n",
    "        return fig, ordered_counts\n",
    "    \n",
    "    print(\"=\"*60)\n",
    "    print(\"GOOGLE NEWS CHARACTER COUNT ANALYSIS\")\n",
    "    print(\"=\"*60)\n",
    "    \n",
    "    # Check if 'full_text' column exists\n",
    "    if 'full_text' in google_pd.columns:\n",
    "        fig_char_count, char_count_stats = create_google_character_distribution_plot('full_text')\n",
    "        if fig_char_count:\n",
    "            fig_char_count.show()\n",
    "            print(f\"\\nCharacter count categories found: {len(char_count_stats)}\")\n",
    "            \n",
    "            # Print detailed statistics\n",
    "            char_lengths = google_pd['full_text'].fillna('').astype(str).str.len()\n",
    "            print(f\"\\nDetailed Statistics:\")\n",
    "            print(f\"  Standard deviation: {char_lengths.std():.0f} characters\")\n",
    "            print(f\"  25th percentile: {char_lengths.quantile(0.25):.0f} characters\")\n",
    "            print(f\"  75th percentile: {char_lengths.quantile(0.75):.0f} characters\")\n",
    "            print(f\"  95th percentile: {char_lengths.quantile(0.95):.0f} characters\")\n",
    "            \n",
    "            # Show distribution of categories\n",
    "            print(f\"\\nCategory Distribution:\")\n",
    "            for category, count in char_count_stats.items():\n",
    "                percentage = (count / len(google_pd)) * 100\n",
    "                print(f\"  {category}: {count:,} articles ({percentage:.1f}%)\")\n",
    "        else:\n",
    "            print(\"Could not create character count distribution plot\")\n",
    "    else:\n",
    "        print(\"'full_text' column not found in Google News data\")\n",
    "        print(f\"Available columns: {list(google_pd.columns)}\")\n",
    "        \n",
    "        # Check for alternative text columns\n",
    "        alternative_text_cols = ['text', 'content', 'description', 'summary', 'body', 'snippet']\n",
    "        found_text_col = None\n",
    "        for col in alternative_text_cols:\n",
    "            if col in google_pd.columns:\n",
    "                found_text_col = col\n",
    "                break\n",
    "        \n",
    "        if found_text_col:\n",
    "            print(f\"\\nFound alternative text column: '{found_text_col}'\")\n",
    "            print(\"Creating character count distribution for this column instead...\")\n",
    "            fig_char_count, char_count_stats = create_google_character_distribution_plot(found_text_col)\n",
    "            if fig_char_count:\n",
    "                fig_char_count.show()\n",
    "                print(f\"Character count categories found: {len(char_count_stats)}\")\n",
    "        else:\n",
    "            print(\"No suitable text column found for character count analysis\")\n",
    "    \n",
    "    # Print overall Google News summary\n",
    "    print(f\"\\n\" + \"=\"*60)\n",
    "    print(\"COMPREHENSIVE GOOGLE NEWS SUMMARY\")\n",
    "    print(\"=\"*60)\n",
    "    print(f\"Total articles in merged dataset: {len(google_pd):,}\")\n",
    "    \n",
    "    # Check for date information\n",
    "    date_cols = ['date', 'published_date', 'timestamp', 'pubDate', 'published']\n",
    "    date_col = None\n",
    "    for col in date_cols:\n",
    "        if col in google_pd.columns:\n",
    "            date_col = col\n",
    "            break\n",
    "    \n",
    "    if date_col:\n",
    "        try:\n",
    "            google_pd[date_col] = pd.to_datetime(google_pd[date_col])\n",
    "            print(f\"Date range: {google_pd[date_col].min()} to {google_pd[date_col].max()}\")\n",
    "            print(f\"Time span: {(google_pd[date_col].max() - google_pd[date_col].min()).days} days\")\n",
    "        except:\n",
    "            print(f\"Could not parse dates in column '{date_col}'\")\n",
    "    \n",
    "    # Check for source information\n",
    "    source_cols = ['source', 'Source', 'publisher', 'site', 'domain']\n",
    "    source_col = None\n",
    "    for col in source_cols:\n",
    "        if col in google_pd.columns:\n",
    "            source_col = col\n",
    "            break\n",
    "    \n",
    "    if source_col:\n",
    "        unique_sources = google_pd[source_col].nunique()\n",
    "        print(f\"Unique sources: {unique_sources}\")\n",
    "        if unique_sources > 0:\n",
    "            top_sources = google_pd[source_col].value_counts().head(3)\n",
    "            print(\"Top 3 sources by article count:\")\n",
    "            for source, count in top_sources.items():\n",
    "                print(f\"  {source}: {count:,} articles\")\n",
    "    \n",
    "else:\n",
    "    print(\"Google News data not available for character count analysis\")"
   ]
  }
 ],
 "metadata": {
  "kernelspec": {
   "display_name": ".venv",
   "language": "python",
   "name": "python3"
  },
  "language_info": {
   "codemirror_mode": {
    "name": "ipython",
    "version": 3
   },
   "file_extension": ".py",
   "mimetype": "text/x-python",
   "name": "python",
   "nbconvert_exporter": "python",
   "pygments_lexer": "ipython3",
   "version": "3.12.4"
  }
 },
 "nbformat": 4,
 "nbformat_minor": 5
}
