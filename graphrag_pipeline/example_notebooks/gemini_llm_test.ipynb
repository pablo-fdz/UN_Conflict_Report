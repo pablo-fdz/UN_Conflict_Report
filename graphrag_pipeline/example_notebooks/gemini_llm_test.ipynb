{
 "cells": [
  {
   "cell_type": "code",
   "execution_count": null,
   "id": "67fcf25b",
   "metadata": {},
   "outputs": [],
   "source": [
    "import sys\n",
    "import os\n",
    "\n",
    "# Add the parent directory (graphrag_pipeline) to the Python path (needed for importing\n",
    "# modules in parent directory)\n",
    "parent_dir = os.path.dirname(os.getcwd())\n",
    "if parent_dir not in sys.path:\n",
    "    sys.path.append(parent_dir)\n",
    "\n",
    "# Utilities\n",
    "from library.kg_builder.utilities.gemini_llm import GeminiLLM\n",
    "from pydantic import RootModel, BaseModel, Field\n",
    "from typing import List\n",
    "import os\n",
    "from dotenv import load_dotenv\n",
    "import json"
   ]
  },
  {
   "cell_type": "code",
   "execution_count": null,
   "id": "be0ea150",
   "metadata": {},
   "outputs": [],
   "source": [
    "# Find path to config_files folder\n",
    "config_files_path = os.path.join(os.path.dirname(os.getcwd()), 'config_files')\n",
    "\n",
    "# Load environment variables from .env file\n",
    "load_dotenv(os.path.join(config_files_path, '.env'), override=True)\n",
    "\n",
    "# Open configuration file from JSON format\n",
    "config_path = os.path.join(config_files_path, 'kg_building_config.json')  # Configuration file of the knowledge graph builder\n",
    "with open(config_path, 'r') as kg_build_config_file:\n",
    "    build_config = json.load(kg_build_config_file)\n",
    "config_path = os.path.join(config_files_path, 'kg_retrieval_config.json')  # Configuration file of the knowledge graph retriever\n",
    "with open(config_path, 'r') as kg_retr_config_file:\n",
    "    retr_config = json.load(kg_retr_config_file)\n",
    "config_path = os.path.join(config_files_path, 'graphrag_config.json')  # Configuration file of the GraphRAG\n",
    "with open(config_path, 'r') as graphrag_config_file:\n",
    "    graphrag_config = json.load(graphrag_config_file)\n",
    "\n",
    "# Neo4j connection\n",
    "neo4j_uri = os.getenv('NEO4J_URI')\n",
    "neo4j_username = os.getenv('NEO4J_USERNAME')\n",
    "neo4j_password = os.getenv('NEO4J_PASSWORD')\n",
    "gemini_api_key = os.getenv('GEMINI_API_KEY')"
   ]
  },
  {
   "cell_type": "code",
   "execution_count": null,
   "id": "3938fd76",
   "metadata": {},
   "outputs": [
    {
     "name": "stdout",
     "output_type": "stream",
     "text": [
      "content='The capital of France is **Paris**.' parsed=None\n"
     ]
    }
   ],
   "source": [
    "llm = GeminiLLM(\n",
    "    model_name=\"gemini-2.5-flash\",\n",
    "    google_api_key=gemini_api_key\n",
    ")\n",
    "\n",
    "response = llm.invoke(input=\"What is the capital of France?\")\n",
    "\n",
    "print(response)"
   ]
  },
  {
   "cell_type": "code",
   "execution_count": null,
   "id": "ccb69480",
   "metadata": {},
   "outputs": [
    {
     "name": "stdout",
     "output_type": "stream",
     "text": [
      "content='[\\n  \"The capital of France is Paris.\",\\n  \"The Eiffel Tower is in Paris.\"\\n]' parsed=Claims(root=['The capital of France is Paris.', 'The Eiffel Tower is in Paris.'])\n",
      "[\n",
      "  \"The capital of France is Paris.\",\n",
      "  \"The Eiffel Tower is in Paris.\"\n",
      "]\n",
      "root=['The capital of France is Paris.', 'The Eiffel Tower is in Paris.']\n",
      "['The capital of France is Paris.', 'The Eiffel Tower is in Paris.']\n"
     ]
    }
   ],
   "source": [
    "class Claims(RootModel[List[str]]):\n",
    "        \"\"\"\n",
    "        Represents a list of verifiable claims.\n",
    "        The root of the model is a list of strings.\n",
    "        \"\"\"\n",
    "        root: List[str] = Field(\n",
    "            description=\"A list of verifiable claims, where each claim is a self-contained, atomic statement that can be checked for accuracy.\"\n",
    "        )\n",
    "\n",
    "llm = GeminiLLM(\n",
    "    model_name=\"gemini-2.5-flash\",\n",
    "    google_api_key=gemini_api_key,\n",
    "    model_params={\n",
    "        \"response_mime_type\": \"application/json\",\n",
    "        \"response_schema\": Claims\n",
    "    }\n",
    ")\n",
    "\n",
    "answer = llm.invoke(input=\"What are the verifiable claims in the following text? 'The capital of France is Paris. The Eiffel Tower is in Paris.'\")\n",
    "\n",
    "print(answer)\n",
    "\n",
    "print(answer.content)\n",
    "\n",
    "print(answer.parsed)\n",
    "\n",
    "print(answer.parsed.root)"
   ]
  },
  {
   "cell_type": "code",
   "execution_count": null,
   "id": "2f712f54",
   "metadata": {},
   "outputs": [
    {
     "name": "stdout",
     "output_type": "stream",
     "text": [
      "candidates=[Candidate(content=Content(parts=[Part(video_metadata=None, thought=None, inline_data=None, code_execution_result=None, executable_code=None, file_data=None, function_call=None, function_response=None, text='[\\n  \"The capital of France is Paris.\",\\n  \"The Eiffel Tower is in Paris.\"\\n]')], role='model'), citation_metadata=None, finish_message=None, token_count=None, finish_reason=<FinishReason.STOP: 'STOP'>, url_context_metadata=None, avg_logprobs=None, grounding_metadata=None, index=0, logprobs_result=None, safety_ratings=None)] create_time=None response_id=None model_version='gemini-2.5-flash' prompt_feedback=None usage_metadata=GenerateContentResponseUsageMetadata(cache_tokens_details=None, cached_content_token_count=None, candidates_token_count=23, candidates_tokens_details=None, prompt_token_count=26, prompt_tokens_details=[ModalityTokenCount(modality=<MediaModality.TEXT: 'TEXT'>, token_count=26)], thoughts_token_count=77, tool_use_prompt_token_count=None, tool_use_prompt_tokens_details=None, total_token_count=126, traffic_type=None) automatic_function_calling_history=[] parsed=Claims(root=['The capital of France is Paris.', 'The Eiffel Tower is in Paris.'])\n",
      "[\n",
      "  \"The capital of France is Paris.\",\n",
      "  \"The Eiffel Tower is in Paris.\"\n",
      "]\n",
      "['The capital of France is Paris.', 'The Eiffel Tower is in Paris.']\n"
     ]
    }
   ],
   "source": [
    "from google import genai\n",
    "\n",
    "client = genai.Client(api_key=gemini_api_key)\n",
    "response = client.models.generate_content(\n",
    "    model=\"gemini-2.5-flash\",\n",
    "    contents=\"What are the verifiable claims in the following text? 'The capital of France is Paris. The Eiffel Tower is in Paris.'\",\n",
    "    config={\n",
    "        \"response_mime_type\": \"application/json\",\n",
    "        \"response_schema\": Claims,\n",
    "    }\n",
    ")\n",
    "\n",
    "print(response)\n",
    "\n",
    "print(response.text)\n",
    "\n",
    "print(response.parsed.root)"
   ]
  },
  {
   "cell_type": "code",
   "execution_count": 16,
   "id": "44bb61c7",
   "metadata": {},
   "outputs": [
    {
     "data": {
      "text/plain": [
       "Candidate(content=Content(parts=[Part(video_metadata=None, thought=None, inline_data=None, code_execution_result=None, executable_code=None, file_data=None, function_call=None, function_response=None, text='[\\n  \"The capital of France is Paris.\",\\n  \"The Eiffel Tower is in Paris.\"\\n]')], role='model'), citation_metadata=None, finish_message=None, token_count=None, finish_reason=<FinishReason.STOP: 'STOP'>, url_context_metadata=None, avg_logprobs=None, grounding_metadata=None, index=0, logprobs_result=None, safety_ratings=None)"
      ]
     },
     "execution_count": 16,
     "metadata": {},
     "output_type": "execute_result"
    }
   ],
   "source": [
    "response.candidates[0]"
   ]
  },
  {
   "cell_type": "code",
   "execution_count": null,
   "id": "7c647ed9",
   "metadata": {},
   "outputs": [
    {
     "data": {
      "text/plain": [
       "str"
      ]
     },
     "execution_count": 19,
     "metadata": {},
     "output_type": "execute_result"
    }
   ],
   "source": [
    "type(response)"
   ]
  },
  {
   "cell_type": "code",
   "execution_count": 18,
   "id": "5e8ebf4d",
   "metadata": {},
   "outputs": [
    {
     "data": {
      "text/plain": [
       "list"
      ]
     },
     "execution_count": 18,
     "metadata": {},
     "output_type": "execute_result"
    }
   ],
   "source": [
    "type(response.parsed.root)"
   ]
  },
  {
   "cell_type": "code",
   "execution_count": null,
   "id": "f69ef93f",
   "metadata": {},
   "outputs": [
    {
     "name": "stdout",
     "output_type": "stream",
     "text": [
      "content='{\\n  \"claim\": \"The capital of France is Paris.\",\\n  \"questions\": [\\n    \"What is the capital of France?\",\\n    \"Is Paris the capital of France?\",\\n    \"Which city is known as the capital of France?\"\\n  ]\\n}' parsed=QuestionsBase(claim='The capital of France is Paris.', questions=['What is the capital of France?', 'Is Paris the capital of France?', 'Which city is known as the capital of France?'])\n",
      "{\n",
      "  \"claim\": \"The capital of France is Paris.\",\n",
      "  \"questions\": [\n",
      "    \"What is the capital of France?\",\n",
      "    \"Is Paris the capital of France?\",\n",
      "    \"Which city is known as the capital of France?\"\n",
      "  ]\n",
      "}\n"
     ]
    }
   ],
   "source": [
    "class QuestionsBase(BaseModel):\n",
    "    \"\"\"\n",
    "    Represents a dictionary of claims (keys) and questions (values).\n",
    "    The root of the model is a dictionary where each key is a claim and the value is a list of questions related to that claim.\n",
    "    \"\"\"\n",
    "    claim: str = Field(\n",
    "        description=\"A verifiable claim for which questions are being asked.\"\n",
    "        )\n",
    "    questions: List[str] = Field(\n",
    "        description=\"A list of questions related to the claim.\"\n",
    "        )\n",
    "\n",
    "llm = GeminiLLM(\n",
    "    model_name=\"gemini-2.5-flash\",\n",
    "    google_api_key=gemini_api_key,\n",
    "    model_params={\n",
    "        \"response_mime_type\": \"application/json\",\n",
    "        \"response_schema\": QuestionsBase\n",
    "    }\n",
    ")\n",
    "\n",
    "answer = llm.invoke(input=\"What are the verifiable claims in the following text? 'The capital of France is Paris. The Eiffel Tower is in Paris.' Generate questions for each claim.\")"
   ]
  },
  {
   "cell_type": "code",
   "execution_count": 11,
   "id": "ecc2abb6",
   "metadata": {},
   "outputs": [
    {
     "name": "stdout",
     "output_type": "stream",
     "text": [
      "content='{\\n  \"claim\": \"The capital of France is Paris.\",\\n  \"questions\": [\\n    \"What is the capital of France?\",\\n    \"Is Paris the capital of France?\",\\n    \"Which city is known as the capital of France?\"\\n  ]\\n}' parsed=QuestionsBase(claim='The capital of France is Paris.', questions=['What is the capital of France?', 'Is Paris the capital of France?', 'Which city is known as the capital of France?'])\n",
      "{\n",
      "  \"claim\": \"The capital of France is Paris.\",\n",
      "  \"questions\": [\n",
      "    \"What is the capital of France?\",\n",
      "    \"Is Paris the capital of France?\",\n",
      "    \"Which city is known as the capital of France?\"\n",
      "  ]\n",
      "}\n",
      "<class 'dict'>\n"
     ]
    }
   ],
   "source": [
    "print(answer)\n",
    "\n",
    "print(answer.content)\n",
    "\n",
    "print(type(dict(answer.parsed)))"
   ]
  }
 ],
 "metadata": {
  "kernelspec": {
   "display_name": "thesis",
   "language": "python",
   "name": "python3"
  },
  "language_info": {
   "codemirror_mode": {
    "name": "ipython",
    "version": 3
   },
   "file_extension": ".py",
   "mimetype": "text/x-python",
   "name": "python",
   "nbconvert_exporter": "python",
   "pygments_lexer": "ipython3",
   "version": "3.12.9"
  }
 },
 "nbformat": 4,
 "nbformat_minor": 5
}
