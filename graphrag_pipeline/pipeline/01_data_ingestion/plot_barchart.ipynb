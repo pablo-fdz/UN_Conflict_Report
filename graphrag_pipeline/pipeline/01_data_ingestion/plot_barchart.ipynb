{
 "cells": [
  {
   "cell_type": "code",
   "execution_count": 152,
   "id": "37da619a",
   "metadata": {},
   "outputs": [],
   "source": [
    "country = \"Indonesia\"\n",
    "window = 1\n",
    "horizon = 2"
   ]
  },
  {
   "cell_type": "code",
   "execution_count": 153,
   "id": "9bcd105d",
   "metadata": {},
   "outputs": [],
   "source": [
    "\n",
    "def get_acled_cast_data(country: str, email: Optional[str] = None, api_key: Optional[str] = None) -> pl.DataFrame:\n",
    "    \"\"\"\n",
    "    Retrieve ACLED CAST forecasting data for a specific country.\n",
    "    \n",
    "    Args:\n",
    "        country: Country name\n",
    "        email: ACLED API email\n",
    "        api_key: ACLED API key\n",
    "    \n",
    "    Returns:\n",
    "        Polars DataFrame with CAST data\n",
    "    \"\"\"\n",
    "    load_dotenv(find_dotenv(), override=True)\n",
    "    \n",
    "    email = email or os.getenv(\"ACLED_EMAIL\")\n",
    "    api_key = api_key or os.getenv(\"ACLED_API_KEY\")\n",
    "    if not (email and api_key):\n",
    "        raise ValueError(\"ACLED credentials missing: set email & api_key.\")\n",
    "    \n",
    "    # Set up API parameters\n",
    "    parameters = {\n",
    "        \"email\": email,\n",
    "        \"key\": api_key,\n",
    "        \"country\": country,\n",
    "    }\n",
    "    \n",
    "    # GET request to ACLED CAST API\n",
    "    response = requests.get(\"https://api.acleddata.com/cast/read.csv\", params=parameters, timeout=60)\n",
    "    response.raise_for_status()\n",
    "    \n",
    "    cast = pl.read_csv(io.BytesIO(response.content))\n",
    "    \n",
    "    # Filter for exact country match to prevent \"Sudan\" from including \"South Sudan\"\n",
    "    cast = cast.filter(pl.col(\"country\") == country)\n",
    "    \n",
    "    # Process month names to numbers\n",
    "    month_map = {\n",
    "        \"January\": 1, \"February\": 2, \"March\": 3, \"April\": 4,\n",
    "        \"May\": 5, \"June\": 6, \"July\": 7, \"August\": 8,\n",
    "        \"September\": 9, \"October\": 10, \"November\": 11, \"December\": 12,\n",
    "    }\n",
    "    \n",
    "    cast = (\n",
    "        cast.with_columns(pl.col(\"month\").replace(month_map).alias(\"month_num\"))\n",
    "        .with_columns(\n",
    "            (pl.col(\"year\").cast(str) + \"-\" + pl.col(\"month_num\").cast(str).str.zfill(2)).alias(\"year_month\")\n",
    "        )\n",
    "        .drop(\"month_num\")\n",
    "    )\n",
    "    \n",
    "    return cast\n",
    "\n",
    "\n",
    "def create_rolling_averages(cast: pl.DataFrame) -> pl.DataFrame:\n",
    "    \"\"\"\n",
    "    Calculate rolling averages for 1, 3, 6, and 12 month windows.\n",
    "    \n",
    "    Args:\n",
    "        cast: Raw CAST data\n",
    "    \n",
    "    Returns:\n",
    "        DataFrame with rolling averages added\n",
    "    \"\"\"\n",
    "    cast = cast.with_columns(\n",
    "        pl.col(\"year_month\").str.strptime(pl.Date, \"%Y-%m\").alias(\"year_month_dt\")\n",
    "    ).sort([\"admin1\", \"year_month_dt\"])\n",
    "\n",
    "    window_sizes = [1, 3, 6, 12]\n",
    "\n",
    "    for window in window_sizes:\n",
    "        avg_col = []\n",
    "        rows = cast.to_dicts()\n",
    "\n",
    "        data_dict = {}\n",
    "        for row in rows:\n",
    "            key = (row[\"admin1\"], row[\"year_month_dt\"])\n",
    "            data_dict[key] = row[\"total_observed\"]\n",
    "\n",
    "        for row in rows:\n",
    "            admin = row[\"admin1\"]\n",
    "            current_date = row[\"year_month_dt\"]\n",
    "\n",
    "            values = []\n",
    "            for i in range(1, window + 1):\n",
    "                check_date = current_date - relativedelta(months=i)\n",
    "                key = (admin, check_date)\n",
    "                if key in data_dict and data_dict[key] is not None:\n",
    "                    values.append(data_dict[key])\n",
    "\n",
    "            if values:\n",
    "                avg_val = sum(values) / len(values)\n",
    "            else:\n",
    "                avg_val = None\n",
    "\n",
    "            avg_col.append(avg_val)\n",
    "\n",
    "        cast = cast.with_columns(pl.Series(name=f\"avg{window}\", values=avg_col))\n",
    "\n",
    "    return cast.with_columns(\n",
    "        pl.col(\"year_month_dt\").dt.strftime(\"%Y-%m\").alias(\"year_month\")\n",
    "    ).drop(\"year_month_dt\")\n",
    "\n",
    "\n",
    "def calculate_percent_increase(cast_clean: pl.DataFrame) -> pl.DataFrame:\n",
    "    \"\"\"\n",
    "    Calculate percentage increase and identify hotspots.\n",
    "    \n",
    "    Args:\n",
    "        cast_clean: DataFrame with rolling averages\n",
    "    \n",
    "    Returns:\n",
    "        DataFrame with percentage increases and hotspot flags\n",
    "    \"\"\"\n",
    "    cast_clean = cast_clean.with_columns(\n",
    "        pl.col([\"avg1\", \"avg3\", \"avg6\", \"avg12\"]).fill_null(strategy=\"forward\")\n",
    "    )\n",
    "    cast_clean = cast_clean.with_columns(pl.col(\"total_observed\").fill_null(0))\n",
    "\n",
    "    windows = [1, 3, 6, 12]\n",
    "    for w in windows:\n",
    "        percent_col = f\"percent_increase{w}\"\n",
    "        hot_col = f\"hotspot{w}\"\n",
    "        cast_clean = cast_clean.with_columns(\n",
    "            pl.when(\n",
    "                (pl.col(f\"avg{w}\") == 0) & (pl.col(\"total_forecast\") > 0)\n",
    "            )  # Handle \"inf\" increase when average observed events = 0, and forecasted events > 0\n",
    "            .then(pl.col(\"total_forecast\") * 10)\n",
    "            .otherwise(\n",
    "                (pl.col(\"total_forecast\") - pl.col(f\"avg{w}\")) / pl.col(f\"avg{w}\") * 100\n",
    "            )\n",
    "            .fill_null(0)\n",
    "            .fill_nan(0)\n",
    "            .alias(percent_col)\n",
    "        ).with_columns((pl.col(percent_col) >= 25).cast(pl.Int8).alias(hot_col))\n",
    "    \n",
    "    return cast_clean\n",
    "\n",
    "\n",
    "def identify_hotspots_and_regions(cast_clean: pl.DataFrame, window: int = 1, horizon: int = 2):\n",
    "    \"\"\"\n",
    "    Identify hotspots and get all regions for the last month of the specified horizon.\n",
    "    \n",
    "    Args:\n",
    "        cast_clean: Processed CAST data\n",
    "        window: Number of past months to calculate average\n",
    "        horizon: Number of months ahead to check for hotspots (will use the last month only)\n",
    "    \n",
    "    Returns:\n",
    "        Tuple of (hotspots DataFrame, all_regions DataFrame, hotspots_list)\n",
    "    \"\"\"\n",
    "    hot_col = f\"hotspot{window}\"\n",
    "    \n",
    "    # Get current month and calculate the target month (last month of horizon)\n",
    "    current_date = datetime.now()\n",
    "    target_month = current_date + relativedelta(months=horizon-1)\n",
    "    target_month_str = target_month.strftime(\"%Y-%m\")\n",
    "\n",
    "    # Filter hotspots (hotspot1 == 1 and in the target month only)\n",
    "    hotspots = cast_clean.filter(\n",
    "        (pl.col(\"year_month\") == target_month_str) & (pl.col(hot_col) == 1)\n",
    "    )\n",
    "\n",
    "    # Get all regions for the target month only\n",
    "    all_regions = cast_clean.filter(\n",
    "        pl.col(\"year_month\") == target_month_str\n",
    "    )\n",
    "\n",
    "    hotspots_list = hotspots[\"admin1\"].unique().to_list()\n",
    "    \n",
    "    return hotspots, all_regions, hotspots_list\n",
    "\n",
    "\n",
    "def save_acled_cast(hotspots, country: str):\n",
    "    \"\"\"\n",
    "    Save the processed data as parquet file.\n",
    "    \n",
    "    Args:\n",
    "        hotspots: Processed hotspots DataFrame (Polars)\n",
    "        country: Country name\n",
    "    \"\"\"\n",
    "    output_dir = Path(__file__).parent.parent.parent / 'data' / 'acled_cast'\n",
    "    output_dir.mkdir(parents=True, exist_ok=True)\n",
    "    \n",
    "    # Convert Polars DataFrame to pandas for parquet saving\n",
    "    if hasattr(hotspots, 'to_pandas'):\n",
    "        # It's a Polars DataFrame\n",
    "        df_to_save = hotspots.to_pandas()\n",
    "    else:\n",
    "        # It's already a pandas DataFrame\n",
    "        df_to_save = hotspots\n",
    "    \n",
    "    date = datetime.now().strftime('%Y-%m-%d')\n",
    "    output_path = output_dir / f\"ACLED_CAST_{country}_{date}.parquet\"\n",
    "    df_to_save.to_parquet(output_path)"
   ]
  },
  {
   "cell_type": "code",
   "execution_count": 154,
   "id": "82b36f7d",
   "metadata": {},
   "outputs": [],
   "source": [
    "def create_tabular_chart(all_regions, country):\n",
    "    \"\"\"\n",
    "    Create a horizontal bar chart showing forecasted events data with percent_increase1, avg1, and total_forecast values.\n",
    "    \"\"\"\n",
    "    # Convert Polars DataFrame to pandas for visualization\n",
    "    df_pandas = all_regions.to_pandas()\n",
    "    \n",
    "    # Filter only regions with data and sort by percent_increase1 descending\n",
    "    df_filtered = df_pandas[\n",
    "        (df_pandas['admin1'].notna()) & \n",
    "        (df_pandas['percent_increase1'] != 0)\n",
    "    ].copy()\n",
    "    \n",
    "    if len(df_filtered) == 0:\n",
    "        print(\"No data available for tabular chart\")\n",
    "        return go.Figure()\n",
    "    \n",
    "    # Sort by percent_increase1 in ascending order (for proper horizontal order)\n",
    "    df_sorted = df_filtered.sort_values('percent_increase1', ascending=True)\n",
    "    \n",
    "    # Prepare data for the bar chart\n",
    "    admin_names = df_sorted['admin1'].tolist()\n",
    "    forecast_values = df_sorted['total_forecast'].round(0).astype(int).tolist()\n",
    "    average_values = df_sorted['avg1'].round(0).astype(int).tolist()\n",
    "    percent_changes = df_sorted['percent_increase1'].round(1).tolist()\n",
    "    \n",
    "    # Create multi-line text labels\n",
    "    text_labels = []\n",
    "    for i, pct in enumerate(percent_changes):\n",
    "        avg_val = average_values[i]\n",
    "        forecast_val = forecast_values[i]\n",
    "        text_labels.append(f\"<b>{pct}%</b><br>(from {avg_val} to {forecast_val})\")\n",
    "    \n",
    "    # Create color mapping for bars\n",
    "    colors = []\n",
    "    for pct in percent_changes:\n",
    "        if pct >= 50:\n",
    "            colors.append('#d73600')\n",
    "        elif pct >= 25:\n",
    "            colors.append('#ff6b35')\n",
    "        elif pct >= 0:\n",
    "            colors.append('#ffd700')\n",
    "        else:\n",
    "            colors.append('#5b9bd5')\n",
    "    \n",
    "    # Create the horizontal bar chart\n",
    "    fig = go.Figure()\n",
    "    \n",
    "    fig.add_trace(go.Bar(\n",
    "        y=admin_names,\n",
    "        x=percent_changes,\n",
    "        orientation='h',\n",
    "        marker=dict(\n",
    "            color=colors,\n",
    "            line=dict(color='white', width=0.5)\n",
    "        ),\n",
    "        text=text_labels,\n",
    "        textposition='outside',\n",
    "        textfont=dict(size=11),  # Slightly smaller font to fit both lines\n",
    "        cliponaxis=False,  # Prevent cropping of labels\n",
    "        hovertemplate=(\n",
    "            \"<b>%{y}</b><br>\"\n",
    "            \"Percent Change: %{x:.1f}%<br>\"\n",
    "            \"Average Events: %{customdata[0]}<br>\"\n",
    "            \"Forecasted Events: %{customdata[1]}\"\n",
    "            \"<extra></extra>\"\n",
    "        ),\n",
    "        customdata=list(zip(average_values, forecast_values)),\n",
    "        name=\"Percent Change\"\n",
    "    ))\n",
    "    \n",
    "    # Calculate dynamic height based on number of regions\n",
    "    num_regions = len(df_sorted)\n",
    "    if num_regions <= 5:\n",
    "        calculated_height = 300  # Fixed height for small n\n",
    "    else:\n",
    "        calculated_height = max(300, num_regions * 32)  # Usual scaling for larger n\n",
    "        \n",
    "    \n",
    "    # # Calculate x-axis range to provide more space for labels\n",
    "    # max_pct = max(abs(min(percent_changes)), abs(max(percent_changes)))\n",
    "    # x_range = [-max_pct * 1.3, max_pct * 1.8]  # Even more space on the right for multi-line labels\n",
    "    \n",
    "    x_range = [min(percent_changes)-120, max(percent_changes)+100]\n",
    "    \n",
    "    # Update layout with better spacing\n",
    "    fig.update_layout(\n",
    "        title=f\"Forecasted Events for {country} for the Next Month<br>\"\n",
    "              f\"<sub>Relative to Last Month</sub>\",\n",
    "        xaxis_title=\"Percent Change (%)\",\n",
    "        yaxis_title=\"Regions\",\n",
    "        font=dict(size=12),\n",
    "        margin=dict(l=250, r=150, t=120, b=80),  # Increased right margin for multi-line labels\n",
    "        height=calculated_height,\n",
    "        width=1000,  # Increased width to accommodate multi-line labels\n",
    "        paper_bgcolor='white',\n",
    "        plot_bgcolor='white',\n",
    "        showlegend=False,\n",
    "        xaxis=dict(range=x_range),  # Set x-axis range for more space\n",
    "        bargap=0.3\n",
    "    )\n",
    "    \n",
    "    # Update axes with better formatting\n",
    "    fig.update_xaxes(\n",
    "        showticklabels=True,\n",
    "        tickfont=dict(size=10),\n",
    "        showgrid=False,\n",
    "        gridcolor='lightgray'\n",
    "    )\n",
    "    \n",
    "    fig.update_yaxes(\n",
    "        tickfont=dict(size=12, family=\"Arial Black\"),\n",
    "        tickmode='linear',\n",
    "        showgrid=False,\n",
    "        side='left',\n",
    "        categoryorder='array',\n",
    "        categoryarray=admin_names  # Ensure proper ordering\n",
    "    )\n",
    "    \n",
    "    # Add vertical line at 0% (neutral line)\n",
    "    fig.add_vline(\n",
    "        x=0, \n",
    "        line_dash=\"solid\", \n",
    "        line_color=\"gray\", \n",
    "        line_width=1\n",
    "    )\n",
    "    \n",
    "    return fig"
   ]
  },
  {
   "cell_type": "code",
   "execution_count": 160,
   "id": "543b1964",
   "metadata": {},
   "outputs": [
    {
     "data": {
      "application/vnd.plotly.v1+json": {
       "config": {
        "plotlyServerURL": "https://plot.ly"
       },
       "data": [
        {
         "cliponaxis": false,
         "customdata": [
          [
           35,
           32
          ],
          [
           7,
           8
          ]
         ],
         "hovertemplate": "<b>%{y}</b><br>Percent Change: %{x:.1f}%<br>Average Events: %{customdata[0]}<br>Forecasted Events: %{customdata[1]}<extra></extra>",
         "marker": {
          "color": [
           "#5b9bd5",
           "#ffd700"
          ],
          "line": {
           "color": "white",
           "width": 0.5
          }
         },
         "name": "Percent Change",
         "orientation": "h",
         "text": [
          "<b>-8.6%</b><br>(from 35 to 32)",
          "<b>14.3%</b><br>(from 7 to 8)"
         ],
         "textfont": {
          "size": 11
         },
         "textposition": "outside",
         "type": "bar",
         "x": [
          -8.6,
          14.3
         ],
         "y": [
          "Central Papua",
          "Highland Papua"
         ]
        }
       ],
       "layout": {
        "bargap": 0.3,
        "font": {
         "size": 12
        },
        "height": 300,
        "margin": {
         "b": 80,
         "l": 250,
         "r": 150,
         "t": 120
        },
        "paper_bgcolor": "white",
        "plot_bgcolor": "white",
        "shapes": [
         {
          "line": {
           "color": "gray",
           "dash": "solid",
           "width": 1
          },
          "type": "line",
          "x0": 0,
          "x1": 0,
          "xref": "x",
          "y0": 0,
          "y1": 1,
          "yref": "y domain"
         }
        ],
        "showlegend": false,
        "template": {
         "data": {
          "bar": [
           {
            "error_x": {
             "color": "#2a3f5f"
            },
            "error_y": {
             "color": "#2a3f5f"
            },
            "marker": {
             "line": {
              "color": "#E5ECF6",
              "width": 0.5
             },
             "pattern": {
              "fillmode": "overlay",
              "size": 10,
              "solidity": 0.2
             }
            },
            "type": "bar"
           }
          ],
          "barpolar": [
           {
            "marker": {
             "line": {
              "color": "#E5ECF6",
              "width": 0.5
             },
             "pattern": {
              "fillmode": "overlay",
              "size": 10,
              "solidity": 0.2
             }
            },
            "type": "barpolar"
           }
          ],
          "carpet": [
           {
            "aaxis": {
             "endlinecolor": "#2a3f5f",
             "gridcolor": "white",
             "linecolor": "white",
             "minorgridcolor": "white",
             "startlinecolor": "#2a3f5f"
            },
            "baxis": {
             "endlinecolor": "#2a3f5f",
             "gridcolor": "white",
             "linecolor": "white",
             "minorgridcolor": "white",
             "startlinecolor": "#2a3f5f"
            },
            "type": "carpet"
           }
          ],
          "choropleth": [
           {
            "colorbar": {
             "outlinewidth": 0,
             "ticks": ""
            },
            "type": "choropleth"
           }
          ],
          "contour": [
           {
            "colorbar": {
             "outlinewidth": 0,
             "ticks": ""
            },
            "colorscale": [
             [
              0,
              "#0d0887"
             ],
             [
              0.1111111111111111,
              "#46039f"
             ],
             [
              0.2222222222222222,
              "#7201a8"
             ],
             [
              0.3333333333333333,
              "#9c179e"
             ],
             [
              0.4444444444444444,
              "#bd3786"
             ],
             [
              0.5555555555555556,
              "#d8576b"
             ],
             [
              0.6666666666666666,
              "#ed7953"
             ],
             [
              0.7777777777777778,
              "#fb9f3a"
             ],
             [
              0.8888888888888888,
              "#fdca26"
             ],
             [
              1,
              "#f0f921"
             ]
            ],
            "type": "contour"
           }
          ],
          "contourcarpet": [
           {
            "colorbar": {
             "outlinewidth": 0,
             "ticks": ""
            },
            "type": "contourcarpet"
           }
          ],
          "heatmap": [
           {
            "colorbar": {
             "outlinewidth": 0,
             "ticks": ""
            },
            "colorscale": [
             [
              0,
              "#0d0887"
             ],
             [
              0.1111111111111111,
              "#46039f"
             ],
             [
              0.2222222222222222,
              "#7201a8"
             ],
             [
              0.3333333333333333,
              "#9c179e"
             ],
             [
              0.4444444444444444,
              "#bd3786"
             ],
             [
              0.5555555555555556,
              "#d8576b"
             ],
             [
              0.6666666666666666,
              "#ed7953"
             ],
             [
              0.7777777777777778,
              "#fb9f3a"
             ],
             [
              0.8888888888888888,
              "#fdca26"
             ],
             [
              1,
              "#f0f921"
             ]
            ],
            "type": "heatmap"
           }
          ],
          "histogram": [
           {
            "marker": {
             "pattern": {
              "fillmode": "overlay",
              "size": 10,
              "solidity": 0.2
             }
            },
            "type": "histogram"
           }
          ],
          "histogram2d": [
           {
            "colorbar": {
             "outlinewidth": 0,
             "ticks": ""
            },
            "colorscale": [
             [
              0,
              "#0d0887"
             ],
             [
              0.1111111111111111,
              "#46039f"
             ],
             [
              0.2222222222222222,
              "#7201a8"
             ],
             [
              0.3333333333333333,
              "#9c179e"
             ],
             [
              0.4444444444444444,
              "#bd3786"
             ],
             [
              0.5555555555555556,
              "#d8576b"
             ],
             [
              0.6666666666666666,
              "#ed7953"
             ],
             [
              0.7777777777777778,
              "#fb9f3a"
             ],
             [
              0.8888888888888888,
              "#fdca26"
             ],
             [
              1,
              "#f0f921"
             ]
            ],
            "type": "histogram2d"
           }
          ],
          "histogram2dcontour": [
           {
            "colorbar": {
             "outlinewidth": 0,
             "ticks": ""
            },
            "colorscale": [
             [
              0,
              "#0d0887"
             ],
             [
              0.1111111111111111,
              "#46039f"
             ],
             [
              0.2222222222222222,
              "#7201a8"
             ],
             [
              0.3333333333333333,
              "#9c179e"
             ],
             [
              0.4444444444444444,
              "#bd3786"
             ],
             [
              0.5555555555555556,
              "#d8576b"
             ],
             [
              0.6666666666666666,
              "#ed7953"
             ],
             [
              0.7777777777777778,
              "#fb9f3a"
             ],
             [
              0.8888888888888888,
              "#fdca26"
             ],
             [
              1,
              "#f0f921"
             ]
            ],
            "type": "histogram2dcontour"
           }
          ],
          "mesh3d": [
           {
            "colorbar": {
             "outlinewidth": 0,
             "ticks": ""
            },
            "type": "mesh3d"
           }
          ],
          "parcoords": [
           {
            "line": {
             "colorbar": {
              "outlinewidth": 0,
              "ticks": ""
             }
            },
            "type": "parcoords"
           }
          ],
          "pie": [
           {
            "automargin": true,
            "type": "pie"
           }
          ],
          "scatter": [
           {
            "fillpattern": {
             "fillmode": "overlay",
             "size": 10,
             "solidity": 0.2
            },
            "type": "scatter"
           }
          ],
          "scatter3d": [
           {
            "line": {
             "colorbar": {
              "outlinewidth": 0,
              "ticks": ""
             }
            },
            "marker": {
             "colorbar": {
              "outlinewidth": 0,
              "ticks": ""
             }
            },
            "type": "scatter3d"
           }
          ],
          "scattercarpet": [
           {
            "marker": {
             "colorbar": {
              "outlinewidth": 0,
              "ticks": ""
             }
            },
            "type": "scattercarpet"
           }
          ],
          "scattergeo": [
           {
            "marker": {
             "colorbar": {
              "outlinewidth": 0,
              "ticks": ""
             }
            },
            "type": "scattergeo"
           }
          ],
          "scattergl": [
           {
            "marker": {
             "colorbar": {
              "outlinewidth": 0,
              "ticks": ""
             }
            },
            "type": "scattergl"
           }
          ],
          "scattermap": [
           {
            "marker": {
             "colorbar": {
              "outlinewidth": 0,
              "ticks": ""
             }
            },
            "type": "scattermap"
           }
          ],
          "scattermapbox": [
           {
            "marker": {
             "colorbar": {
              "outlinewidth": 0,
              "ticks": ""
             }
            },
            "type": "scattermapbox"
           }
          ],
          "scatterpolar": [
           {
            "marker": {
             "colorbar": {
              "outlinewidth": 0,
              "ticks": ""
             }
            },
            "type": "scatterpolar"
           }
          ],
          "scatterpolargl": [
           {
            "marker": {
             "colorbar": {
              "outlinewidth": 0,
              "ticks": ""
             }
            },
            "type": "scatterpolargl"
           }
          ],
          "scatterternary": [
           {
            "marker": {
             "colorbar": {
              "outlinewidth": 0,
              "ticks": ""
             }
            },
            "type": "scatterternary"
           }
          ],
          "surface": [
           {
            "colorbar": {
             "outlinewidth": 0,
             "ticks": ""
            },
            "colorscale": [
             [
              0,
              "#0d0887"
             ],
             [
              0.1111111111111111,
              "#46039f"
             ],
             [
              0.2222222222222222,
              "#7201a8"
             ],
             [
              0.3333333333333333,
              "#9c179e"
             ],
             [
              0.4444444444444444,
              "#bd3786"
             ],
             [
              0.5555555555555556,
              "#d8576b"
             ],
             [
              0.6666666666666666,
              "#ed7953"
             ],
             [
              0.7777777777777778,
              "#fb9f3a"
             ],
             [
              0.8888888888888888,
              "#fdca26"
             ],
             [
              1,
              "#f0f921"
             ]
            ],
            "type": "surface"
           }
          ],
          "table": [
           {
            "cells": {
             "fill": {
              "color": "#EBF0F8"
             },
             "line": {
              "color": "white"
             }
            },
            "header": {
             "fill": {
              "color": "#C8D4E3"
             },
             "line": {
              "color": "white"
             }
            },
            "type": "table"
           }
          ]
         },
         "layout": {
          "annotationdefaults": {
           "arrowcolor": "#2a3f5f",
           "arrowhead": 0,
           "arrowwidth": 1
          },
          "autotypenumbers": "strict",
          "coloraxis": {
           "colorbar": {
            "outlinewidth": 0,
            "ticks": ""
           }
          },
          "colorscale": {
           "diverging": [
            [
             0,
             "#8e0152"
            ],
            [
             0.1,
             "#c51b7d"
            ],
            [
             0.2,
             "#de77ae"
            ],
            [
             0.3,
             "#f1b6da"
            ],
            [
             0.4,
             "#fde0ef"
            ],
            [
             0.5,
             "#f7f7f7"
            ],
            [
             0.6,
             "#e6f5d0"
            ],
            [
             0.7,
             "#b8e186"
            ],
            [
             0.8,
             "#7fbc41"
            ],
            [
             0.9,
             "#4d9221"
            ],
            [
             1,
             "#276419"
            ]
           ],
           "sequential": [
            [
             0,
             "#0d0887"
            ],
            [
             0.1111111111111111,
             "#46039f"
            ],
            [
             0.2222222222222222,
             "#7201a8"
            ],
            [
             0.3333333333333333,
             "#9c179e"
            ],
            [
             0.4444444444444444,
             "#bd3786"
            ],
            [
             0.5555555555555556,
             "#d8576b"
            ],
            [
             0.6666666666666666,
             "#ed7953"
            ],
            [
             0.7777777777777778,
             "#fb9f3a"
            ],
            [
             0.8888888888888888,
             "#fdca26"
            ],
            [
             1,
             "#f0f921"
            ]
           ],
           "sequentialminus": [
            [
             0,
             "#0d0887"
            ],
            [
             0.1111111111111111,
             "#46039f"
            ],
            [
             0.2222222222222222,
             "#7201a8"
            ],
            [
             0.3333333333333333,
             "#9c179e"
            ],
            [
             0.4444444444444444,
             "#bd3786"
            ],
            [
             0.5555555555555556,
             "#d8576b"
            ],
            [
             0.6666666666666666,
             "#ed7953"
            ],
            [
             0.7777777777777778,
             "#fb9f3a"
            ],
            [
             0.8888888888888888,
             "#fdca26"
            ],
            [
             1,
             "#f0f921"
            ]
           ]
          },
          "colorway": [
           "#636efa",
           "#EF553B",
           "#00cc96",
           "#ab63fa",
           "#FFA15A",
           "#19d3f3",
           "#FF6692",
           "#B6E880",
           "#FF97FF",
           "#FECB52"
          ],
          "font": {
           "color": "#2a3f5f"
          },
          "geo": {
           "bgcolor": "white",
           "lakecolor": "white",
           "landcolor": "#E5ECF6",
           "showlakes": true,
           "showland": true,
           "subunitcolor": "white"
          },
          "hoverlabel": {
           "align": "left"
          },
          "hovermode": "closest",
          "mapbox": {
           "style": "light"
          },
          "paper_bgcolor": "white",
          "plot_bgcolor": "#E5ECF6",
          "polar": {
           "angularaxis": {
            "gridcolor": "white",
            "linecolor": "white",
            "ticks": ""
           },
           "bgcolor": "#E5ECF6",
           "radialaxis": {
            "gridcolor": "white",
            "linecolor": "white",
            "ticks": ""
           }
          },
          "scene": {
           "xaxis": {
            "backgroundcolor": "#E5ECF6",
            "gridcolor": "white",
            "gridwidth": 2,
            "linecolor": "white",
            "showbackground": true,
            "ticks": "",
            "zerolinecolor": "white"
           },
           "yaxis": {
            "backgroundcolor": "#E5ECF6",
            "gridcolor": "white",
            "gridwidth": 2,
            "linecolor": "white",
            "showbackground": true,
            "ticks": "",
            "zerolinecolor": "white"
           },
           "zaxis": {
            "backgroundcolor": "#E5ECF6",
            "gridcolor": "white",
            "gridwidth": 2,
            "linecolor": "white",
            "showbackground": true,
            "ticks": "",
            "zerolinecolor": "white"
           }
          },
          "shapedefaults": {
           "line": {
            "color": "#2a3f5f"
           }
          },
          "ternary": {
           "aaxis": {
            "gridcolor": "white",
            "linecolor": "white",
            "ticks": ""
           },
           "baxis": {
            "gridcolor": "white",
            "linecolor": "white",
            "ticks": ""
           },
           "bgcolor": "#E5ECF6",
           "caxis": {
            "gridcolor": "white",
            "linecolor": "white",
            "ticks": ""
           }
          },
          "title": {
           "x": 0.05
          },
          "xaxis": {
           "automargin": true,
           "gridcolor": "white",
           "linecolor": "white",
           "ticks": "",
           "title": {
            "standoff": 15
           },
           "zerolinecolor": "white",
           "zerolinewidth": 2
          },
          "yaxis": {
           "automargin": true,
           "gridcolor": "white",
           "linecolor": "white",
           "ticks": "",
           "title": {
            "standoff": 15
           },
           "zerolinecolor": "white",
           "zerolinewidth": 2
          }
         }
        },
        "title": {
         "text": "Forecasted Events for Indonesia for the Next Month<br><sub>Relative to Last Month</sub>"
        },
        "width": 1000,
        "xaxis": {
         "gridcolor": "lightgray",
         "range": [
          -128.6,
          114.3
         ],
         "showgrid": false,
         "showticklabels": true,
         "tickfont": {
          "size": 10
         },
         "title": {
          "text": "Percent Change (%)"
         }
        },
        "yaxis": {
         "categoryarray": [
          "Central Papua",
          "Highland Papua"
         ],
         "categoryorder": "array",
         "showgrid": false,
         "side": "left",
         "tickfont": {
          "family": "Arial Black",
          "size": 12
         },
         "tickmode": "linear",
         "title": {
          "text": "Regions"
         }
        }
       }
      }
     },
     "metadata": {},
     "output_type": "display_data"
    }
   ],
   "source": [
    "# Step 6: Create visualizations\n",
    "fig = create_tabular_chart(all_regions, country)\n",
    "fig.show()"
   ]
  },
  {
   "cell_type": "code",
   "execution_count": 156,
   "id": "ac55dce4",
   "metadata": {},
   "outputs": [],
   "source": [
    "\n",
    "\n",
    "def save_visualizations(fig: go.Figure, country: str, hotspots):\n",
    "    \"\"\"\n",
    "    Save the interactive plots in multiple formats.\n",
    "    \n",
    "    Args:\n",
    "        fig: Plotly bar chart figure to save\n",
    "        country: Country name\n",
    "        hotspots: Merged data for statistics (Polars DataFrame)\n",
    "    \"\"\"\n",
    "    # Create output directory\n",
    "    output_dir = Path(__file__).parent.parent.parent / 'data' / 'images'\n",
    "    output_dir.mkdir(parents=True, exist_ok=True)\n",
    "\n",
    "    # Generate timestamp for unique filenames\n",
    "    timestamp = datetime.now().strftime(\"%Y-%m-%d\")\n",
    "    \n",
    "    # Save tabular chart\n",
    "    table_base_filename = f\"BarChart_{country.replace(' ', '_')}_{timestamp}\"\n",
    "    \n",
    "    try:\n",
    "        # Save as HTML (interactive)\n",
    "        table_html_file = output_dir / f\"{table_base_filename}.html\"\n",
    "        fig.write_html(table_html_file)\n",
    "\n",
    "        # Save as PDF (static, high quality)\n",
    "        table_pdf_file = output_dir / f\"{table_base_filename}.pdf\"\n",
    "        fig.write_image(table_pdf_file)\n",
    "\n",
    "        # Save as SVG (vector format)\n",
    "        table_svg_file = output_dir / f\"{table_base_filename}.svg\"\n",
    "        fig.write_image(table_svg_file)\n",
    "\n",
    "    except Exception as e:\n",
    "        print(f\"Error saving some visualization formats: {e}\")\n",
    "        # At least save the HTML version\n",
    "        table_html_file = output_dir / f\"{table_base_filename}.html\"\n",
    "        fig.write_html(table_html_file)\n",
    "        print(f\"Saved only HTML chart: {table_html_file}\")\n",
    "\n",
    "\n",
    "def save_hotspots_list(hotspots_list: list, country: str, horizon: int, all_regions: pl.DataFrame):\n",
    "    \"\"\"\n",
    "    Save the hotspots list with detailed information as a JSON file.\n",
    "    \n",
    "    Args:\n",
    "        hotspots_list: List of hotspot regions\n",
    "        country: Country name\n",
    "        horizon: Forecast horizon in months\n",
    "        all_regions: DataFrame with all regions data including metrics\n",
    "    \"\"\"\n",
    "    output_dir = Path(__file__).parent.parent.parent / 'data' / 'acled_cast'\n",
    "    output_dir.mkdir(parents=True, exist_ok=True)\n",
    "    \n",
    "    # Get detailed information for each hotspot region\n",
    "    hotspots_details = []\n",
    "    for region in hotspots_list:\n",
    "        # Filter data for this specific region and get the latest entry\n",
    "        region_data = all_regions.filter(pl.col(\"admin1\") == region)\n",
    "        if region_data.height > 0:\n",
    "            # Get the row with max percent_increase1 for this region\n",
    "            region_sorted = region_data.sort(\"percent_increase1\", descending=True)\n",
    "            region_row = region_sorted.head(1)\n",
    "            \n",
    "            hotspot_info = {\n",
    "                \"name\": region,\n",
    "                \"avg1\": float(region_row[\"avg1\"][0]) if region_row[\"avg1\"][0] is not None else 0.0,\n",
    "                \"total_forecast\": float(region_row[\"total_forecast\"][0]) if region_row[\"total_forecast\"][0] is not None else 0.0,\n",
    "                \"percent_increase1\": float(region_row[\"percent_increase1\"][0]) if region_row[\"percent_increase1\"][0] is not None else 0.0\n",
    "            }\n",
    "            hotspots_details.append(hotspot_info)\n",
    "    \n",
    "    # Create metadata for the JSON file\n",
    "    hotspots_data = {\n",
    "        \"country\": country,\n",
    "        \"forecast_horizon_months\": horizon,\n",
    "        \"analysis_date\": datetime.now().strftime('%Y-%m-%d %H:%M:%S'),\n",
    "        \"total_hotspots\": len(hotspots_list),\n",
    "        \"hotspot_regions\": hotspots_details\n",
    "    }\n",
    "    \n",
    "    date = datetime.now().strftime('%Y-%m-%d')\n",
    "    output_path = output_dir / f\"hotspots_{country.replace(' ', '_')}_{date}.json\"\n",
    "    \n",
    "    with open(output_path, 'w', encoding='utf-8') as f:\n",
    "        json.dump(hotspots_data, f, indent=2, ensure_ascii=False)"
   ]
  },
  {
   "cell_type": "code",
   "execution_count": 157,
   "id": "e4f3d39c",
   "metadata": {},
   "outputs": [],
   "source": [
    "# Step 1: Get CAST data\n",
    "cast_data = get_acled_cast_data(country)"
   ]
  },
  {
   "cell_type": "code",
   "execution_count": 158,
   "id": "ee241795",
   "metadata": {},
   "outputs": [],
   "source": [
    "# Step 2: Process data\n",
    "cast_with_averages = create_rolling_averages(cast_data)\n",
    "cast_processed = calculate_percent_increase(cast_with_averages)"
   ]
  },
  {
   "cell_type": "code",
   "execution_count": 159,
   "id": "7aab854c",
   "metadata": {},
   "outputs": [],
   "source": [
    "# Step 3: Identify hotspots and regions\n",
    "hotspots, all_regions, hotspots_list = identify_hotspots_and_regions(cast_processed, window, horizon)"
   ]
  }
 ],
 "metadata": {
  "kernelspec": {
   "display_name": ".venv",
   "language": "python",
   "name": "python3"
  },
  "language_info": {
   "codemirror_mode": {
    "name": "ipython",
    "version": 3
   },
   "file_extension": ".py",
   "mimetype": "text/x-python",
   "name": "python",
   "nbconvert_exporter": "python",
   "pygments_lexer": "ipython3",
   "version": "3.12.4"
  }
 },
 "nbformat": 4,
 "nbformat_minor": 5
}
