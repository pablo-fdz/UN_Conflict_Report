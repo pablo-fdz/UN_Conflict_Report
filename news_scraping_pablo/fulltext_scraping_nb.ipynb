{
 "cells": [
  {
   "cell_type": "code",
   "execution_count": 1,
   "id": "4bc6b689",
   "metadata": {},
   "outputs": [],
   "source": [
    "# Load the data\n",
    "import pandas as pd\n",
    "df = pd.read_csv('sudan_results.csv')"
   ]
  },
  {
   "cell_type": "code",
   "execution_count": null,
   "id": "a12c0d7a",
   "metadata": {},
   "outputs": [
    {
     "data": {
      "text/html": [
       "<div>\n",
       "<style scoped>\n",
       "    .dataframe tbody tr th:only-of-type {\n",
       "        vertical-align: middle;\n",
       "    }\n",
       "\n",
       "    .dataframe tbody tr th {\n",
       "        vertical-align: top;\n",
       "    }\n",
       "\n",
       "    .dataframe thead th {\n",
       "        text-align: right;\n",
       "    }\n",
       "</style>\n",
       "<table border=\"1\" class=\"dataframe\">\n",
       "  <thead>\n",
       "    <tr style=\"text-align: right;\">\n",
       "      <th></th>\n",
       "      <th>MonthYear</th>\n",
       "      <th>Actor1Name</th>\n",
       "      <th>Actor2Name</th>\n",
       "      <th>SOURCEURL</th>\n",
       "    </tr>\n",
       "  </thead>\n",
       "  <tbody>\n",
       "    <tr>\n",
       "      <th>0</th>\n",
       "      <td>202504</td>\n",
       "      <td>UNITED NATIONS</td>\n",
       "      <td>NaN</td>\n",
       "      <td>https://www.newsday.co.zw/international/articl...</td>\n",
       "    </tr>\n",
       "    <tr>\n",
       "      <th>1</th>\n",
       "      <td>202504</td>\n",
       "      <td>PORT SUDAN</td>\n",
       "      <td>NaN</td>\n",
       "      <td>https://www.globalsecurity.org/military/librar...</td>\n",
       "    </tr>\n",
       "    <tr>\n",
       "      <th>2</th>\n",
       "      <td>202504</td>\n",
       "      <td>GENEVA</td>\n",
       "      <td>NaN</td>\n",
       "      <td>https://www.scoop.co.nz/stories/WO2504/S00324/...</td>\n",
       "    </tr>\n",
       "    <tr>\n",
       "      <th>3</th>\n",
       "      <td>202504</td>\n",
       "      <td>SADC</td>\n",
       "      <td>NaN</td>\n",
       "      <td>https://www.newsday.co.zw/international/articl...</td>\n",
       "    </tr>\n",
       "    <tr>\n",
       "      <th>4</th>\n",
       "      <td>202504</td>\n",
       "      <td>SADC</td>\n",
       "      <td>NaN</td>\n",
       "      <td>https://www.newsday.co.zw/international/articl...</td>\n",
       "    </tr>\n",
       "  </tbody>\n",
       "</table>\n",
       "</div>"
      ],
      "text/plain": [
       "   MonthYear      Actor1Name Actor2Name  \\\n",
       "0     202504  UNITED NATIONS        NaN   \n",
       "1     202504      PORT SUDAN        NaN   \n",
       "2     202504          GENEVA        NaN   \n",
       "3     202504            SADC        NaN   \n",
       "4     202504            SADC        NaN   \n",
       "\n",
       "                                           SOURCEURL  \n",
       "0  https://www.newsday.co.zw/international/articl...  \n",
       "1  https://www.globalsecurity.org/military/librar...  \n",
       "2  https://www.scoop.co.nz/stories/WO2504/S00324/...  \n",
       "3  https://www.newsday.co.zw/international/articl...  \n",
       "4  https://www.newsday.co.zw/international/articl...  "
      ]
     },
     "execution_count": 2,
     "metadata": {},
     "output_type": "execute_result"
    }
   ],
   "source": [
    "df.head()"
   ]
  },
  {
   "cell_type": "code",
   "execution_count": 6,
   "id": "47f78a72",
   "metadata": {},
   "outputs": [
    {
     "name": "stderr",
     "output_type": "stream",
     "text": []
    },
    {
     "name": "stdout",
     "output_type": "stream",
     "text": [
      "Timeout reached for URL: https://newsghana.com.gh/un-calls-for-immediate-ceasefire-amid-escalating-south-sudan-clashes/\n"
     ]
    },
    {
     "name": "stderr",
     "output_type": "stream",
     "text": []
    },
    {
     "name": "stdout",
     "output_type": "stream",
     "text": [
      "Timeout reached for URL: https://newsghana.com.gh/un-calls-for-immediate-ceasefire-amid-escalating-south-sudan-clashes/\n"
     ]
    },
    {
     "name": "stderr",
     "output_type": "stream",
     "text": []
    },
    {
     "name": "stdout",
     "output_type": "stream",
     "text": [
      "Timeout reached for URL: https://www.newspim.com/news/view/20250426000131\n"
     ]
    },
    {
     "name": "stderr",
     "output_type": "stream",
     "text": []
    },
    {
     "name": "stdout",
     "output_type": "stream",
     "text": [
      "Timeout reached for URL: http://halgan.net/2012/02/uurdoox-taariikha-mashruuca-islaamiga-ah-ee-soomaaliya-sh-cabdiraxmaan-sh-cumar/\n"
     ]
    },
    {
     "name": "stderr",
     "output_type": "stream",
     "text": []
    },
    {
     "name": "stdout",
     "output_type": "stream",
     "text": [
      "Timeout reached for URL: http://halgan.net/2012/02/uurdoox-taariikha-mashruuca-islaamiga-ah-ee-soomaaliya-sh-cabdiraxmaan-sh-cumar/\n"
     ]
    },
    {
     "name": "stderr",
     "output_type": "stream",
     "text": []
    },
    {
     "name": "stdout",
     "output_type": "stream",
     "text": [
      "Timeout reached for URL: https://www.clevelandjewishnews.com/jns/trump-willing-to-lead-the-pack-in-strike-against-iran/article_a894c9d4-e9f0-5aeb-84df-c2fd5ad6e91c.html\n"
     ]
    },
    {
     "name": "stderr",
     "output_type": "stream",
     "text": []
    },
    {
     "name": "stdout",
     "output_type": "stream",
     "text": [
      "Timeout reached for URL: https://newsghana.com.gh/un-calls-for-immediate-ceasefire-amid-escalating-south-sudan-clashes/\n"
     ]
    },
    {
     "name": "stderr",
     "output_type": "stream",
     "text": []
    },
    {
     "name": "stdout",
     "output_type": "stream",
     "text": [
      "Timeout reached for URL: https://africa.com/sudan-turk-gravely-concerned-at-rising-civilian-deaths-and-widespread-sexual-violence-in-north-darfur/\n"
     ]
    },
    {
     "name": "stderr",
     "output_type": "stream",
     "text": []
    },
    {
     "name": "stdout",
     "output_type": "stream",
     "text": [
      "Timeout reached for URL: https://africa.com/sudan-turk-gravely-concerned-at-rising-civilian-deaths-and-widespread-sexual-violence-in-north-darfur/\n"
     ]
    },
    {
     "name": "stderr",
     "output_type": "stream",
     "text": []
    },
    {
     "name": "stdout",
     "output_type": "stream",
     "text": [
      "Timeout reached for URL: https://www.kuna.net.kw/ArticleDetails.aspx?id=3228105&language=ar\n"
     ]
    },
    {
     "name": "stderr",
     "output_type": "stream",
     "text": []
    },
    {
     "name": "stdout",
     "output_type": "stream",
     "text": [
      "Timeout reached for URL: https://www.spacewar.com/afp/250428171832.9ro0wyyd.html\n"
     ]
    },
    {
     "name": "stderr",
     "output_type": "stream",
     "text": []
    },
    {
     "name": "stdout",
     "output_type": "stream",
     "text": [
      "Timeout reached for URL: https://www.spacewar.com/afp/250428171832.9ro0wyyd.html\n"
     ]
    },
    {
     "name": "stderr",
     "output_type": "stream",
     "text": []
    },
    {
     "name": "stdout",
     "output_type": "stream",
     "text": [
      "Timeout reached for URL: https://www.spacewar.com/afp/250428171832.9ro0wyyd.html\n"
     ]
    },
    {
     "name": "stderr",
     "output_type": "stream",
     "text": []
    },
    {
     "name": "stdout",
     "output_type": "stream",
     "text": [
      "Timeout reached for URL: https://www.kuna.net.kw/ArticleDetails.aspx?id=3227955&language=en\n"
     ]
    },
    {
     "name": "stderr",
     "output_type": "stream",
     "text": []
    },
    {
     "name": "stdout",
     "output_type": "stream",
     "text": [
      "Timeout reached for URL: https://www.kuna.net.kw/ArticleDetails.aspx?id=3227955&language=en\n"
     ]
    },
    {
     "name": "stderr",
     "output_type": "stream",
     "text": []
    },
    {
     "name": "stdout",
     "output_type": "stream",
     "text": [
      "Timeout reached for URL: https://www.kuna.net.kw/ArticleDetails.aspx?id=3227941&Language=ar\n"
     ]
    },
    {
     "name": "stderr",
     "output_type": "stream",
     "text": []
    },
    {
     "name": "stdout",
     "output_type": "stream",
     "text": [
      "Timeout reached for URL: https://www.kuna.net.kw/ArticleDetails.aspx?id=3227941&Language=ar\n"
     ]
    },
    {
     "name": "stderr",
     "output_type": "stream",
     "text": []
    },
    {
     "name": "stdout",
     "output_type": "stream",
     "text": [
      "Timeout reached for URL: https://www.kuna.net.kw/ArticleDetails.aspx?id=3227941&Language=ar\n"
     ]
    },
    {
     "name": "stderr",
     "output_type": "stream",
     "text": []
    },
    {
     "name": "stdout",
     "output_type": "stream",
     "text": [
      "Timeout reached for URL: https://www.kuna.net.kw/ArticleDetails.aspx?id=3227956&Language=ar\n"
     ]
    },
    {
     "name": "stderr",
     "output_type": "stream",
     "text": []
    },
    {
     "name": "stdout",
     "output_type": "stream",
     "text": [
      "Timeout reached for URL: http://www.businessghana.com/site/news/politics/326943/End-conflict-to-honour-Pope,-Vatican-diplomat-tells-South-Sudan\n"
     ]
    },
    {
     "name": "stderr",
     "output_type": "stream",
     "text": []
    },
    {
     "name": "stdout",
     "output_type": "stream",
     "text": [
      "Timeout reached for URL: http://www.businessghana.com/site/news/politics/326943/End-conflict-to-honour-Pope,-Vatican-diplomat-tells-South-Sudan\n"
     ]
    },
    {
     "name": "stderr",
     "output_type": "stream",
     "text": []
    },
    {
     "name": "stdout",
     "output_type": "stream",
     "text": [
      "Timeout reached for URL: https://www.standardmedia.co.ke/africa/article/2001517668/sudan-paramilitaries-shell-famine-hit-camp-kill-over-20\n"
     ]
    },
    {
     "name": "stderr",
     "output_type": "stream",
     "text": []
    },
    {
     "name": "stdout",
     "output_type": "stream",
     "text": [
      "Timeout reached for URL: https://www.standardmedia.co.ke/africa/article/2001517668/sudan-paramilitaries-shell-famine-hit-camp-kill-over-20\n"
     ]
    },
    {
     "name": "stderr",
     "output_type": "stream",
     "text": []
    },
    {
     "name": "stdout",
     "output_type": "stream",
     "text": [
      "Timeout reached for URL: https://www.standardmedia.co.ke/africa/article/2001517668/sudan-paramilitaries-shell-famine-hit-camp-kill-over-20\n"
     ]
    },
    {
     "name": "stderr",
     "output_type": "stream",
     "text": []
    },
    {
     "name": "stdout",
     "output_type": "stream",
     "text": [
      "Timeout reached for URL: http://lecourrier-dalgerie.com/soudan-au-moins-31-civils-tues-a-omdurman/\n"
     ]
    },
    {
     "name": "stderr",
     "output_type": "stream",
     "text": []
    },
    {
     "name": "stdout",
     "output_type": "stream",
     "text": [
      "Timeout reached for URL: https://www.opinionnigeria.com/before-you-destroy-someone-think-of-those-who-depend-on-him-or-her-by-isaac-asabor/\n"
     ]
    },
    {
     "name": "stderr",
     "output_type": "stream",
     "text": []
    },
    {
     "name": "stdout",
     "output_type": "stream",
     "text": [
      "Timeout reached for URL: https://annabaa.org/arabic/authorsarticles/42304\n"
     ]
    },
    {
     "name": "stderr",
     "output_type": "stream",
     "text": []
    },
    {
     "name": "stdout",
     "output_type": "stream",
     "text": [
      "Timeout reached for URL: http://lecourrier-dalgerie.com/soudan-au-moins-31-civils-tues-a-omdurman/\n"
     ]
    },
    {
     "name": "stderr",
     "output_type": "stream",
     "text": []
    },
    {
     "name": "stdout",
     "output_type": "stream",
     "text": [
      "Timeout reached for URL: https://annabaa.org/arabic/authorsarticles/42304\n"
     ]
    },
    {
     "name": "stderr",
     "output_type": "stream",
     "text": []
    },
    {
     "name": "stdout",
     "output_type": "stream",
     "text": [
      "Timeout reached for URL: http://www.businessghana.com/site/news/politics/326943/End-conflict-to-honour-Pope,-Vatican-diplomat-tells-South-Sudan\n"
     ]
    },
    {
     "name": "stderr",
     "output_type": "stream",
     "text": []
    },
    {
     "name": "stdout",
     "output_type": "stream",
     "text": [
      "Timeout reached for URL: http://www.businessghana.com/site/news/politics/326943/End-conflict-to-honour-Pope,-Vatican-diplomat-tells-South-Sudan\n"
     ]
    },
    {
     "name": "stderr",
     "output_type": "stream",
     "text": []
    },
    {
     "name": "stdout",
     "output_type": "stream",
     "text": [
      "Timeout reached for URL: https://www.standardmedia.co.ke/national/article/2001517706/kenya-denies-sudans-claims-as-tensions-over-rsf-links-escalate\n"
     ]
    },
    {
     "name": "stderr",
     "output_type": "stream",
     "text": []
    },
    {
     "name": "stdout",
     "output_type": "stream",
     "text": [
      "Timeout reached for URL: https://www.standardmedia.co.ke/africa/article/2001517668/sudan-paramilitaries-shell-famine-hit-camp-kill-over-20\n"
     ]
    },
    {
     "name": "stderr",
     "output_type": "stream",
     "text": []
    },
    {
     "name": "stdout",
     "output_type": "stream",
     "text": [
      "Timeout reached for URL: https://www.terradaily.com/reports/Sudan_paramilitaries_shell_famine-hit_camp_kill_over_20_999.html\n"
     ]
    },
    {
     "name": "stderr",
     "output_type": "stream",
     "text": []
    },
    {
     "name": "stdout",
     "output_type": "stream",
     "text": [
      "Timeout reached for URL: https://www.terradaily.com/reports/Sudan_paramilitaries_shell_famine-hit_camp_kill_over_20_999.html\n"
     ]
    },
    {
     "name": "stderr",
     "output_type": "stream",
     "text": []
    },
    {
     "name": "stdout",
     "output_type": "stream",
     "text": [
      "Timeout reached for URL: https://www.terradaily.com/reports/Sudan_paramilitaries_shell_famine-hit_camp_kill_over_20_999.html\n"
     ]
    },
    {
     "name": "stderr",
     "output_type": "stream",
     "text": []
    },
    {
     "name": "stdout",
     "output_type": "stream",
     "text": [
      "Timeout reached for URL: https://www.standardmedia.co.ke/africa/article/2001517668/sudan-paramilitaries-shell-famine-hit-camp-kill-over-20\n"
     ]
    },
    {
     "name": "stderr",
     "output_type": "stream",
     "text": []
    },
    {
     "name": "stdout",
     "output_type": "stream",
     "text": [
      "Timeout reached for URL: https://www.alnilin.com/13374386.htm\n"
     ]
    },
    {
     "name": "stderr",
     "output_type": "stream",
     "text": [
      "  2%|▏         | 1515/77167 [1:25:42<71:19:47,  3.39s/it]\n"
     ]
    },
    {
     "ename": "KeyboardInterrupt",
     "evalue": "",
     "output_type": "error",
     "traceback": [
      "\u001b[31m---------------------------------------------------------------------------\u001b[39m",
      "\u001b[31mKeyboardInterrupt\u001b[39m                         Traceback (most recent call last)",
      "\u001b[36mCell\u001b[39m\u001b[36m \u001b[39m\u001b[32mIn[6]\u001b[39m\u001b[32m, line 52\u001b[39m\n\u001b[32m     49\u001b[39m         failed_downloads += \u001b[32m1\u001b[39m\n\u001b[32m     51\u001b[39m \u001b[38;5;66;03m# Add a small delay to avoid overloading servers\u001b[39;00m\n\u001b[32m---> \u001b[39m\u001b[32m52\u001b[39m \u001b[43mtime\u001b[49m\u001b[43m.\u001b[49m\u001b[43msleep\u001b[49m\u001b[43m(\u001b[49m\u001b[32;43m0.5\u001b[39;49m\u001b[43m)\u001b[49m\n\u001b[32m     53\u001b[39m \u001b[38;5;66;03m# Check if this iteration took too long, but continue to next article rather than breaking\u001b[39;00m\n\u001b[32m     54\u001b[39m \u001b[38;5;28;01mif\u001b[39;00m time.time() - start_time > \u001b[32m15\u001b[39m:\n",
      "\u001b[31mKeyboardInterrupt\u001b[39m: "
     ]
    }
   ],
   "source": [
    "from newsfeed.utils import fulltext as ft\n",
    "import time\n",
    "import tqdm as tqdm\n",
    "import sys\n",
    "import contextlib\n",
    "import signal\n",
    "\n",
    "def timeout_handler(signum, frame):\n",
    "    raise TimeoutError(\"Request timed out\")\n",
    "\n",
    "# Create empty lists to store titles and full_text\n",
    "titles = []\n",
    "full_texts = []\n",
    "successful_downloads = 0\n",
    "failed_downloads = 0\n",
    "\n",
    "# Get total number of entries\n",
    "total_entries = len(df)\n",
    "\n",
    "# Loop through each row in df with improved progress tracking\n",
    "for index, row in tqdm.tqdm(df.iterrows(), total=total_entries, leave=True):\n",
    "    with contextlib.redirect_stdout(None):\n",
    "        url = row['SOURCEURL']\n",
    "        start_time = time.time()  # Define start_time for each iteration\n",
    "        \n",
    "        try:\n",
    "            # Set timeout alarm\n",
    "            signal.signal(signal.SIGALRM, timeout_handler)\n",
    "            signal.alarm(15)  # 15 seconds timeout\n",
    "            \n",
    "            # Download and parse article\n",
    "            article = ft.download(url=url)\n",
    "            article.download()\n",
    "            article.parse()\n",
    "            \n",
    "            # Clear the alarm\n",
    "            signal.alarm(0)\n",
    "            \n",
    "            # Extract title and full text\n",
    "            titles.append(article.title)\n",
    "            full_texts.append(article.text)\n",
    "            successful_downloads += 1\n",
    "            \n",
    "        except Exception as e:\n",
    "            print(f\"Error processing URL: {e}\")\n",
    "            # Add placeholder values for failures\n",
    "            titles.append(None)\n",
    "            full_texts.append(None)\n",
    "            failed_downloads += 1\n",
    "        \n",
    "    # Add a small delay to avoid overloading servers\n",
    "    time.sleep(0.5)\n",
    "    # Check if this iteration took too long, but continue to next article rather than breaking\n",
    "    if time.time() - start_time > 15:\n",
    "        print(f\"Timeout reached for URL: {url}\")\n",
    "\n",
    "\n",
    "# Add the new columns to df\n",
    "df['title'] = titles\n",
    "df['full_text'] = full_texts\n",
    "\n",
    "# Print summary statistics\n",
    "print(f\"Download complete: {successful_downloads} successful, {failed_downloads} failed out of {total_entries} articles\")\n",
    "\n",
    "df"
   ]
  }
 ],
 "metadata": {
  "kernelspec": {
   "display_name": "thesis",
   "language": "python",
   "name": "python3"
  },
  "language_info": {
   "codemirror_mode": {
    "name": "ipython",
    "version": 3
   },
   "file_extension": ".py",
   "mimetype": "text/x-python",
   "name": "python",
   "nbconvert_exporter": "python",
   "pygments_lexer": "ipython3",
   "version": "3.13.0"
  }
 },
 "nbformat": 4,
 "nbformat_minor": 5
}
