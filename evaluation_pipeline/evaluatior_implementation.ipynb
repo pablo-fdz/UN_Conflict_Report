{
 "cells": [
  {
   "cell_type": "code",
   "execution_count": 8,
   "id": "627622b4",
   "metadata": {},
   "outputs": [],
   "source": [
    "from evaluator import LLMJudge, DocumentProcessor\n",
    "import os"
   ]
  },
  {
   "cell_type": "code",
   "execution_count": 9,
   "id": "a60297fd",
   "metadata": {},
   "outputs": [],
   "source": [
    "example_path = os.path.join(os.getcwd(), 'reports/report_sudan_20250607.md')\n",
    "example = DocumentProcessor()\n",
    "\n",
    "example.import_markdown(example_path)\n",
    "example_sections = example.split_into_sections()"
   ]
  },
  {
   "cell_type": "code",
   "execution_count": 10,
   "id": "4b64e4f1",
   "metadata": {},
   "outputs": [
    {
     "data": {
      "text/plain": [
       "{'Summary of Recent Developments': \"Political violence across Sudan dropped to its lowest levels in **April 2025** since the conflict began two years ago. This reduction follows the **Sudanese Armed Forces (SAF) recapturing Khartoum in March**, which nearly halved violent incidents in Khartoum state compared to the previous month.\\n\\nThe security landscape in Sudan has experienced significant **realignment of forces** rather than major territorial changes. While control lines remained largely stable over the past four months (except for **SAF's advances in Omdurman** and **RSF's capture of Mellit**), a **critical shift in alliances** has fundamentally altered the conflict dynamics, particularly in **Darfur**.\\n\\n---\",\n",
       " 'Key Alliance Shifts': '- **Darfur\\'s Joint Force Coalition**:  \\n  Previously neutral former rebel groups (SLM-MM and JEM-Jibril) have officially joined the conflict on SAF\\'s side, abandoning their role as mediators of a year-long ceasefire in El Fasher.\\n\\n- **Fragmentation of Rebel Groups**:  \\n  Nearly all Darfuri former rebel organizations have split internally over whether to support SAF, with most factions now fighting alongside government forces while a minority has formed a separate *\"Neutral Joint Force.\"*\\n\\n- **SRAC\\'s Strategic Alignment**:  \\n  In April 2025, Musa Hilal’s **Sudanese Revolutionary Awakening Council (SRAC)** publicly declared support for SAF, despite earlier indications of warming relations with RSF.  \\n  *Source: Polgeonow*\\n\\n---',\n",
       " 'Security Implications for UN Operations': '- **Disorder Involving Peacekeepers**:  \\n  On 28 February 2025, **RSF abducted 60 UN peacekeepers** and 8 civilians, looting a **UNISFA convoy** on the road between Kadugli and Abyei.  \\n  *Location: Heglig Oil Field, Al Idia, West Kordofan.*\\n\\n- **Intensified Fighting in Darfur**:  \\n  The full-scale **battle for El Fasher** threatens civilians and could trigger large-scale displacement.\\n\\n- **Tribal/Community Dynamics**:  \\n  Hilal’s alignment with SAF is significant due to his influence among groups that form RSF’s base, risking defections and **community-level fragmentation**.\\n\\n- **Collapse of Civilian-Mediated Ceasefires**:  \\n  Breakdown of local peace agreements is shrinking **humanitarian access** and protection space.\\n\\n- **Violence Against Civilians**:  \\n  - In April, SAF reportedly killed over 100 RSF supporters in Khartoum.  \\n  - Displaced populations around El Fasher have been specifically targeted.  \\n  - **Over 1,300 fatalities** in North Darfur in April — the **deadliest month** since war began.\\n\\n---',\n",
       " 'Forward Outlook': 'The shifting alliances suggest a **protracted and fragmented conflict**. UNDP programming should prepare for:\\n\\n- Elevated humanitarian needs\\n- Increased risks to civilian protection\\n- Engagement with **localized and complex power structures**, particularly in Darfur\\n\\n---',\n",
       " 'Key Trends': '- Increased targeting of civilians, especially in **West Darfur** *(ACLED Regional Report, May 2025)*\\n- Disintegration of national command structures → rise of **local warlordism**\\n- **Regional spillovers** involving armed groups from Chad and South Sudan\\n\\n---',\n",
       " 'Hotspots': \"### Port Sudan\\n\\nRSF launched **drone strikes** in May 2025 targeting:\\n\\n- International airport and Osman Digna Air Base  \\n- Fuel depots and civilian medical facilities  \\n- City's power substation → **blackout**\\n\\nThis escalation threatens **aid operations** and SAF’s governance logistics.\\n\\n### Central Darfur\\n\\nRSF claims **full control** after clashes in Zalingei. Reports include:\\n\\n- Use of displaced civilians as **human shields**  \\n- Attacks on civilian camps  \\n- Destruction of infrastructure\\n\\nRSF aims to control all of Darfur, securing **border access and supply lines**.\\n\\n### Sennar\\n\\nIntense fighting over:\\n\\n- **Sennar Sugar Factory** and surrounding villages  \\n- **Jabal Moya** — a strategic junction between multiple states\\n\\nRSF’s push to reclaim Sennar reflects its **strategic value**, bordering four states and two countries.\\n\\n### Abyei\\n\\nAbyei, a **disputed oil-rich region**, faces growing instability due to:\\n\\n- February 2025 RSF attack on UN convoy  \\n- Political limbo → local conflict and neglect  \\n- Refugee influx and **elite manipulation of borders**\\n\\n---\",\n",
       " 'Broader Conflict Context': '- In **March 2025**, SAF **recaptured Khartoum**, pushing RSF to escalate elsewhere.\\n- International actors are reportedly involved — e.g., **UAE allegedly supplying RSF with Chinese-guided bombs**.\\n- Over **2 million displaced** in Q1 2025 alone, due to violence in Darfur, Khartoum, and other regions.\\n\\nThe RSF appears to be pursuing a **“partition” strategy**, consolidating western control while destabilizing SAF’s eastern strongholds — **as the war enters its third year**.'}"
      ]
     },
     "execution_count": 10,
     "metadata": {},
     "output_type": "execute_result"
    }
   ],
   "source": [
    "example_sections"
   ]
  },
  {
   "cell_type": "code",
   "execution_count": null,
   "id": "250486b1",
   "metadata": {},
   "outputs": [],
   "source": [
    "evaluator = LLMJudge()\n",
    "\n",
    "for section in example_sections.keys()[0:2]:\n"
   ]
  }
 ],
 "metadata": {
  "kernelspec": {
   "display_name": "tfm",
   "language": "python",
   "name": "python3"
  },
  "language_info": {
   "codemirror_mode": {
    "name": "ipython",
    "version": 3
   },
   "file_extension": ".py",
   "mimetype": "text/x-python",
   "name": "python",
   "nbconvert_exporter": "python",
   "pygments_lexer": "ipython3",
   "version": "3.12.10"
  }
 },
 "nbformat": 4,
 "nbformat_minor": 5
}
