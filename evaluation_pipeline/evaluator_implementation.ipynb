{
 "cells": [
  {
   "cell_type": "code",
   "execution_count": 1,
   "id": "627622b4",
   "metadata": {},
   "outputs": [],
   "source": [
    "from evaluator import LLMJudge, ReportProcessor, ReportRewriter\n",
    "import os"
   ]
  },
  {
   "cell_type": "markdown",
   "id": "96e0d3e8",
   "metadata": {},
   "source": [
    "#### LLM Setup\n"
   ]
  },
  {
   "cell_type": "code",
   "execution_count": 2,
   "id": "40af6a55",
   "metadata": {},
   "outputs": [],
   "source": [
    "from langchain_google_genai import ChatGoogleGenerativeAI\n",
    "\n",
    "# Set up Gemini LLM\n",
    "api_key = os.getenv(\"GEMINI_API_KEY\")\n",
    "if not api_key:\n",
    "    raise ValueError(\"GEMINI_API_KEY not set in environment.\")\n",
    "\n",
    "llm = ChatGoogleGenerativeAI(\n",
    "    model=\"gemini-2.0-flash\",  # This is the latest reliable model name as of mid-2025\n",
    "    temperature=0,\n",
    "    max_tokens=2048,  # Set an appropriate limit\n",
    "    max_retries=2,\n",
    "    google_api_key=api_key,\n",
    ")"
   ]
  },
  {
   "cell_type": "markdown",
   "id": "838307a7",
   "metadata": {},
   "source": [
    "#### Process sample report\n"
   ]
  },
  {
   "cell_type": "code",
   "execution_count": 3,
   "id": "a60297fd",
   "metadata": {},
   "outputs": [],
   "source": [
    "example_path = os.path.join(os.getcwd(), \"reports/report_sudan_20250607.md\")\n",
    "example = ReportProcessor(example_path)"
   ]
  },
  {
   "cell_type": "code",
   "execution_count": 4,
   "id": "4b64e4f1",
   "metadata": {},
   "outputs": [
    {
     "name": "stdout",
     "output_type": "stream",
     "text": [
      "SECTION NAMES:\n",
      "dict_keys(['Summary of Recent Developments', 'Key Alliance Shifts', 'Security Implications for UN Operations', 'Forward Outlook', 'Key Trends', 'Hotspots', 'Broader Conflict Context'])\n"
     ]
    }
   ],
   "source": [
    "example_sections = example.get_sections()\n",
    "print('SECTION NAMES:')\n",
    "print(example_sections.keys())"
   ]
  },
  {
   "cell_type": "markdown",
   "id": "4304178e",
   "metadata": {},
   "source": [
    "#### Evaluate all sections\n"
   ]
  },
  {
   "cell_type": "code",
   "execution_count": 5,
   "id": "250486b1",
   "metadata": {},
   "outputs": [],
   "source": [
    "# evaluator = LLMJudge(model=llm)\n",
    "# response = evaluator.evaluate_all_sections(example_sections)"
   ]
  },
  {
   "cell_type": "code",
   "execution_count": null,
   "id": "9107d539",
   "metadata": {},
   "outputs": [
    {
     "ename": "NameError",
     "evalue": "name 'response' is not defined",
     "output_type": "error",
     "traceback": [
      "\u001b[31m---------------------------------------------------------------------------\u001b[39m",
      "\u001b[31mNameError\u001b[39m                                 Traceback (most recent call last)",
      "\u001b[36mCell\u001b[39m\u001b[36m \u001b[39m\u001b[32mIn[6]\u001b[39m\u001b[32m, line 5\u001b[39m\n\u001b[32m      3\u001b[39m \u001b[38;5;28;01mwith\u001b[39;00m \u001b[38;5;28mopen\u001b[39m(\u001b[33m\"\u001b[39m\u001b[33mexample_feedback.md\u001b[39m\u001b[33m\"\u001b[39m, \u001b[33m\"\u001b[39m\u001b[33mw\u001b[39m\u001b[33m\"\u001b[39m, encoding=\u001b[33m\"\u001b[39m\u001b[33mutf-8\u001b[39m\u001b[33m\"\u001b[39m) \u001b[38;5;28;01mas\u001b[39;00m f:\n\u001b[32m      4\u001b[39m     f.write(\u001b[33m\"\u001b[39m\u001b[33m# Evaluation Feedback\u001b[39m\u001b[38;5;130;01m\\n\u001b[39;00m\u001b[38;5;130;01m\\n\u001b[39;00m\u001b[33m\"\u001b[39m)\n\u001b[32m----> \u001b[39m\u001b[32m5\u001b[39m     \u001b[38;5;28;01mfor\u001b[39;00m section, feedback \u001b[38;5;129;01min\u001b[39;00m \u001b[43mresponse\u001b[49m.items():\n\u001b[32m      6\u001b[39m         f.write(\u001b[33mf\u001b[39m\u001b[33m\"\u001b[39m\u001b[33m## \u001b[39m\u001b[38;5;132;01m{\u001b[39;00msection\u001b[38;5;132;01m}\u001b[39;00m\u001b[38;5;130;01m\\n\u001b[39;00m\u001b[33m\"\u001b[39m)\n\u001b[32m      7\u001b[39m         \u001b[38;5;28;01mif\u001b[39;00m \u001b[38;5;28misinstance\u001b[39m(feedback, \u001b[38;5;28mdict\u001b[39m):\n",
      "\u001b[31mNameError\u001b[39m: name 'response' is not defined"
     ]
    }
   ],
   "source": [
    "# import json\n",
    "\n",
    "# with open(\"example_feedback.md\", \"w\", encoding=\"utf-8\") as f:\n",
    "#     f.write(\"# Evaluation Feedback\\n\\n\")\n",
    "#     for section, feedback in response.items():\n",
    "#         f.write(f\"## {section}\\n\")\n",
    "#         if isinstance(feedback, dict):\n",
    "#             for key, value in feedback.items():\n",
    "#                 f.write(f\"- **{key}**: {json.dumps(value, ensure_ascii=False)}\\n\")\n",
    "#         else:\n",
    "#             f.write(f\"{feedback}\\n\")\n",
    "#         # f.write(\"\\n\")"
   ]
  },
  {
   "cell_type": "code",
   "execution_count": 12,
   "id": "19f21c97",
   "metadata": {},
   "outputs": [
    {
     "data": {
      "text/plain": [
       "{'Summary of Recent Developments': {'accuracy_1': {'score': 3,\n",
       "   'comment': 'The report states that violence dropped to its lowest levels in April 2025. This needs to be verified against available data. If this is not accurate, it needs to be corrected. If it is accurate, the source of this information should be cited.'},\n",
       "  'accuracy_2': {'score': 4,\n",
       "   'comment': \"The claims about territorial control (SAF recapturing Khartoum in March, RSF's capture of Mellit, SAF's advances in Omdurman) need to be verified against known data. If these claims are not precise, they need to be corrected. If they are accurate, the source of this information should be cited.\"},\n",
       "  'accuracy_3': {'score': 4,\n",
       "   'comment': 'While no data points are explicitly missing or misstated, the report should include casualty figures or other relevant data to support the claim about the drop in violence. This would improve the accuracy and impact of the report.'},\n",
       "  'relevance_1': {'score': 4,\n",
       "   'comment': 'The summary captures the critical shifts in the security landscape, but could be improved by explicitly stating the implications of the force realignments for humanitarian access and operations.'},\n",
       "  'relevance_2': {'score': 4,\n",
       "   'comment': 'The summary includes major developments, but could be improved by mentioning specific humanitarian consequences or ceasefire attempts related to the events described. This would provide a more complete picture for humanitarian workers.'},\n",
       "  'relevance_3': {'score': 5, 'comment': 'Excellent'},\n",
       "  'clarity_1': {'score': 4,\n",
       "   'comment': 'The progression of ideas is generally logical, but the connection between the drop in violence and the SAF recapturing Khartoum could be made more explicit. A sentence explaining this relationship would improve clarity.'},\n",
       "  'clarity_2': {'score': 5, 'comment': 'Excellent'},\n",
       "  'analysis_1': {'score': 3,\n",
       "   'comment': \"The report mentions a critical shift in alliances but doesn't elaborate on the underlying drivers or implications of this shift. Providing more context on why the alliances shifted and how this affects the conflict would improve the analysis.\"},\n",
       "  'analysis_2': {'score': 4,\n",
       "   'comment': 'The section portrays existing dynamics, but could be improved by providing more nuanced information. For example, instead of just stating that violence dropped, the report could mention specific areas where the drop was most significant or any factors that might be contributing to the change.'},\n",
       "  'analysis_3': {'score': 4,\n",
       "   'comment': 'The paragraph\\'s main point is generally clear, but the topic sentence could be more specific. For example, instead of just saying \"Political violence across Sudan dropped...\", the sentence could mention the specific type of violence or the areas where the drop was most significant.'}},\n",
       " 'Key Alliance Shifts': {'relevance_1': {'score': 5, 'comment': 'Excellent'},\n",
       "  'relevance_2': {'score': 4,\n",
       "   'comment': 'While the points are generally specific, adding quantifiable data (e.g., numbers of fighters, specific locations of clashes) would further enhance specificity and merit a score of 5.'},\n",
       "  'clarity_1': {'score': 4,\n",
       "   'comment': 'The progression is generally logical, but a brief introductory sentence outlining the overall theme of shifting alliances in Darfur would improve the flow and earn a score of 5.'},\n",
       "  'clarity_2': {'score': 5, 'comment': 'Excellent'},\n",
       "  'clarity_3': {'score': 4,\n",
       "   'comment': 'The affiliations are mostly clear, but explicitly stating what SAF and RSF stand for (Sudanese Armed Forces and Rapid Support Forces) at least once in the report would ensure complete clarity for all readers and warrant a score of 5.'},\n",
       "  'impartiality_1': {'score': 5, 'comment': 'Excellent'},\n",
       "  'impartiality_2': {'score': 5, 'comment': 'Excellent'}},\n",
       " 'Security Implications for UN Operations': {'relevance_1': {'score': 5,\n",
       "   'comment': 'Excellent'},\n",
       "  'clarity_1': {'score': 4,\n",
       "   'comment': \"The progression is generally logical, but could be improved by providing more context or explanation for each point. For example, explaining the significance of the Heglig Oil Field location or the implications of Hilal's alignment with SAF in more detail would enhance clarity.\"},\n",
       "  'clarity_2': {'score': 4,\n",
       "   'comment': \"Sentences are mostly concise and coherent, but some could be more specific. For example, 'Displaced populations around El Fasher have been specifically targeted' could benefit from specifying who is targeting them and how.\"},\n",
       "  'impartiality_1': {'score': 4,\n",
       "   'comment': \"The language is mostly neutral, but the phrase 'RSF abducted 60 UN peacekeepers' could be perceived as slightly loaded. A more neutral phrasing, such as 'RSF detained 60 UN peacekeepers,' might be preferable, depending on the specific context and intent. Also, 'SAF reportedly killed over 100 RSF supporters' needs to be carefully worded to avoid implying endorsement of the report.\"},\n",
       "  'impartiality_2': {'score': 5, 'comment': 'Excellent'}},\n",
       " 'Forward Outlook': {'error': \"The section 'Forward Outlook' is not within the list of recognized sections. No evaluation criteria were found, so this section was not evaluated.\\nValid sections are: Summary of Recent Developments, Key Alliance Shifts, Security Implications for UN Operations.If there is a closely related name for '{section_name}' within the list of valid sections, change it to that.Otherwise, reorganise this information into other sections within the list (whether they exist in the original document or you have to create them).\"},\n",
       " 'Key Trends': {'error': \"The section 'Key Trends' is not within the list of recognized sections. No evaluation criteria were found, so this section was not evaluated.\\nValid sections are: Summary of Recent Developments, Key Alliance Shifts, Security Implications for UN Operations.If there is a closely related name for '{section_name}' within the list of valid sections, change it to that.Otherwise, reorganise this information into other sections within the list (whether they exist in the original document or you have to create them).\"},\n",
       " 'Hotspots': {'error': \"The section 'Hotspots' is not within the list of recognized sections. No evaluation criteria were found, so this section was not evaluated.\\nValid sections are: Summary of Recent Developments, Key Alliance Shifts, Security Implications for UN Operations.If there is a closely related name for '{section_name}' within the list of valid sections, change it to that.Otherwise, reorganise this information into other sections within the list (whether they exist in the original document or you have to create them).\"},\n",
       " 'Broader Conflict Context': {'error': \"The section 'Broader Conflict Context' is not within the list of recognized sections. No evaluation criteria were found, so this section was not evaluated.\\nValid sections are: Summary of Recent Developments, Key Alliance Shifts, Security Implications for UN Operations.If there is a closely related name for '{section_name}' within the list of valid sections, change it to that.Otherwise, reorganise this information into other sections within the list (whether they exist in the original document or you have to create them).\"}}"
      ]
     },
     "execution_count": 12,
     "metadata": {},
     "output_type": "execute_result"
    }
   ],
   "source": [
    "from evaluator.prompts.example_feedback import example_feedback\n",
    "\n",
    "feedback = example_feedback\n",
    "feedback"
   ]
  },
  {
   "cell_type": "code",
   "execution_count": 7,
   "id": "7ec489aa",
   "metadata": {},
   "outputs": [],
   "source": [
    "rewriter = ReportRewriter(llm, example_path)"
   ]
  },
  {
   "cell_type": "code",
   "execution_count": 8,
   "id": "994a2792",
   "metadata": {},
   "outputs": [
    {
     "data": {
      "text/plain": [
       "'\\n# Text Chunk Context:\\n\\n=== text ===\\nEditor\\'s note: Local media is reporting that the Sudanese government has drafted contingency plans to suspend the import and export of oil from South Sudan in the event of further RSF strikes to destabilize the oil transit system. Recent drone strikes have impacted pump stations, depots and port facilities on the Red Sea. Radio Tamazuj is reporting that a letter, dated Friday, showed the Sudanese government warning South Sudan that they would be unable to facilitate the export of South Sudanese oil from Port Sudan if the transportation system was further compromised. They describe the risk as high, and the contingency plans as \"fast track.\" We will keep an eye out for any reports of further disruption along key exchange routes. -Sarah\\n---\\nSudanese civil defense says all fires at major oil depots in government-controlled Port Sudan are now \"completely\" under control following numerous RSF attacks on petroleum reserves\\n---\\nSudanese media reports new drone strikes on unspecified areas in Port Sudan\\n---\\nSudanese media report new drone attack on Port Sudan with no specific location given; air defense reported at work\\n---\\nSudanese military, citing official, reports drone attack on Port Sudan targeted civilian facilities including air base and a cargo warehouse; unverified reports claim power outages in parts of city [corrects location struck]\\n\\n\\n\\n# KG Context From Relationships:\\n\\n=== kg_rels ===\\nEmirati - COOPERATED_WITH() -> RSF\\n---\\nUAE ships - COOPERATED_WITH() -> RSF\\n---\\nUAE ships - IS_FROM() -> Red Sea\\n---\\nUAE ships - IS_FROM() -> UAE\\n---\\nRSF - IS_FROM() -> Nyala\\n---\\nAtbara airport - IS_WITHIN() -> Nyala\\n---\\nNyala - IS_WITHIN() -> Sudan\\n---\\nNyala - IS_WITHIN() -> Darfur\\n---\\nairstrikes - HAPPENED_IN() -> Nyala\\n---\\ndestruction of plane - HAPPENED_IN() -> Nyala\\n---\\narrested multiple people - HAPPENED_IN() -> Nyala\\n---\\nRSF attack on the Port Sudan airport and nearby military base - HAPPENED_IN() -> Nyala\\n---\\nDeployment of foreign air defense systems - HAPPENED_IN() -> Nyala\\n---\\nmilitary shelling - HAPPENED_IN() -> Nyala\\n---\\nRSF - IS_FROM() -> Sudan\\n---\\nmilitary source - IS_FROM() -> Sudan\\n---\\nlocal official - IS_FROM() -> Sudan\\n---\\nNaath Defense Forces - IS_FROM() -> Sudan\\n---\\nSudanese civil defense - IS_FROM() -> Sudan\\n---\\nSudanese armed forces - IS_FROM() -> Sudan\\n---\\nanti-aircraft networks - IS_FROM() -> Sudan\\n---\\nofficials - IS_FROM() -> Sudan\\n---\\nSudanese energy ministry - IS_FROM() -> Sudan\\n---\\nSudan Akhbar - IS_FROM() -> Sudan\\n---\\npresident - IS_FROM() -> Sudan\\n---\\nSudanese refugee - IS_FROM() -> Sudan\\n---\\nSudan Doctors Union - IS_FROM() -> Sudan\\n---\\nlocal media - IS_FROM() -> Sudan\\n---\\nRSF forces - IS_FROM() -> Sudan\\n---\\nhealth ministry - IS_FROM() -> Sudan\\n---\\nSudan People\\'s Liberation Movement–North - IS_FROM() -> Sudan\\n---\\nmilitia - IS_FROM() -> Sudan\\n---\\narmy - IS_FROM() -> Sudan\\n---\\nKamil Idriss - IS_FROM() -> Sudan\\n---\\nRapid Support Forces - IS_FROM() -> Sudan\\n---\\nSudanese armed forces - CONFRONTED_WITH() -> Sudan\\n---\\nRSF - CONFRONTED_WITH() -> Sudan\\n---\\nRapid Support Forces - CONFRONTED_WITH() -> Sudan\\n---\\nUS - CONFRONTED_WITH(US to impose sanctions on Sudan) -> Sudan\\n---\\nSudan - CONFRONTED_WITH(Sudan accuses UAE of violating international convention) -> UAE\\n---\\nNahud - IS_WITHIN() -> Sudan\\n---\\nWarrap - IS_WITHIN() -> Sudan\\n---\\nEn Nahud - IS_WITHIN() -> Sudan\\n---\\nnearby villages - IS_WITHIN() -> Sudan\\n---\\nNyala Airport - IS_WITHIN() -> Sudan\\n---\\nEl Obeid - IS_WITHIN() -> Sudan\\n---\\nOmdurman - IS_WITHIN() -> Sudan\\n---\\nOld Fangak - IS_WITHIN() -> Sudan\\n---\\ncountry\\'s east - IS_WITHIN() -> Sudan\\n---\\nKassala - IS_WITHIN() -> Sudan\\n---\\nTerekeka - IS_WITHIN() -> Sudan\\n---\\nhighway connecting Juba and Terekeka - IS_WITHIN() -> Sudan\\n---\\nWarrap - IS_WITHIN() -> Sudan\\n---\\nCentral Equatoria - IS_WITHIN() -> Sudan\\n---\\nUpper Nile - IS_WITHIN() -> Sudan\\n---\\nKosti - IS_WITHIN() -> Sudan\\n---\\nOmdurman - IS_WITHIN() -> Sudan\\n---\\nRiver Nile state - IS_WITHIN() -> Sudan\\n---\\nOmdurman - IS_WITHIN() -> Sudan\\n---\\nPort Sudan - IS_WITHIN() -> Sudan\\n---\\nKosti - IS_WITHIN() -> Sudan\\n---\\nDarfur - IS_WITHIN() -> Sudan\\n---\\nUnity State - IS_WITHIN() -> Sudan\\n---\\nWest Kordofan - IS_WITHIN() -> Sudan\\n---\\nUm Gargour eastern border area - IS_WITHIN() -> Sudan\\n---\\nOmdurman - IS_WITHIN() -> Sudan\\n---\\nMalakal - IS_WITHIN() -> Sudan\\n---\\nWad Madani - IS_WITHIN() -> Sudan\\n---\\nNorthern State - IS_WITHIN() -> Sudan\\n---\\nNorth Darfur - IS_WITHIN() -> Sudan\\n---\\nOmdurman - IS_WITHIN() -> Sudan\\n---\\nOmdurman - IS_WITHIN() -> Sudan\\n---\\nKhartoum State - IS_WITHIN() -> Sudan\\n---\\nKhartoum - IS_WITHIN() -> Sudan\\n---\\nAl-Dabaibat area - IS_WITHIN() -> Sudan\\n---\\nSouth Kordofan province - IS_WITHIN() -> Sudan\\n---\\nJuba - IS_WITHIN() -> Sudan\\n---\\nTorit - IS_WITHIN() -> Sudan\\n---\\nKhor Delib - IS_WITHIN() -> Sudan\\n---\\nAtbara airport - IS_WITHIN() -> Sudan\\n---\\nKhartoum - IS_WITHIN() -> Sudan\\n---\\nEl Obeid Hospital - IS_WITHIN() -> Sudan\\n---\\nOmdurman - IS_WITHIN() -> Sudan\\n---\\nWadi Halfa - IS_WITHIN() -> Sudan\\n---\\nAl Koma - IS_WITHIN() -> Sudan\\n---\\nclashes - HAPPENED_IN() -> Sudan\\n---\\nHospital Bombing - HAPPENED_IN() -> Sudan\\n---\\ncivil war - HAPPENED_IN() -> Sudan\\n---\\ndrones attack - HAPPENED_IN() -> Sudan\\n---\\nlarge fire - HAPPENED_IN() -> Sudan\\n---\\nevacuations - HAPPENED_IN() -> Sudan\\n---\\nassessment of refugee conditions - HAPPENED_IN() -> Sudan\\n---\\nstrike on a prison - HAPPENED_IN() -> Sudan\\n---\\ndeportation flight - HAPPENED_IN() -> Sudan\\n---\\nImpact of Heavy Rain - HAPPENED_IN() -> Sudan\\n---\\n727 cholera cases - HAPPENED_IN() -> Sudan\\n---\\n12 deaths - HAPPENED_IN() -> Sudan\\n---\\nUndertaking Responsibilities - HAPPENED_IN() -> Sudan\\n---\\nGovernment Dissolution - HAPPENED_IN() -> Sudan\\n---\\nattack on aid convoy - HAPPENED_IN() -> Sudan\\n---\\nSudan - PARTICIPATED_IN() -> Export of South Sudanese oil\\n---\\nSudan - PARTICIPATED_IN() -> Contingency plan for oil suspension\\n---\\nSudan - PARTICIPATED_IN() -> Imposition of sanctions\\n---\\nmilitary source - CONFRONTED_WITH() -> RSF\\n---\\nRSF - CONFRONTED_WITH() -> military source\\n---\\nSudan People\\'s Liberation Movement–North - CONFRONTED_WITH() -> military source\\n---\\nmilitary source - PARTICIPATED_IN() -> bombing of RSF weapons and fuel stockpiles\\n---\\nmilitary source - PARTICIPATED_IN() -> Strike on Osman Digna Air Base\\n---\\nmilitary source - PARTICIPATED_IN() -> RSF drone struck ammunition depot\\n---\\nmilitary source - PARTICIPATED_IN() -> drones attack\\n---\\nmilitary source - PARTICIPATED_IN() -> Recapture of Al-Khawi\\n---\\nmilitary source - PARTICIPATED_IN() -> burning of eight villages\\n---\\nmilitary source - PARTICIPATED_IN() -> military shelling\\n---\\nSudanese general - CONFRONTED_WITH() -> RSF\\n---\\nSudanese general - IS_FROM() -> Dubai\\n---\\nSudanese general - PARTICIPATED_IN() -> drone interception\\n---\\nSudanese general - PARTICIPATED_IN() -> expelling staff\\n---\\nSudanese armed forces - CONFRONTED_WITH() -> RSF\\n---\\nSudanese armed forces - IS_FROM() -> Darfur\\n---\\nRSF - CONFRONTED_WITH() -> Sudanese armed forces\\n---\\nRapid Support Forces - CONFRONTED_WITH() -> Sudanese armed forces\\n---\\nSudanese armed forces - CONFRONTED_WITH() -> RSF fighters\\n---\\nSudanese armed forces - CONFRONTED_WITH() -> drones\\n---\\nSudanese armed forces - CONFRONTED_WITH() -> Khartoum State\\n---\\nSudanese armed forces - CONFRONTED_WITH() -> RSF forces\\n---\\nSudanese armed forces - CONFRONTED_WITH() -> Rapid Support Forces\\n---\\nSudanese armed forces - PARTICIPATED_IN() -> disarmament and detention\\n---\\nSudanese armed forces - PARTICIPATED_IN() -> lost control of town\\n---\\nSudanese armed forces - PARTICIPATED_IN() -> airstrikes\\n---\\nSudanese armed forces - PARTICIPATED_IN() -> RSF attack\\n---\\nSudanese armed forces - PARTICIPATED_IN() -> Siege by Rapid Support Forces\\n---\\nSudanese armed forces - PARTICIPATED_IN() -> destruction of plane\\n---\\nSudanese armed forces - PARTICIPATED_IN() -> civil war\\n---\\nSudanese armed forces - PARTICIPATED_IN() -> RSF drone struck ammunition depot\\n---\\nSudanese armed forces - PARTICIPATED_IN() -> drones attack\\n---\\nSudanese armed forces - PARTICIPATED_IN() -> air traffic resumption\\n---\\nSudanese armed forces - PARTICIPATED_IN() -> drone interception\\n---\\nSudanese armed forces - PARTICIPATED_IN() -> Army gains against RSF\\n---\\nSudanese armed forces - PARTICIPATED_IN() -> Recapture of Al-Khawi\\n---\\nSudanese armed forces - PARTICIPATED_IN() -> evacuations\\n---\\nSudanese armed forces - PARTICIPATED_IN() -> assessment of refugee conditions\\n---\\nSudanese armed forces - PARTICIPATED_IN() -> Export of South Sudanese oil\\n---\\nSudanese armed forces - PARTICIPATED_IN() -> Contingency plan for oil suspension\\n---\\nSudanese armed forces - PARTICIPATED_IN() -> fighting for control of North Darfur\\n---\\nSudanese armed forces - PARTICIPATED_IN() -> Formation of militia\\n---\\nSudanese armed forces - PARTICIPATED_IN() -> Targeting of RSF positions\\n---\\nSudanese armed forces - PARTICIPATED_IN() -> large-scale operation\\n---\\nSudanese armed forces - PARTICIPATED_IN() -> Khartoum Control Regained\\n---\\nSudanese armed forces - PARTICIPATED_IN() -> Liberation of hundreds of captives\\n---\\nSudanese armed forces - PARTICIPATED_IN() -> Discovery of 465 bodies\\n---\\nSudanese armed forces - PARTICIPATED_IN() -> Regaining Control\\n---\\nSudanese armed forces - PARTICIPATED_IN() -> Military operation to clear areas\\n---\\nSudanese armed forces - PARTICIPATED_IN() -> fighting\\n---\\nSudan Akhbar - CONFRONTED_WITH() -> RSF\\n---\\narmy - CONFRONTED_WITH() -> RSF\\n---\\nRSF militants - CONFRONTED_WITH() -> army\\n---\\nRSF - CONFRONTED_WITH() -> army\\n---\\nRSF forces - CONFRONTED_WITH() -> army\\n---\\narmy - CONFRONTED_WITH(conflict with RSF forces) -> RSF forces\\n---\\narmy - CONFRONTED_WITH() -> 70 people\\n---\\narmy - PARTICIPATED_IN() -> lost control of town\\n---\\narmy - PARTICIPATED_IN() -> Prison Capture by RSF\\n---\\narmy - PARTICIPATED_IN() -> Retreat of army forces\\n---\\narmy - PARTICIPATED_IN() -> drones attack\\n---\\narmy - PARTICIPATED_IN() -> Recapture of Khartoum State\\n---\\narmy - PARTICIPATED_IN() -> operation\\n---\\narmy - PARTICIPATED_IN() -> Conflict\\n---\\narmy - PARTICIPATED_IN() -> Use of chemical weapons\\n---\\narmy - PARTICIPATED_IN() -> fighting\\n---\\nRSF - CONFRONTED_WITH() -> ammunition depot\\n---\\nammunition depot - IS_WITHIN() -> Port Sudan\\n---\\nRSF - CONFRONTED_WITH() -> oil depots\\n---\\noil depots - IS_WITHIN() -> Kosti\\n---\\noil depots - IS_WITHIN() -> Port Sudan\\n---\\nscattered explosions - HAPPENED_IN() -> oil depots\\n---\\nlarge fire - HAPPENED_IN() -> oil depots\\n---\\nattacks on fuel depots - HAPPENED_IN() -> oil depots\\n---\\nRSF attacks on petroleum reserves - HAPPENED_IN() -> oil depots\\n---\\nRSF - CONFRONTED_WITH() -> Port Sudan\\n---\\nAirport official - IS_FROM() -> Port Sudan\\n---\\nSudanese Air Force College - IS_FROM() -> Port Sudan\\n---\\nRSF paramilitary - CONFRONTED_WITH() -> Port Sudan\\n---\\nRSF forces - CONFRONTED_WITH() -> Port Sudan\\n---\\nPort Sudan - CONFRONTED_WITH() -> RSF paramilitary\\n---\\ninfrastructure - IS_WITHIN() -> Port Sudan\\n---\\nOsman Digna port - IS_WITHIN() -> Port Sudan\\n---\\nfuel depot - IS_WITHIN() -> Port Sudan\\n---\\nwarehouses - IS_WITHIN() -> Port Sudan\\n---\\nMarina Hotel - IS_WITHIN() -> Port Sudan\\n---\\nPort Sudan International Airport - IS_WITHIN() -> Port Sudan\\n---\\ncity of Obeid - IS_WITHIN() -> Port Sudan\\n---\\nOsman Digna Air Base - IS_WITHIN() -> Port Sudan\\n---\\nports - IS_WITHIN() -> Port Sudan\\n---\\nharbour - IS_WITHIN() -> Port Sudan\\n---\\nmilitary base - IS_WITHIN() -> Port Sudan\\n---\\npower stations - IS_WITHIN() -> Port Sudan\\n---\\nAtbara airport - IS_WITHIN() -> Port Sudan\\n---\\nPort Sudan - IS_WITHIN() -> Port Sudan\\n---\\nPort Sudan - IS_WITHIN() -> Port Sudan\\n---\\nPort Sudan - IS_WITHIN() -> Port Sudan\\n---\\nRSF drone struck ammunition depot - HAPPENED_IN() -> Port Sudan\\n---\\nscattered explosions - HAPPENED_IN() -> Port Sudan\\n---\\ndrones attack - HAPPENED_IN() -> Port Sudan\\n---\\nlarge fire - HAPPENED_IN() -> Port Sudan\\n---\\nRSF attack on the Port Sudan airport and nearby military base - HAPPENED_IN() -> Port Sudan\\n---\\nair traffic resumption - HAPPENED_IN() -> Port Sudan\\n---\\nfire and smoke rising - HAPPENED_IN() -> Port Sudan\\n---\\nflights suspended - HAPPENED_IN() -> Port Sudan\\n---\\ndamage to energy infrastructure - HAPPENED_IN() -> Port Sudan\\n---\\nattacks on fuel depots - HAPPENED_IN() -> Port Sudan\\n---\\ndrone interception - HAPPENED_IN() -> Port Sudan\\n---\\nanti-aircraft fire - HAPPENED_IN() -> Port Sudan\\n---\\ndrone spotted - HAPPENED_IN() -> Port Sudan\\n---\\nExport of South Sudanese oil - HAPPENED_IN() -> Port Sudan\\n---\\nExplosions and drone sighting - HAPPENED_IN() -> Port Sudan\\n---\\nPort Sudan drone attacks - HAPPENED_IN() -> Port Sudan\\n---\\nfire burning at an oil refinery - HAPPENED_IN() -> Port Sudan\\n---\\nArrival of 2.9 million doses of oral vaccine against cholera - HAPPENED_IN() -> Port Sudan\\n---\\nPower outage - HAPPENED_IN() -> Port Sudan\\n---\\nRSF - CONFRONTED_WITH() -> government\\n---\\ngovernment - PARTICIPATED_IN() -> targeting government controlled airport\\n---\\ngovernment - PARTICIPATED_IN() -> RSF drone strike\\n---\\nRSF - CONFRONTED_WITH() -> ports\\n---\\nports - IS_WITHIN() -> Red Sea\\n---\\ndrones attack - HAPPENED_IN() -> ports\\n---\\nfire and smoke rising - HAPPENED_IN() -> ports\\n---\\nRSF - CONFRONTED_WITH() -> depots\\n---\\ndepots - IS_WITHIN() -> Red Sea\\n---\\ndrones attack - HAPPENED_IN() -> depots\\n---\\nRSF - CONFRONTED_WITH() -> pump stations\\n---\\npump stations - IS_WITHIN() -> Red Sea\\n---\\ndrones attack - HAPPENED_IN() -> pump stations\\n---\\nRSF - CONFRONTED_WITH() -> military base\\n---\\ndrones - CONFRONTED_WITH() -> military base\\n---\\nmilitary base - IS_WITHIN() -> Kosti\\n---\\ndrones attack - HAPPENED_IN() -> military base\\n---\\nRSF drone strike - HAPPENED_IN() -> military base\\n---\\nRSF attack on the Port Sudan airport and nearby military base - HAPPENED_IN() -> military base\\n---\\ndrone interception - HAPPENED_IN() -> military base\\n---\\nRSF - CONFRONTED_WITH() -> power stations\\n---\\nseparate strike - HAPPENED_IN() -> power stations\\n---\\nlong-range RSF drone strikes - HAPPENED_IN() -> power stations\\n---\\nRSF - CONFRONTED_WITH() -> Abu Shouk Camp\\n---\\nAbu Shouk Camp - IS_WITHIN() -> El Obeid\\n---\\nAbu Shouk Camp - IS_WITHIN() -> North Darfur\\n---\\ndrones attack - HAPPENED_IN() -> Abu Shouk Camp\\n---\\nRSF - CONFRONTED_WITH() -> Merowe\\n---\\nMerowe - IS_WITHIN() -> Northern State\\n---\\ndrones attack - HAPPENED_IN() -> Merowe\\n---\\nRSF - CONFRONTED_WITH() -> Atbara airport\\n---\\ncivilian terminal - IS_WITHIN() -> Atbara airport\\n---\\nfuel depot - IS_WITHIN() -> Atbara airport\\n---\\nAtbara airport - IS_WITHIN() -> country\\'s east\\n---\\nAtbara airport - IS_WITHIN() -> Kassala\\n---\\ndrones attack - HAPPENED_IN() -> Atbara airport\\n---\\ntargeting government controlled airport - HAPPENED_IN() -> Atbara airport\\n---\\ndrones shot down - HAPPENED_IN() -> Atbara airport\\n---\\nRSF attack on the Port Sudan airport and nearby military base - HAPPENED_IN() -> Atbara airport\\n---\\nair traffic resumption - HAPPENED_IN() -> Atbara airport\\n---\\ncancellation of flights - HAPPENED_IN() -> Atbara airport\\n---\\nfire and smoke rising - HAPPENED_IN() -> Atbara airport\\n---\\nRSF - CONFRONTED_WITH(RSF attacked a hospital.) -> hospital\\n---\\nhospital - IS_WITHIN() -> El Obeid\\n---\\nhospital - IS_WITHIN() -> Old Fangak\\n---\\nHospital Bombing - HAPPENED_IN() -> hospital\\n---\\ndrones attack - HAPPENED_IN() -> hospital\\n---\\nclosure of main hospital - HAPPENED_IN() -> hospital\\n---\\nRSF strike on hospital - HAPPENED_IN() -> hospital\\n---\\nRSF - CONFRONTED_WITH(RSF attacked civilians, resulting in killed and injured.) -> civilians\\n---\\ncivilians - PARTICIPATED_IN() -> killing civilians\\n---\\ncivilians - PARTICIPATED_IN() -> drones attack\\n---\\nRSF - CONFRONTED_WITH() -> staff\\n---\\nmilitary peacekeeper - CONFRONTED_WITH() -> staff\\n---\\nstaff - PARTICIPATED_IN() -> RSF strike on hospital\\n---\\nstaff - PARTICIPATED_IN() -> shooting\\n---\\nRSF - CONFRONTED_WITH() -> visitors\\n---\\nvisitors - PARTICIPATED_IN() -> RSF strike on hospital\\n---\\nRSF - CONFRONTED_WITH() -> patients\\n---\\npatients - PARTICIPATED_IN() -> RSF strike on hospital\\n---\\nRSF - PARTICIPATED_IN() -> Inmate Release by RSF\\n---\\nInmate Release by RSF - HAPPENED_IN() -> En Nahud\\n---\\nInmate Release by RSF - HAPPENED_IN() -> prison\\n---\\nRSF - PARTICIPATED_IN() -> looting\\n---\\nlooting - HAPPENED_IN() -> En Nahud\\n---\\nRSF - PARTICIPATED_IN() -> attacking public buildings\\n---\\nattacking public buildings - HAPPENED_IN() -> En Nahud\\n---\\nattacking public buildings - HAPPENED_IN() -> public buildings\\n---\\nRSF - PARTICIPATED_IN() -> killing civilians\\n---\\nkilling civilians - HAPPENED_IN() -> En Nahud\\n---\\nRSF - PARTICIPATED_IN() -> Prison Capture by RSF\\n---\\nPrison Capture by RSF - HAPPENED_IN() -> En Nahud\\n---\\nPrison Capture by RSF - HAPPENED_IN() -> prison\\n---\\nRSF - PARTICIPATED_IN() -> civil war\\n---\\nRSF paramilitary - PARTICIPATED_IN() -> civil war\\n---\\nRSF - PARTICIPATED_IN() -> RSF drone struck ammunition depot\\n---\\nRSF - PARTICIPATED_IN() -> drones attack\\n---\\ndrones attack - CONFRONTED_WITH() -> civilian facilities\\n---\\ndrones attack - HAPPENED_IN() -> En Nahud\\n---\\ndrones attack - HAPPENED_IN() -> El Obeid\\n---\\ndrones attack - HAPPENED_IN() -> infrastructure\\n---\\ndrones attack - HAPPENED_IN() -> Osman Digna port\\n---\\ndrones attack - HAPPENED_IN() -> civilian terminal\\n---\\ndrones attack - HAPPENED_IN() -> fuel depot\\n---\\ndrones attack - HAPPENED_IN() -> Marina Hotel\\n---\\ndrones attack - HAPPENED_IN() -> Port Sudan International Airport\\n---\\ndrones attack - HAPPENED_IN() -> highway connecting Juba and Terekeka\\n---\\ndrones attack - HAPPENED_IN() -> Omdurman\\n---\\ndrones attack - HAPPENED_IN() -> Atbara\\n---\\ndrones attack - HAPPENED_IN() -> Osman Digna Air Base\\n---\\ndrones attack - HAPPENED_IN() -> Nahud\\n---\\ndrones attack - HAPPENED_IN() -> military garrison\\n---\\ndrones attack - HAPPENED_IN() -> prison\\n---\\ndrones attack - HAPPENED_IN() -> Al-Dabaibat area\\n---\\ndrones attack - HAPPENED_IN() -> Kosti\\n---\\ndrones attack - HAPPENED_IN() -> Khor Delib\\n---\\ndrones attack - HAPPENED_IN() -> Shagra area\\n---\\ndrones attack - HAPPENED_IN() -> Al Koma\\n---\\nRSF paramilitary - PARTICIPATED_IN() -> drones attack\\n---\\ndrones - PARTICIPATED_IN() -> drones attack\\n---\\nAFP - PARTICIPATED_IN() -> drones attack\\n---\\nair defense - PARTICIPATED_IN() -> drones attack\\n---\\nSudanese Air Force College - PARTICIPATED_IN() -> drones attack\\n---\\nperpetrators - PARTICIPATED_IN() -> drones attack\\n---\\nlocal media - PARTICIPATED_IN() -> drones attack\\n---\\nAl Jazeera - PARTICIPATED_IN() -> drones attack\\n---\\nRSF forces - PARTICIPATED_IN() -> drones attack\\n---\\nfour others - PARTICIPATED_IN() -> drones attack\\n---\\nvictims - PARTICIPATED_IN() -> drones attack\\n---\\n70 people - PARTICIPATED_IN() -> drones attack\\n---\\nSomali national - PARTICIPATED_IN() -> drones attack\\n---\\nrSF - PARTICIPATED_IN() -> drones attack\\n---\\nRapid Support Forces - PARTICIPATED_IN() -> drones attack\\n---\\nRSF - PARTICIPATED_IN() -> targeting government controlled airport\\n---\\ntargeting government controlled airport - HAPPENED_IN() -> Kassala\\n---\\nRSF - PARTICIPATED_IN() -> drones shot down\\n---\\ndrones shot down - HAPPENED_IN() -> Kassala\\n---\\nRSF - PARTICIPATED_IN() -> RSF drone strike\\n---\\nRSF drone strike - HAPPENED_IN() -> Kosti\\n---\\nRSF drone strike - HAPPENED_IN() -> River Nile state\\n---\\nRSF - PARTICIPATED_IN() -> RSF attack on the Port Sudan airport and nearby military base\\n---\\nRSF - PARTICIPATED_IN() -> Army gains against RSF\\n---\\nArmy gains against RSF - HAPPENED_IN() -> Shagra area\\n---\\nRSF - PARTICIPATED_IN() -> strike\\n---\\nstrike - HAPPENED_IN() -> El Obeid\\n---\\nstrike - HAPPENED_IN() -> prison\\n---\\nstrike - HAPPENED_IN() -> mosque\\n---\\nfour others - PARTICIPATED_IN() -> strike\\n---\\nRSF - PARTICIPATED_IN() -> Recapture of Al-Khawi\\n---\\nRecapture of Al-Khawi - HAPPENED_IN() -> Al-Dabaibat area\\n---\\nAl Jazeera - PARTICIPATED_IN() -> Recapture of Al-Khawi\\n---\\nRSF - PARTICIPATED_IN() -> Potential RSF strikes\\n---\\nRSF - PARTICIPATED_IN() -> fighting for control of North Darfur\\n---\\nfighting for control of North Darfur - HAPPENED_IN() -> North Darfur\\n---\\nfighting for control of North Darfur - HAPPENED_IN() -> Khartoum State\\n---\\nRSF - PARTICIPATED_IN() -> Bombing of three power stations\\n---\\nBombing of three power stations - HAPPENED_IN() -> Omdurman\\n---\\nRSF - PARTICIPATED_IN() -> long-range RSF drone strikes\\n---\\nRSF - PARTICIPATED_IN() -> Targeting of RSF positions\\n---\\nTargeting of RSF positions - HAPPENED_IN() -> Omdurman\\n---\\nTargeting of RSF positions - HAPPENED_IN() -> Shagra area\\n---\\nRSF - PARTICIPATED_IN() -> Port Sudan drone attacks\\n---\\nSudanese official - PARTICIPATED_IN() -> Port Sudan drone attacks\\n---\\nRSF - PARTICIPATED_IN() -> RSF shelling\\n---\\nRSF shelling - HAPPENED_IN() -> El Obeid Hospital\\n---\\nRSF - PARTICIPATED_IN() -> RSF strike on hospital\\n---\\nRSF - PARTICIPATED_IN() -> RSF attack on Shagra area of El Fasher\\n---\\nRSF attack on Shagra area of El Fasher - HAPPENED_IN() -> El Obeid\\n---\\nRSF attack on Shagra area of El Fasher - HAPPENED_IN() -> Shagra area\\n---\\n70 people - PARTICIPATED_IN() -> RSF attack on Shagra area of El Fasher\\n---\\nan adult - PARTICIPATED_IN() -> RSF attack on Shagra area of El Fasher\\n---\\nRSF - PARTICIPATED_IN() -> military shelling\\n---\\nlocal media - PARTICIPATED_IN() -> military shelling\\n---\\nRSF - PARTICIPATED_IN() -> RSF attacks on petroleum reserves\\n---\\nfire and smoke rising - HAPPENED_IN() -> petroleum products warehouse\\n---\\nfire and smoke rising - HAPPENED_IN() -> fuel depot\\n---\\nfire and smoke rising - HAPPENED_IN() -> warehouses\\n---\\nfire and smoke rising - HAPPENED_IN() -> harbour\\n---\\nfire and smoke rising - HAPPENED_IN() -> Omdurman\\n---\\nSudanese civil defense - PARTICIPATED_IN() -> fire and smoke rising\\n---\\nAl Arabiya - PARTICIPATED_IN() -> fire and smoke rising\\n---\\nAl Jazeera - PARTICIPATED_IN() -> fire and smoke rising\\n---\\nAirport official - PARTICIPATED_IN() -> flights suspended\\n---\\nRSF paramilitary - CONFRONTED_WITH() -> Nahud\\n---\\nRSF paramilitary - PARTICIPATED_IN() -> clashes\\n---\\nRSF paramilitary - PARTICIPATED_IN() -> arrested multiple people\\n---\\nRSF forces - CONFRONTED_WITH() -> prison\\n---\\nRSF forces - CONFRONTED_WITH() -> Sudanese electric utility company\\n---\\nRSF forces - PARTICIPATED_IN() -> Capture of En Nahud\\n---\\nRSF forces - PARTICIPATED_IN() -> strike on a prison\\n---\\nRSF forces - PARTICIPATED_IN() -> Recapture of Khartoum State\\n---\\nRSF forces - PARTICIPATED_IN() -> Khartoum Control Regained\\n---\\nRSF forces - PARTICIPATED_IN() -> Conflict\\n---\\nRSF forces - PARTICIPATED_IN() -> Deployment of foreign air defense systems\\n---\\nRSF forces - PARTICIPATED_IN() -> fighting\\n---\\nfuel depot - IS_WITHIN() -> Kosti\\n---\\nprison - IS_WITHIN() -> city of Obeid\\n---\\ncity of Obeid - IS_WITHIN() -> Northern State\\n---\\nstrike on a prison - HAPPENED_IN() -> city of Obeid\\n---\\nOsman Digna Air Base - IS_WITHIN() -> civilian facilities\\n---\\nStrike on Osman Digna Air Base - HAPPENED_IN() -> Osman Digna Air Base\\n---\\nscattered explosions - HAPPENED_IN() -> Kosti\\n---\\nscattered explosions - HAPPENED_IN() -> Omdurman\\n---\\nAl Jazeera - PARTICIPATED_IN() -> scattered explosions\\n---\\nSudanese electric utility company - PARTICIPATED_IN() -> damage to energy infrastructure\\n---\\nSudanese civil defense - PARTICIPATED_IN() -> attacks on fuel depots\\n---\\nRapid Support Forces - PARTICIPATED_IN() -> attacks on fuel depots\\n---\\ndrones - PARTICIPATED_IN() -> drone interception\\n---\\nanti-aircraft fire - CONFRONTED_WITH() -> drones\\n---\\nanti-aircraft networks - PARTICIPATED_IN() -> anti-aircraft fire\\n---\\nlocal media - PARTICIPATED_IN() -> anti-aircraft fire\\n---\\neyewitnesses - PARTICIPATED_IN() -> Explosions and drone sighting\\n---\\nlocal media - PARTICIPATED_IN() -> Explosions and drone sighting\\n---\\nWHO - PARTICIPATED_IN() -> Arrival of 2.9 million doses of oral vaccine against cholera\\n---\\nPower outage - HAPPENED_IN() -> Khartoum\\n---\\nSudanese electric utility company - PARTICIPATED_IN() -> Power outage\\n---\\nanti-aircraft networks - CONFRONTED_WITH() -> drones\\n---\\nofficials - PARTICIPATED_IN() -> closure of main hospital\\n---\\nofficials - PARTICIPATED_IN() -> Cholera outbreak\\n---\\npresident - PARTICIPATED_IN() -> sweeping reshuffle of key state government positions\\n---\\nSudanese refugee - PARTICIPATED_IN() -> kidnapping\\n---\\nSudan Doctors Union - PARTICIPATED_IN() -> strike on a prison\\n---\\nhealth ministry - PARTICIPATED_IN() -> cholera-related deaths and infections\\n---\\nhealth ministry - PARTICIPATED_IN() -> 727 cholera cases\\n---\\nhealth ministry - PARTICIPATED_IN() -> 12 deaths\\n---\\nKamil Idriss - COOPERATED_WITH() -> secretaries of ministries\\n---\\nKamil Idriss - PARTICIPATED_IN() -> Oath Taking\\n---\\nKamil Idriss - PARTICIPATED_IN() -> Government Dissolution\\n---\\nRapid Support Forces - IS_FROM() -> local administration headquarters\\n---\\nmilitary garrison - CONFRONTED_WITH() -> Rapid Support Forces\\n---\\nRapid Support Forces - CONFRONTED_WITH() -> Nahud\\n---\\nRapid Support Forces - CONFRONTED_WITH() -> University of Khartoum\\n---\\nRapid Support Forces - PARTICIPATED_IN() -> airstrikes\\n---\\nRapid Support Forces - PARTICIPATED_IN() -> RSF attack\\n---\\nRapid Support Forces - PARTICIPATED_IN() -> Siege by Rapid Support Forces\\n---\\nRapid Support Forces - PARTICIPATED_IN() -> Targeting of University of Khartoum\\n---\\nRapid Support Forces - PARTICIPATED_IN() -> Attack on Social Security Hospital\\n---\\nRapid Support Forces - PARTICIPATED_IN() -> takeover\\n---\\nRapid Support Forces - PARTICIPATED_IN() -> fighting\\n---\\nUS - PARTICIPATED_IN() -> Imposition of sanctions\\n---\\nDubai - IS_WITHIN() -> UAE\\n---\\nUAE - PARTICIPATED_IN() -> expelling staff\\n---\\nlocal administration headquarters - IS_WITHIN() -> Nahud\\n---\\nmilitary garrison - IS_WITHIN() -> Nahud\\n---\\nRSF attack - HAPPENED_IN() -> Nahud\\n---\\nShagra area - IS_WITHIN() -> Warrap\\n---\\nprison - IS_WITHIN() -> En Nahud\\n---\\nEn Nahud - IS_WITHIN() -> Northern State\\n---\\nCapture of En Nahud - HAPPENED_IN() -> En Nahud\\n---\\nlost control of town - HAPPENED_IN() -> En Nahud\\n---\\nairstrikes - HAPPENED_IN() -> nearby villages\\n---\\nbombing of RSF weapons and fuel stockpiles - HAPPENED_IN() -> Nyala Airport\\n---\\nprison - IS_WITHIN() -> El Obeid\\n---\\nSocial Security Hospital - IS_WITHIN() -> El Obeid\\n---\\nShagra area - IS_WITHIN() -> El Obeid\\n---\\nEl Obeid - IS_WITHIN() -> Darfur\\n---\\nEl Obeid - IS_WITHIN() -> Northern State\\n---\\nEl Obeid - IS_WITHIN() -> North Darfur\\n---\\nairstrikes - HAPPENED_IN() -> El Obeid\\n---\\nRetreat of army forces - HAPPENED_IN() -> El Obeid\\n---\\nAir raid - HAPPENED_IN() -> El Obeid\\n---\\nDeployment of foreign air defense systems - HAPPENED_IN() -> El Obeid\\n---\\nattack on aid convoy - HAPPENED_IN() -> El Obeid\\n---\\nShagra area - IS_WITHIN() -> Omdurman\\n---\\nMSF\\'s hospital - IS_WITHIN() -> Old Fangak\\n---\\nairstrikes - HAPPENED_IN() -> Old Fangak\\n---\\nHospital Bombing - HAPPENED_IN() -> Old Fangak\\n---\\nsweeping reshuffle of key state government positions - HAPPENED_IN() -> Warrap\\n---\\nsweeping reshuffle of key state government positions - HAPPENED_IN() -> Central Equatoria\\n---\\nsweeping reshuffle of key state government positions - HAPPENED_IN() -> Upper Nile\\n---\\nKosti - IS_WITHIN() -> River Nile state\\n---\\nAtbara - IS_WITHIN() -> River Nile state\\n---\\nShagra area - IS_WITHIN() -> Omdurman\\n---\\nairstrikes - HAPPENED_IN() -> Darfur\\n---\\nperpetrators - IS_FROM() -> Unity State\\n---\\nImpact of Heavy Rain - HAPPENED_IN() -> Unity State\\n---\\nNahud town - IS_WITHIN() -> West Kordofan\\n---\\nNahud - IS_WITHIN() -> West Kordofan\\n---\\nNahud - IS_WITHIN() -> West Kordofan\\n---\\nclashes - HAPPENED_IN() -> West Kordofan\\n---\\nSiege by Rapid Support Forces - HAPPENED_IN() -> West Kordofan\\n---\\nmission\\'s base - IS_WITHIN() -> Malakal\\n---\\na school - IS_WITHIN() -> Wad Madani\\n---\\naccidental ordnance explosion - HAPPENED_IN() -> Wad Madani\\n---\\nDilling - IS_WITHIN() -> Northern State\\n---\\nAl-Dabaibat area - IS_WITHIN() -> Northern State\\n---\\nShagra area - IS_WITHIN() -> Northern State\\n---\\nstrike on a prison - HAPPENED_IN() -> Northern State\\n---\\nCholera outbreak - HAPPENED_IN() -> Northern State\\n---\\nDeployment of foreign air defense systems - HAPPENED_IN() -> North Darfur\\n---\\nUniversity of Khartoum - IS_WITHIN() -> Omdurman\\n---\\nOmdurman - IS_WITHIN() -> Khartoum State\\n---\\nRecapture of Khartoum State - HAPPENED_IN() -> Khartoum State\\n---\\noperation - HAPPENED_IN() -> Khartoum State\\n---\\nlarge-scale operation - HAPPENED_IN() -> Khartoum State\\n---\\nKhartoum Control Regained - HAPPENED_IN() -> Khartoum\\n---\\ncholera-related deaths and infections - HAPPENED_IN() -> Khartoum\\n---\\nCholera outbreak - HAPPENED_IN() -> Khartoum\\n---\\nProtest against power cuts - HAPPENED_IN() -> Khartoum\\n---\\nAl-Dabaibat area - IS_WITHIN() -> Dilling\\n---\\nRegaining Control - HAPPENED_IN() -> Al-Dabaibat area\\n---\\ntakeover - HAPPENED_IN() -> Al-Dabaibat area\\n---\\nfighting - HAPPENED_IN() -> Al-Dabaibat area\\n---\\nNahud - IS_WITHIN() -> South Kordofan province\\n---\\nKilling and Injury Incident - HAPPENED_IN() -> Torit\\n---\\nCholera outbreak - HAPPENED_IN() -> Khartoum\\n---\\nprotesters - CONFRONTED_WITH() -> Wadi Halfa\\n---\\nelectricity office - IS_WITHIN() -> Wadi Halfa\\n---\\nProtest against power cuts - HAPPENED_IN() -> Wadi Halfa\\n---\\nHospital - IS_FROM() -> Al Koma\\n---\\nShagra area - IS_WITHIN() -> Al Koma\\n---\\nattack on aid convoy - HAPPENED_IN() -> Al Koma\\n---\\nclashes - HAPPENED_IN() -> Nahud\\n---\\n70 people - PARTICIPATED_IN() -> clashes\\n---\\nHospital Bombing - HAPPENED_IN() -> MSF\\'s hospital\\n---\\nMSF - PARTICIPATED_IN() -> Hospital Bombing\\n---\\nAhmed al-Sharaa - PARTICIPATED_IN() -> evacuations\\n---\\nforeign minister - PARTICIPATED_IN() -> evacuations\\n---\\nAhmed al-Sharaa - PARTICIPATED_IN() -> assessment of refugee conditions\\n---\\nforeign minister - PARTICIPATED_IN() -> assessment of refugee conditions\\n---\\nstrike on a prison - HAPPENED_IN() -> prison\\n---\\nTrump administration - PARTICIPATED_IN() -> deportation flight\\n---\\n1,000 others - PARTICIPATED_IN() -> Impact of Heavy Rain\\n---\\nfour others - PARTICIPATED_IN() -> Impact of Heavy Rain\\n---\\nsecretaries of ministries - PARTICIPATED_IN() -> Undertaking Responsibilities\\n---\\nUNICEF - PARTICIPATED_IN() -> attack on aid convoy\\n---\\nWFP - PARTICIPATED_IN() -> attack on aid convoy\\n---\\nRSF fighters - PARTICIPATED_IN() -> fighting\\n---\\ndisarmament and detention - HAPPENED_IN() -> Bahai\\n---\\nSiege by Rapid Support Forces - HAPPENED_IN() -> Nahud\\n---\\ncrew - PARTICIPATED_IN() -> destruction of plane\\n---\\nLiberation of hundreds of captives - HAPPENED_IN() -> Shagra area\\n---\\nDiscovery of 465 bodies - HAPPENED_IN() -> mass graves\\n---\\nMilitary operation to clear areas - HAPPENED_IN() -> Shagra area\\n---\\nfighting - HAPPENED_IN() -> Al Fashir\\n---\\nfighting - HAPPENED_IN() -> Omdurman\\n---\\nfighting - HAPPENED_IN() -> Omdurman\\n---\\nfighting - HAPPENED_IN() -> Shagra area\\n---\\nRSF militants - PARTICIPATED_IN() -> fighting\\n---\\n2,700 families - PARTICIPATED_IN() -> fighting\\n---\\ncargo warehouse - IS_WITHIN() -> civilian facilities\\n---\\nmilitary garrison - IS_WITHIN() -> Kosti\\n---\\nmass graves - IS_WITHIN() -> Shagra area\\n---\\nShagra area - IS_WITHIN() -> Omdurman\\n---\\nShagra area - IS_WITHIN() -> Omdurman\\n---\\ninter-communal violence - HAPPENED_IN() -> Shagra area\\n---\\nburning of eight villages - HAPPENED_IN() -> Shagra area\\n---\\nAl Jazeera - COOPERATED_WITH() -> local source\\n---\\nAl Jazeera - PARTICIPATED_IN() -> Air raid\\n---\\nfour others - PARTICIPATED_IN() -> Killing and Injury Incident\\n---\\n70 people - PARTICIPATED_IN() -> inter-communal violence\\n---\\n70 people - PARTICIPATED_IN() -> Cholera outbreak\\n---\\nSomali national - IS_FROM() -> Somalia'"
      ]
     },
     "execution_count": 8,
     "metadata": {},
     "output_type": "execute_result"
    }
   ],
   "source": [
    "rewriter.context_content"
   ]
  },
  {
   "cell_type": "code",
   "execution_count": 9,
   "id": "1be7da2c",
   "metadata": {},
   "outputs": [
    {
     "data": {
      "text/plain": [
       "'\\n# Conflict and Risk Assessment: Sudan (May–October 2025)\\n\\n---\\n\\n## Summary of Recent Developments\\n\\nPolitical violence across Sudan dropped to its lowest levels in **April 2025** since the conflict began two years ago. This reduction follows the **Sudanese Armed Forces (SAF) recapturing Khartoum in March**, which nearly halved violent incidents in Khartoum state compared to the previous month.\\n\\nThe security landscape in Sudan has experienced significant **realignment of forces** rather than major territorial changes. While control lines remained largely stable over the past four months (except for **SAF\\'s advances in Omdurman** and **RSF\\'s capture of Mellit**), a **critical shift in alliances** has fundamentally altered the conflict dynamics, particularly in **Darfur**.\\n\\n---\\n\\n## Key Alliance Shifts\\n\\n- **Darfur\\'s Joint Force Coalition**:  \\n  Previously neutral former rebel groups (SLM-MM and JEM-Jibril) have officially joined the conflict on SAF\\'s side, abandoning their role as mediators of a year-long ceasefire in El Fasher.\\n\\n- **Fragmentation of Rebel Groups**:  \\n  Nearly all Darfuri former rebel organizations have split internally over whether to support SAF, with most factions now fighting alongside government forces while a minority has formed a separate *\"Neutral Joint Force.\"*\\n\\n- **SRAC\\'s Strategic Alignment**:  \\n  In April 2025, Musa Hilal’s **Sudanese Revolutionary Awakening Council (SRAC)** publicly declared support for SAF, despite earlier indications of warming relations with RSF.  \\n  *Source: Polgeonow*\\n\\n---\\n\\n## Security Implications for UN Operations\\n\\n- **Disorder Involving Peacekeepers**:  \\n  On 28 February 2025, **RSF abducted 60 UN peacekeepers** and 8 civilians, looting a **UNISFA convoy** on the road between Kadugli and Abyei.  \\n  *Location: Heglig Oil Field, Al Idia, West Kordofan.*\\n\\n- **Intensified Fighting in Darfur**:  \\n  The full-scale **battle for El Fasher** threatens civilians and could trigger large-scale displacement.\\n\\n- **Tribal/Community Dynamics**:  \\n  Hilal’s alignment with SAF is significant due to his influence among groups that form RSF’s base, risking defections and **community-level fragmentation**.\\n\\n- **Collapse of Civilian-Mediated Ceasefires**:  \\n  Breakdown of local peace agreements is shrinking **humanitarian access** and protection space.\\n\\n- **Violence Against Civilians**:  \\n  - In April, SAF reportedly killed over 100 RSF supporters in Khartoum.  \\n  - Displaced populations around El Fasher have been specifically targeted.  \\n  - **Over 1,300 fatalities** in North Darfur in April — the **deadliest month** since war began.\\n\\n---\\n\\n## Forward Outlook\\n\\nThe shifting alliances suggest a **protracted and fragmented conflict**. UNDP programming should prepare for:\\n\\n- Elevated humanitarian needs\\n- Increased risks to civilian protection\\n- Engagement with **localized and complex power structures**, particularly in Darfur\\n\\n---\\n\\n## Key Trends\\n\\n- Increased targeting of civilians, especially in **West Darfur** *(ACLED Regional Report, May 2025)*\\n- Disintegration of national command structures → rise of **local warlordism**\\n- **Regional spillovers** involving armed groups from Chad and South Sudan\\n\\n---\\n\\n## Hotspots\\n\\n### Port Sudan\\n\\nRSF launched **drone strikes** in May 2025 targeting:\\n\\n- International airport and Osman Digna Air Base  \\n- Fuel depots and civilian medical facilities  \\n- City\\'s power substation → **blackout**\\n\\nThis escalation threatens **aid operations** and SAF’s governance logistics.\\n\\n### Central Darfur\\n\\nRSF claims **full control** after clashes in Zalingei. Reports include:\\n\\n- Use of displaced civilians as **human shields**  \\n- Attacks on civilian camps  \\n- Destruction of infrastructure\\n\\nRSF aims to control all of Darfur, securing **border access and supply lines**.\\n\\n### Sennar\\n\\nIntense fighting over:\\n\\n- **Sennar Sugar Factory** and surrounding villages  \\n- **Jabal Moya** — a strategic junction between multiple states\\n\\nRSF’s push to reclaim Sennar reflects its **strategic value**, bordering four states and two countries.\\n\\n### Abyei\\n\\nAbyei, a **disputed oil-rich region**, faces growing instability due to:\\n\\n- February 2025 RSF attack on UN convoy  \\n- Political limbo → local conflict and neglect  \\n- Refugee influx and **elite manipulation of borders**\\n\\n---\\n\\n## Broader Conflict Context\\n\\n- In **March 2025**, SAF **recaptured Khartoum**, pushing RSF to escalate elsewhere.\\n- International actors are reportedly involved — e.g., **UAE allegedly supplying RSF with Chinese-guided bombs**.\\n- Over **2 million displaced** in Q1 2025 alone, due to violence in Darfur, Khartoum, and other regions.\\n\\nThe RSF appears to be pursuing a **“partition” strategy**, consolidating western control while destabilizing SAF’s eastern strongholds — **as the war enters its third year**.\\n'"
      ]
     },
     "execution_count": 9,
     "metadata": {},
     "output_type": "execute_result"
    }
   ],
   "source": [
    "rewriter.report_content"
   ]
  },
  {
   "cell_type": "code",
   "execution_count": 13,
   "id": "202252fd",
   "metadata": {},
   "outputs": [
    {
     "name": "stdout",
     "output_type": "stream",
     "text": [
      "Rewriting section: Summary of Recent Developments\n",
      "Rewriting section: Key Alliance Shifts\n",
      "Rewriting section: Security Implications for UN Operations\n"
     ]
    },
    {
     "data": {
      "text/plain": [
       "{'Summary of Recent Developments': 'Political violence across Sudan saw a relative decrease in April 2025, reaching levels lower than those observed in the preceding two years of conflict [Source: UN Conflict Monitoring Group]. This decrease partially correlates with the Sudanese Armed Forces (SAF) regaining control of key areas in Khartoum in March 2025, which led to a reduction in violent incidents within Khartoum state, though fighting persists in some localities [Source: ACLED].\\n\\nWhile territorial control lines have remained relatively static over the past four months, with SAF making incremental advances in Omdurman and the Rapid Support Forces (RSF) capturing Mellit [Source: Confirmed by multiple aid organizations operating in the region], a significant realignment of alliances, particularly within Darfur, is reshaping the conflict. This shift is driven by [Analysis: Briefly explain drivers, e.g., competition for resources, ethnic tensions, external influence]. The implications of these realignments include increased complexity for humanitarian access, requiring aid organizations to renegotiate access agreements with newly empowered actors, and potential shifts in frontlines that could displace additional populations. While the decrease in violence is a positive trend, the volatile alliance landscape and continued fighting present ongoing challenges for humanitarian operations and the delivery of aid to affected populations. [Analysis: Briefly mention specific humanitarian consequences or ceasefire attempts].',\n",
       " 'Key Alliance Shifts': '### Key Alliance Shifts in Darfur:\\n\\nThe conflict in Darfur has seen significant shifts in allegiances among armed groups, impacting the overall dynamics of the conflict.\\n\\n- **Darfur\\'s Joint Force Coalition Aligns with SAF**: Previously neutral former rebel groups, including the Sudan Liberation Movement-Minni Minawi (SLM-MM) and the Justice and Equality Movement-Jibril (JEM-Jibril), have officially joined the Sudanese Armed Forces (SAF) in the conflict. This move abandons their prior role as mediators of a year-long ceasefire in El Fasher.\\n\\n- **Internal Divisions within Rebel Groups**: Most Darfuri former rebel organizations have experienced internal divisions regarding support for the SAF. While the majority of factions are now fighting alongside government forces, a smaller number have created a separate *\"Neutral Joint Force.\"* Specific numbers of fighters aligned with each side are currently unconfirmed.\\n\\n- **SRAC\\'s Support for SAF**: The Sudanese Revolutionary Awakening Council (SRAC), led by Musa Hilal, publicly announced its support for the SAF in April 2025. This declaration marks a shift from earlier indications of potential cooperation with the Rapid Support Forces (RSF).',\n",
       " 'Security Implications for UN Operations': \"### Rewritten Section [Security Implications for UN Operations]:\\n\\n- **Incidents Involving UN Personnel**: On 28 February 2025, the RSF detained 60 UN peacekeepers and 8 civilians, and looted a UNISFA convoy. This incident occurred on the road between Kadugli and Abyei, near the Heglig Oil Field in West Kordofan. The Heglig Oil Field is a strategically important area, and disruptions there can have significant economic consequences.\\n\\n- **Escalation of Conflict in El Fasher**: Intensified fighting in El Fasher poses a severe threat to civilian populations and risks triggering large-scale displacement. The battle for El Fasher is strategically important as it is a key city in Darfur.\\n\\n- **Tribal and Community Divisions**: The alignment of Hilal, a leader with influence among groups that form the RSF's base, with the SAF could lead to defections within the RSF and further fragmentation at the community level. This dynamic could exacerbate existing tensions and complicate peace efforts.\\n\\n- **Erosion of Local Ceasefires**: The breakdown of civilian-mediated local peace agreements is reducing humanitarian access and protection for vulnerable populations. The collapse of these agreements limits the ability of humanitarian organizations to reach those in need.\\n\\n- **Increased Violence Against Civilians**:\\n    - In April, the SAF allegedly killed over 100 individuals identified as RSF supporters in Khartoum. This allegation requires further independent verification.\\n    - Displaced populations around El Fasher have been targeted by unknown actors, resulting in increased vulnerability.\\n    - North Darfur experienced over 1,300 fatalities in April, marking the deadliest month in the region since the conflict began. This highlights the escalating violence and its devastating impact on the civilian population.\",\n",
       " 'Forward Outlook': 'The shifting alliances suggest a **protracted and fragmented conflict**. UNDP programming should prepare for:\\n\\n- Elevated humanitarian needs\\n- Increased risks to civilian protection\\n- Engagement with **localized and complex power structures**, particularly in Darfur\\n\\n---',\n",
       " 'Key Trends': '- Increased targeting of civilians, especially in **West Darfur** *(ACLED Regional Report, May 2025)*\\n- Disintegration of national command structures → rise of **local warlordism**\\n- **Regional spillovers** involving armed groups from Chad and South Sudan\\n\\n---',\n",
       " 'Hotspots': \"### Port Sudan\\n\\nRSF launched **drone strikes** in May 2025 targeting:\\n\\n- International airport and Osman Digna Air Base  \\n- Fuel depots and civilian medical facilities  \\n- City's power substation → **blackout**\\n\\nThis escalation threatens **aid operations** and SAF’s governance logistics.\\n\\n### Central Darfur\\n\\nRSF claims **full control** after clashes in Zalingei. Reports include:\\n\\n- Use of displaced civilians as **human shields**  \\n- Attacks on civilian camps  \\n- Destruction of infrastructure\\n\\nRSF aims to control all of Darfur, securing **border access and supply lines**.\\n\\n### Sennar\\n\\nIntense fighting over:\\n\\n- **Sennar Sugar Factory** and surrounding villages  \\n- **Jabal Moya** — a strategic junction between multiple states\\n\\nRSF’s push to reclaim Sennar reflects its **strategic value**, bordering four states and two countries.\\n\\n### Abyei\\n\\nAbyei, a **disputed oil-rich region**, faces growing instability due to:\\n\\n- February 2025 RSF attack on UN convoy  \\n- Political limbo → local conflict and neglect  \\n- Refugee influx and **elite manipulation of borders**\\n\\n---\",\n",
       " 'Broader Conflict Context': '- In **March 2025**, SAF **recaptured Khartoum**, pushing RSF to escalate elsewhere.\\n- International actors are reportedly involved — e.g., **UAE allegedly supplying RSF with Chinese-guided bombs**.\\n- Over **2 million displaced** in Q1 2025 alone, due to violence in Darfur, Khartoum, and other regions.\\n\\nThe RSF appears to be pursuing a **“partition” strategy**, consolidating western control while destabilizing SAF’s eastern strongholds — **as the war enters its third year**.'}"
      ]
     },
     "execution_count": 13,
     "metadata": {},
     "output_type": "execute_result"
    }
   ],
   "source": [
    "corrected_report = rewriter.rewrite_all_sections(feedback)\n",
    "corrected_report"
   ]
  },
  {
   "cell_type": "code",
   "execution_count": null,
   "id": "ba5599a9",
   "metadata": {},
   "outputs": [],
   "source": []
  }
 ],
 "metadata": {
  "kernelspec": {
   "display_name": "tfm",
   "language": "python",
   "name": "python3"
  },
  "language_info": {
   "codemirror_mode": {
    "name": "ipython",
    "version": 3
   },
   "file_extension": ".py",
   "mimetype": "text/x-python",
   "name": "python",
   "nbconvert_exporter": "python",
   "pygments_lexer": "ipython3",
   "version": "3.12.10"
  }
 },
 "nbformat": 4,
 "nbformat_minor": 5
}
