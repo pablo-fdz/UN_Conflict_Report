{
 "cells": [
  {
   "cell_type": "code",
   "execution_count": 1,
   "id": "627622b4",
   "metadata": {},
   "outputs": [],
   "source": [
    "from evaluator import LLMJudge, ReportProcessor\n",
    "import os"
   ]
  },
  {
   "cell_type": "markdown",
   "id": "96e0d3e8",
   "metadata": {},
   "source": [
    "#### LLM Setup\n"
   ]
  },
  {
   "cell_type": "code",
   "execution_count": 2,
   "id": "40af6a55",
   "metadata": {},
   "outputs": [],
   "source": [
    "from langchain_google_genai import ChatGoogleGenerativeAI\n",
    "\n",
    "# Set up Gemini LLM\n",
    "api_key = os.getenv(\"GEMINI_API_KEY\")\n",
    "if not api_key:\n",
    "    raise ValueError(\"GEMINI_API_KEY not set in environment.\")\n",
    "\n",
    "llm = ChatGoogleGenerativeAI(\n",
    "    model=\"gemini-2.0-flash\",  # This is the latest reliable model name as of mid-2025\n",
    "    temperature=0,\n",
    "    max_tokens=2048,  # Set an appropriate limit\n",
    "    max_retries=2,\n",
    "    google_api_key=api_key,\n",
    ")"
   ]
  },
  {
   "cell_type": "markdown",
   "id": "838307a7",
   "metadata": {},
   "source": [
    "#### Process sample report\n"
   ]
  },
  {
   "cell_type": "code",
   "execution_count": 3,
   "id": "a60297fd",
   "metadata": {},
   "outputs": [],
   "source": [
    "example_path = os.path.join(os.getcwd(), \"reports/report_sudan_20250607.md\")\n",
    "example = ReportProcessor(example_path)"
   ]
  },
  {
   "cell_type": "code",
   "execution_count": 4,
   "id": "4b64e4f1",
   "metadata": {},
   "outputs": [
    {
     "name": "stdout",
     "output_type": "stream",
     "text": [
      "SECTION NAMES:\n",
      "dict_keys(['Summary of Recent Developments', 'Key Alliance Shifts', 'Security Implications for UN Operations', 'Forward Outlook', 'Key Trends', 'Hotspots', 'Broader Conflict Context'])\n"
     ]
    }
   ],
   "source": [
    "example_sections = example.get_sections()\n",
    "print('SECTION NAMES:')\n",
    "print(example_sections.keys())"
   ]
  },
  {
   "cell_type": "markdown",
   "id": "4304178e",
   "metadata": {},
   "source": [
    "#### Evaluate all sections\n"
   ]
  },
  {
   "cell_type": "code",
   "execution_count": 5,
   "id": "250486b1",
   "metadata": {},
   "outputs": [
    {
     "name": "stdout",
     "output_type": "stream",
     "text": [
      "Evaluating section: Summary of Recent Developments\n",
      "Evaluating section: Key Alliance Shifts\n",
      "Evaluating section: Security Implications for UN Operations\n",
      "Evaluating section: Forward Outlook\n",
      "Evaluating section: Key Trends\n",
      "Evaluating section: Hotspots\n",
      "Evaluating section: Broader Conflict Context\n"
     ]
    }
   ],
   "source": [
    "evaluator = LLMJudge(model=llm)\n",
    "\n",
    "response = evaluator.evaluate_all_sections(example_sections)"
   ]
  },
  {
   "cell_type": "code",
   "execution_count": 6,
   "id": "b7b982e0",
   "metadata": {},
   "outputs": [
    {
     "data": {
      "text/plain": [
       "{'Summary of Recent Developments': {'accuracy_1': {'score': 3,\n",
       "   'comment': \"The summary states that violence dropped to its lowest levels in April 2025, but it's unclear if this is accurate without further context or comparison to specific data. To improve, provide a quantifiable comparison (e.g., 'X% lower than the average of the previous six months') and cite the source of the data.\"},\n",
       "  'accuracy_2': {'score': 4,\n",
       "   'comment': 'The claims about territorial control seem plausible, but to reach a score of 5, the report should explicitly cite sources or data that confirm these claims (e.g., specific reports from monitoring groups or satellite imagery analysis).'},\n",
       "  'accuracy_3': {'score': 4,\n",
       "   'comment': 'No data points are explicitly missing or misstated, but the lack of specific figures (e.g., casualty numbers) makes it difficult to fully assess accuracy. Including key figures with sources would improve this.'},\n",
       "  'relevance_1': {'score': 4,\n",
       "   'comment': 'The summary captures critical shifts, but could be improved by explicitly stating *why* these shifts are important for humanitarian workers. For example, how do force realignments impact access to affected populations?'},\n",
       "  'relevance_2': {'score': 3,\n",
       "   'comment': \"While the summary mentions some major developments, it lacks details on humanitarian consequences. Including information on displacement, food insecurity, or access constraints would make the 'big picture' more complete and relevant to humanitarian workers.\"},\n",
       "  'relevance_3': {'score': 5, 'comment': 'Excellent'},\n",
       "  'clarity_1': {'score': 4,\n",
       "   'comment': 'The progression of ideas is generally logical, but the connection between the initial drop in violence and the subsequent realignment of forces could be made more explicit. A sentence linking these two points would improve clarity.'},\n",
       "  'clarity_2': {'score': 5, 'comment': 'Excellent'},\n",
       "  'analysis_1': {'score': 3,\n",
       "   'comment': \"The summary mentions a shift in alliances but doesn't elaborate on the implications for the conflict beyond stating it has 'fundamentally altered the conflict dynamics'. To improve, specify *how* the alliances have changed and what the likely consequences are for humanitarian access, security, or the overall trajectory of the conflict.\"},\n",
       "  'analysis_2': {'score': 4,\n",
       "   'comment': 'The section does portray existing dynamics to some extent, but could be improved by providing more context. For example, instead of just stating that violence dropped, explain *why* it dropped (e.g., due to a ceasefire, exhaustion of forces, etc.).'},\n",
       "  'analysis_3': {'score': 4,\n",
       "   'comment': 'The paragraph about the drop in violence has a clear topic sentence, but the second paragraph could benefit from a more explicit topic sentence that clearly introduces the main point about the realignment of forces and shift in alliances.'}},\n",
       " 'Key Alliance Shifts': {'relevance_1': {'score': 5, 'comment': 'Excellent'},\n",
       "  'relevance_2': {'score': 4,\n",
       "   'comment': 'While the points are generally specific, adding quantifiable data (e.g., numbers of fighters, specific locations of clashes) would further enhance specificity and thus merit a score of 5.'},\n",
       "  'clarity_1': {'score': 4,\n",
       "   'comment': 'The progression is generally logical, but a brief introductory sentence outlining the overall theme of shifting alliances in Darfur would improve the flow and earn a score of 5.'},\n",
       "  'clarity_2': {'score': 5, 'comment': 'Excellent'},\n",
       "  'clarity_3': {'score': 4,\n",
       "   'comment': 'The affiliations are mostly clear, but explicitly stating what SAF and RSF stand for (Sudanese Armed Forces and Rapid Support Forces) at least once would ensure complete clarity for all readers and warrant a score of 5.'},\n",
       "  'impartiality_1': {'score': 5, 'comment': 'Excellent'},\n",
       "  'impartiality_2': {'score': 5, 'comment': 'Excellent'}},\n",
       " 'Security Implications for UN Operations': {'relevance_1': {'score': 5,\n",
       "   'comment': 'Excellent'},\n",
       "  'clarity_1': {'score': 4,\n",
       "   'comment': \"The progression is generally logical, but could be improved by providing more context or explanation for each point. For example, elaborating on the implications of Hilal's alignment or the collapse of ceasefires would enhance clarity.\"},\n",
       "  'clarity_2': {'score': 4,\n",
       "   'comment': \"Sentences are mostly concise and coherent, but some could be more specific. For example, 'Displaced populations around El Fasher have been specifically targeted' could benefit from specifying who is targeting them and how.\"},\n",
       "  'impartiality_1': {'score': 4,\n",
       "   'comment': \"The language is mostly neutral, but the phrase 'RSF abducted 60 UN peacekeepers' could be perceived as slightly loaded. A more neutral phrasing might be 'RSF detained 60 UN peacekeepers'. Also, 'SAF reportedly killed over 100 RSF supporters' needs to be carefully worded to avoid implying guilt or innocence.\"},\n",
       "  'impartiality_2': {'score': 5, 'comment': 'Excellent'}},\n",
       " 'Forward Outlook': {'error': \"The section 'Forward Outlook' is not within the list of recognized sections. No evaluation criteria were found, so this section was not evaluated.\\nValid sections are: Summary of Recent Developments, Key Alliance Shifts, Security Implications for UN Operations.If there is a closely related name for '{section_name}' within the list of valid sections, change it to that.Otherwise, reorganise this information into other sections within the list (whether they exist in the original document or you have to create them).\"},\n",
       " 'Key Trends': {'error': \"The section 'Key Trends' is not within the list of recognized sections. No evaluation criteria were found, so this section was not evaluated.\\nValid sections are: Summary of Recent Developments, Key Alliance Shifts, Security Implications for UN Operations.If there is a closely related name for '{section_name}' within the list of valid sections, change it to that.Otherwise, reorganise this information into other sections within the list (whether they exist in the original document or you have to create them).\"},\n",
       " 'Hotspots': {'error': \"The section 'Hotspots' is not within the list of recognized sections. No evaluation criteria were found, so this section was not evaluated.\\nValid sections are: Summary of Recent Developments, Key Alliance Shifts, Security Implications for UN Operations.If there is a closely related name for '{section_name}' within the list of valid sections, change it to that.Otherwise, reorganise this information into other sections within the list (whether they exist in the original document or you have to create them).\"},\n",
       " 'Broader Conflict Context': {'error': \"The section 'Broader Conflict Context' is not within the list of recognized sections. No evaluation criteria were found, so this section was not evaluated.\\nValid sections are: Summary of Recent Developments, Key Alliance Shifts, Security Implications for UN Operations.If there is a closely related name for '{section_name}' within the list of valid sections, change it to that.Otherwise, reorganise this information into other sections within the list (whether they exist in the original document or you have to create them).\"}}"
      ]
     },
     "execution_count": 6,
     "metadata": {},
     "output_type": "execute_result"
    }
   ],
   "source": [
    "response"
   ]
  },
  {
   "cell_type": "code",
   "execution_count": null,
   "id": "7ec489aa",
   "metadata": {},
   "outputs": [],
   "source": []
  }
 ],
 "metadata": {
  "kernelspec": {
   "display_name": "tfm",
   "language": "python",
   "name": "python3"
  },
  "language_info": {
   "codemirror_mode": {
    "name": "ipython",
    "version": 3
   },
   "file_extension": ".py",
   "mimetype": "text/x-python",
   "name": "python",
   "nbconvert_exporter": "python",
   "pygments_lexer": "ipython3",
   "version": "3.12.10"
  }
 },
 "nbformat": 4,
 "nbformat_minor": 5
}
