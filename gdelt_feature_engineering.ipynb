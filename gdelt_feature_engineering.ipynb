{
 "cells": [
  {
   "cell_type": "markdown",
   "id": "b964981c",
   "metadata": {},
   "source": [
    "# 0. Imports and installations"
   ]
  },
  {
   "cell_type": "code",
   "execution_count": 1,
   "id": "546643ef",
   "metadata": {},
   "outputs": [],
   "source": [
    "# IMPORTS\n",
    "\n",
    "import re\n",
    "import os\n",
    "import pandas as pd\n",
    "import requests\n",
    "from bs4 import BeautifulSoup\n",
    "from zipfile import ZipFile\n",
    "from io import BytesIO\n",
    "import polars as pl\n",
    "import multiprocessing\n",
    "from multiprocessing import Pool, cpu_count\n",
    "from urllib.parse import urljoin\n",
    "import concurrent.futures\n",
    "from tqdm import tqdm\n",
    "\n",
    "pd.set_option('display.max_colwidth', None)\n",
    "pd.set_option('display.max_columns', None)\n",
    "\n",
    "data_dir = 'data'\n",
    "parquet_dir = os.path.join(data_dir)"
   ]
  },
  {
   "cell_type": "markdown",
   "id": "4f85a9ea",
   "metadata": {},
   "source": [
    "# Data preparation"
   ]
  },
  {
   "cell_type": "code",
   "execution_count": 2,
   "id": "9bed1b3f",
   "metadata": {},
   "outputs": [
    {
     "data": {
      "text/html": [
       "<div><style>\n",
       ".dataframe > thead > tr,\n",
       ".dataframe > tbody > tr {\n",
       "  text-align: right;\n",
       "  white-space: pre-wrap;\n",
       "}\n",
       "</style>\n",
       "<small>shape: (139_828, 11)</small><table border=\"1\" class=\"dataframe\"><thead><tr><th>state</th><th>period</th><th>event_code</th><th>quad_class</th><th>goldstein_scale</th><th>avg_tone</th><th>actor1_statecode</th><th>actor2_statecode</th><th>url</th><th>title</th><th>full_text</th></tr><tr><td>list[str]</td><td>i64</td><td>i64</td><td>i64</td><td>f64</td><td>f64</td><td>str</td><td>str</td><td>str</td><td>str</td><td>str</td></tr></thead><tbody><tr><td>[&quot;WA&quot;, &quot;WI&quot;, … &quot;MA&quot;]</td><td>202105</td><td>16</td><td>1</td><td>-2.0</td><td>-8.934073</td><td>&quot;USMO&quot;</td><td>&quot;USMO&quot;</td><td>&quot;https://www.natlawreview.com/a…</td><td>&quot;State of the Law for Business …</td><td>&quot;It’s been a year since COVID-1…</td></tr><tr><td>[&quot;KS&quot;, &quot;WA&quot;, &quot;MO&quot;]</td><td>202105</td><td>141</td><td>3</td><td>-6.5</td><td>-0.808625</td><td>&quot;USMO&quot;</td><td>&quot;USMO&quot;</td><td>&quot;https://www.kcur.org/health/20…</td><td>&quot;Medicaid Expansion Supporters …</td><td>&quot;A day after Missouri Gov. Mike…</td></tr><tr><td>[&quot;NY&quot;, &quot;MO&quot;]</td><td>202105</td><td>13</td><td>1</td><td>0.4</td><td>-6.008584</td><td>&quot;USMO&quot;</td><td>&quot;USMO&quot;</td><td>&quot;https://www.dailystar.co.uk/ne…</td><td>&quot;Elderly woman sucker-punched t…</td><td>&quot;Elderly woman sucker-punched t…</td></tr><tr><td>null</td><td>202002</td><td>16</td><td>1</td><td>-2.0</td><td>-8.0</td><td>&quot;USAR&quot;</td><td>null</td><td>&quot;https://www.houstonchronicle.c…</td><td>null</td><td>null</td></tr><tr><td>[&quot;NY&quot;, &quot;DE&quot;, … &quot;MA&quot;]</td><td>202012</td><td>70</td><td>2</td><td>7.0</td><td>0.088106</td><td>&quot;USNH&quot;</td><td>&quot;USNH&quot;</td><td>&quot;https://www.fosters.com/story/…</td><td>&quot;Historically Speaking: Adventu…</td><td>&quot;Historically Speaking: Adventu…</td></tr><tr><td>&hellip;</td><td>&hellip;</td><td>&hellip;</td><td>&hellip;</td><td>&hellip;</td><td>&hellip;</td><td>&hellip;</td><td>&hellip;</td><td>&hellip;</td><td>&hellip;</td><td>&hellip;</td></tr><tr><td>null</td><td>202007</td><td>10</td><td>1</td><td>0.0</td><td>-3.512648</td><td>&quot;USAK&quot;</td><td>null</td><td>&quot;https://www.wmal.com/news/a-fa…</td><td>null</td><td>null</td></tr><tr><td>null</td><td>202012</td><td>173</td><td>4</td><td>-5.0</td><td>-6.841617</td><td>&quot;USAZ&quot;</td><td>&quot;USUT&quot;</td><td>&quot;https://www.startribune.com/ex…</td><td>null</td><td>null</td></tr><tr><td>[&quot;HI&quot;, &quot;AK&quot;, … &quot;AL&quot;]</td><td>202012</td><td>120</td><td>3</td><td>-4.0</td><td>-3.243243</td><td>&quot;USAK&quot;</td><td>null</td><td>&quot;https://www.jewishpress.com/bl…</td><td>&quot;Obama: It’s Impossible to Have…</td><td>&quot;{Repsoted from the Sultan Knis…</td></tr><tr><td>[&quot;RI&quot;, &quot;NY&quot;]</td><td>202101</td><td>20</td><td>1</td><td>3.0</td><td>-6.049039</td><td>null</td><td>&quot;USRI&quot;</td><td>&quot;https://www.jdsupra.com/legaln…</td><td>&quot;Sean O’Shea: Tips for Paralega…</td><td>&quot;12/1/2020: Compare Excel sprea…</td></tr><tr><td>null</td><td>202009</td><td>182</td><td>4</td><td>-9.5</td><td>-0.78125</td><td>&quot;USTX&quot;</td><td>null</td><td>&quot;https://www.wdam.com/2020/09/0…</td><td>null</td><td>null</td></tr></tbody></table></div>"
      ],
      "text/plain": [
       "shape: (139_828, 11)\n",
       "┌────────────┬────────┬────────────┬───────────┬───┬───────────┬───────────┬───────────┬───────────┐\n",
       "│ state      ┆ period ┆ event_code ┆ quad_clas ┆ … ┆ actor2_st ┆ url       ┆ title     ┆ full_text │\n",
       "│ ---        ┆ ---    ┆ ---        ┆ s         ┆   ┆ atecode   ┆ ---       ┆ ---       ┆ ---       │\n",
       "│ list[str]  ┆ i64    ┆ i64        ┆ ---       ┆   ┆ ---       ┆ str       ┆ str       ┆ str       │\n",
       "│            ┆        ┆            ┆ i64       ┆   ┆ str       ┆           ┆           ┆           │\n",
       "╞════════════╪════════╪════════════╪═══════════╪═══╪═══════════╪═══════════╪═══════════╪═══════════╡\n",
       "│ [\"WA\",     ┆ 202105 ┆ 16         ┆ 1         ┆ … ┆ USMO      ┆ https://w ┆ State of  ┆ It’s been │\n",
       "│ \"WI\", …    ┆        ┆            ┆           ┆   ┆           ┆ ww.natlaw ┆ the Law   ┆ a year    │\n",
       "│ \"MA\"]      ┆        ┆            ┆           ┆   ┆           ┆ review.co ┆ for       ┆ since     │\n",
       "│            ┆        ┆            ┆           ┆   ┆           ┆ m/a…      ┆ Business  ┆ COVID-1…  │\n",
       "│            ┆        ┆            ┆           ┆   ┆           ┆           ┆ …         ┆           │\n",
       "│ [\"KS\",     ┆ 202105 ┆ 141        ┆ 3         ┆ … ┆ USMO      ┆ https://w ┆ Medicaid  ┆ A day     │\n",
       "│ \"WA\",      ┆        ┆            ┆           ┆   ┆           ┆ ww.kcur.o ┆ Expansion ┆ after     │\n",
       "│ \"MO\"]      ┆        ┆            ┆           ┆   ┆           ┆ rg/health ┆ Supporter ┆ Missouri  │\n",
       "│            ┆        ┆            ┆           ┆   ┆           ┆ /20…      ┆ s …       ┆ Gov.      │\n",
       "│            ┆        ┆            ┆           ┆   ┆           ┆           ┆           ┆ Mike…     │\n",
       "│ [\"NY\",     ┆ 202105 ┆ 13         ┆ 1         ┆ … ┆ USMO      ┆ https://w ┆ Elderly   ┆ Elderly   │\n",
       "│ \"MO\"]      ┆        ┆            ┆           ┆   ┆           ┆ ww.dailys ┆ woman suc ┆ woman suc │\n",
       "│            ┆        ┆            ┆           ┆   ┆           ┆ tar.co.uk ┆ ker-punch ┆ ker-punch │\n",
       "│            ┆        ┆            ┆           ┆   ┆           ┆ /ne…      ┆ ed t…     ┆ ed t…     │\n",
       "│ null       ┆ 202002 ┆ 16         ┆ 1         ┆ … ┆ null      ┆ https://w ┆ null      ┆ null      │\n",
       "│            ┆        ┆            ┆           ┆   ┆           ┆ ww.housto ┆           ┆           │\n",
       "│            ┆        ┆            ┆           ┆   ┆           ┆ nchronicl ┆           ┆           │\n",
       "│            ┆        ┆            ┆           ┆   ┆           ┆ e.c…      ┆           ┆           │\n",
       "│ [\"NY\",     ┆ 202012 ┆ 70         ┆ 2         ┆ … ┆ USNH      ┆ https://w ┆ Historica ┆ Historica │\n",
       "│ \"DE\", …    ┆        ┆            ┆           ┆   ┆           ┆ ww.foster ┆ lly       ┆ lly       │\n",
       "│ \"MA\"]      ┆        ┆            ┆           ┆   ┆           ┆ s.com/sto ┆ Speaking: ┆ Speaking: │\n",
       "│            ┆        ┆            ┆           ┆   ┆           ┆ ry/…      ┆ Adventu…  ┆ Adventu…  │\n",
       "│ …          ┆ …      ┆ …          ┆ …         ┆ … ┆ …         ┆ …         ┆ …         ┆ …         │\n",
       "│ null       ┆ 202007 ┆ 10         ┆ 1         ┆ … ┆ null      ┆ https://w ┆ null      ┆ null      │\n",
       "│            ┆        ┆            ┆           ┆   ┆           ┆ ww.wmal.c ┆           ┆           │\n",
       "│            ┆        ┆            ┆           ┆   ┆           ┆ om/news/a ┆           ┆           │\n",
       "│            ┆        ┆            ┆           ┆   ┆           ┆ -fa…      ┆           ┆           │\n",
       "│ null       ┆ 202012 ┆ 173        ┆ 4         ┆ … ┆ USUT      ┆ https://w ┆ null      ┆ null      │\n",
       "│            ┆        ┆            ┆           ┆   ┆           ┆ ww.startr ┆           ┆           │\n",
       "│            ┆        ┆            ┆           ┆   ┆           ┆ ibune.com ┆           ┆           │\n",
       "│            ┆        ┆            ┆           ┆   ┆           ┆ /ex…      ┆           ┆           │\n",
       "│ [\"HI\",     ┆ 202012 ┆ 120        ┆ 3         ┆ … ┆ null      ┆ https://w ┆ Obama:    ┆ {Repsoted │\n",
       "│ \"AK\", …    ┆        ┆            ┆           ┆   ┆           ┆ ww.jewish ┆ It’s Impo ┆ from the  │\n",
       "│ \"AL\"]      ┆        ┆            ┆           ┆   ┆           ┆ press.com ┆ ssible to ┆ Sultan    │\n",
       "│            ┆        ┆            ┆           ┆   ┆           ┆ /bl…      ┆ Have…     ┆ Knis…     │\n",
       "│ [\"RI\",     ┆ 202101 ┆ 20         ┆ 1         ┆ … ┆ USRI      ┆ https://w ┆ Sean      ┆ 12/1/2020 │\n",
       "│ \"NY\"]      ┆        ┆            ┆           ┆   ┆           ┆ ww.jdsupr ┆ O’Shea:   ┆ : Compare │\n",
       "│            ┆        ┆            ┆           ┆   ┆           ┆ a.com/leg ┆ Tips for  ┆ Excel     │\n",
       "│            ┆        ┆            ┆           ┆   ┆           ┆ aln…      ┆ Paralega… ┆ sprea…    │\n",
       "│ null       ┆ 202009 ┆ 182        ┆ 4         ┆ … ┆ null      ┆ https://w ┆ null      ┆ null      │\n",
       "│            ┆        ┆            ┆           ┆   ┆           ┆ ww.wdam.c ┆           ┆           │\n",
       "│            ┆        ┆            ┆           ┆   ┆           ┆ om/2020/0 ┆           ┆           │\n",
       "│            ┆        ┆            ┆           ┆   ┆           ┆ 9/0…      ┆           ┆           │\n",
       "└────────────┴────────┴────────────┴───────────┴───┴───────────┴───────────┴───────────┴───────────┘"
      ]
     },
     "execution_count": 2,
     "metadata": {},
     "output_type": "execute_result"
    }
   ],
   "source": [
    "gdelt = pl.read_parquet('data/FILTERED_DATAFRAME_WITH_STATES.parquet')\n",
    "gdelt = gdelt.drop([\"date\", \"year\"])\n",
    "gdelt = gdelt.rename({\"month_year\": \"period\"})\n",
    "gdelt"
   ]
  },
  {
   "cell_type": "code",
   "execution_count": 3,
   "id": "1d8daf7c",
   "metadata": {},
   "outputs": [],
   "source": [
    "# Fill missing states with the information from other columns\n",
    "gdelt = gdelt.with_columns(\n",
    "    pl.when(pl.col(\"actor1_statecode\").is_null())\n",
    "      .then(pl.col(\"actor2_statecode\"))\n",
    "      .otherwise(pl.col(\"actor1_statecode\"))\n",
    "      .alias(\"actor1_statecode\")\n",
    ")\n",
    "\n",
    "gdelt = gdelt.with_columns(\n",
    "    pl.when(pl.col(\"actor2_statecode\").is_null())\n",
    "      .then(pl.col(\"actor1_statecode\"))\n",
    "      .otherwise(pl.col(\"actor2_statecode\"))\n",
    "      .alias(\"actor2_statecode\")\n",
    ")\n",
    "\n",
    "gdelt = gdelt.with_columns([\n",
    "    pl.col(\"actor1_statecode\").str.replace(\"^US\", \"\").alias(\"actor1_statecode\"),\n",
    "    pl.col(\"actor2_statecode\").str.replace(\"^US\", \"\").alias(\"actor2_statecode\")\n",
    "])\n"
   ]
  },
  {
   "cell_type": "markdown",
   "id": "2414b954",
   "metadata": {},
   "source": [
    "We check that all the states are valid ones, and drop the ones that aren't."
   ]
  },
  {
   "cell_type": "code",
   "execution_count": 4,
   "id": "3e0e9d7e",
   "metadata": {},
   "outputs": [],
   "source": [
    "valid_states = {\n",
    "    'AL', 'AK', 'AZ', 'AR', 'CA', 'CO', 'CT', 'DE', 'FL', 'GA',\n",
    "    'HI', 'ID', 'IL', 'IN', 'IA', 'KS', 'KY', 'LA', 'ME', 'MD',\n",
    "    'MA', 'MI', 'MN', 'MS', 'MO', 'MT', 'NE', 'NV', 'NH', 'NJ',\n",
    "    'NM', 'NY', 'NC', 'ND', 'OH', 'OK', 'OR', 'PA', 'RI', 'SC',\n",
    "    'SD', 'TN', 'TX', 'UT', 'VT', 'VA', 'WA', 'WV', 'WI', 'WY', 'DC'\n",
    "}\n",
    "\n",
    "gdelt = gdelt.with_columns([\n",
    "    # Clean 'state' list to keep only valid state codes\n",
    "    pl.col(\"state\").list.eval(\n",
    "        pl.element().filter(pl.element().is_in(valid_states))\n",
    "    ).alias(\"state\"),\n",
    "\n",
    "    # Replace invalid actor1_statecode with null\n",
    "    pl.when(pl.col(\"actor1_statecode\").is_in(valid_states))\n",
    "      .then(pl.col(\"actor1_statecode\"))\n",
    "      .otherwise(None)\n",
    "      .alias(\"actor1_statecode\"),\n",
    "\n",
    "    # Replace invalid actor2_statecode with null\n",
    "    pl.when(pl.col(\"actor2_statecode\").is_in(valid_states))\n",
    "      .then(pl.col(\"actor2_statecode\"))\n",
    "      .otherwise(None)\n",
    "      .alias(\"actor2_statecode\")\n",
    "])"
   ]
  },
  {
   "cell_type": "markdown",
   "id": "149b449b",
   "metadata": {},
   "source": [
    "We fill in the missing values in \"state\" with the state names in Actor1 and Actor2 columns"
   ]
  },
  {
   "cell_type": "code",
   "execution_count": 5,
   "id": "be70607f",
   "metadata": {},
   "outputs": [],
   "source": [
    "gdelt = gdelt.with_columns(\n",
    "    pl.when(pl.col(\"state\").is_null())\n",
    "      .then(\n",
    "          pl.struct([\"actor1_statecode\", \"actor2_statecode\"]).map_elements(\n",
    "              lambda row: list({row[\"actor1_statecode\"], row[\"actor2_statecode\"]}),\n",
    "              return_dtype=pl.List(pl.String)\n",
    "          )\n",
    "      )\n",
    "      .otherwise(pl.col(\"state\"))\n",
    "      .alias(\"state\")\n",
    ")\n"
   ]
  },
  {
   "cell_type": "markdown",
   "id": "33beed04",
   "metadata": {},
   "source": [
    "Drop rows where all three conditions are true:\n",
    "\n",
    "- \"state\" is an empty list\n",
    "\n",
    "- \"actor1_statecode\" is null\n",
    "\n",
    "- \"actor2_statecode\" is null\n",
    "\n",
    "If \"state\" has an the empty list, fill it with Actor1 and/or Actor 2."
   ]
  },
  {
   "cell_type": "code",
   "execution_count": 6,
   "id": "497a3522",
   "metadata": {},
   "outputs": [],
   "source": [
    "gdelt = gdelt.with_columns(\n",
    "    pl.when(\n",
    "        (pl.col(\"state\").list.len() == 0) &\n",
    "        (~pl.col(\"actor1_statecode\").is_null() | ~pl.col(\"actor2_statecode\").is_null())\n",
    "    )\n",
    "    .then(\n",
    "        pl.struct([\"actor1_statecode\", \"actor2_statecode\"]).map_elements(\n",
    "            lambda row: [x for x in {row[\"actor1_statecode\"], row[\"actor2_statecode\"]} if x is not None],\n",
    "            return_dtype=pl.List(pl.String)\n",
    "        )\n",
    "    )\n",
    "    .otherwise(pl.col(\"state\"))\n",
    "    .alias(\"state\")\n",
    ")\n",
    "\n",
    "gdelt = gdelt.with_columns(\n",
    "    pl.col(\"state\").list.eval(\n",
    "        pl.element().filter(pl.element().is_not_null())\n",
    "    ).alias(\"state\")\n",
    ")\n",
    "\n",
    "gdelt = gdelt.filter(\n",
    "    ~(\n",
    "        (pl.col(\"state\").list.len() == 0) &\n",
    "        (pl.col(\"actor1_statecode\").is_null()) &\n",
    "        (pl.col(\"actor2_statecode\").is_null())\n",
    "    )\n",
    ")\n",
    "\n",
    "gdelt = gdelt.drop([\"actor1_statecode\", \"actor2_statecode\", \"url\"])"
   ]
  },
  {
   "cell_type": "markdown",
   "id": "509c9ba4",
   "metadata": {},
   "source": [
    "We \"explode\" the \"state\" column (which contains lists of state codes) so that each row has only one state, while duplicating the rest of the row data."
   ]
  },
  {
   "cell_type": "code",
   "execution_count": 7,
   "id": "3ebb5e64",
   "metadata": {},
   "outputs": [],
   "source": [
    "gdelt = gdelt.explode(\"state\")\n",
    "gdelt = gdelt.sort([\"state\", \"period\"])"
   ]
  },
  {
   "cell_type": "code",
   "execution_count": 8,
   "id": "0b8faac3",
   "metadata": {},
   "outputs": [
    {
     "data": {
      "text/html": [
       "<div><style>\n",
       ".dataframe > thead > tr,\n",
       ".dataframe > tbody > tr {\n",
       "  text-align: right;\n",
       "  white-space: pre-wrap;\n",
       "}\n",
       "</style>\n",
       "<small>shape: (313_984, 8)</small><table border=\"1\" class=\"dataframe\"><thead><tr><th>state</th><th>period</th><th>event_code</th><th>quad_class</th><th>goldstein_scale</th><th>avg_tone</th><th>title</th><th>full_text</th></tr><tr><td>str</td><td>i64</td><td>i64</td><td>i64</td><td>f64</td><td>f64</td><td>str</td><td>str</td></tr></thead><tbody><tr><td>&quot;AK&quot;</td><td>192001</td><td>46</td><td>1</td><td>7.0</td><td>1.149699</td><td>&quot;Alaska Senate president in spo…</td><td>&quot;JUNEAU, Alaska - During her fi…</td></tr><tr><td>&quot;AK&quot;</td><td>192001</td><td>32</td><td>1</td><td>4.5</td><td>2.31405</td><td>&quot;When the major primaries and c…</td><td>&quot;When the major primaries and c…</td></tr><tr><td>&quot;AK&quot;</td><td>192001</td><td>42</td><td>1</td><td>1.9</td><td>-3.696789</td><td>&quot;Delta flight attendants say th…</td><td>&quot;- Employees of Delta Air Lines…</td></tr><tr><td>&quot;AK&quot;</td><td>192001</td><td>42</td><td>1</td><td>1.9</td><td>-1.653944</td><td>&quot;In painting a rosy picture, Go…</td><td>&quot;Gov. Mike Dunleavy spoke to th…</td></tr><tr><td>&quot;AK&quot;</td><td>192001</td><td>871</td><td>2</td><td>9.0</td><td>-2.219873</td><td>&quot;Who among them is fit to be pr…</td><td>&quot;Who among them is fit to be pr…</td></tr><tr><td>&hellip;</td><td>&hellip;</td><td>&hellip;</td><td>&hellip;</td><td>&hellip;</td><td>&hellip;</td><td>&hellip;</td><td>&hellip;</td></tr><tr><td>&quot;WY&quot;</td><td>202106</td><td>10</td><td>1</td><td>0.0</td><td>-4.634581</td><td>&quot;New Info, Time to Spike Stone-…</td><td>&quot;New Info, Time to Spike Stone-…</td></tr><tr><td>&quot;WY&quot;</td><td>202106</td><td>120</td><td>3</td><td>-4.0</td><td>-5.128205</td><td>&quot;Liz Cheney blasts the GOP-led …</td><td>&quot;- Rep. Liz Cheney of Wyoming c…</td></tr><tr><td>&quot;WY&quot;</td><td>202106</td><td>43</td><td>1</td><td>2.8</td><td>0.615385</td><td>null</td><td>null</td></tr><tr><td>&quot;WY&quot;</td><td>202106</td><td>51</td><td>1</td><td>3.4</td><td>-3.146671</td><td>&quot;Claudine Schneider: It&#x27;s time …</td><td>&quot;Disgusted Republicans, you are…</td></tr><tr><td>&quot;WY&quot;</td><td>202106</td><td>173</td><td>4</td><td>-5.0</td><td>-4.319011</td><td>null</td><td>null</td></tr></tbody></table></div>"
      ],
      "text/plain": [
       "shape: (313_984, 8)\n",
       "┌───────┬────────┬────────────┬────────────┬──────────────┬───────────┬──────────────┬─────────────┐\n",
       "│ state ┆ period ┆ event_code ┆ quad_class ┆ goldstein_sc ┆ avg_tone  ┆ title        ┆ full_text   │\n",
       "│ ---   ┆ ---    ┆ ---        ┆ ---        ┆ ale          ┆ ---       ┆ ---          ┆ ---         │\n",
       "│ str   ┆ i64    ┆ i64        ┆ i64        ┆ ---          ┆ f64       ┆ str          ┆ str         │\n",
       "│       ┆        ┆            ┆            ┆ f64          ┆           ┆              ┆             │\n",
       "╞═══════╪════════╪════════════╪════════════╪══════════════╪═══════════╪══════════════╪═════════════╡\n",
       "│ AK    ┆ 192001 ┆ 46         ┆ 1          ┆ 7.0          ┆ 1.149699  ┆ Alaska       ┆ JUNEAU,     │\n",
       "│       ┆        ┆            ┆            ┆              ┆           ┆ Senate       ┆ Alaska -    │\n",
       "│       ┆        ┆            ┆            ┆              ┆           ┆ president in ┆ During her  │\n",
       "│       ┆        ┆            ┆            ┆              ┆           ┆ spo…         ┆ fi…         │\n",
       "│ AK    ┆ 192001 ┆ 32         ┆ 1          ┆ 4.5          ┆ 2.31405   ┆ When the     ┆ When the    │\n",
       "│       ┆        ┆            ┆            ┆              ┆           ┆ major        ┆ major       │\n",
       "│       ┆        ┆            ┆            ┆              ┆           ┆ primaries    ┆ primaries   │\n",
       "│       ┆        ┆            ┆            ┆              ┆           ┆ and c…       ┆ and c…      │\n",
       "│ AK    ┆ 192001 ┆ 42         ┆ 1          ┆ 1.9          ┆ -3.696789 ┆ Delta flight ┆ - Employees │\n",
       "│       ┆        ┆            ┆            ┆              ┆           ┆ attendants   ┆ of Delta    │\n",
       "│       ┆        ┆            ┆            ┆              ┆           ┆ say th…      ┆ Air Lines…  │\n",
       "│ AK    ┆ 192001 ┆ 42         ┆ 1          ┆ 1.9          ┆ -1.653944 ┆ In painting  ┆ Gov. Mike   │\n",
       "│       ┆        ┆            ┆            ┆              ┆           ┆ a rosy       ┆ Dunleavy    │\n",
       "│       ┆        ┆            ┆            ┆              ┆           ┆ picture, Go… ┆ spoke to    │\n",
       "│       ┆        ┆            ┆            ┆              ┆           ┆              ┆ th…         │\n",
       "│ AK    ┆ 192001 ┆ 871        ┆ 2          ┆ 9.0          ┆ -2.219873 ┆ Who among    ┆ Who among   │\n",
       "│       ┆        ┆            ┆            ┆              ┆           ┆ them is fit  ┆ them is fit │\n",
       "│       ┆        ┆            ┆            ┆              ┆           ┆ to be pr…    ┆ to be pr…   │\n",
       "│ …     ┆ …      ┆ …          ┆ …          ┆ …            ┆ …         ┆ …            ┆ …           │\n",
       "│ WY    ┆ 202106 ┆ 10         ┆ 1          ┆ 0.0          ┆ -4.634581 ┆ New Info,    ┆ New Info,   │\n",
       "│       ┆        ┆            ┆            ┆              ┆           ┆ Time to      ┆ Time to     │\n",
       "│       ┆        ┆            ┆            ┆              ┆           ┆ Spike        ┆ Spike       │\n",
       "│       ┆        ┆            ┆            ┆              ┆           ┆ Stone-…      ┆ Stone-…     │\n",
       "│ WY    ┆ 202106 ┆ 120        ┆ 3          ┆ -4.0         ┆ -5.128205 ┆ Liz Cheney   ┆ - Rep. Liz  │\n",
       "│       ┆        ┆            ┆            ┆              ┆           ┆ blasts the   ┆ Cheney of   │\n",
       "│       ┆        ┆            ┆            ┆              ┆           ┆ GOP-led …    ┆ Wyoming c…  │\n",
       "│ WY    ┆ 202106 ┆ 43         ┆ 1          ┆ 2.8          ┆ 0.615385  ┆ null         ┆ null        │\n",
       "│ WY    ┆ 202106 ┆ 51         ┆ 1          ┆ 3.4          ┆ -3.146671 ┆ Claudine     ┆ Disgusted   │\n",
       "│       ┆        ┆            ┆            ┆              ┆           ┆ Schneider:   ┆ Republicans │\n",
       "│       ┆        ┆            ┆            ┆              ┆           ┆ It's time …  ┆ , you are…  │\n",
       "│ WY    ┆ 202106 ┆ 173        ┆ 4          ┆ -5.0         ┆ -4.319011 ┆ null         ┆ null        │\n",
       "└───────┴────────┴────────────┴────────────┴──────────────┴───────────┴──────────────┴─────────────┘"
      ]
     },
     "execution_count": 8,
     "metadata": {},
     "output_type": "execute_result"
    }
   ],
   "source": [
    "gdelt = gdelt.sort([\"state\", \"period\"])\n",
    "gdelt"
   ]
  },
  {
   "cell_type": "markdown",
   "id": "c2c0a731",
   "metadata": {},
   "source": [
    "We see that some articles have dates like 1920-01 or 2019-01, which is most likely a mistake in labeling the data. We randomly verified several of those and confirmed that they were, indeed, published between 2020-01 and 2021-06. So we replace all instances of '19' for '20' to correct those mistakes."
   ]
  },
  {
   "cell_type": "code",
   "execution_count": 9,
   "id": "3e19a921",
   "metadata": {},
   "outputs": [],
   "source": [
    "gdelt = gdelt.with_columns(\n",
    "    pl.col(\"period\")\n",
    "    .cast(pl.String)\n",
    "    .str.replace_all(\"19\", \"20\")\n",
    "    .str.replace_all(\"2010\", \"2020\")\n",
    "    .str.replace_all(\"2011\", \"2020\")\n",
    "    .alias(\"period\")\n",
    ")\n",
    "\n",
    "gdelt = gdelt.with_columns(\n",
    "    pl.col(\"period\").cast(pl.Int64).alias(\"period\")\n",
    ")"
   ]
  },
  {
   "cell_type": "markdown",
   "id": "e5b2e52c",
   "metadata": {},
   "source": [
    "Now we need to collapse the df by \"state\" and \"period\". Rules for handling the rest of the columns:\n",
    "1) event_code: we calculate the proportion of the articles that have event codes that are relevant for terrorism threats:\n",
    "- 4,\tConsult.\tSpikes in political consultation sometimes precede crackdowns or unrest\n",
    "- 5,\tEngage in diplomatic cooperation.\tDeclines in these events may correlate with rising instability\n",
    "- 7,\tProvide military aid (contextual).\tOften associated with militarization of conflict regions\n",
    "- 8,    Provide aid (indirect).\tMay suggest instability or post-crisis environments\n",
    "- 9,\tInvestigate.\tOften tied to plots, arrests, or suspicious activities before attacks\n",
    "- 10,\tDemand.\tDemands related to grievances or threats\n",
    "- 12,\tReject, defy, or refuse to cooperate.\tMarkers of political breakdown or radicalization\n",
    "- 13\tThreaten.\te.g., 130, 131\tVerbal threats — often precede political violence or terrorism\n",
    "- 14\tProtest.\te.g., 140–145\tPeaceful or violent demonstrations — common precursors to unrest\n",
    "- 15\tExhibit. force posture\te.g., 150, 151\tMobilization, show of force — suggests preparation for conflict\n",
    "- 16\tReduce relations.\te.g., 160–166\tDiplomatic deterioration, cutting ties — signal of political breakdown\n",
    "- 17\tCoerce.\te.g., 170–177\tIncludes armed attacks, occupation, forced compliance\n",
    "- 18\tUse unconventional violence (Terrorism).\te.g., 180, 181\tBombings, sabotage, guerrilla warfare — directly overlap with GTD events\n",
    "\n",
    "We need to collapse the \"gdelt\" df by \"state\" and \"period\". Rules for handling the rest of the columns: \n",
    "1) event_code: we calculate the ratio of how many articles in state-period have event codes that are relevant for terrorism threats. we create three new columns with those ratios:\n",
    "- \"cooperation\" for codes between 40 and 89\n",
    "- \"investigation\" for codes 12 and between 90 and 99\n",
    "- \"instability\" for codes between 13 and 18\n",
    "\n",
    "2) quad_class: we calculate the proportion of the articles that have quad_class of 3 or 4.\n",
    "\n",
    "3) goldstein_scale: we calculate the proportion of the articles that have goldstein_scale <0.\n",
    "\n",
    "4) avg_tone:\n",
    "- we calculate the proportion of the articles that have avg_tone <0.\n",
    "- we compute the mean of all values per state-month.\n",
    "- we compute the std of all values per state-month.\n",
    "\n",
    "5) title: merge all the strings into one\n",
    "6) full_text: merge all the strings into one"
   ]
  },
  {
   "cell_type": "code",
   "execution_count": 10,
   "id": "27ec520f",
   "metadata": {},
   "outputs": [],
   "source": [
    "# Standardize event codes to only keep the first two digits\n",
    "gdelt = gdelt.with_columns(\n",
    "    pl.when(pl.col(\"event_code\") >= 1000)\n",
    "      .then(pl.col(\"event_code\") // 100)  # Keep first two digits\n",
    "      .when(pl.col(\"event_code\") >= 100)\n",
    "      .then(pl.col(\"event_code\") // 10)   # Keep first two digits\n",
    "      .otherwise(pl.col(\"event_code\"))\n",
    "      .alias(\"event_code\")\n",
    ")"
   ]
  },
  {
   "cell_type": "code",
   "execution_count": 11,
   "id": "f607ef50",
   "metadata": {},
   "outputs": [],
   "source": [
    "# Define category flags\n",
    "is_cooperation = (pl.col(\"event_code\") >= 40) & (pl.col(\"event_code\") <= 89)\n",
    "is_investigation = (pl.col(\"event_code\") == 12) | ((pl.col(\"event_code\") >= 90) & (pl.col(\"event_code\") <= 99))\n",
    "is_instability = (pl.col(\"event_code\") >= 13) & (pl.col(\"event_code\") <= 18)\n",
    "\n",
    "# Define value conditions\n",
    "is_quad_3_or_4 = pl.col(\"quad_class\").is_in([3, 4])\n",
    "is_goldstein_negative = pl.col(\"goldstein_scale\") < 0\n",
    "is_avg_tone_negative = pl.col(\"avg_tone\") < 0\n",
    "\n",
    "# Collapse\n",
    "gdelt_collapsed = gdelt.group_by([\"state\", \"period\"]).agg([\n",
    "    pl.len().alias(\"article_count\"),\n",
    "\n",
    "    (is_cooperation.sum().cast(pl.Float64) / pl.len()).alias(\"cooperation\"),\n",
    "    (is_investigation.sum().cast(pl.Float64) / pl.len()).alias(\"investigation\"),\n",
    "    (is_instability.sum().cast(pl.Float64) / pl.len()).alias(\"instability\"),\n",
    "\n",
    "    (is_quad_3_or_4.sum().cast(pl.Float64) / pl.len()).alias(\"quad_class_3_or_4\"),\n",
    "    (is_goldstein_negative.sum().cast(pl.Float64) / pl.len()).alias(\"goldstein_negative_ratio\"),\n",
    "\n",
    "    (is_avg_tone_negative.sum().cast(pl.Float64) / pl.len()).alias(\"avg_tone_negative_ratio\"),\n",
    "    pl.col(\"avg_tone\").mean().alias(\"avg_tone_mean\"),\n",
    "    pl.col(\"avg_tone\").std().alias(\"avg_tone_std\"),\n",
    "\n",
    "    pl.col(\"title\").implode().alias(\"titles_combined\"),\n",
    "    pl.col(\"full_text\").implode().alias(\"full_text_combined\")\n",
    "])\n",
    "\n",
    "gdelt_collapsed = gdelt_collapsed.sort([\"state\", \"period\"])\n",
    "del gdelt\n"
   ]
  },
  {
   "cell_type": "markdown",
   "id": "42044722",
   "metadata": {},
   "source": [
    "We add one more text-based feature - a lexicon of terms related to terrorism (suggested by an LLM based on the relevant academic literature), and we count the term frequency in our state-month corpus."
   ]
  },
  {
   "cell_type": "code",
   "execution_count": 12,
   "id": "a6940555",
   "metadata": {},
   "outputs": [],
   "source": [
    "from collections import Counter\n",
    "\n",
    "# Set of words to match\n",
    "target_words = {\n",
    "    # Violence and conflict\n",
    "    \"attack\", \"bomb\", \"explode\", \"gunfire\", \"shooting\", \"massacre\", \"ambush\", \"assassinate\",\n",
    "    \"kill\", \"murder\", \"execute\", \"detonate\", \"sniper\", \"casualty\", \"hostage\", \"raid\",\n",
    "\n",
    "    # Terrorism-specific terminology\n",
    "    \"terror\", \"terrorist\", \"militant\", \"extremist\", \"jihad\", \"insurgent\", \"radical\", \"fundamentalist\",\n",
    "    \"al-qaeda\", \"isis\", \"islamic state\", \"boko haram\", \"hezbollah\", \"taliban\", \"caliphate\",\n",
    "\n",
    "    # Target and location indicators\n",
    "    \"embassy\", \"market\", \"airport\", \"station\", \"checkpoint\", \"border\", \"mosque\", \"church\",\n",
    "    \"synagogue\", \"school\", \"government\", \"military\", \"police\", \"security\", \"infrastructure\",\n",
    "\n",
    "    # Planning and operational language\n",
    "    \"plot\", \"plan\", \"prepare\", \"recruit\", \"train\", \"smuggle\", \"fund\", \"coordinated\",\n",
    "    \"sleeper cell\", \"radicalize\", \"mission\", \"deadline\", \"operation\",\n",
    "\n",
    "    # Ideological and motivational terms\n",
    "    \"infidel\", \"martyr\", \"holy war\", \"fatwa\", \"blasphemy\", \"revenge\", \"oppression\",\n",
    "    \"liberation\", \"sacrifice\", \"enemy\", \"zionist\", \"crusader\", \"occupation\"\n",
    "}\n",
    "\n",
    "def count_target_words(text_list):\n",
    "    filtered_list = [text for text in text_list if text is not None]\n",
    "    words = \" \".join(filtered_list).lower().split()\n",
    "    word_counts = Counter(words)\n",
    "    return sum(word_counts[word] for word in target_words if word in word_counts)\n",
    "\n",
    "# Apply it using .map_elements\n",
    "gdelt_collapsed = gdelt_collapsed.with_columns(\n",
    "    pl.col(\"full_text_combined\").map_elements(count_target_words, return_dtype=pl.Int64).alias(\"target_word_count\")\n",
    ")\n",
    "\n",
    "gdelt_collapsed = gdelt_collapsed.drop([\"titles_combined\", \"full_text_combined\"])"
   ]
  },
  {
   "cell_type": "markdown",
   "id": "8e922aee",
   "metadata": {},
   "source": [
    "Load a dataset with LDA topic shares. Merge it to the existing Dataframe."
   ]
  },
  {
   "cell_type": "code",
   "execution_count": 13,
   "id": "b3f026c6",
   "metadata": {},
   "outputs": [],
   "source": [
    "gdelt_lda = pl.read_parquet('data/AGGREGATED_DATAFRAME.parquet')\n",
    "\n",
    "topic_columns = [col for col in gdelt_lda.columns if col.startswith(\"topic_\")]\n",
    "columns_to_join = [\"state\", \"period\"] + topic_columns\n",
    "gdelt_lda_subset = gdelt_lda.select(columns_to_join)\n",
    "\n",
    "gdelt_collapsed = gdelt_collapsed.join(\n",
    "    gdelt_lda_subset,\n",
    "    on=[\"state\", \"period\"],\n",
    "    how=\"left\"\n",
    ")"
   ]
  },
  {
   "cell_type": "code",
   "execution_count": 16,
   "id": "fc816f5d",
   "metadata": {},
   "outputs": [],
   "source": [
    "gdelt_collapsed.write_parquet(\"data/gdelt_features.parquet\")\n",
    "gdelt_collapsed.write_csv(\"data/gdelt_features.csv\")"
   ]
  }
 ],
 "metadata": {
  "kernelspec": {
   "display_name": "nastia2",
   "language": "python",
   "name": "python3"
  },
  "language_info": {
   "codemirror_mode": {
    "name": "ipython",
    "version": 3
   },
   "file_extension": ".py",
   "mimetype": "text/x-python",
   "name": "python",
   "nbconvert_exporter": "python",
   "pygments_lexer": "ipython3",
   "version": "3.12.9"
  }
 },
 "nbformat": 4,
 "nbformat_minor": 5
}
