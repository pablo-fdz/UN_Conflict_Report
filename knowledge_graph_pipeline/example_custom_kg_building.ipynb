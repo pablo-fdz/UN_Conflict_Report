{
 "cells": [
  {
   "cell_type": "markdown",
   "id": "35ae0c9b",
   "metadata": {},
   "source": [
    "# 0. Libraries"
   ]
  },
  {
   "cell_type": "code",
   "execution_count": 1,
   "id": "f2a8341e",
   "metadata": {},
   "outputs": [],
   "source": [
    "# Utilities\n",
    "import asyncio\n",
    "from dotenv import load_dotenv\n",
    "import os\n",
    "import json\n",
    "from google import genai\n",
    "import polars as pl\n",
    "from kg_builder import CustomKGPipeline, build_kg_from_df, GeminiLLM\n",
    "\n",
    "# Neo4j and Neo4j GraphRAG imports\n",
    "import neo4j\n",
    "from neo4j_graphrag.embeddings import SentenceTransformerEmbeddings"
   ]
  },
  {
   "cell_type": "markdown",
   "id": "5182b7fc",
   "metadata": {},
   "source": [
    "Let's first check the available Gemini models."
   ]
  },
  {
   "cell_type": "code",
   "execution_count": 2,
   "id": "03b114e3",
   "metadata": {},
   "outputs": [
    {
     "name": "stdout",
     "output_type": "stream",
     "text": [
      "name='models/embedding-gecko-001' display_name='Embedding Gecko' description='Obtain a distributed representation of a text.' version='001' endpoints=None labels=None tuned_model_info=TunedModelInfo(base_model=None, create_time=None, update_time=None) input_token_limit=1024 output_token_limit=1 supported_actions=['embedText', 'countTextTokens'] default_checkpoint_id=None checkpoints=None\n",
      "name='models/gemini-1.0-pro-vision-latest' display_name='Gemini 1.0 Pro Vision' description='The original Gemini 1.0 Pro Vision model version which was optimized for image understanding. Gemini 1.0 Pro Vision was deprecated on July 12, 2024. Move to a newer Gemini version.' version='001' endpoints=None labels=None tuned_model_info=TunedModelInfo(base_model=None, create_time=None, update_time=None) input_token_limit=12288 output_token_limit=4096 supported_actions=['generateContent', 'countTokens'] default_checkpoint_id=None checkpoints=None\n",
      "name='models/gemini-pro-vision' display_name='Gemini 1.0 Pro Vision' description='The original Gemini 1.0 Pro Vision model version which was optimized for image understanding. Gemini 1.0 Pro Vision was deprecated on July 12, 2024. Move to a newer Gemini version.' version='001' endpoints=None labels=None tuned_model_info=TunedModelInfo(base_model=None, create_time=None, update_time=None) input_token_limit=12288 output_token_limit=4096 supported_actions=['generateContent', 'countTokens'] default_checkpoint_id=None checkpoints=None\n",
      "name='models/gemini-1.5-pro-latest' display_name='Gemini 1.5 Pro Latest' description='Alias that points to the most recent production (non-experimental) release of Gemini 1.5 Pro, our mid-size multimodal model that supports up to 2 million tokens.' version='001' endpoints=None labels=None tuned_model_info=TunedModelInfo(base_model=None, create_time=None, update_time=None) input_token_limit=2000000 output_token_limit=8192 supported_actions=['generateContent', 'countTokens'] default_checkpoint_id=None checkpoints=None\n",
      "name='models/gemini-1.5-pro-001' display_name='Gemini 1.5 Pro 001' description='Stable version of Gemini 1.5 Pro, our mid-size multimodal model that supports up to 2 million tokens, released in May of 2024.' version='001' endpoints=None labels=None tuned_model_info=TunedModelInfo(base_model=None, create_time=None, update_time=None) input_token_limit=2000000 output_token_limit=8192 supported_actions=['generateContent', 'countTokens', 'createCachedContent'] default_checkpoint_id=None checkpoints=None\n",
      "name='models/gemini-1.5-pro-002' display_name='Gemini 1.5 Pro 002' description='Stable version of Gemini 1.5 Pro, our mid-size multimodal model that supports up to 2 million tokens, released in September of 2024.' version='002' endpoints=None labels=None tuned_model_info=TunedModelInfo(base_model=None, create_time=None, update_time=None) input_token_limit=2000000 output_token_limit=8192 supported_actions=['generateContent', 'countTokens', 'createCachedContent'] default_checkpoint_id=None checkpoints=None\n",
      "name='models/gemini-1.5-pro' display_name='Gemini 1.5 Pro' description='Stable version of Gemini 1.5 Pro, our mid-size multimodal model that supports up to 2 million tokens, released in May of 2024.' version='001' endpoints=None labels=None tuned_model_info=TunedModelInfo(base_model=None, create_time=None, update_time=None) input_token_limit=2000000 output_token_limit=8192 supported_actions=['generateContent', 'countTokens'] default_checkpoint_id=None checkpoints=None\n",
      "name='models/gemini-1.5-flash-latest' display_name='Gemini 1.5 Flash Latest' description='Alias that points to the most recent production (non-experimental) release of Gemini 1.5 Flash, our fast and versatile multimodal model for scaling across diverse tasks.' version='001' endpoints=None labels=None tuned_model_info=TunedModelInfo(base_model=None, create_time=None, update_time=None) input_token_limit=1000000 output_token_limit=8192 supported_actions=['generateContent', 'countTokens'] default_checkpoint_id=None checkpoints=None\n",
      "name='models/gemini-1.5-flash-001' display_name='Gemini 1.5 Flash 001' description='Stable version of Gemini 1.5 Flash, our fast and versatile multimodal model for scaling across diverse tasks, released in May of 2024.' version='001' endpoints=None labels=None tuned_model_info=TunedModelInfo(base_model=None, create_time=None, update_time=None) input_token_limit=1000000 output_token_limit=8192 supported_actions=['generateContent', 'countTokens', 'createCachedContent'] default_checkpoint_id=None checkpoints=None\n",
      "name='models/gemini-1.5-flash-001-tuning' display_name='Gemini 1.5 Flash 001 Tuning' description='Version of Gemini 1.5 Flash that supports tuning, our fast and versatile multimodal model for scaling across diverse tasks, released in May of 2024.' version='001' endpoints=None labels=None tuned_model_info=TunedModelInfo(base_model=None, create_time=None, update_time=None) input_token_limit=16384 output_token_limit=8192 supported_actions=['generateContent', 'countTokens', 'createTunedModel'] default_checkpoint_id=None checkpoints=None\n",
      "name='models/gemini-1.5-flash' display_name='Gemini 1.5 Flash' description='Alias that points to the most recent stable version of Gemini 1.5 Flash, our fast and versatile multimodal model for scaling across diverse tasks.' version='001' endpoints=None labels=None tuned_model_info=TunedModelInfo(base_model=None, create_time=None, update_time=None) input_token_limit=1000000 output_token_limit=8192 supported_actions=['generateContent', 'countTokens'] default_checkpoint_id=None checkpoints=None\n",
      "name='models/gemini-1.5-flash-002' display_name='Gemini 1.5 Flash 002' description='Stable version of Gemini 1.5 Flash, our fast and versatile multimodal model for scaling across diverse tasks, released in September of 2024.' version='002' endpoints=None labels=None tuned_model_info=TunedModelInfo(base_model=None, create_time=None, update_time=None) input_token_limit=1000000 output_token_limit=8192 supported_actions=['generateContent', 'countTokens', 'createCachedContent'] default_checkpoint_id=None checkpoints=None\n",
      "name='models/gemini-1.5-flash-8b' display_name='Gemini 1.5 Flash-8B' description='Stable version of Gemini 1.5 Flash-8B, our smallest and most cost effective Flash model, released in October of 2024.' version='001' endpoints=None labels=None tuned_model_info=TunedModelInfo(base_model=None, create_time=None, update_time=None) input_token_limit=1000000 output_token_limit=8192 supported_actions=['createCachedContent', 'generateContent', 'countTokens'] default_checkpoint_id=None checkpoints=None\n",
      "name='models/gemini-1.5-flash-8b-001' display_name='Gemini 1.5 Flash-8B 001' description='Stable version of Gemini 1.5 Flash-8B, our smallest and most cost effective Flash model, released in October of 2024.' version='001' endpoints=None labels=None tuned_model_info=TunedModelInfo(base_model=None, create_time=None, update_time=None) input_token_limit=1000000 output_token_limit=8192 supported_actions=['createCachedContent', 'generateContent', 'countTokens'] default_checkpoint_id=None checkpoints=None\n",
      "name='models/gemini-1.5-flash-8b-latest' display_name='Gemini 1.5 Flash-8B Latest' description='Alias that points to the most recent production (non-experimental) release of Gemini 1.5 Flash-8B, our smallest and most cost effective Flash model, released in October of 2024.' version='001' endpoints=None labels=None tuned_model_info=TunedModelInfo(base_model=None, create_time=None, update_time=None) input_token_limit=1000000 output_token_limit=8192 supported_actions=['createCachedContent', 'generateContent', 'countTokens'] default_checkpoint_id=None checkpoints=None\n",
      "name='models/gemini-1.5-flash-8b-exp-0827' display_name='Gemini 1.5 Flash 8B Experimental 0827' description='Experimental release (August 27th, 2024) of Gemini 1.5 Flash-8B, our smallest and most cost effective Flash model. Replaced by Gemini-1.5-flash-8b-001 (stable).' version='001' endpoints=None labels=None tuned_model_info=TunedModelInfo(base_model=None, create_time=None, update_time=None) input_token_limit=1000000 output_token_limit=8192 supported_actions=['generateContent', 'countTokens'] default_checkpoint_id=None checkpoints=None\n",
      "name='models/gemini-1.5-flash-8b-exp-0924' display_name='Gemini 1.5 Flash 8B Experimental 0924' description='Experimental release (September 24th, 2024) of Gemini 1.5 Flash-8B, our smallest and most cost effective Flash model. Replaced by Gemini-1.5-flash-8b-001 (stable).' version='001' endpoints=None labels=None tuned_model_info=TunedModelInfo(base_model=None, create_time=None, update_time=None) input_token_limit=1000000 output_token_limit=8192 supported_actions=['generateContent', 'countTokens'] default_checkpoint_id=None checkpoints=None\n",
      "name='models/gemini-2.5-pro-exp-03-25' display_name='Gemini 2.5 Pro Experimental 03-25' description='Experimental release (March 25th, 2025) of Gemini 2.5 Pro' version='2.5-exp-03-25' endpoints=None labels=None tuned_model_info=TunedModelInfo(base_model=None, create_time=None, update_time=None) input_token_limit=1048576 output_token_limit=65536 supported_actions=['generateContent', 'countTokens', 'createCachedContent', 'batchGenerateContent'] default_checkpoint_id=None checkpoints=None\n",
      "name='models/gemini-2.5-pro-preview-03-25' display_name='Gemini 2.5 Pro Preview 03-25' description='Gemini 2.5 Pro Preview 03-25' version='2.5-preview-03-25' endpoints=None labels=None tuned_model_info=TunedModelInfo(base_model=None, create_time=None, update_time=None) input_token_limit=1048576 output_token_limit=65536 supported_actions=['generateContent', 'countTokens', 'createCachedContent', 'batchGenerateContent'] default_checkpoint_id=None checkpoints=None\n",
      "name='models/gemini-2.5-flash-preview-04-17' display_name='Gemini 2.5 Flash Preview 04-17' description='Preview release (April 17th, 2025) of Gemini 2.5 Flash' version='2.5-preview-04-17' endpoints=None labels=None tuned_model_info=TunedModelInfo(base_model=None, create_time=None, update_time=None) input_token_limit=1048576 output_token_limit=65536 supported_actions=['generateContent', 'countTokens', 'createCachedContent', 'batchGenerateContent'] default_checkpoint_id=None checkpoints=None\n",
      "name='models/gemini-2.5-flash-preview-05-20' display_name='Gemini 2.5 Flash Preview 05-20' description='Preview release (April 17th, 2025) of Gemini 2.5 Flash' version='2.5-preview-05-20' endpoints=None labels=None tuned_model_info=TunedModelInfo(base_model=None, create_time=None, update_time=None) input_token_limit=1048576 output_token_limit=65536 supported_actions=['generateContent', 'countTokens', 'createCachedContent', 'batchGenerateContent'] default_checkpoint_id=None checkpoints=None\n",
      "name='models/gemini-2.5-flash-preview-04-17-thinking' display_name='Gemini 2.5 Flash Preview 04-17 for cursor testing' description='Preview release (April 17th, 2025) of Gemini 2.5 Flash' version='2.5-preview-04-17' endpoints=None labels=None tuned_model_info=TunedModelInfo(base_model=None, create_time=None, update_time=None) input_token_limit=1048576 output_token_limit=65536 supported_actions=['generateContent', 'countTokens', 'createCachedContent', 'batchGenerateContent'] default_checkpoint_id=None checkpoints=None\n",
      "name='models/gemini-2.5-pro-preview-05-06' display_name='Gemini 2.5 Pro Preview 05-06' description='Preview release (May 6th, 2025) of Gemini 2.5 Pro' version='2.5-preview-05-06' endpoints=None labels=None tuned_model_info=TunedModelInfo(base_model=None, create_time=None, update_time=None) input_token_limit=1048576 output_token_limit=65536 supported_actions=['generateContent', 'countTokens', 'createCachedContent', 'batchGenerateContent'] default_checkpoint_id=None checkpoints=None\n",
      "name='models/gemini-2.0-flash-exp' display_name='Gemini 2.0 Flash Experimental' description='Gemini 2.0 Flash Experimental' version='2.0' endpoints=None labels=None tuned_model_info=TunedModelInfo(base_model=None, create_time=None, update_time=None) input_token_limit=1048576 output_token_limit=8192 supported_actions=['generateContent', 'countTokens', 'bidiGenerateContent'] default_checkpoint_id=None checkpoints=None\n",
      "name='models/gemini-2.0-flash' display_name='Gemini 2.0 Flash' description='Gemini 2.0 Flash' version='2.0' endpoints=None labels=None tuned_model_info=TunedModelInfo(base_model=None, create_time=None, update_time=None) input_token_limit=1048576 output_token_limit=8192 supported_actions=['generateContent', 'countTokens', 'createCachedContent', 'batchGenerateContent'] default_checkpoint_id=None checkpoints=None\n",
      "name='models/gemini-2.0-flash-001' display_name='Gemini 2.0 Flash 001' description='Stable version of Gemini 2.0 Flash, our fast and versatile multimodal model for scaling across diverse tasks, released in January of 2025.' version='2.0' endpoints=None labels=None tuned_model_info=TunedModelInfo(base_model=None, create_time=None, update_time=None) input_token_limit=1048576 output_token_limit=8192 supported_actions=['generateContent', 'countTokens', 'createCachedContent', 'batchGenerateContent'] default_checkpoint_id=None checkpoints=None\n",
      "name='models/gemini-2.0-flash-lite-001' display_name='Gemini 2.0 Flash-Lite 001' description='Stable version of Gemini 2.0 Flash Lite' version='2.0' endpoints=None labels=None tuned_model_info=TunedModelInfo(base_model=None, create_time=None, update_time=None) input_token_limit=1048576 output_token_limit=8192 supported_actions=['generateContent', 'countTokens', 'createCachedContent', 'batchGenerateContent'] default_checkpoint_id=None checkpoints=None\n",
      "name='models/gemini-2.0-flash-lite' display_name='Gemini 2.0 Flash-Lite' description='Gemini 2.0 Flash-Lite' version='2.0' endpoints=None labels=None tuned_model_info=TunedModelInfo(base_model=None, create_time=None, update_time=None) input_token_limit=1048576 output_token_limit=8192 supported_actions=['generateContent', 'countTokens', 'createCachedContent', 'batchGenerateContent'] default_checkpoint_id=None checkpoints=None\n",
      "name='models/gemini-2.0-flash-lite-preview-02-05' display_name='Gemini 2.0 Flash-Lite Preview 02-05' description='Preview release (February 5th, 2025) of Gemini 2.0 Flash Lite' version='preview-02-05' endpoints=None labels=None tuned_model_info=TunedModelInfo(base_model=None, create_time=None, update_time=None) input_token_limit=1048576 output_token_limit=8192 supported_actions=['generateContent', 'countTokens', 'createCachedContent', 'batchGenerateContent'] default_checkpoint_id=None checkpoints=None\n",
      "name='models/gemini-2.0-flash-lite-preview' display_name='Gemini 2.0 Flash-Lite Preview' description='Preview release (February 5th, 2025) of Gemini 2.0 Flash Lite' version='preview-02-05' endpoints=None labels=None tuned_model_info=TunedModelInfo(base_model=None, create_time=None, update_time=None) input_token_limit=1048576 output_token_limit=8192 supported_actions=['generateContent', 'countTokens', 'createCachedContent', 'batchGenerateContent'] default_checkpoint_id=None checkpoints=None\n",
      "name='models/gemini-2.0-pro-exp' display_name='Gemini 2.0 Pro Experimental' description='Experimental release (March 25th, 2025) of Gemini 2.5 Pro' version='2.5-exp-03-25' endpoints=None labels=None tuned_model_info=TunedModelInfo(base_model=None, create_time=None, update_time=None) input_token_limit=1048576 output_token_limit=65536 supported_actions=['generateContent', 'countTokens', 'createCachedContent', 'batchGenerateContent'] default_checkpoint_id=None checkpoints=None\n",
      "name='models/gemini-2.0-pro-exp-02-05' display_name='Gemini 2.0 Pro Experimental 02-05' description='Experimental release (March 25th, 2025) of Gemini 2.5 Pro' version='2.5-exp-03-25' endpoints=None labels=None tuned_model_info=TunedModelInfo(base_model=None, create_time=None, update_time=None) input_token_limit=1048576 output_token_limit=65536 supported_actions=['generateContent', 'countTokens', 'createCachedContent', 'batchGenerateContent'] default_checkpoint_id=None checkpoints=None\n",
      "name='models/gemini-exp-1206' display_name='Gemini Experimental 1206' description='Experimental release (March 25th, 2025) of Gemini 2.5 Pro' version='2.5-exp-03-25' endpoints=None labels=None tuned_model_info=TunedModelInfo(base_model=None, create_time=None, update_time=None) input_token_limit=1048576 output_token_limit=65536 supported_actions=['generateContent', 'countTokens', 'createCachedContent', 'batchGenerateContent'] default_checkpoint_id=None checkpoints=None\n",
      "name='models/gemini-2.0-flash-thinking-exp-01-21' display_name='Gemini 2.5 Flash Preview 04-17' description='Preview release (April 17th, 2025) of Gemini 2.5 Flash' version='2.5-preview-04-17' endpoints=None labels=None tuned_model_info=TunedModelInfo(base_model=None, create_time=None, update_time=None) input_token_limit=1048576 output_token_limit=65536 supported_actions=['generateContent', 'countTokens', 'createCachedContent', 'batchGenerateContent'] default_checkpoint_id=None checkpoints=None\n",
      "name='models/gemini-2.0-flash-thinking-exp' display_name='Gemini 2.5 Flash Preview 04-17' description='Preview release (April 17th, 2025) of Gemini 2.5 Flash' version='2.5-preview-04-17' endpoints=None labels=None tuned_model_info=TunedModelInfo(base_model=None, create_time=None, update_time=None) input_token_limit=1048576 output_token_limit=65536 supported_actions=['generateContent', 'countTokens', 'createCachedContent', 'batchGenerateContent'] default_checkpoint_id=None checkpoints=None\n",
      "name='models/gemini-2.0-flash-thinking-exp-1219' display_name='Gemini 2.5 Flash Preview 04-17' description='Preview release (April 17th, 2025) of Gemini 2.5 Flash' version='2.5-preview-04-17' endpoints=None labels=None tuned_model_info=TunedModelInfo(base_model=None, create_time=None, update_time=None) input_token_limit=1048576 output_token_limit=65536 supported_actions=['generateContent', 'countTokens', 'createCachedContent', 'batchGenerateContent'] default_checkpoint_id=None checkpoints=None\n",
      "name='models/gemini-2.5-flash-preview-tts' display_name='Gemini 2.5 Flash Preview TTS' description='Gemini 2.5 Flash Preview TTS' version='gemini-2.5-flash-exp-tts-2025-05-19' endpoints=None labels=None tuned_model_info=TunedModelInfo(base_model=None, create_time=None, update_time=None) input_token_limit=32768 output_token_limit=8192 supported_actions=['countTokens', 'generateContent'] default_checkpoint_id=None checkpoints=None\n",
      "name='models/gemini-2.5-pro-preview-tts' display_name='Gemini 2.5 Pro Preview TTS' description='Gemini 2.5 Pro Preview TTS' version='gemini-2.5-pro-preview-tts-2025-05-19' endpoints=None labels=None tuned_model_info=TunedModelInfo(base_model=None, create_time=None, update_time=None) input_token_limit=65536 output_token_limit=65536 supported_actions=['countTokens', 'generateContent'] default_checkpoint_id=None checkpoints=None\n",
      "name='models/learnlm-2.0-flash-experimental' display_name='LearnLM 2.0 Flash Experimental' description='LearnLM 2.0 Flash Experimental' version='2.0' endpoints=None labels=None tuned_model_info=TunedModelInfo(base_model=None, create_time=None, update_time=None) input_token_limit=1048576 output_token_limit=32768 supported_actions=['generateContent', 'countTokens'] default_checkpoint_id=None checkpoints=None\n",
      "name='models/gemma-3-1b-it' display_name='Gemma 3 1B' description=None version='001' endpoints=None labels=None tuned_model_info=TunedModelInfo(base_model=None, create_time=None, update_time=None) input_token_limit=32768 output_token_limit=8192 supported_actions=['generateContent', 'countTokens'] default_checkpoint_id=None checkpoints=None\n",
      "name='models/gemma-3-4b-it' display_name='Gemma 3 4B' description=None version='001' endpoints=None labels=None tuned_model_info=TunedModelInfo(base_model=None, create_time=None, update_time=None) input_token_limit=32768 output_token_limit=8192 supported_actions=['generateContent', 'countTokens'] default_checkpoint_id=None checkpoints=None\n",
      "name='models/gemma-3-12b-it' display_name='Gemma 3 12B' description=None version='001' endpoints=None labels=None tuned_model_info=TunedModelInfo(base_model=None, create_time=None, update_time=None) input_token_limit=32768 output_token_limit=8192 supported_actions=['generateContent', 'countTokens'] default_checkpoint_id=None checkpoints=None\n",
      "name='models/gemma-3-27b-it' display_name='Gemma 3 27B' description=None version='001' endpoints=None labels=None tuned_model_info=TunedModelInfo(base_model=None, create_time=None, update_time=None) input_token_limit=131072 output_token_limit=8192 supported_actions=['generateContent', 'countTokens'] default_checkpoint_id=None checkpoints=None\n",
      "name='models/gemma-3n-e4b-it' display_name='Gemma 3n E4B' description=None version='001' endpoints=None labels=None tuned_model_info=TunedModelInfo(base_model=None, create_time=None, update_time=None) input_token_limit=8192 output_token_limit=2048 supported_actions=['generateContent', 'countTokens'] default_checkpoint_id=None checkpoints=None\n",
      "name='models/embedding-001' display_name='Embedding 001' description='Obtain a distributed representation of a text.' version='001' endpoints=None labels=None tuned_model_info=TunedModelInfo(base_model=None, create_time=None, update_time=None) input_token_limit=2048 output_token_limit=1 supported_actions=['embedContent'] default_checkpoint_id=None checkpoints=None\n",
      "name='models/text-embedding-004' display_name='Text Embedding 004' description='Obtain a distributed representation of a text.' version='004' endpoints=None labels=None tuned_model_info=TunedModelInfo(base_model=None, create_time=None, update_time=None) input_token_limit=2048 output_token_limit=1 supported_actions=['embedContent'] default_checkpoint_id=None checkpoints=None\n",
      "name='models/gemini-embedding-exp-03-07' display_name='Gemini Embedding Experimental 03-07' description='Obtain a distributed representation of a text.' version='exp-03-07' endpoints=None labels=None tuned_model_info=TunedModelInfo(base_model=None, create_time=None, update_time=None) input_token_limit=8192 output_token_limit=1 supported_actions=['embedContent', 'countTextTokens'] default_checkpoint_id=None checkpoints=None\n",
      "name='models/gemini-embedding-exp' display_name='Gemini Embedding Experimental' description='Obtain a distributed representation of a text.' version='exp-03-07' endpoints=None labels=None tuned_model_info=TunedModelInfo(base_model=None, create_time=None, update_time=None) input_token_limit=8192 output_token_limit=1 supported_actions=['embedContent', 'countTextTokens'] default_checkpoint_id=None checkpoints=None\n",
      "name='models/aqa' display_name='Model that performs Attributed Question Answering.' description='Model trained to return answers to questions that are grounded in provided sources, along with estimating answerable probability.' version='001' endpoints=None labels=None tuned_model_info=TunedModelInfo(base_model=None, create_time=None, update_time=None) input_token_limit=7168 output_token_limit=1024 supported_actions=['generateAnswer'] default_checkpoint_id=None checkpoints=None\n",
      "name='models/imagen-3.0-generate-002' display_name='Imagen 3.0 002 model' description='Vertex served Imagen 3.0 002 model' version='002' endpoints=None labels=None tuned_model_info=TunedModelInfo(base_model=None, create_time=None, update_time=None) input_token_limit=480 output_token_limit=8192 supported_actions=['predict'] default_checkpoint_id=None checkpoints=None\n",
      "name='models/veo-2.0-generate-001' display_name='Veo 2' description='Vertex served Veo 2 model. Access to this model requires billing to be enabled on the associated Google Cloud Platform account. Please visit https://console.cloud.google.com/billing to enable it.' version='2.0' endpoints=None labels=None tuned_model_info=TunedModelInfo(base_model=None, create_time=None, update_time=None) input_token_limit=480 output_token_limit=8192 supported_actions=['predictLongRunning'] default_checkpoint_id=None checkpoints=None\n",
      "name='models/gemini-2.5-flash-preview-native-audio-dialog' display_name='Gemini 2.5 Flash Preview Native Audio Dialog' description='Gemini 2.5 Flash Preview Native Audio Dialog' version='gemini-2.5-flash-preview-native-audio-dialog-2025-05-19' endpoints=None labels=None tuned_model_info=TunedModelInfo(base_model=None, create_time=None, update_time=None) input_token_limit=131072 output_token_limit=8192 supported_actions=['countTokens', 'bidiGenerateContent'] default_checkpoint_id=None checkpoints=None\n",
      "name='models/gemini-2.5-flash-preview-native-audio-dialog-rai-v3' display_name='Gemini 2.5 Flash Preview Native Audio Dialog RAI v3' description='Gemini 2.5 Flash Preview Native Audio Dialog RAI v3' version='gemini-2.5-flash-preview-native-audio-dialog-2025-05-19' endpoints=None labels=None tuned_model_info=TunedModelInfo(base_model=None, create_time=None, update_time=None) input_token_limit=131072 output_token_limit=8192 supported_actions=['countTokens', 'bidiGenerateContent'] default_checkpoint_id=None checkpoints=None\n",
      "name='models/gemini-2.5-flash-exp-native-audio-thinking-dialog' display_name='Gemini 2.5 Flash Exp Native Audio Thinking Dialog' description='Gemini 2.5 Flash Exp Native Audio Thinking Dialog' version='gemini-2.5-flash-exp-native-audio-thinking-dialog-2025-05-19' endpoints=None labels=None tuned_model_info=TunedModelInfo(base_model=None, create_time=None, update_time=None) input_token_limit=131072 output_token_limit=8192 supported_actions=['countTokens', 'bidiGenerateContent'] default_checkpoint_id=None checkpoints=None\n",
      "name='models/gemini-2.0-flash-live-001' display_name='Gemini 2.0 Flash 001' description='Gemini 2.0 Flash 001' version='001' endpoints=None labels=None tuned_model_info=TunedModelInfo(base_model=None, create_time=None, update_time=None) input_token_limit=131072 output_token_limit=8192 supported_actions=['bidiGenerateContent', 'countTokens'] default_checkpoint_id=None checkpoints=None\n"
     ]
    }
   ],
   "source": [
    "load_dotenv('.env', override=True)\n",
    "\n",
    "gemini_api_key = os.getenv('GEMINI_API_KEY')\n",
    "\n",
    "if gemini_api_key:\n",
    "    client = genai.Client(api_key=gemini_api_key)  # Configure the API key for genai\n",
    "else:\n",
    "    raise ValueError(\"GEMINI_API_KEY environment variable is not set.\")\n",
    "\n",
    "# Display available models\n",
    "for model in client.models.list():\n",
    "    print(model)"
   ]
  },
  {
   "cell_type": "markdown",
   "id": "c6ad2805",
   "metadata": {},
   "source": [
    "We also have to make sure that the corresponding SpaCy model for text embedding used at the resolving step is installed."
   ]
  },
  {
   "cell_type": "code",
   "execution_count": 3,
   "id": "43270dc8",
   "metadata": {},
   "outputs": [
    {
     "name": "stdout",
     "output_type": "stream",
     "text": [
      "Model 'en_core_web_lg' is already installed.\n"
     ]
    }
   ],
   "source": [
    "import spacy\n",
    "import importlib.util\n",
    "import subprocess\n",
    "import sys\n",
    "\n",
    "def ensure_spacy_model(model_name):\n",
    "    if importlib.util.find_spec(model_name) is None:\n",
    "        print(f\"Model '{model_name}' not found. Installing...\")\n",
    "        subprocess.check_call([sys.executable, \"-m\", \"spacy\", \"download\", model_name])\n",
    "    else:\n",
    "        print(f\"Model '{model_name}' is already installed.\")\n",
    "\n",
    "# Use it for 'en_core_web_lg'\n",
    "ensure_spacy_model(\"en_core_web_lg\")  # Model used for resolving entities in the KG pipeline"
   ]
  },
  {
   "cell_type": "markdown",
   "id": "0e39afcd",
   "metadata": {},
   "source": [
    "# 1. Loading the data\n",
    "\n",
    "The data is loaded here as a reference, but it is loaded again inside the pipeline below."
   ]
  },
  {
   "cell_type": "code",
   "execution_count": 4,
   "id": "c8e0227c",
   "metadata": {},
   "outputs": [
    {
     "data": {
      "text/html": [
       "<div><style>\n",
       ".dataframe > thead > tr,\n",
       ".dataframe > tbody > tr {\n",
       "  text-align: right;\n",
       "  white-space: pre-wrap;\n",
       "}\n",
       "</style>\n",
       "<small>shape: (5, 13)</small><table border=\"1\" class=\"dataframe\"><thead><tr><th>state</th><th>date</th><th>month_year</th><th>year</th><th>event_code</th><th>quad_class</th><th>goldstein_scale</th><th>avg_tone</th><th>actor1_statecode</th><th>actor2_statecode</th><th>url</th><th>title</th><th>full_text</th></tr><tr><td>str</td><td>i64</td><td>i64</td><td>i64</td><td>i64</td><td>i64</td><td>f64</td><td>f64</td><td>str</td><td>str</td><td>str</td><td>str</td><td>str</td></tr></thead><tbody><tr><td>&quot;USMO&quot;</td><td>20210514</td><td>202105</td><td>2021</td><td>16</td><td>1</td><td>-2.0</td><td>-8.934073</td><td>&quot;USMO&quot;</td><td>&quot;USMO&quot;</td><td>&quot;https://www.natlawreview.com/a…</td><td>&quot;State of the Law for Business …</td><td>&quot;It’s been a year since COVID-1…</td></tr><tr><td>&quot;USMO&quot;</td><td>20210514</td><td>202105</td><td>2021</td><td>141</td><td>3</td><td>-6.5</td><td>-0.808625</td><td>&quot;USMO&quot;</td><td>&quot;USMO&quot;</td><td>&quot;https://www.kcur.org/health/20…</td><td>&quot;Medicaid Expansion Supporters …</td><td>&quot;A day after Missouri Gov. Mike…</td></tr><tr><td>&quot;USMO&quot;</td><td>20210529</td><td>202105</td><td>2021</td><td>13</td><td>1</td><td>0.4</td><td>-6.008584</td><td>&quot;USMO&quot;</td><td>&quot;USMO&quot;</td><td>&quot;https://www.dailystar.co.uk/ne…</td><td>&quot;Elderly woman sucker-punched t…</td><td>&quot;Elderly woman sucker-punched t…</td></tr><tr><td>&quot;USAR&quot;</td><td>20200207</td><td>202002</td><td>2020</td><td>16</td><td>1</td><td>-2.0</td><td>-8.0</td><td>&quot;USAR&quot;</td><td>null</td><td>&quot;https://www.houstonchronicle.c…</td><td>null</td><td>null</td></tr><tr><td>&quot;USNH&quot;</td><td>20201206</td><td>202012</td><td>2020</td><td>70</td><td>2</td><td>7.0</td><td>0.088106</td><td>&quot;USNH&quot;</td><td>&quot;USNH&quot;</td><td>&quot;https://www.fosters.com/story/…</td><td>&quot;Historically Speaking: Adventu…</td><td>&quot;Historically Speaking: Adventu…</td></tr></tbody></table></div>"
      ],
      "text/plain": [
       "shape: (5, 13)\n",
       "┌───────┬──────────┬────────────┬──────┬───┬─────────────┬─────────────┬─────────────┬─────────────┐\n",
       "│ state ┆ date     ┆ month_year ┆ year ┆ … ┆ actor2_stat ┆ url         ┆ title       ┆ full_text   │\n",
       "│ ---   ┆ ---      ┆ ---        ┆ ---  ┆   ┆ ecode       ┆ ---         ┆ ---         ┆ ---         │\n",
       "│ str   ┆ i64      ┆ i64        ┆ i64  ┆   ┆ ---         ┆ str         ┆ str         ┆ str         │\n",
       "│       ┆          ┆            ┆      ┆   ┆ str         ┆             ┆             ┆             │\n",
       "╞═══════╪══════════╪════════════╪══════╪═══╪═════════════╪═════════════╪═════════════╪═════════════╡\n",
       "│ USMO  ┆ 20210514 ┆ 202105     ┆ 2021 ┆ … ┆ USMO        ┆ https://www ┆ State of    ┆ It’s been a │\n",
       "│       ┆          ┆            ┆      ┆   ┆             ┆ .natlawrevi ┆ the Law for ┆ year since  │\n",
       "│       ┆          ┆            ┆      ┆   ┆             ┆ ew.com/a…   ┆ Business …  ┆ COVID-1…    │\n",
       "│ USMO  ┆ 20210514 ┆ 202105     ┆ 2021 ┆ … ┆ USMO        ┆ https://www ┆ Medicaid    ┆ A day after │\n",
       "│       ┆          ┆            ┆      ┆   ┆             ┆ .kcur.org/h ┆ Expansion   ┆ Missouri    │\n",
       "│       ┆          ┆            ┆      ┆   ┆             ┆ ealth/20…   ┆ Supporters  ┆ Gov. Mike…  │\n",
       "│       ┆          ┆            ┆      ┆   ┆             ┆             ┆ …           ┆             │\n",
       "│ USMO  ┆ 20210529 ┆ 202105     ┆ 2021 ┆ … ┆ USMO        ┆ https://www ┆ Elderly     ┆ Elderly     │\n",
       "│       ┆          ┆            ┆      ┆   ┆             ┆ .dailystar. ┆ woman sucke ┆ woman sucke │\n",
       "│       ┆          ┆            ┆      ┆   ┆             ┆ co.uk/ne…   ┆ r-punched   ┆ r-punched   │\n",
       "│       ┆          ┆            ┆      ┆   ┆             ┆             ┆ t…          ┆ t…          │\n",
       "│ USAR  ┆ 20200207 ┆ 202002     ┆ 2020 ┆ … ┆ null        ┆ https://www ┆ null        ┆ null        │\n",
       "│       ┆          ┆            ┆      ┆   ┆             ┆ .houstonchr ┆             ┆             │\n",
       "│       ┆          ┆            ┆      ┆   ┆             ┆ onicle.c…   ┆             ┆             │\n",
       "│ USNH  ┆ 20201206 ┆ 202012     ┆ 2020 ┆ … ┆ USNH        ┆ https://www ┆ Historicall ┆ Historicall │\n",
       "│       ┆          ┆            ┆      ┆   ┆             ┆ .fosters.co ┆ y Speaking: ┆ y Speaking: │\n",
       "│       ┆          ┆            ┆      ┆   ┆             ┆ m/story/…   ┆ Adventu…    ┆ Adventu…    │\n",
       "└───────┴──────────┴────────────┴──────┴───┴─────────────┴─────────────┴─────────────┴─────────────┘"
      ]
     },
     "execution_count": 4,
     "metadata": {},
     "output_type": "execute_result"
    }
   ],
   "source": [
    "notebook_dir = os.getcwd()\n",
    "\n",
    "# Load data\n",
    "df_path = os.path.join(notebook_dir, 'FILTERED_DATAFRAME.parquet')\n",
    "df = pl.read_parquet(df_path)\n",
    "\n",
    "df.head()"
   ]
  },
  {
   "cell_type": "markdown",
   "id": "75f8038b",
   "metadata": {},
   "source": [
    "There are three fields that can be useful as document metadata:\n",
    "1. The `title` of the article.\n",
    "2. The `date` when the article was published.\n",
    "3. Its `url`.\n",
    "\n",
    "Let's convert the date to a datetime type."
   ]
  },
  {
   "cell_type": "code",
   "execution_count": 5,
   "id": "57e4488c",
   "metadata": {},
   "outputs": [
    {
     "data": {
      "text/html": [
       "<div><style>\n",
       ".dataframe > thead > tr,\n",
       ".dataframe > tbody > tr {\n",
       "  text-align: right;\n",
       "  white-space: pre-wrap;\n",
       "}\n",
       "</style>\n",
       "<small>shape: (5, 13)</small><table border=\"1\" class=\"dataframe\"><thead><tr><th>state</th><th>date</th><th>month_year</th><th>year</th><th>event_code</th><th>quad_class</th><th>goldstein_scale</th><th>avg_tone</th><th>actor1_statecode</th><th>actor2_statecode</th><th>url</th><th>title</th><th>full_text</th></tr><tr><td>str</td><td>date</td><td>i64</td><td>i64</td><td>i64</td><td>i64</td><td>f64</td><td>f64</td><td>str</td><td>str</td><td>str</td><td>str</td><td>str</td></tr></thead><tbody><tr><td>&quot;USMO&quot;</td><td>2021-05-14</td><td>202105</td><td>2021</td><td>16</td><td>1</td><td>-2.0</td><td>-8.934073</td><td>&quot;USMO&quot;</td><td>&quot;USMO&quot;</td><td>&quot;https://www.natlawreview.com/a…</td><td>&quot;State of the Law for Business …</td><td>&quot;It’s been a year since COVID-1…</td></tr><tr><td>&quot;USMO&quot;</td><td>2021-05-14</td><td>202105</td><td>2021</td><td>141</td><td>3</td><td>-6.5</td><td>-0.808625</td><td>&quot;USMO&quot;</td><td>&quot;USMO&quot;</td><td>&quot;https://www.kcur.org/health/20…</td><td>&quot;Medicaid Expansion Supporters …</td><td>&quot;A day after Missouri Gov. Mike…</td></tr><tr><td>&quot;USMO&quot;</td><td>2021-05-29</td><td>202105</td><td>2021</td><td>13</td><td>1</td><td>0.4</td><td>-6.008584</td><td>&quot;USMO&quot;</td><td>&quot;USMO&quot;</td><td>&quot;https://www.dailystar.co.uk/ne…</td><td>&quot;Elderly woman sucker-punched t…</td><td>&quot;Elderly woman sucker-punched t…</td></tr><tr><td>&quot;USAR&quot;</td><td>2020-02-07</td><td>202002</td><td>2020</td><td>16</td><td>1</td><td>-2.0</td><td>-8.0</td><td>&quot;USAR&quot;</td><td>null</td><td>&quot;https://www.houstonchronicle.c…</td><td>null</td><td>null</td></tr><tr><td>&quot;USNH&quot;</td><td>2020-12-06</td><td>202012</td><td>2020</td><td>70</td><td>2</td><td>7.0</td><td>0.088106</td><td>&quot;USNH&quot;</td><td>&quot;USNH&quot;</td><td>&quot;https://www.fosters.com/story/…</td><td>&quot;Historically Speaking: Adventu…</td><td>&quot;Historically Speaking: Adventu…</td></tr></tbody></table></div>"
      ],
      "text/plain": [
       "shape: (5, 13)\n",
       "┌───────┬────────────┬────────────┬──────┬───┬─────────────┬─────────────┬────────────┬────────────┐\n",
       "│ state ┆ date       ┆ month_year ┆ year ┆ … ┆ actor2_stat ┆ url         ┆ title      ┆ full_text  │\n",
       "│ ---   ┆ ---        ┆ ---        ┆ ---  ┆   ┆ ecode       ┆ ---         ┆ ---        ┆ ---        │\n",
       "│ str   ┆ date       ┆ i64        ┆ i64  ┆   ┆ ---         ┆ str         ┆ str        ┆ str        │\n",
       "│       ┆            ┆            ┆      ┆   ┆ str         ┆             ┆            ┆            │\n",
       "╞═══════╪════════════╪════════════╪══════╪═══╪═════════════╪═════════════╪════════════╪════════════╡\n",
       "│ USMO  ┆ 2021-05-14 ┆ 202105     ┆ 2021 ┆ … ┆ USMO        ┆ https://www ┆ State of   ┆ It’s been  │\n",
       "│       ┆            ┆            ┆      ┆   ┆             ┆ .natlawrevi ┆ the Law    ┆ a year     │\n",
       "│       ┆            ┆            ┆      ┆   ┆             ┆ ew.com/a…   ┆ for        ┆ since      │\n",
       "│       ┆            ┆            ┆      ┆   ┆             ┆             ┆ Business … ┆ COVID-1…   │\n",
       "│ USMO  ┆ 2021-05-14 ┆ 202105     ┆ 2021 ┆ … ┆ USMO        ┆ https://www ┆ Medicaid   ┆ A day      │\n",
       "│       ┆            ┆            ┆      ┆   ┆             ┆ .kcur.org/h ┆ Expansion  ┆ after      │\n",
       "│       ┆            ┆            ┆      ┆   ┆             ┆ ealth/20…   ┆ Supporters ┆ Missouri   │\n",
       "│       ┆            ┆            ┆      ┆   ┆             ┆             ┆ …          ┆ Gov. Mike… │\n",
       "│ USMO  ┆ 2021-05-29 ┆ 202105     ┆ 2021 ┆ … ┆ USMO        ┆ https://www ┆ Elderly    ┆ Elderly    │\n",
       "│       ┆            ┆            ┆      ┆   ┆             ┆ .dailystar. ┆ woman suck ┆ woman suck │\n",
       "│       ┆            ┆            ┆      ┆   ┆             ┆ co.uk/ne…   ┆ er-punched ┆ er-punched │\n",
       "│       ┆            ┆            ┆      ┆   ┆             ┆             ┆ t…         ┆ t…         │\n",
       "│ USAR  ┆ 2020-02-07 ┆ 202002     ┆ 2020 ┆ … ┆ null        ┆ https://www ┆ null       ┆ null       │\n",
       "│       ┆            ┆            ┆      ┆   ┆             ┆ .houstonchr ┆            ┆            │\n",
       "│       ┆            ┆            ┆      ┆   ┆             ┆ onicle.c…   ┆            ┆            │\n",
       "│ USNH  ┆ 2020-12-06 ┆ 202012     ┆ 2020 ┆ … ┆ USNH        ┆ https://www ┆ Historical ┆ Historical │\n",
       "│       ┆            ┆            ┆      ┆   ┆             ┆ .fosters.co ┆ ly         ┆ ly         │\n",
       "│       ┆            ┆            ┆      ┆   ┆             ┆ m/story/…   ┆ Speaking:  ┆ Speaking:  │\n",
       "│       ┆            ┆            ┆      ┆   ┆             ┆             ┆ Adventu…   ┆ Adventu…   │\n",
       "└───────┴────────────┴────────────┴──────┴───┴─────────────┴─────────────┴────────────┴────────────┘"
      ]
     },
     "execution_count": 5,
     "metadata": {},
     "output_type": "execute_result"
    }
   ],
   "source": [
    "# First, convert the 'date' column to string format\n",
    "df = df.with_columns(pl.col('date').cast(pl.String))\n",
    "\n",
    "# Convert date column to datetime\n",
    "df = df.with_columns(pl.col('date').str.strptime(pl.Date, format='%Y%m%d'))\n",
    "\n",
    "df.head()"
   ]
  },
  {
   "cell_type": "markdown",
   "id": "0646aee4",
   "metadata": {},
   "source": [
    "# 2. Running the pipeline"
   ]
  },
  {
   "cell_type": "code",
   "execution_count": null,
   "id": "c9e49c26",
   "metadata": {},
   "outputs": [
    {
     "name": "stderr",
     "output_type": "stream",
     "text": [
      "/tmp/ipykernel_58906/2802962968.py:91: RuntimeWarning: coroutine 'Pipeline.run' was never awaited\n",
      "  results = await main()\n",
      "RuntimeWarning: Enable tracemalloc to get the object allocation traceback\n"
     ]
    },
    {
     "ename": "TypeError",
     "evalue": "object of type 'coroutine' has no len()",
     "output_type": "error",
     "traceback": [
      "\u001b[31m---------------------------------------------------------------------------\u001b[39m",
      "\u001b[31mTypeError\u001b[39m                                 Traceback (most recent call last)",
      "\u001b[36mCell\u001b[39m\u001b[36m \u001b[39m\u001b[32mIn[7]\u001b[39m\u001b[32m, line 92\u001b[39m\n\u001b[32m     90\u001b[39m \u001b[38;5;66;03m# Asyncio event loop to run the main function in a Jupyter notebook\u001b[39;00m\n\u001b[32m     91\u001b[39m results = \u001b[38;5;28;01mawait\u001b[39;00m main()\n\u001b[32m---> \u001b[39m\u001b[32m92\u001b[39m \u001b[38;5;28mprint\u001b[39m(\u001b[33mf\u001b[39m\u001b[33m\"\u001b[39m\u001b[33mProcessed \u001b[39m\u001b[38;5;132;01m{\u001b[39;00m\u001b[38;5;28;43mlen\u001b[39;49m\u001b[43m(\u001b[49m\u001b[43mresults\u001b[49m\u001b[43m)\u001b[49m\u001b[38;5;132;01m}\u001b[39;00m\u001b[33m documents\u001b[39m\u001b[33m\"\u001b[39m)\n\u001b[32m     94\u001b[39m \u001b[38;5;66;03m# # Asyncio event loop to run the main function in a script\u001b[39;00m\n\u001b[32m     95\u001b[39m \u001b[38;5;66;03m# if __name__ == \"__main__\":\u001b[39;00m\n\u001b[32m     96\u001b[39m \u001b[38;5;66;03m#     results = asyncio.run(main())\u001b[39;00m\n\u001b[32m     97\u001b[39m \u001b[38;5;66;03m#     print(f\"Processed {len(results)} documents\")\u001b[39;00m\n",
      "\u001b[31mTypeError\u001b[39m: object of type 'coroutine' has no len()"
     ]
    }
   ],
   "source": [
    "# Example usage code\n",
    "async def main():\n",
    "\n",
    "    # Load configuration and setup\n",
    "\n",
    "    script_dir = os.getcwd()\n",
    "\n",
    "    # script_dir = os.path.dirname(os.path.abspath(__file__))  # Uncomment if running as a script\n",
    "\n",
    "    # Load environment variables from a .env file\n",
    "    dotenv_path = os.path.join(script_dir, '.env')\n",
    "    load_dotenv(dotenv_path, override=True)\n",
    "\n",
    "    # Open configuration file from JSON format\n",
    "    config_path = os.path.join(script_dir, 'config.json')\n",
    "    with open(config_path, 'r') as config_file:\n",
    "        config = json.load(config_file)\n",
    "    \n",
    "    # Neo4j connection\n",
    "    neo4j_uri = os.getenv('NEO4J_URI')\n",
    "    neo4j_username = os.getenv('NEO4J_USERNAME')\n",
    "    neo4j_password = os.getenv('NEO4J_PASSWORD')\n",
    "    gemini_api_key = os.getenv('GEMINI_API_KEY')\n",
    "    \n",
    "    # Check if gemini_api_key is set\n",
    "    if gemini_api_key:\n",
    "        pass\n",
    "    else:\n",
    "        raise ValueError(\"Gemini API key is not set. Please provide a valid API key.\")\n",
    "\n",
    "    # Initialize LLM\n",
    "    llm = GeminiLLM(\n",
    "        model_name=config['llm_config']['model_name'],\n",
    "        google_api_key=gemini_api_key,\n",
    "        model_params=config['llm_config']['model_params']\n",
    "    )\n",
    "    \n",
    "    # Initialize embedder\n",
    "    embedder = SentenceTransformerEmbeddings(model=config['embedder_config']['model_name'])\n",
    "    \n",
    "    # Configure text splitter\n",
    "    text_splitter_config = config['text_splitter_config']\n",
    "    \n",
    "    # Load data\n",
    "    df_path = os.path.join(script_dir, 'FILTERED_DATAFRAME.parquet')\n",
    "    df = pl.read_parquet(df_path)\n",
    "\n",
    "    # Create subset of the dataframe for testing\n",
    "    df = df.head(10)\n",
    "    \n",
    "    # Create the pipeline - use with statement to ensure proper resource management\n",
    "    # and to ensure the driver is closed after use\n",
    "    with neo4j.GraphDatabase.driver(neo4j_uri, auth=(neo4j_username, neo4j_password)) as driver:\n",
    "\n",
    "        # Initialize the custom KG pipeline\n",
    "        kg_pipeline = CustomKGPipeline(\n",
    "            llm=llm,\n",
    "            driver=driver,\n",
    "            embedder=embedder,\n",
    "            schema_config=config['schema_config'],\n",
    "            prompt_template=config['prompt_template_config']['template'] if config['prompt_template_config']['use_default'] != False else None,\n",
    "            text_splitter_config=text_splitter_config,\n",
    "            perform_entity_resolution=config.get('perform_entity_resolution', True),  # Default to True if not specified\n",
    "            similarity_threshold=0.8,\n",
    "            on_error='IGNORE',\n",
    "            batch_size=1000,\n",
    "            max_concurrency=5,\n",
    "            examples=\"\"\n",
    "        )\n",
    "        \n",
    "        # Define metadata mapping (document properties additional to base field \n",
    "        # to dataframe columns)\n",
    "        metadata_mapping = {\n",
    "            \"source\": \"url\",\n",
    "            \"published_date\": \"date\"\n",
    "        }\n",
    "        \n",
    "        # Process the dataframe\n",
    "        results = await build_kg_from_df(\n",
    "            kg_pipeline=kg_pipeline,\n",
    "            df=df,\n",
    "            document_base_field='title',\n",
    "            text_column='full_text',\n",
    "            document_metadata_mapping=metadata_mapping,\n",
    "            document_id_column=None  # Use default document ID generation\n",
    "        )\n",
    "    \n",
    "    return results\n",
    "\n",
    "# Asyncio event loop to run the main function in a Jupyter notebook\n",
    "results = await main()\n",
    "print(f\"Processed {len(results)} documents\")\n",
    "\n",
    "# # Asyncio event loop to run the main function in a script\n",
    "# if __name__ == \"__main__\":\n",
    "#     results = asyncio.run(main())\n",
    "#     print(f\"Processed {len(results)} documents\")"
   ]
  }
 ],
 "metadata": {
  "kernelspec": {
   "display_name": "thesis",
   "language": "python",
   "name": "python3"
  },
  "language_info": {
   "codemirror_mode": {
    "name": "ipython",
    "version": 3
   },
   "file_extension": ".py",
   "mimetype": "text/x-python",
   "name": "python",
   "nbconvert_exporter": "python",
   "pygments_lexer": "ipython3",
   "version": "3.12.9"
  }
 },
 "nbformat": 4,
 "nbformat_minor": 5
}
